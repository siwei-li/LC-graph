{
  "nbformat": 4,
  "nbformat_minor": 0,
  "metadata": {
    "colab": {
      "provenance": []
    },
    "kernelspec": {
      "name": "python3",
      "display_name": "Python 3"
    },
    "language_info": {
      "name": "python"
    }
  },
  "cells": [
    {
      "cell_type": "markdown",
      "source": [
        "# This is the imports section"
      ],
      "metadata": {
        "id": "JiJJ0WUCYoet"
      }
    },
    {
      "cell_type": "code",
      "source": [
        "!pip install selenium"
      ],
      "metadata": {
        "colab": {
          "base_uri": "https://localhost:8080/"
        },
        "id": "lNSu_N4qLxF8",
        "outputId": "714c2542-2677-4057-a112-6d8d3855b841"
      },
      "execution_count": 1,
      "outputs": [
        {
          "output_type": "stream",
          "name": "stdout",
          "text": [
            "Looking in indexes: https://pypi.org/simple, https://us-python.pkg.dev/colab-wheels/public/simple/\n",
            "Collecting selenium\n",
            "  Downloading selenium-4.6.1-py3-none-any.whl (6.0 MB)\n",
            "\u001b[K     |████████████████████████████████| 6.0 MB 9.2 MB/s \n",
            "\u001b[?25hCollecting urllib3[socks]~=1.26\n",
            "  Downloading urllib3-1.26.13-py2.py3-none-any.whl (140 kB)\n",
            "\u001b[K     |████████████████████████████████| 140 kB 46.9 MB/s \n",
            "\u001b[?25hCollecting trio~=0.17\n",
            "  Downloading trio-0.22.0-py3-none-any.whl (384 kB)\n",
            "\u001b[K     |████████████████████████████████| 384 kB 40.1 MB/s \n",
            "\u001b[?25hCollecting trio-websocket~=0.9\n",
            "  Downloading trio_websocket-0.9.2-py3-none-any.whl (16 kB)\n",
            "Requirement already satisfied: certifi>=2021.10.8 in /usr/local/lib/python3.7/dist-packages (from selenium) (2022.9.24)\n",
            "Collecting async-generator>=1.9\n",
            "  Downloading async_generator-1.10-py3-none-any.whl (18 kB)\n",
            "Collecting exceptiongroup>=1.0.0rc9\n",
            "  Downloading exceptiongroup-1.0.4-py3-none-any.whl (14 kB)\n",
            "Collecting outcome\n",
            "  Downloading outcome-1.2.0-py2.py3-none-any.whl (9.7 kB)\n",
            "Collecting sniffio\n",
            "  Downloading sniffio-1.3.0-py3-none-any.whl (10 kB)\n",
            "Requirement already satisfied: attrs>=19.2.0 in /usr/local/lib/python3.7/dist-packages (from trio~=0.17->selenium) (22.1.0)\n",
            "Requirement already satisfied: idna in /usr/local/lib/python3.7/dist-packages (from trio~=0.17->selenium) (2.10)\n",
            "Requirement already satisfied: sortedcontainers in /usr/local/lib/python3.7/dist-packages (from trio~=0.17->selenium) (2.4.0)\n",
            "Collecting wsproto>=0.14\n",
            "  Downloading wsproto-1.2.0-py3-none-any.whl (24 kB)\n",
            "Requirement already satisfied: PySocks!=1.5.7,<2.0,>=1.5.6 in /usr/local/lib/python3.7/dist-packages (from urllib3[socks]~=1.26->selenium) (1.7.1)\n",
            "Collecting h11<1,>=0.9.0\n",
            "  Downloading h11-0.14.0-py3-none-any.whl (58 kB)\n",
            "\u001b[K     |████████████████████████████████| 58 kB 1.2 MB/s \n",
            "\u001b[?25hRequirement already satisfied: typing-extensions in /usr/local/lib/python3.7/dist-packages (from h11<1,>=0.9.0->wsproto>=0.14->trio-websocket~=0.9->selenium) (4.1.1)\n",
            "Installing collected packages: sniffio, outcome, h11, exceptiongroup, async-generator, wsproto, urllib3, trio, trio-websocket, selenium\n",
            "  Attempting uninstall: urllib3\n",
            "    Found existing installation: urllib3 1.24.3\n",
            "    Uninstalling urllib3-1.24.3:\n",
            "      Successfully uninstalled urllib3-1.24.3\n",
            "\u001b[31mERROR: pip's dependency resolver does not currently take into account all the packages that are installed. This behaviour is the source of the following dependency conflicts.\n",
            "requests 2.23.0 requires urllib3!=1.25.0,!=1.25.1,<1.26,>=1.21.1, but you have urllib3 1.26.13 which is incompatible.\u001b[0m\n",
            "Successfully installed async-generator-1.10 exceptiongroup-1.0.4 h11-0.14.0 outcome-1.2.0 selenium-4.6.1 sniffio-1.3.0 trio-0.22.0 trio-websocket-0.9.2 urllib3-1.26.13 wsproto-1.2.0\n"
          ]
        }
      ]
    },
    {
      "cell_type": "code",
      "execution_count": 2,
      "metadata": {
        "id": "nNRBEZIhLYZI"
      },
      "outputs": [],
      "source": [
        "import pandas as pd\n",
        "import time,csv,sys,pytz,os\n",
        "from pathlib import Path\n",
        "\n",
        "from selenium import webdriver\n",
        "from selenium.webdriver.common.keys import Keys\n",
        "from selenium.webdriver.common.by import By\n",
        "from selenium.webdriver.support import expected_conditions as EC\n",
        "from selenium.webdriver.support.ui import Select,WebDriverWait\n",
        "\n",
        "import numpy as np\n",
        "from datetime import date,datetime,timedelta"
      ]
    },
    {
      "cell_type": "code",
      "source": [
        "# refer following discussion\n",
        "# https://stackoverflow.com/questions/56829470/selenium-google-colab-error-chromedriver-executable-needs-to-be-in-path\n",
        "# install chromium, its driver, and selenium\n",
        "# !apt-get update\n",
        "# !apt install chromium-chromedriver\n",
        "# !cp /usr/lib/chromium-browser/chromedriver /usr/bin\n",
        "\n",
        "# !pip install selenium\n",
        "\n",
        "from selenium import webdriver\n",
        "options = webdriver.ChromeOptions()\n",
        "options.add_argument('--headless')\n",
        "options.add_argument('--no-sandbox')\n",
        "options.add_argument('--disable-dev-shm-usage')\n",
        "# # open it, go to a website, and get results\n",
        "# wd = webdriver.Chrome('chromedriver',options=options)\n",
        "# wd.get(\"https://www.website.com\")\n",
        "# print(wd.page_source)  # results"
      ],
      "metadata": {
        "id": "Gxl1PRcEM36B"
      },
      "execution_count": 3,
      "outputs": []
    },
    {
      "cell_type": "code",
      "source": [
        "!pip install python-dotenv"
      ],
      "metadata": {
        "colab": {
          "base_uri": "https://localhost:8080/"
        },
        "id": "EJxaF6z8NOlZ",
        "outputId": "06fe0392-7181-42ee-c4b2-acbe3ac7f1b6"
      },
      "execution_count": 4,
      "outputs": [
        {
          "output_type": "stream",
          "name": "stdout",
          "text": [
            "Looking in indexes: https://pypi.org/simple, https://us-python.pkg.dev/colab-wheels/public/simple/\n",
            "Collecting python-dotenv\n",
            "  Downloading python_dotenv-0.21.0-py3-none-any.whl (18 kB)\n",
            "Installing collected packages: python-dotenv\n",
            "Successfully installed python-dotenv-0.21.0\n"
          ]
        }
      ]
    },
    {
      "cell_type": "code",
      "source": [
        "%load_ext dotenv\n",
        "%dotenv"
      ],
      "metadata": {
        "colab": {
          "base_uri": "https://localhost:8080/"
        },
        "id": "ptnNUCVFNqoD",
        "outputId": "10405aeb-8af3-48e4-a10e-269a69054b90"
      },
      "execution_count": 5,
      "outputs": [
        {
          "output_type": "stream",
          "name": "stdout",
          "text": [
            "cannot find .env file\n"
          ]
        }
      ]
    },
    {
      "cell_type": "code",
      "source": [
        "!pip install py2neo -q"
      ],
      "metadata": {
        "colab": {
          "base_uri": "https://localhost:8080/"
        },
        "id": "wWrFsOVrOG9P",
        "outputId": "4e11a13a-df8e-4430-bd15-72f0bb4b4131"
      },
      "execution_count": 6,
      "outputs": [
        {
          "output_type": "stream",
          "name": "stdout",
          "text": [
            "\u001b[?25l\r\u001b[K     |█▉                              | 10 kB 20.2 MB/s eta 0:00:01\r\u001b[K     |███▊                            | 20 kB 7.1 MB/s eta 0:00:01\r\u001b[K     |█████▌                          | 30 kB 10.0 MB/s eta 0:00:01\r\u001b[K     |███████▍                        | 40 kB 6.9 MB/s eta 0:00:01\r\u001b[K     |█████████▎                      | 51 kB 6.2 MB/s eta 0:00:01\r\u001b[K     |███████████                     | 61 kB 7.3 MB/s eta 0:00:01\r\u001b[K     |█████████████                   | 71 kB 8.1 MB/s eta 0:00:01\r\u001b[K     |██████████████▉                 | 81 kB 7.2 MB/s eta 0:00:01\r\u001b[K     |████████████████▋               | 92 kB 8.0 MB/s eta 0:00:01\r\u001b[K     |██████████████████▌             | 102 kB 7.9 MB/s eta 0:00:01\r\u001b[K     |████████████████████▍           | 112 kB 7.9 MB/s eta 0:00:01\r\u001b[K     |██████████████████████▏         | 122 kB 7.9 MB/s eta 0:00:01\r\u001b[K     |████████████████████████        | 133 kB 7.9 MB/s eta 0:00:01\r\u001b[K     |██████████████████████████      | 143 kB 7.9 MB/s eta 0:00:01\r\u001b[K     |███████████████████████████▊    | 153 kB 7.9 MB/s eta 0:00:01\r\u001b[K     |█████████████████████████████▋  | 163 kB 7.9 MB/s eta 0:00:01\r\u001b[K     |███████████████████████████████▌| 174 kB 7.9 MB/s eta 0:00:01\r\u001b[K     |████████████████████████████████| 177 kB 7.9 MB/s \n",
            "\u001b[?25h"
          ]
        }
      ]
    },
    {
      "cell_type": "markdown",
      "source": [
        "# Connect to db instance then init the graph object with py2neo"
      ],
      "metadata": {
        "id": "sT0kEQBKYsH7"
      }
    },
    {
      "cell_type": "code",
      "source": [
        "from py2neo import Graph, Node, Relationship\n",
        "\n",
        "g = Graph(f\"neo4j+s://8686653a.databases.neo4j.io\", auth=(\"neo4j\", 'gzZr3zneKvXdUPc3_hO_uj_KQOy3g3zTGNal3TmCvhs'), routing=True)"
      ],
      "metadata": {
        "id": "D4VafPIPOJEF"
      },
      "execution_count": 7,
      "outputs": []
    },
    {
      "cell_type": "code",
      "source": [
        "print(g.run(\"MATCH (n) RETURN n\"))"
      ],
      "metadata": {
        "colab": {
          "base_uri": "https://localhost:8080/"
        },
        "id": "rHyie1AfOez0",
        "outputId": "07f75e07-fe1a-4778-e02a-41169c66ebc1"
      },
      "execution_count": 8,
      "outputs": [
        {
          "output_type": "stream",
          "name": "stdout",
          "text": [
            " n                                                                          \r\n",
            "----------------------------------------------------------------------------\r\n",
            " (_0:Tag {title: 'Array', uri: 'https://leetcode.com/tag/array'})           \r\n",
            " (_1:Tag {title: 'String', uri: 'https://leetcode.com/tag/string'})         \r\n",
            " (_2:Tag {title: 'Hash Table', uri: 'https://leetcode.com/tag/hash-table'}) \r\n",
            "\n"
          ]
        }
      ]
    },
    {
      "cell_type": "code",
      "source": [
        "g.nodes.match(\"Problem\",uri='https://leetcode.com/problems/two-sum/').first()"
      ],
      "metadata": {
        "colab": {
          "base_uri": "https://localhost:8080/"
        },
        "id": "MAgX4VArOxMJ",
        "outputId": "6594fb0b-4d27-4989-8e72-97d510968d16"
      },
      "execution_count": 9,
      "outputs": [
        {
          "output_type": "execute_result",
          "data": {
            "text/plain": [
              "Node('Problem', acceptance='49.1%', difficulty='Easy', title='1. Two Sum', uri='https://leetcode.com/problems/two-sum/')"
            ]
          },
          "metadata": {},
          "execution_count": 9
        }
      ]
    },
    {
      "cell_type": "markdown",
      "source": [
        "# Initialize the leetcode API"
      ],
      "metadata": {
        "id": "lquhyQUEkQJo"
      }
    },
    {
      "cell_type": "code",
      "source": [
        "!pip install python-leetcode"
      ],
      "metadata": {
        "colab": {
          "base_uri": "https://localhost:8080/"
        },
        "id": "Gel95DtIkZjM",
        "outputId": "436c43fc-1efe-4e67-ea9a-0597cb452c2b"
      },
      "execution_count": 10,
      "outputs": [
        {
          "output_type": "stream",
          "name": "stdout",
          "text": [
            "Looking in indexes: https://pypi.org/simple, https://us-python.pkg.dev/colab-wheels/public/simple/\n",
            "Collecting python-leetcode\n",
            "  Downloading python-leetcode-1.0.3.tar.gz (32 kB)\n",
            "Requirement already satisfied: urllib3>=1.15 in /usr/local/lib/python3.7/dist-packages (from python-leetcode) (1.26.13)\n",
            "Requirement already satisfied: six>=1.10 in /usr/local/lib/python3.7/dist-packages (from python-leetcode) (1.15.0)\n",
            "Requirement already satisfied: certifi in /usr/local/lib/python3.7/dist-packages (from python-leetcode) (2022.9.24)\n",
            "Requirement already satisfied: python-dateutil in /usr/local/lib/python3.7/dist-packages (from python-leetcode) (2.8.2)\n",
            "Building wheels for collected packages: python-leetcode\n",
            "  Building wheel for python-leetcode (setup.py) ... \u001b[?25l\u001b[?25hdone\n",
            "  Created wheel for python-leetcode: filename=python_leetcode-1.0.3-py3-none-any.whl size=73782 sha256=71d2a587c1cf49bcb5a5fa7061797c9cc35bc9db328dea168aca3b7de2b65c5e\n",
            "  Stored in directory: /root/.cache/pip/wheels/bd/f7/0d/2caae1ef16bd0006dab23cba12938e46a0daf9a53d3f33a66c\n",
            "Successfully built python-leetcode\n",
            "Installing collected packages: python-leetcode\n",
            "Successfully installed python-leetcode-1.0.3\n"
          ]
        }
      ]
    },
    {
      "cell_type": "code",
      "source": [
        "import leetcode\n",
        "\n",
        "leetcode_session = \"\"\n",
        "configuration = leetcode.Configuration()\n",
        "csrf_token = \"\"\n",
        "configuration.api_key[\"x-csrftoken\"] = 'IZXaZ2dS0FIKkPuH6BqTB1Mbd3UBigk1ptI77U3J3PYPFia8B7Ee6Ewxeeb2HefZ'\n",
        "configuration.api_key[\"csrftoken\"] = 'IZXaZ2dS0FIKkPuH6BqTB1Mbd3UBigk1ptI77U3J3PYPFia8B7Ee6Ewxeeb2HefZ'\n",
        "configuration.api_key[\"LEETCODE_SESSION\"] = 'eyJ0eXAiOiJKV1QiLCJhbGciOiJIUzI1NiJ9.eyJfYXV0aF91c2VyX2lkIjoiNDg4MTc1OSIsIl9hdXRoX3VzZXJfYmFja2VuZCI6ImFsbGF1dGguYWNjb3VudC5hdXRoX2JhY2tlbmRzLkF1dGhlbnRpY2F0aW9uQmFja2VuZCIsIl9hdXRoX3VzZXJfaGFzaCI6IjI3ZjczNGE1ZWJjOTNiYjcxMGM2YzU1YTY1OWUzOWFhMzg0ZTdjN2YiLCJpZCI6NDg4MTc1OSwiZW1haWwiOiJkZXZ5YW5iaUB1c2MuZWR1IiwidXNlcm5hbWUiOiJkYmlzd2FzIiwidXNlcl9zbHVnIjoiZGJpc3dhcyIsImF2YXRhciI6Imh0dHBzOi8vczMtdXMtd2VzdC0xLmFtYXpvbmF3cy5jb20vczMtbGMtdXBsb2FkL2Fzc2V0cy9kZWZhdWx0X2F2YXRhci5qcGciLCJyZWZyZXNoZWRfYXQiOjE2NjkyNTU1NjMsImlwIjoiMjYwMTo2NDc6NDYwMTo1MmQwOmQwNWE6ZTA3YjpjNGRkOmQ0MzYiLCJpZGVudGl0eSI6ImYzOTk3YzIyNjgzOTNjM2U0NGRiOWQ2MTcxYzdkMTkyIiwic2Vzc2lvbl9pZCI6MzEyMjA5MzAsIl9zZXNzaW9uX2V4cGlyeSI6MTIwOTYwMH0.0PK68imJvkrsd-pXCzKLWVAQ_x0lIQnp9g3kDj3XOYM'\n",
        "configuration.api_key[\"Referer\"] = \"https://leetcode.com\"\n",
        "configuration.debug = False"
      ],
      "metadata": {
        "id": "a-w9WEfjkSJR"
      },
      "execution_count": 11,
      "outputs": []
    },
    {
      "cell_type": "code",
      "source": [
        "api_instance =leetcode.DefaultApi(leetcode.ApiClient(configuration))"
      ],
      "metadata": {
        "id": "4TXR1WxPkUNW"
      },
      "execution_count": 12,
      "outputs": []
    },
    {
      "cell_type": "markdown",
      "source": [
        "## Quick test of API"
      ],
      "metadata": {
        "id": "UYc76T6kkfQF"
      }
    },
    {
      "cell_type": "code",
      "source": [
        "graphql_request = leetcode.GraphqlQuery(\n",
        "query=\"\"\"\n",
        "      {\n",
        "        user {\n",
        "            username\n",
        "            isCurrentUserPremium\n",
        "        }\n",
        "      }\n",
        "\"\"\",\n",
        "variables=leetcode.GraphqlQueryVariables(),\n",
        ")\n",
        "print(api_instance.graphql_post(body=graphql_request))"
      ],
      "metadata": {
        "colab": {
          "base_uri": "https://localhost:8080/"
        },
        "id": "cAfunAe_kg-d",
        "outputId": "f039bc4b-2139-4f60-f088-6c0de0bc62d7"
      },
      "execution_count": 13,
      "outputs": [
        {
          "output_type": "stream",
          "name": "stdout",
          "text": [
            "{'data': {'question': None,\n",
            "          'user': {'is_current_user_premium': True, 'username': 'dbiswas'}}}\n"
          ]
        }
      ]
    },
    {
      "cell_type": "markdown",
      "source": [
        "# Get a list of the user's completed and attempted problems\n",
        "- NOTE: This is a subset, as the python leetcode api is incomplete and i couldn't figure out how to get it from all topics lell"
      ],
      "metadata": {
        "id": "sRfwwwk-kq1k"
      }
    },
    {
      "cell_type": "code",
      "source": [
        "api_response=api_instance.api_problems_topic_get(topic=\"algorithms\")\n",
        "solved_questions=list()\n",
        "attempted_questions=list()\n",
        "# print(len(api_response.stat_status_pairs))\n",
        "for questions in api_response.stat_status_pairs:\n",
        "  # print(questions)\n",
        "  item_entry = dict()\n",
        "  if questions.status==\"ac\":\n",
        "    item_entry['title'] = questions.stat.question__title\n",
        "    item_entry['id'] = questions.stat.question_id\n",
        "    item_entry['difficulty'] = questions.difficulty\n",
        "    item_entry['frequency'] = questions.frequency\n",
        "    solved_questions.append(item_entry)\n",
        "  if questions.status==\"notac\":\n",
        "    item_entry['title'] = questions.stat.question__title\n",
        "    item_entry['id'] = questions.stat.question_id\n",
        "    item_entry['difficulty'] = questions.difficulty\n",
        "    item_entry['frequency'] = questions.frequency\n",
        "    attempted_questions.append(item_entry)\n",
        "\n",
        "\n",
        "print(solved_questions)\n",
        "print(attempted_questions)\n",
        "print(\"Total number of solved questions \",len(solved_questions))\n",
        "print(\"Total number of attempted questions \",len(attempted_questions))"
      ],
      "metadata": {
        "colab": {
          "base_uri": "https://localhost:8080/"
        },
        "id": "Zfnajki6kyyV",
        "outputId": "1d0870c5-7aaf-4dce-ddf2-59e2a74e2e49"
      },
      "execution_count": 14,
      "outputs": [
        {
          "output_type": "stream",
          "name": "stdout",
          "text": [
            "[{'title': 'Group Anagrams', 'id': 49, 'difficulty': {'level': 2}, 'frequency': 7.477246148875489}, {'title': 'Valid Parentheses', 'id': 20, 'difficulty': {'level': 1}, 'frequency': 8.038132257688831}, {'title': 'Longest Common Prefix', 'id': 14, 'difficulty': {'level': 1}, 'frequency': 7.576745117198513}, {'title': 'Add Two Numbers', 'id': 2, 'difficulty': {'level': 2}, 'frequency': 8.014061769535617}, {'title': 'Two Sum', 'id': 1, 'difficulty': {'level': 1}, 'frequency': 8.368327246298717}]\n",
            "[{'title': 'Palindrome Number', 'id': 9, 'difficulty': {'level': 1}, 'frequency': 7.241120800137265}]\n",
            "Total number of solved questions  5\n",
            "Total number of attempted questions  1\n"
          ]
        }
      ]
    },
    {
      "cell_type": "markdown",
      "source": [
        "# First Recommendation style:\n",
        "- Similar problems + difficulty"
      ],
      "metadata": {
        "id": "Xl0q3-Hlk7Ht"
      }
    },
    {
      "cell_type": "code",
      "source": [
        "diff_map = {\n",
        "    1: 'Easy',\n",
        "    2: 'Medium',\n",
        "    3: 'Hard'\n",
        "}"
      ],
      "metadata": {
        "id": "pX5kPfGUo7Gb"
      },
      "execution_count": 15,
      "outputs": []
    },
    {
      "cell_type": "code",
      "source": [
        "# Get the diffficulty of problems done\n",
        "diffs_list = {}\n",
        "diffs_list['Easy'] = 0\n",
        "diffs_list['Medium'] = 0\n",
        "diffs_list['Hard'] = 0\n",
        "for problem in solved_questions:\n",
        "  diffs_list[diff_map[problem['difficulty'].level]] += 1\n",
        "print(diffs_list)"
      ],
      "metadata": {
        "colab": {
          "base_uri": "https://localhost:8080/"
        },
        "id": "JIuShwkd7RWz",
        "outputId": "141fd98c-09a8-4544-f0a3-1491682848ac"
      },
      "execution_count": 16,
      "outputs": [
        {
          "output_type": "stream",
          "name": "stdout",
          "text": [
            "{'Easy': 3, 'Medium': 2, 'Hard': 0}\n"
          ]
        }
      ]
    },
    {
      "cell_type": "code",
      "source": [
        "diffs_list = {k: v for k, v in sorted(diffs_list.items(), key=lambda item: item[1])}\n",
        "diffs_list"
      ],
      "metadata": {
        "colab": {
          "base_uri": "https://localhost:8080/"
        },
        "id": "ODzBmsFTtwA6",
        "outputId": "c8e568fe-e7ef-45f0-a1dd-78813231c460"
      },
      "execution_count": 17,
      "outputs": [
        {
          "output_type": "execute_result",
          "data": {
            "text/plain": [
              "{'Hard': 0, 'Medium': 2, 'Easy': 3}"
            ]
          },
          "metadata": {},
          "execution_count": 17
        }
      ]
    },
    {
      "cell_type": "code",
      "source": [
        "problem_mapping = {}\n",
        "hard_coded_problems = [3,4,3]\n",
        "i=0\n",
        "for item in diffs_list:\n",
        "  problem_mapping[item] = hard_coded_problems[i]\n",
        "  i = i + 1\n",
        "problem_mapping"
      ],
      "metadata": {
        "colab": {
          "base_uri": "https://localhost:8080/"
        },
        "id": "PbUwCWAkvQjM",
        "outputId": "ae46ced4-dad9-4ffe-c712-b4cc7f19defe"
      },
      "execution_count": 18,
      "outputs": [
        {
          "output_type": "execute_result",
          "data": {
            "text/plain": [
              "{'Hard': 3, 'Medium': 4, 'Easy': 3}"
            ]
          },
          "metadata": {},
          "execution_count": 18
        }
      ]
    },
    {
      "cell_type": "code",
      "source": [
        "hard = problem_mapping['Hard']\n",
        "medium = problem_mapping['Medium']\n",
        "easy = problem_mapping['Easy']\n",
        "print(hard, medium, easy)"
      ],
      "metadata": {
        "colab": {
          "base_uri": "https://localhost:8080/"
        },
        "id": "etOceyiP0Ban",
        "outputId": "baaecde2-3e59-4ea9-a19b-f3231119e0de"
      },
      "execution_count": 19,
      "outputs": [
        {
          "output_type": "stream",
          "name": "stdout",
          "text": [
            "3 4 3\n"
          ]
        }
      ]
    },
    {
      "cell_type": "code",
      "source": [
        "# For each question in solved, look at the linked problems and add to a list\n",
        "candidate_problems = []\n",
        "for problem in solved_questions:\n",
        "  prob_string = str(problem['id']) + \". \" + problem['title']\n",
        "  # print(prob_string)\n",
        "  results = g.run(f\"MATCH (n:Problem)-->(t:Problem) WHERE n.title = '{prob_string}' RETURN *\")\n",
        "  results = results.data()\n",
        "  if(len(results)) == 0:\n",
        "    continue\n",
        "  for item in results:\n",
        "    candidate_problems.append(item['t'])"
      ],
      "metadata": {
        "id": "47qzRlGfeCoV"
      },
      "execution_count": 20,
      "outputs": []
    },
    {
      "cell_type": "code",
      "source": [
        "# Split the similar problems into easy, medium, hard\n",
        "easy_problems = list()\n",
        "medium_problems = list()\n",
        "hard_problems = list()\n",
        "for c_prob in candidate_problems:\n",
        "  diff = c_prob['difficulty']\n",
        "  if diff == 'Easy':\n",
        "    easy_problems.append(c_prob)\n",
        "  if diff == 'Medium':\n",
        "    medium_problems.append(c_prob)\n",
        "  if diff == 'Hard':\n",
        "    hard_problems.append(c_prob)"
      ],
      "metadata": {
        "id": "PCOqMf9L1XgP"
      },
      "execution_count": 21,
      "outputs": []
    },
    {
      "cell_type": "code",
      "source": [
        "# Select the number of easy, medium, and hard problems defined dabv at random\n",
        "import random\n",
        "random.seed(11)\n",
        "ez_probs = random.choices(easy_problems, k=easy)\n",
        "med_probs = random.choices(medium_problems, k=medium)\n",
        "hrd_probs = random.choices(hard_problems, k=hard)"
      ],
      "metadata": {
        "id": "xQ147Hl73q6j"
      },
      "execution_count": 22,
      "outputs": []
    },
    {
      "cell_type": "code",
      "source": [
        "urls = list()\n",
        "for i in ez_probs:\n",
        "  urls.append(i['uri'])\n",
        "for i in med_probs:\n",
        "  urls.append(i['uri'])\n",
        "for i in hrd_probs:\n",
        "  urls.append(i['uri'])\n",
        "print(urls)"
      ],
      "metadata": {
        "colab": {
          "base_uri": "https://localhost:8080/"
        },
        "id": "u1oovIS64iop",
        "outputId": "15939f06-7ac1-4f08-d144-c2d5032d9f69"
      },
      "execution_count": 23,
      "outputs": [
        {
          "output_type": "stream",
          "name": "stdout",
          "text": [
            "['https://leetcode.com/problems/find-subarrays-with-equal-sum/', 'https://leetcode.com/problems/check-distances-between-same-letters/', 'https://leetcode.com/problems/two-sum-iv-input-is-a-bst/', 'https://leetcode.com/problems/multiply-strings/', 'https://leetcode.com/problems/node-with-highest-edge-score/', 'https://leetcode.com/problems/number-of-pairs-of-strings-with-concatenation-equal-to-target/', 'https://leetcode.com/problems/check-if-a-parentheses-string-can-be-valid/', 'https://leetcode.com/problems/longest-valid-parentheses/', 'https://leetcode.com/problems/longest-valid-parentheses/', 'https://leetcode.com/problems/number-of-excellent-pairs/']\n"
          ]
        }
      ]
    },
    {
      "cell_type": "markdown",
      "source": [
        "# Recommendation method 2:\n",
        "- Similar questions + tags"
      ],
      "metadata": {
        "id": "kcrJE49m45Wf"
      }
    },
    {
      "cell_type": "code",
      "source": [
        "# For each question in solved, look at the linked tags and add them to a count dict\n",
        "tag_counts = {}\n",
        "for problem in solved_questions:\n",
        "  prob_string = str(problem['id']) + \". \" + problem['title']\n",
        "  # print(prob_string)\n",
        "  result_tags = g.run(f\"MATCH (n:Problem)-->(p:Tag) WHERE n.title = '{prob_string}' RETURN p\")\n",
        "  # results = g.run(f\"MATCH (n:Problem)-->(t:Problem) WHERE n.title = '{prob_string}' RETURN *\")\n",
        "  tags = result_tags.data()\n",
        "  if(len(tags)) == 0:\n",
        "    continue\n",
        "  # print(tags)\n",
        "  for result in tags:\n",
        "    tag = result['p']['title']\n",
        "    if tag not in tag_counts:\n",
        "      tag_counts[tag] = 1\n",
        "    else:\n",
        "      tag_counts[tag] += 1\n",
        "\n",
        "print(tag_counts)"
      ],
      "metadata": {
        "colab": {
          "base_uri": "https://localhost:8080/"
        },
        "id": "NzplWfaizSZw",
        "outputId": "55e46b43-a475-4cdc-fb05-f9255a54c4de"
      },
      "execution_count": 32,
      "outputs": [
        {
          "output_type": "stream",
          "name": "stdout",
          "text": [
            "{'Sorting': 1, 'String': 3, 'Hash Table': 2, 'Array': 2, 'Stack': 1, 'Recursion': 1, 'Math': 1, 'Linked List': 1}\n"
          ]
        }
      ]
    },
    {
      "cell_type": "code",
      "source": [
        "# We look at the tag nodes of linked problems and, depending on the probabilities set,\n",
        "# we add em\n",
        "tag_to_problems = {}\n",
        "for problem in solved_questions:\n",
        "  prob_string = str(problem['id']) + \". \" + problem['title']\n",
        "  linked_problems_tags = g.run(f\"MATCH (n:Problem)-->(p:Tag)<--(t:Problem) WHERE n.title = '{prob_string}' RETURN p,t\")\n",
        "  for pair in linked_problems_tags.data():\n",
        "    if pair['p']['title'] not in tag_to_problems:\n",
        "      tag_to_problems[pair['p']['title']] = list()\n",
        "      tag_to_problems[pair['p']['title']].append(pair['t'])\n",
        "    else:\n",
        "      tag_to_problems[pair['p']['title']].append(pair['t'])"
      ],
      "metadata": {
        "id": "bQLOkSpS1yPh"
      },
      "execution_count": 67,
      "outputs": []
    },
    {
      "cell_type": "code",
      "source": [
        "for item in tag_to_problems:\n",
        "  print(item)"
      ],
      "metadata": {
        "colab": {
          "base_uri": "https://localhost:8080/"
        },
        "id": "3C2bMgHEAS1Q",
        "outputId": "0e8c5e69-dda6-45c5-87f9-2c37ed6ba00d"
      },
      "execution_count": 68,
      "outputs": [
        {
          "output_type": "stream",
          "name": "stdout",
          "text": [
            "Sorting\n",
            "String\n",
            "Hash Table\n",
            "Array\n",
            "Stack\n",
            "Recursion\n",
            "Math\n",
            "Linked List\n"
          ]
        }
      ]
    },
    {
      "cell_type": "code",
      "source": [
        "tag_counts = {k: v for k, v in sorted(tag_counts.items(), key=lambda item: item[1])}\n",
        "tag_counts"
      ],
      "metadata": {
        "colab": {
          "base_uri": "https://localhost:8080/"
        },
        "id": "c6YYZVE8AMyW",
        "outputId": "e262074a-7b5f-4fc7-86d9-89cf998c18ae"
      },
      "execution_count": 69,
      "outputs": [
        {
          "output_type": "execute_result",
          "data": {
            "text/plain": [
              "{'Sorting': 1,\n",
              " 'Stack': 1,\n",
              " 'Recursion': 1,\n",
              " 'Math': 1,\n",
              " 'Linked List': 1,\n",
              " 'Hash Table': 2,\n",
              " 'Array': 2,\n",
              " 'String': 3}"
            ]
          },
          "metadata": {},
          "execution_count": 69
        }
      ]
    },
    {
      "cell_type": "code",
      "source": [
        "random.seed(12)\n",
        "total = 0\n",
        "max_rec = 10\n",
        "recs = list()\n",
        "for item in tag_counts:\n",
        "  if len(recs) >= max_rec:\n",
        "    break\n",
        "  opts = tag_to_problems[item]\n",
        "  problem = random.choices(opts, k=1)[0]\n",
        "  recs.append(problem['uri'])\n",
        "\n",
        "random.seed(11)\n",
        "if len(recs) < max_rec:\n",
        "  for item in tag_counts:\n",
        "    if len(recs) >= max_rec:\n",
        "      break\n",
        "    opts = tag_to_problems[item]\n",
        "    problem = random.choices(opts, k=1)[0]\n",
        "    recs.append(problem['uri'])\n",
        "\n",
        "print(recs)"
      ],
      "metadata": {
        "colab": {
          "base_uri": "https://localhost:8080/"
        },
        "id": "wgpp7W3m90p7",
        "outputId": "fedde5c3-8f87-4f27-f3db-65e3a63af23b"
      },
      "execution_count": 88,
      "outputs": [
        {
          "output_type": "stream",
          "name": "stdout",
          "text": [
            "['https://leetcode.com/problems/sell-diminishing-valued-colored-balls/', 'https://leetcode.com/problems/exclusive-time-of-functions/', 'https://leetcode.com/problems/reorder-list/', 'https://leetcode.com/problems/strictly-palindromic-number/', 'https://leetcode.com/problems/steps-to-make-array-non-decreasing/', 'https://leetcode.com/problems/k-diff-pairs-in-an-array/', 'https://leetcode.com/problems/rank-transform-of-an-array/', 'https://leetcode.com/problems/iterator-for-combination/', 'https://leetcode.com/problems/maximum-height-by-stacking-cuboids/', 'https://leetcode.com/problems/backspace-string-compare/']\n"
          ]
        }
      ]
    },
    {
      "cell_type": "markdown",
      "source": [
        "#END"
      ],
      "metadata": {
        "id": "FhQ7p_nY_RrJ"
      }
    },
    {
      "cell_type": "code",
      "source": [
        "# TODO: Attempted questions calc\n",
        "for problem in attempted_questions:\n",
        "  prob_string = str(problem['id']) + \". \" + problem['title']\n",
        "  result = g.run(f\"MATCH (n:Problem)-->(p:Tag) WHERE n.title = '{prob_string}' RETURN *\")\n",
        "  print(result)\n",
        "  print(\"=====\")"
      ],
      "metadata": {
        "colab": {
          "base_uri": "https://localhost:8080/"
        },
        "id": "Cx30C4k7uNIH",
        "outputId": "f42c7ca8-c6b3-4878-8535-e45d7a209ee2"
      },
      "execution_count": 34,
      "outputs": [
        {
          "output_type": "stream",
          "name": "stdout",
          "text": [
            "(No data)\n",
            "=====\n"
          ]
        }
      ]
    },
    {
      "cell_type": "code",
      "source": [
        "matches = g.run(\"MATCH (n) RETURN n\")"
      ],
      "metadata": {
        "id": "FDxgnn24slYZ"
      },
      "execution_count": 46,
      "outputs": []
    },
    {
      "cell_type": "code",
      "source": [
        "print(len(matches.data()))"
      ],
      "metadata": {
        "colab": {
          "base_uri": "https://localhost:8080/"
        },
        "id": "1_IsQfBah4xp",
        "outputId": "50a4286d-8d7f-45c0-88d9-1abfe5415a2f"
      },
      "execution_count": 47,
      "outputs": [
        {
          "output_type": "stream",
          "name": "stdout",
          "text": [
            "2549\n"
          ]
        }
      ]
    },
    {
      "cell_type": "code",
      "source": [
        "a = g.cypher.execute('MATCH (tag:Tag {name: \"Tom Hanks\"})-[:ACTED_IN]->(tomHanksMovies) RETURN tomHanksMovies')"
      ],
      "metadata": {
        "id": "eGOjIX0YG9_A"
      },
      "execution_count": null,
      "outputs": []
    },
    {
      "cell_type": "code",
      "source": [
        "problem_matches = g.nodes.match(\"Problem\")"
      ],
      "metadata": {
        "id": "GgVAlmJzBMMx"
      },
      "execution_count": 16,
      "outputs": []
    },
    {
      "cell_type": "code",
      "source": [
        "# for item in problem_matches:\n",
        "#   print(item)"
      ],
      "metadata": {
        "id": "2kEUvsGKhA9j"
      },
      "execution_count": 114,
      "outputs": []
    },
    {
      "cell_type": "code",
      "source": [
        "graph_data = matches.data()"
      ],
      "metadata": {
        "id": "8-P13F5isnho"
      },
      "execution_count": 49,
      "outputs": []
    },
    {
      "cell_type": "code",
      "source": [
        "# for item in graph_data:\n",
        "#   print(item['n'])"
      ],
      "metadata": {
        "id": "ngfRZeu3tA7w"
      },
      "execution_count": 65,
      "outputs": []
    }
  ]
}