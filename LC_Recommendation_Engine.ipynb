{
  "nbformat": 4,
  "nbformat_minor": 0,
  "metadata": {
    "colab": {
      "provenance": []
    },
    "kernelspec": {
      "name": "python3",
      "display_name": "Python 3"
    },
    "language_info": {
      "name": "python"
    }
  },
  "cells": [
    {
      "cell_type": "markdown",
      "source": [
        "# This is the imports section"
      ],
      "metadata": {
        "id": "JiJJ0WUCYoet"
      }
    },
    {
      "cell_type": "code",
      "source": [
        "!pip install selenium"
      ],
      "metadata": {
        "colab": {
          "base_uri": "https://localhost:8080/",
          "height": 538
        },
        "id": "lNSu_N4qLxF8",
        "outputId": "a93b1ece-913a-4f14-d0d6-d28f92362eaf"
      },
      "execution_count": 72,
      "outputs": [
        {
          "output_type": "stream",
          "name": "stdout",
          "text": [
            "Looking in indexes: https://pypi.org/simple, https://us-python.pkg.dev/colab-wheels/public/simple/\n",
            "Requirement already satisfied: selenium in /usr/local/lib/python3.8/dist-packages (4.7.2)\n",
            "Requirement already satisfied: certifi>=2021.10.8 in /usr/local/lib/python3.8/dist-packages (from selenium) (2022.9.24)\n",
            "Requirement already satisfied: trio~=0.17 in /usr/local/lib/python3.8/dist-packages (from selenium) (0.22.0)\n",
            "Collecting urllib3[socks]~=1.26\n",
            "  Using cached urllib3-1.26.13-py2.py3-none-any.whl (140 kB)\n",
            "Requirement already satisfied: trio-websocket~=0.9 in /usr/local/lib/python3.8/dist-packages (from selenium) (0.9.2)\n",
            "Requirement already satisfied: attrs>=19.2.0 in /usr/local/lib/python3.8/dist-packages (from trio~=0.17->selenium) (22.1.0)\n",
            "Requirement already satisfied: idna in /usr/local/lib/python3.8/dist-packages (from trio~=0.17->selenium) (2.10)\n",
            "Requirement already satisfied: outcome in /usr/local/lib/python3.8/dist-packages (from trio~=0.17->selenium) (1.2.0)\n",
            "Requirement already satisfied: async-generator>=1.9 in /usr/local/lib/python3.8/dist-packages (from trio~=0.17->selenium) (1.10)\n",
            "Requirement already satisfied: exceptiongroup>=1.0.0rc9 in /usr/local/lib/python3.8/dist-packages (from trio~=0.17->selenium) (1.0.4)\n",
            "Requirement already satisfied: sortedcontainers in /usr/local/lib/python3.8/dist-packages (from trio~=0.17->selenium) (2.4.0)\n",
            "Requirement already satisfied: sniffio in /usr/local/lib/python3.8/dist-packages (from trio~=0.17->selenium) (1.3.0)\n",
            "Requirement already satisfied: wsproto>=0.14 in /usr/local/lib/python3.8/dist-packages (from trio-websocket~=0.9->selenium) (1.2.0)\n",
            "Requirement already satisfied: PySocks!=1.5.7,<2.0,>=1.5.6 in /usr/local/lib/python3.8/dist-packages (from urllib3[socks]~=1.26->selenium) (1.7.1)\n",
            "Requirement already satisfied: h11<1,>=0.9.0 in /usr/local/lib/python3.8/dist-packages (from wsproto>=0.14->trio-websocket~=0.9->selenium) (0.14.0)\n",
            "Installing collected packages: urllib3\n",
            "  Attempting uninstall: urllib3\n",
            "    Found existing installation: urllib3 1.25.11\n",
            "    Uninstalling urllib3-1.25.11:\n",
            "      Successfully uninstalled urllib3-1.25.11\n",
            "\u001b[31mERROR: pip's dependency resolver does not currently take into account all the packages that are installed. This behaviour is the source of the following dependency conflicts.\n",
            "requests 2.23.0 requires urllib3!=1.25.0,!=1.25.1,<1.26,>=1.21.1, but you have urllib3 1.26.13 which is incompatible.\u001b[0m\n",
            "Successfully installed urllib3-1.26.13\n"
          ]
        },
        {
          "output_type": "display_data",
          "data": {
            "application/vnd.colab-display-data+json": {
              "pip_warning": {
                "packages": [
                  "urllib3"
                ]
              }
            }
          },
          "metadata": {}
        }
      ]
    },
    {
      "cell_type": "code",
      "execution_count": 73,
      "metadata": {
        "id": "nNRBEZIhLYZI"
      },
      "outputs": [],
      "source": [
        "import pandas as pd\n",
        "import time,csv,sys,pytz,os\n",
        "from pathlib import Path\n",
        "\n",
        "from selenium import webdriver\n",
        "from selenium.webdriver.common.keys import Keys\n",
        "from selenium.webdriver.common.by import By\n",
        "from selenium.webdriver.support import expected_conditions as EC\n",
        "from selenium.webdriver.support.ui import Select,WebDriverWait\n",
        "\n",
        "import numpy as np\n",
        "from datetime import date,datetime,timedelta"
      ]
    },
    {
      "cell_type": "code",
      "source": [
        "# refer following discussion\n",
        "# https://stackoverflow.com/questions/56829470/selenium-google-colab-error-chromedriver-executable-needs-to-be-in-path\n",
        "# install chromium, its driver, and selenium\n",
        "# !apt-get update\n",
        "# !apt install chromium-chromedriver\n",
        "# !cp /usr/lib/chromium-browser/chromedriver /usr/bin\n",
        "\n",
        "# !pip install selenium\n",
        "\n",
        "from selenium import webdriver\n",
        "options = webdriver.ChromeOptions()\n",
        "options.add_argument('--headless')\n",
        "options.add_argument('--no-sandbox')\n",
        "options.add_argument('--disable-dev-shm-usage')\n",
        "# # open it, go to a website, and get results\n",
        "# wd = webdriver.Chrome('chromedriver',options=options)\n",
        "# wd.get(\"https://www.website.com\")\n",
        "# print(wd.page_source)  # results"
      ],
      "metadata": {
        "id": "Gxl1PRcEM36B"
      },
      "execution_count": 74,
      "outputs": []
    },
    {
      "cell_type": "code",
      "source": [
        "!pip install python-dotenv"
      ],
      "metadata": {
        "colab": {
          "base_uri": "https://localhost:8080/"
        },
        "id": "EJxaF6z8NOlZ",
        "outputId": "d313063e-d923-4849-d206-43d29d93edf4"
      },
      "execution_count": 75,
      "outputs": [
        {
          "output_type": "stream",
          "name": "stdout",
          "text": [
            "Looking in indexes: https://pypi.org/simple, https://us-python.pkg.dev/colab-wheels/public/simple/\n",
            "Requirement already satisfied: python-dotenv in /usr/local/lib/python3.8/dist-packages (0.21.0)\n"
          ]
        }
      ]
    },
    {
      "cell_type": "code",
      "source": [
        "%load_ext dotenv\n",
        "%dotenv"
      ],
      "metadata": {
        "colab": {
          "base_uri": "https://localhost:8080/"
        },
        "id": "ptnNUCVFNqoD",
        "outputId": "1ce08b57-9ad6-4d7e-ec7c-ff4492e2d738"
      },
      "execution_count": 76,
      "outputs": [
        {
          "output_type": "stream",
          "name": "stdout",
          "text": [
            "The dotenv extension is already loaded. To reload it, use:\n",
            "  %reload_ext dotenv\n",
            "cannot find .env file\n"
          ]
        }
      ]
    },
    {
      "cell_type": "code",
      "source": [
        "!pip install py2neo -q"
      ],
      "metadata": {
        "id": "wWrFsOVrOG9P"
      },
      "execution_count": 77,
      "outputs": []
    },
    {
      "cell_type": "markdown",
      "source": [
        "# Connect to db instance then init the graph object with py2neo"
      ],
      "metadata": {
        "id": "sT0kEQBKYsH7"
      }
    },
    {
      "cell_type": "code",
      "source": [
        "from py2neo import Graph, Node, Relationship\n",
        "\n",
        "g = Graph(f\"neo4j+s://8686653a.databases.neo4j.io\", auth=(\"neo4j\", 'gzZr3zneKvXdUPc3_hO_uj_KQOy3g3zTGNal3TmCvhs'), routing=True)"
      ],
      "metadata": {
        "id": "D4VafPIPOJEF"
      },
      "execution_count": 78,
      "outputs": []
    },
    {
      "cell_type": "code",
      "source": [
        "print(g.run(\"MATCH (n) RETURN n\"))"
      ],
      "metadata": {
        "colab": {
          "base_uri": "https://localhost:8080/"
        },
        "id": "rHyie1AfOez0",
        "outputId": "37a6ecad-b6ed-4525-ab25-37dd7b7dc86e"
      },
      "execution_count": 79,
      "outputs": [
        {
          "output_type": "stream",
          "name": "stdout",
          "text": [
            " n                                                                          \r\n",
            "----------------------------------------------------------------------------\r\n",
            " (_0:Tag {title: 'Array', uri: 'https://leetcode.com/tag/array'})           \r\n",
            " (_1:Tag {title: 'String', uri: 'https://leetcode.com/tag/string'})         \r\n",
            " (_2:Tag {title: 'Hash Table', uri: 'https://leetcode.com/tag/hash-table'}) \r\n",
            "\n"
          ]
        }
      ]
    },
    {
      "cell_type": "code",
      "source": [
        "g.nodes.match(\"Problem\",uri='https://leetcode.com/problems/two-sum/').first()"
      ],
      "metadata": {
        "id": "MAgX4VArOxMJ",
        "colab": {
          "base_uri": "https://localhost:8080/"
        },
        "outputId": "7989e806-6b5b-42fe-b707-6aaf9c192463"
      },
      "execution_count": 80,
      "outputs": [
        {
          "output_type": "execute_result",
          "data": {
            "text/plain": [
              "Node('Problem', acceptance='49.1%', difficulty='Easy', finished='Done', title='1. Two Sum', uri='https://leetcode.com/problems/two-sum/')"
            ]
          },
          "metadata": {},
          "execution_count": 80
        }
      ]
    },
    {
      "cell_type": "markdown",
      "source": [
        "# Initialize the leetcode API"
      ],
      "metadata": {
        "id": "lquhyQUEkQJo"
      }
    },
    {
      "cell_type": "code",
      "source": [
        "!pip install python-leetcode"
      ],
      "metadata": {
        "id": "Gel95DtIkZjM",
        "colab": {
          "base_uri": "https://localhost:8080/",
          "height": 434
        },
        "outputId": "a877af80-d0b6-48b3-8f77-249e4557b738"
      },
      "execution_count": 81,
      "outputs": [
        {
          "output_type": "stream",
          "name": "stdout",
          "text": [
            "Looking in indexes: https://pypi.org/simple, https://us-python.pkg.dev/colab-wheels/public/simple/\n",
            "Requirement already satisfied: python-leetcode in /usr/local/lib/python3.8/dist-packages (1.2.1)\n",
            "Requirement already satisfied: python-dateutil in /usr/local/lib/python3.8/dist-packages (from python-leetcode) (2.8.2)\n",
            "Requirement already satisfied: six>=1.10 in /usr/local/lib/python3.8/dist-packages (from python-leetcode) (1.15.0)\n",
            "Requirement already satisfied: certifi in /usr/local/lib/python3.8/dist-packages (from python-leetcode) (2022.9.24)\n",
            "Requirement already satisfied: urllib3>=1.15 in /usr/local/lib/python3.8/dist-packages (from python-leetcode) (1.26.13)\n",
            "Requirement already satisfied: requests in /usr/local/lib/python3.8/dist-packages (from python-leetcode) (2.23.0)\n",
            "Collecting urllib3>=1.15\n",
            "  Using cached urllib3-1.25.11-py2.py3-none-any.whl (127 kB)\n",
            "Requirement already satisfied: idna<3,>=2.5 in /usr/local/lib/python3.8/dist-packages (from requests->python-leetcode) (2.10)\n",
            "Requirement already satisfied: chardet<4,>=3.0.2 in /usr/local/lib/python3.8/dist-packages (from requests->python-leetcode) (3.0.4)\n",
            "Installing collected packages: urllib3\n",
            "  Attempting uninstall: urllib3\n",
            "    Found existing installation: urllib3 1.26.13\n",
            "    Uninstalling urllib3-1.26.13:\n",
            "      Successfully uninstalled urllib3-1.26.13\n",
            "\u001b[31mERROR: pip's dependency resolver does not currently take into account all the packages that are installed. This behaviour is the source of the following dependency conflicts.\n",
            "selenium 4.7.2 requires urllib3[socks]~=1.26, but you have urllib3 1.25.11 which is incompatible.\u001b[0m\n",
            "Successfully installed urllib3-1.25.11\n"
          ]
        },
        {
          "output_type": "display_data",
          "data": {
            "application/vnd.colab-display-data+json": {
              "pip_warning": {
                "packages": [
                  "urllib3"
                ]
              }
            }
          },
          "metadata": {}
        }
      ]
    },
    {
      "cell_type": "code",
      "source": [
        "import leetcode\n",
        "\n",
        "leetcode_session = \"\"\n",
        "configuration = leetcode.Configuration()\n",
        "csrf_token = \"\"\n",
        "configuration.api_key[\"x-csrftoken\"] = 'lZGaYrSyBskpWNTMDn8m9EiErsW0J1kQ0FnDDmpnjoVzmUNKp0oCluyebge3nsNb'\n",
        "configuration.api_key[\"csrftoken\"] = 'lZGaYrSyBskpWNTMDn8m9EiErsW0J1kQ0FnDDmpnjoVzmUNKp0oCluyebge3nsNb'\n",
        "configuration.api_key[\"LEETCODE_SESSION\"] = 'eyJ0eXAiOiJKV1QiLCJhbGciOiJIUzI1NiJ9.eyJfYXV0aF91c2VyX2lkIjoiNDg4MTc1OSIsIl9hdXRoX3VzZXJfYmFja2VuZCI6ImFsbGF1dGguYWNjb3VudC5hdXRoX2JhY2tlbmRzLkF1dGhlbnRpY2F0aW9uQmFja2VuZCIsIl9hdXRoX3VzZXJfaGFzaCI6IjI3ZjczNGE1ZWJjOTNiYjcxMGM2YzU1YTY1OWUzOWFhMzg0ZTdjN2YiLCJpZCI6NDg4MTc1OSwiZW1haWwiOiJkZXZ5YW5iaUB1c2MuZWR1IiwidXNlcm5hbWUiOiJkYmlzd2FzIiwidXNlcl9zbHVnIjoiZGJpc3dhcyIsImF2YXRhciI6Imh0dHBzOi8vczMtdXMtd2VzdC0xLmFtYXpvbmF3cy5jb20vczMtbGMtdXBsb2FkL2Fzc2V0cy9kZWZhdWx0X2F2YXRhci5qcGciLCJyZWZyZXNoZWRfYXQiOjE2NzA0NjY4MDksImlwIjoiMjYwMzo4MDAwOmJhMDA6NGI3OTpiNGVjOjkxNDc6ZGE5NDo4YTQ2IiwiaWRlbnRpdHkiOiI4NmVhODIwMjgyYzVjN2E4NWY1ZmFiOWJmMTE0MGM0MiIsInNlc3Npb25faWQiOjMxOTU4MDI2LCJfc2Vzc2lvbl9leHBpcnkiOjEyMDk2MDB9.8r6BiYONkg6jwlBRSxz4SeX7c0C5nz3UUd6B8dGCi-4'\n",
        "configuration.api_key[\"Referer\"] = \"https://leetcode.com\"\n",
        "configuration.debug = False"
      ],
      "metadata": {
        "id": "a-w9WEfjkSJR"
      },
      "execution_count": 82,
      "outputs": []
    },
    {
      "cell_type": "code",
      "source": [
        "api_instance =leetcode.DefaultApi(leetcode.ApiClient(configuration))"
      ],
      "metadata": {
        "id": "4TXR1WxPkUNW"
      },
      "execution_count": 83,
      "outputs": []
    },
    {
      "cell_type": "markdown",
      "source": [
        "## Quick test of API"
      ],
      "metadata": {
        "id": "UYc76T6kkfQF"
      }
    },
    {
      "cell_type": "code",
      "source": [
        "graphql_request = leetcode.GraphqlQuery(\n",
        "query=\"\"\"\n",
        "      {\n",
        "        user {\n",
        "            username\n",
        "            isCurrentUserPremium\n",
        "        }\n",
        "      }\n",
        "\"\"\",\n",
        "variables=leetcode.GraphqlQueryVariables(),\n",
        ")\n",
        "print(api_instance.graphql_post(body=graphql_request))"
      ],
      "metadata": {
        "id": "cAfunAe_kg-d",
        "colab": {
          "base_uri": "https://localhost:8080/"
        },
        "outputId": "57d2979d-1798-4662-c953-4abe28236169"
      },
      "execution_count": 84,
      "outputs": [
        {
          "output_type": "stream",
          "name": "stdout",
          "text": [
            "{'data': {'problemset_question_list': None,\n",
            "          'question': None,\n",
            "          'user': {'is_current_user_premium': True, 'username': 'dbiswas'}}}\n"
          ]
        }
      ]
    },
    {
      "cell_type": "markdown",
      "source": [
        "# Get a list of the user's completed and attempted problems\n",
        "- NOTE: This is a subset, as the python leetcode api is incomplete and i couldn't figure out how to get it from all topics lell"
      ],
      "metadata": {
        "id": "sRfwwwk-kq1k"
      }
    },
    {
      "cell_type": "code",
      "source": [
        "api_response=api_instance.api_problems_topic_get(topic=\"algorithms\")\n",
        "solved_questions=list()\n",
        "attempted_questions=list()\n",
        "# print(len(api_response.stat_status_pairs))\n",
        "for questions in api_response.stat_status_pairs:\n",
        "  # print(questions)\n",
        "  item_entry = dict()\n",
        "  if questions.status==\"ac\" or questions.status==\"notac\":\n",
        "    item_entry['title'] = questions.stat.question__title\n",
        "    item_entry['id'] = questions.stat.question_id\n",
        "    item_entry['difficulty'] = questions.difficulty\n",
        "    item_entry['frequency'] = questions.frequency\n",
        "    solved_questions.append(item_entry)\n",
        "  # if questions.status==\"notac\":\n",
        "  #   item_entry['title'] = questions.stat.question__title\n",
        "  #   item_entry['id'] = questions.stat.question_id\n",
        "  #   item_entry['difficulty'] = questions.difficulty\n",
        "  #   item_entry['frequency'] = questions.frequency\n",
        "  #   attempted_questions.append(item_entry)\n",
        "\n",
        "\n",
        "print(solved_questions)\n",
        "# print(attempted_questions)\n",
        "print(\"Total number of solved questions \",len(solved_questions))\n",
        "# print(\"Total number of attempted questions \",len(attempted_questions))"
      ],
      "metadata": {
        "colab": {
          "base_uri": "https://localhost:8080/"
        },
        "id": "Zfnajki6kyyV",
        "outputId": "c8f72211-daba-488c-c81c-8cc18b9c5e93"
      },
      "execution_count": 85,
      "outputs": [
        {
          "output_type": "stream",
          "name": "stdout",
          "text": [
            "[{'title': 'Group Anagrams', 'id': 49, 'difficulty': {'level': 2}, 'frequency': 7.475598021208547}, {'title': 'Valid Parentheses', 'id': 20, 'difficulty': {'level': 1}, 'frequency': 8.166857394158807}, {'title': 'Longest Common Prefix', 'id': 14, 'difficulty': {'level': 1}, 'frequency': 7.722812203168328}, {'title': 'Palindrome Number', 'id': 9, 'difficulty': {'level': 1}, 'frequency': 7.319553456935007}, {'title': 'Add Two Numbers', 'id': 2, 'difficulty': {'level': 2}, 'frequency': 8.017458528534332}, {'title': 'Two Sum', 'id': 1, 'difficulty': {'level': 1}, 'frequency': 8.52681853824694}]\n",
            "Total number of solved questions  6\n"
          ]
        }
      ]
    },
    {
      "cell_type": "markdown",
      "source": [
        "# First Recommendation style:\n",
        "- Similar problems + difficulty"
      ],
      "metadata": {
        "id": "Xl0q3-Hlk7Ht"
      }
    },
    {
      "cell_type": "code",
      "source": [
        "diff_map = {\n",
        "    1: 'Easy',\n",
        "    2: 'Medium',\n",
        "    3: 'Hard'\n",
        "}"
      ],
      "metadata": {
        "id": "pX5kPfGUo7Gb"
      },
      "execution_count": 86,
      "outputs": []
    },
    {
      "cell_type": "code",
      "source": [
        "# Get the diffficulty of problems done\n",
        "diffs_list = {}\n",
        "diffs_list['Easy'] = 0\n",
        "diffs_list['Medium'] = 0\n",
        "diffs_list['Hard'] = 0\n",
        "for problem in solved_questions:\n",
        "  diffs_list[diff_map[problem['difficulty'].level]] += 1\n",
        "print(diffs_list)"
      ],
      "metadata": {
        "colab": {
          "base_uri": "https://localhost:8080/"
        },
        "id": "JIuShwkd7RWz",
        "outputId": "c61b6372-6847-48a4-9c7c-424cc1566e00"
      },
      "execution_count": 87,
      "outputs": [
        {
          "output_type": "stream",
          "name": "stdout",
          "text": [
            "{'Easy': 4, 'Medium': 2, 'Hard': 0}\n"
          ]
        }
      ]
    },
    {
      "cell_type": "code",
      "source": [
        "diffs_list = {k: v for k, v in sorted(diffs_list.items(), key=lambda item: item[1])}\n",
        "diffs_list"
      ],
      "metadata": {
        "colab": {
          "base_uri": "https://localhost:8080/"
        },
        "id": "ODzBmsFTtwA6",
        "outputId": "e5bb388c-0efb-4c66-c0ca-42a18e042b4a"
      },
      "execution_count": 88,
      "outputs": [
        {
          "output_type": "execute_result",
          "data": {
            "text/plain": [
              "{'Hard': 0, 'Medium': 2, 'Easy': 4}"
            ]
          },
          "metadata": {},
          "execution_count": 88
        }
      ]
    },
    {
      "cell_type": "code",
      "source": [
        "problem_mapping = {}\n",
        "hard_coded_problems = [3,4,3]\n",
        "i=0\n",
        "for item in diffs_list:\n",
        "  problem_mapping[item] = hard_coded_problems[i]\n",
        "  i = i + 1\n",
        "problem_mapping"
      ],
      "metadata": {
        "colab": {
          "base_uri": "https://localhost:8080/"
        },
        "id": "PbUwCWAkvQjM",
        "outputId": "5e2884e8-6441-4c04-ca60-43d4612ae9f6"
      },
      "execution_count": 89,
      "outputs": [
        {
          "output_type": "execute_result",
          "data": {
            "text/plain": [
              "{'Hard': 3, 'Medium': 4, 'Easy': 3}"
            ]
          },
          "metadata": {},
          "execution_count": 89
        }
      ]
    },
    {
      "cell_type": "code",
      "source": [
        "hard = problem_mapping['Hard']\n",
        "medium = problem_mapping['Medium']\n",
        "easy = problem_mapping['Easy']\n",
        "print(hard, medium, easy)"
      ],
      "metadata": {
        "colab": {
          "base_uri": "https://localhost:8080/"
        },
        "id": "etOceyiP0Ban",
        "outputId": "b5ee8588-5921-4602-e70b-4028d127b8a3"
      },
      "execution_count": 90,
      "outputs": [
        {
          "output_type": "stream",
          "name": "stdout",
          "text": [
            "3 4 3\n"
          ]
        }
      ]
    },
    {
      "cell_type": "code",
      "source": [
        "# For each question in solved, look at the linked problems and add to a list\n",
        "candidate_problems = []\n",
        "for problem in solved_questions:\n",
        "  prob_string = str(problem['id']) + \". \" + problem['title']\n",
        "  # print(prob_string)\n",
        "  results = g.run(f\"MATCH (n:Problem)-->(t:Problem) WHERE n.title = '{prob_string}' RETURN *\")\n",
        "  results = results.data()\n",
        "  if(len(results)) == 0:\n",
        "    continue\n",
        "  for item in results:\n",
        "    candidate_problems.append(item['t'])\n",
        "difficulty_candidates_len = len(candidate_problems)\n",
        "print(difficulty_candidates_len)"
      ],
      "metadata": {
        "id": "47qzRlGfeCoV",
        "colab": {
          "base_uri": "https://localhost:8080/"
        },
        "outputId": "54d90ad4-45ab-4348-c1c5-05c46318aa7a"
      },
      "execution_count": 91,
      "outputs": [
        {
          "output_type": "stream",
          "name": "stdout",
          "text": [
            "38\n"
          ]
        }
      ]
    },
    {
      "cell_type": "code",
      "source": [
        "# Split the similar problems into easy, medium, hard\n",
        "easy_problems = list()\n",
        "medium_problems = list()\n",
        "hard_problems = list()\n",
        "for c_prob in candidate_problems:\n",
        "  diff = c_prob['difficulty']\n",
        "  if diff == 'Easy':\n",
        "    easy_problems.append(c_prob)\n",
        "  if diff == 'Medium':\n",
        "    medium_problems.append(c_prob)\n",
        "  if diff == 'Hard':\n",
        "    hard_problems.append(c_prob)"
      ],
      "metadata": {
        "id": "PCOqMf9L1XgP"
      },
      "execution_count": 92,
      "outputs": []
    },
    {
      "cell_type": "code",
      "source": [
        "# Select the number of easy, medium, and hard problems defined dabv at random\n",
        "import random\n",
        "random.seed(11)\n",
        "ez_probs = random.choices(easy_problems, k=easy)\n",
        "med_probs = random.choices(medium_problems, k=medium)\n",
        "hrd_probs = random.choices(hard_problems, k=hard)"
      ],
      "metadata": {
        "id": "xQ147Hl73q6j"
      },
      "execution_count": 93,
      "outputs": []
    },
    {
      "cell_type": "code",
      "source": [
        "urls = list()\n",
        "for i in ez_probs:\n",
        "  urls.append(i['uri'])\n",
        "for i in med_probs:\n",
        "  urls.append(i['uri'])\n",
        "for i in hrd_probs:\n",
        "  urls.append(i['uri'])\n",
        "print(urls)"
      ],
      "metadata": {
        "colab": {
          "base_uri": "https://localhost:8080/"
        },
        "id": "u1oovIS64iop",
        "outputId": "58e5a2ab-b9be-478a-8aea-4eca80bab060"
      },
      "execution_count": 94,
      "outputs": [
        {
          "output_type": "stream",
          "name": "stdout",
          "text": [
            "['https://leetcode.com/problems/largest-positive-integer-that-exists-with-its-negative/', 'https://leetcode.com/problems/check-distances-between-same-letters/', 'https://leetcode.com/problems/two-sum-iv-input-is-a-bst/', 'https://leetcode.com/problems/sum-of-two-integers/', 'https://leetcode.com/problems/multiply-strings/', 'https://leetcode.com/problems/node-with-highest-edge-score/', 'https://leetcode.com/problems/check-if-word-is-valid-after-substitutions/', 'https://leetcode.com/problems/longest-valid-parentheses/', 'https://leetcode.com/problems/longest-valid-parentheses/', 'https://leetcode.com/problems/number-of-excellent-pairs/']\n"
          ]
        }
      ]
    },
    {
      "cell_type": "markdown",
      "source": [
        "# Recommendation method 2:\n",
        "- Similar questions + tags"
      ],
      "metadata": {
        "id": "kcrJE49m45Wf"
      }
    },
    {
      "cell_type": "code",
      "source": [
        "# For each question in solved, look at the linked tags and add them to a count dict\n",
        "tag_counts = {}\n",
        "for problem in solved_questions:\n",
        "  prob_string = str(problem['id']) + \". \" + problem['title']\n",
        "  # print(prob_string)\n",
        "  result_tags = g.run(f\"MATCH (n:Problem)-->(p:Tag) WHERE n.title = '{prob_string}' RETURN p\")\n",
        "  # results = g.run(f\"MATCH (n:Problem)-->(t:Problem) WHERE n.title = '{prob_string}' RETURN *\")\n",
        "  tags = result_tags.data()\n",
        "  if(len(tags)) == 0:\n",
        "    continue\n",
        "  # print(tags)\n",
        "  for result in tags:\n",
        "    tag = result['p']['title']\n",
        "    if tag not in tag_counts:\n",
        "      tag_counts[tag] = 1\n",
        "    else:\n",
        "      tag_counts[tag] += 1\n",
        "\n",
        "print(tag_counts)"
      ],
      "metadata": {
        "colab": {
          "base_uri": "https://localhost:8080/"
        },
        "id": "NzplWfaizSZw",
        "outputId": "86871855-3411-4b50-ff1f-b50a341e0c2e"
      },
      "execution_count": 95,
      "outputs": [
        {
          "output_type": "stream",
          "name": "stdout",
          "text": [
            "{'Sorting': 1, 'String': 3, 'Hash Table': 2, 'Array': 2, 'Stack': 1, 'Math': 2, 'Recursion': 1, 'Linked List': 1}\n"
          ]
        }
      ]
    },
    {
      "cell_type": "code",
      "source": [
        "# We look at the tag nodes of linked problems and, depending on the probabilities set,\n",
        "# we add em\n",
        "tag_to_problems = {}\n",
        "for problem in solved_questions:\n",
        "  prob_string = str(problem['id']) + \". \" + problem['title']\n",
        "  linked_problems_tags = g.run(f\"MATCH (n:Problem)-->(p:Tag)<--(t:Problem) WHERE n.title = '{prob_string}' RETURN p,t\")\n",
        "  for pair in linked_problems_tags.data():\n",
        "    if pair['p']['title'] not in tag_to_problems:\n",
        "      tag_to_problems[pair['p']['title']] = list()\n",
        "      tag_to_problems[pair['p']['title']].append(pair['t'])\n",
        "    else:\n",
        "      tag_to_problems[pair['p']['title']].append(pair['t'])"
      ],
      "metadata": {
        "id": "bQLOkSpS1yPh"
      },
      "execution_count": 96,
      "outputs": []
    },
    {
      "cell_type": "code",
      "source": [
        "tags_candidates = set()\n",
        "for item in tag_to_problems:\n",
        "  print(item)\n",
        "  for node in tag_to_problems[item]:\n",
        "    tags_candidates.add(node)\n",
        "tags_candidates_len = len(tags_candidates)\n",
        "print(tags_candidates_len)"
      ],
      "metadata": {
        "colab": {
          "base_uri": "https://localhost:8080/"
        },
        "id": "3C2bMgHEAS1Q",
        "outputId": "206bf5ba-b470-499f-876b-6069716af952"
      },
      "execution_count": 97,
      "outputs": [
        {
          "output_type": "stream",
          "name": "stdout",
          "text": [
            "Sorting\n",
            "String\n",
            "Hash Table\n",
            "Array\n",
            "Stack\n",
            "Math\n",
            "Recursion\n",
            "Linked List\n",
            "739\n"
          ]
        }
      ]
    },
    {
      "cell_type": "code",
      "source": [
        "tag_counts = {k: v for k, v in sorted(tag_counts.items(), key=lambda item: item[1])}\n",
        "tag_counts"
      ],
      "metadata": {
        "colab": {
          "base_uri": "https://localhost:8080/"
        },
        "id": "c6YYZVE8AMyW",
        "outputId": "84eff1bc-9ea4-4d07-866a-b0a364f8d71c"
      },
      "execution_count": 98,
      "outputs": [
        {
          "output_type": "execute_result",
          "data": {
            "text/plain": [
              "{'Sorting': 1,\n",
              " 'Stack': 1,\n",
              " 'Recursion': 1,\n",
              " 'Linked List': 1,\n",
              " 'Hash Table': 2,\n",
              " 'Array': 2,\n",
              " 'Math': 2,\n",
              " 'String': 3}"
            ]
          },
          "metadata": {},
          "execution_count": 98
        }
      ]
    },
    {
      "cell_type": "code",
      "source": [
        "random.seed(12)\n",
        "total = 0\n",
        "max_rec = 10\n",
        "recs = list()\n",
        "for item in tag_counts:\n",
        "  if len(recs) >= max_rec:\n",
        "    break\n",
        "  opts = tag_to_problems[item]\n",
        "  problem = random.choices(opts, k=1)[0]\n",
        "  recs.append(problem['uri'])\n",
        "\n",
        "random.seed(11)\n",
        "if len(recs) < max_rec:\n",
        "  for item in tag_counts:\n",
        "    if len(recs) >= max_rec:\n",
        "      break\n",
        "    opts = tag_to_problems[item]\n",
        "    problem = random.choices(opts, k=1)[0]\n",
        "    recs.append(problem['uri'])\n",
        "\n",
        "print(recs)"
      ],
      "metadata": {
        "colab": {
          "base_uri": "https://localhost:8080/"
        },
        "id": "wgpp7W3m90p7",
        "outputId": "91ed0810-36f0-4280-fe51-120eaa8beed6"
      },
      "execution_count": 99,
      "outputs": [
        {
          "output_type": "stream",
          "name": "stdout",
          "text": [
            "['https://leetcode.com/problems/sell-diminishing-valued-colored-balls/', 'https://leetcode.com/problems/exclusive-time-of-functions/', 'https://leetcode.com/problems/reorder-list/', 'https://leetcode.com/problems/sort-linked-list-already-sorted-using-absolute-values/', 'https://leetcode.com/problems/using-a-robot-to-print-the-lexicographically-smallest-string/', 'https://leetcode.com/problems/escape-the-ghosts/', 'https://leetcode.com/problems/robot-bounded-in-circle/', 'https://leetcode.com/problems/iterator-for-combination/', 'https://leetcode.com/problems/maximum-height-by-stacking-cuboids/', 'https://leetcode.com/problems/backspace-string-compare/']\n"
          ]
        }
      ]
    },
    {
      "cell_type": "markdown",
      "source": [
        "#KG Eval Section"
      ],
      "metadata": {
        "id": "FhQ7p_nY_RrJ"
      }
    },
    {
      "cell_type": "code",
      "source": [
        "total_nodes = g.run(\"MATCH (n) RETURN n\")"
      ],
      "metadata": {
        "id": "FDxgnn24slYZ"
      },
      "execution_count": 100,
      "outputs": []
    },
    {
      "cell_type": "code",
      "source": [
        "total_nodes = total_nodes.data()"
      ],
      "metadata": {
        "id": "FTJIQjE71cH9"
      },
      "execution_count": 101,
      "outputs": []
    },
    {
      "cell_type": "code",
      "source": [
        "print(len(total_nodes))"
      ],
      "metadata": {
        "colab": {
          "base_uri": "https://localhost:8080/"
        },
        "id": "1_IsQfBah4xp",
        "outputId": "606c5950-7b77-4870-9fec-a9b10e5ff122"
      },
      "execution_count": 102,
      "outputs": [
        {
          "output_type": "stream",
          "name": "stdout",
          "text": [
            "2549\n"
          ]
        }
      ]
    },
    {
      "cell_type": "markdown",
      "source": [
        "## B/t Solved problems"
      ],
      "metadata": {
        "id": "f1kkrrWNaG05"
      }
    },
    {
      "cell_type": "code",
      "source": [
        "# Solved-Solved Evaluation Metric\n",
        "for i in range(0, len(solved_questions)-1):\n",
        "    # inner loop\n",
        "    for j in range(i+1, len(solved_questions)):\n",
        "      source = solved_questions[i]\n",
        "      source = str(source['id']) + \". \" + source['title']\n",
        "      target = solved_questions[j]\n",
        "      target = str(target['id']) + \". \" + target['title']\n",
        "\n",
        "      func_string_a = f\"\"\" \n",
        "        MATCH p=shortestPath((t:Problem {{title: '{source}'}})-[:SIMILAR_TO|BELONGS_TO*1..100]-(n:Problem {{title: '{target}'}}))\n",
        "        RETURN distinct p\n",
        "      \"\"\"\n",
        "\n",
        "      path_data = g.run(func_string_a)\n",
        "      path_dist = path_data.data()\n",
        "      for pair in path_dist:\n",
        "        path_nodes_string = \"\"  \n",
        "        for nodes in pair['p'].nodes:\n",
        "          path_nodes_string = path_nodes_string + \", \" + nodes['title']\n",
        "        print(\"Shortest path:\", path_nodes_string)\n",
        "        print(\"Path Length = \", len(pair['p'].nodes)-1)\n",
        "      print(\"===================\")"
      ],
      "metadata": {
        "colab": {
          "base_uri": "https://localhost:8080/"
        },
        "id": "jD7lhsIl5TL5",
        "outputId": "246d1698-9183-40cf-8efa-997ac5c311f3"
      },
      "execution_count": 103,
      "outputs": [
        {
          "output_type": "stream",
          "name": "stdout",
          "text": [
            "Shortest path: , 49. Group Anagrams, String, 20. Valid Parentheses\n",
            "Path Length =  2\n",
            "===================\n",
            "Shortest path: , 49. Group Anagrams, String, 14. Longest Common Prefix\n",
            "Path Length =  2\n",
            "===================\n",
            "Shortest path: , 49. Group Anagrams, Sorting, 2333. Minimum Sum of Squared Difference, Math, 9. Palindrome Number\n",
            "Path Length =  4\n",
            "===================\n",
            "Shortest path: , 49. Group Anagrams, Array, 989. Add to Array-Form of Integer, 2. Add Two Numbers\n",
            "Path Length =  3\n",
            "===================\n",
            "Shortest path: , 49. Group Anagrams, Hash Table, 1. Two Sum\n",
            "Path Length =  2\n",
            "===================\n",
            "Shortest path: , 20. Valid Parentheses, String, 14. Longest Common Prefix\n",
            "Path Length =  2\n",
            "===================\n",
            "Shortest path: , 20. Valid Parentheses, Stack, 234. Palindrome Linked List, 9. Palindrome Number\n",
            "Path Length =  3\n",
            "===================\n",
            "Shortest path: , 20. Valid Parentheses, 22. Generate Parentheses, Recursion, 2. Add Two Numbers\n",
            "Path Length =  3\n",
            "===================\n",
            "Shortest path: , 20. Valid Parentheses, 2337. Move Pieces to Obtain a String, Two Pointers, 18. 4Sum, 1. Two Sum\n",
            "Path Length =  4\n",
            "===================\n",
            "Shortest path: , 14. Longest Common Prefix, String, 592. Fraction Addition and Subtraction, Math, 9. Palindrome Number\n",
            "Path Length =  4\n",
            "===================\n",
            "Shortest path: , 14. Longest Common Prefix, String, 43. Multiply Strings, 2. Add Two Numbers\n",
            "Path Length =  3\n",
            "===================\n",
            "Shortest path: , 14. Longest Common Prefix, String, 288. Unique Word Abbreviation, 170. Two Sum III - Data structure design, 1. Two Sum\n",
            "Path Length =  4\n",
            "===================\n",
            "Shortest path: , 9. Palindrome Number, Math, 2. Add Two Numbers\n",
            "Path Length =  2\n",
            "===================\n",
            "Shortest path: , 9. Palindrome Number, 2396. Strictly Palindromic Number, Two Pointers, 18. 4Sum, 1. Two Sum\n",
            "Path Length =  4\n",
            "===================\n",
            "Shortest path: , 2. Add Two Numbers, 989. Add to Array-Form of Integer, Array, 1. Two Sum\n",
            "Path Length =  3\n",
            "===================\n"
          ]
        }
      ]
    },
    {
      "cell_type": "markdown",
      "source": [
        "## B/t a control random and solved problems"
      ],
      "metadata": {
        "id": "AZ-3vR8SaLcz"
      }
    },
    {
      "cell_type": "code",
      "source": [
        "# Random-Solved Evaluation Metric\n",
        "# Node Chose: Problem 2399. Check Distances Between Same Letters \n",
        "control_problem = '2399. Check Distances Between Same Letters'\n",
        "for problem in solved_questions:\n",
        "      target = str(problem['id']) + \". \" + problem['title']\n",
        "      func_string_b = f\"\"\" \n",
        "        MATCH p=shortestPath((t:Problem {{title: '{control_problem}'}})-[:SIMILAR_TO|BELONGS_TO*1..100]-(n:Problem {{title: '{target}'}}))\n",
        "        RETURN distinct p\n",
        "      \"\"\"\n",
        "      path_data = g.run(func_string_b)\n",
        "      path_dist = path_data.data()\n",
        "\n",
        "      for pair in path_dist:\n",
        "        path_nodes_string = \"\"  \n",
        "        for nodes in pair['p'].nodes:\n",
        "          path_nodes_string = path_nodes_string + \", \" + nodes['title']\n",
        "        print(\"Shortest path:\", path_nodes_string)\n",
        "        print(\"Path Length = \", len(pair['p'].nodes)-1)\n",
        "      print(\"===================\")"
      ],
      "metadata": {
        "colab": {
          "base_uri": "https://localhost:8080/"
        },
        "id": "k8LHeQ5HVJXo",
        "outputId": "7a94ff7d-6d1a-4044-b0c5-b4caa29cbf90"
      },
      "execution_count": 104,
      "outputs": [
        {
          "output_type": "stream",
          "name": "stdout",
          "text": [
            "Shortest path: , 2399. Check Distances Between Same Letters, 1. Two Sum, Hash Table, 49. Group Anagrams\n",
            "Path Length =  3\n",
            "===================\n",
            "Shortest path: , 2399. Check Distances Between Same Letters, 1. Two Sum, 18. 4Sum, Two Pointers, 2337. Move Pieces to Obtain a String, 20. Valid Parentheses\n",
            "Path Length =  5\n",
            "===================\n",
            "Shortest path: , 2399. Check Distances Between Same Letters, 1. Two Sum, Hash Table, 648. Replace Words, String, 14. Longest Common Prefix\n",
            "Path Length =  5\n",
            "===================\n",
            "Shortest path: , 2399. Check Distances Between Same Letters, 1. Two Sum, 18. 4Sum, Two Pointers, 2396. Strictly Palindromic Number, 9. Palindrome Number\n",
            "Path Length =  5\n",
            "===================\n",
            "Shortest path: , 2399. Check Distances Between Same Letters, 1. Two Sum, Array, 989. Add to Array-Form of Integer, 2. Add Two Numbers\n",
            "Path Length =  4\n",
            "===================\n",
            "Shortest path: , 2399. Check Distances Between Same Letters, 1. Two Sum\n",
            "Path Length =  1\n",
            "===================\n"
          ]
        }
      ]
    },
    {
      "cell_type": "markdown",
      "source": [
        "## Single-Hop Connected Problems Coverage"
      ],
      "metadata": {
        "id": "JA8VDXCRaT_1"
      }
    },
    {
      "cell_type": "code",
      "source": [
        "# Get all problem nodes\n",
        "plus_term = len(solved_questions)\n",
        "total_problem_nodes = g.run(\"MATCH (n:Problem )RETURN n\")\n",
        "total_problem_nodes = total_problem_nodes.data()"
      ],
      "metadata": {
        "id": "LW_wtpf7bDJe"
      },
      "execution_count": 105,
      "outputs": []
    },
    {
      "cell_type": "code",
      "source": [
        "total_problems = len(total_problem_nodes)\n",
        "print(total_problems)"
      ],
      "metadata": {
        "colab": {
          "base_uri": "https://localhost:8080/"
        },
        "id": "mHOkmA4LbRa1",
        "outputId": "bfc77bac-4bf5-49d1-8891-2f85a644fb83"
      },
      "execution_count": 106,
      "outputs": [
        {
          "output_type": "stream",
          "name": "stdout",
          "text": [
            "2478\n"
          ]
        }
      ]
    },
    {
      "cell_type": "code",
      "source": [
        "# Get total 1-depth coverage across all solved problems to determine problem node % coverage\n",
        "covered_questions = set()\n",
        "for problem in solved_questions:\n",
        "      source = str(problem['id']) + \". \" + problem['title']\n",
        "      func_string_c = f\"\"\" \n",
        "      MATCH (t:Problem {{title: '{source}'}})-[:SIMILAR_TO]-(n:Problem)\n",
        "      RETURN n\n",
        "      \"\"\"\n",
        "      covered_nodes = g.run(func_string_c)\n",
        "      covered_nodes = covered_nodes.data()\n",
        "      for node in covered_nodes:\n",
        "        covered_questions.add(node['n']['title'])\n",
        "\n",
        "covered_num = len(covered_questions)\n",
        "print(\"Percent coverage at 1-depth neighbors for similar questions: \", covered_num/total_problems)"
      ],
      "metadata": {
        "colab": {
          "base_uri": "https://localhost:8080/"
        },
        "id": "-WD1RJ6EavW-",
        "outputId": "6f6a13a5-3a81-4153-ab0b-6297cf8999c7"
      },
      "execution_count": 107,
      "outputs": [
        {
          "output_type": "stream",
          "name": "stdout",
          "text": [
            "Percent coverage at 1-depth neighbors for similar questions:  0.015738498789346248\n"
          ]
        }
      ]
    },
    {
      "cell_type": "code",
      "source": [
        "print(\"Percent coverage of candidates from difficulty + frontier similar questions: \", difficulty_candidates_len/total_problems)\n",
        "print(\"Percent coverage of candidates from tags + frontier tag similar questions: \", tags_candidates_len/total_problems)"
      ],
      "metadata": {
        "colab": {
          "base_uri": "https://localhost:8080/"
        },
        "id": "rhOjyqJuobxE",
        "outputId": "b539cd45-372e-4d59-97f4-448b2d93af80"
      },
      "execution_count": 108,
      "outputs": [
        {
          "output_type": "stream",
          "name": "stdout",
          "text": [
            "Percent coverage of candidates from difficulty + frontier similar questions:  0.01533494753833737\n",
            "Percent coverage of candidates from tags + frontier tag similar questions:  0.29822437449556094\n"
          ]
        }
      ]
    },
    {
      "cell_type": "markdown",
      "source": [
        "## N-hop problem coverage"
      ],
      "metadata": {
        "id": "PBzVWSwWmkE7"
      }
    },
    {
      "cell_type": "code",
      "source": [
        "# # Get total N-depth coverage across all solved problems to determine problem node % coverage\n",
        "# # This means that EVERY reachable node with no tag hops allowed\n",
        "# #STOPPED: TOOK TOO LONG TO RUN\n",
        "# covered_questions = set()\n",
        "# for problem in solved_questions:\n",
        "#       source = str(problem['id']) + \". \" + problem['title']\n",
        "#       func_string_c1 = f\"\"\" \n",
        "#       MATCH (t:Problem {{title: '{source}'}})-[:SIMILAR_TO*1..100]-()-[:SIMILAR_TO*1..100]->(n:Problem)\n",
        "#         RETURN distinct n\n",
        "#       \"\"\"\n",
        "#       # print(func_string_c1)\n",
        "#       # func_string_c1 = f\"\"\" \n",
        "#       # MATCH (t:Problem {{title: '{source}'}})-[:SIMILAR_TO|BELONGS_TO*1..100]-(n:Problem)\n",
        "#       #   RETURN distinct p\n",
        "#       # \"\"\"\n",
        "#       covered_nodes = g.run(func_string_c1)\n",
        "#       covered_nodes = covered_nodes.data()\n",
        "#       for node in covered_nodes:\n",
        "#         covered_questions.add(node['n']['title'])\n",
        "\n",
        "# covered_num = len(covered_questions)\n",
        "# print(\"Percent coverage at N-depth neighbors for similar questions: \", covered_num/total_problems)"
      ],
      "metadata": {
        "id": "Za_VpF2qb8Tz"
      },
      "execution_count": 109,
      "outputs": []
    }
  ]
}