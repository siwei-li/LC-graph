{
 "cells": [
  {
   "cell_type": "markdown",
   "metadata": {
    "colab_type": "text",
    "id": "view-in-github"
   },
   "source": [
    "<a href=\"https://colab.research.google.com/github/siwei-li/LC-graph/blob/master/LCScraper.ipynb\" target=\"_parent\"><img src=\"https://colab.research.google.com/assets/colab-badge.svg\" alt=\"Open In Colab\"/></a>"
   ]
  },
  {
   "cell_type": "code",
   "execution_count": 6,
   "metadata": {
    "colab": {
     "base_uri": "https://localhost:8080/"
    },
    "id": "4jxNIUoNcezb",
    "outputId": "99a0d964-ccfd-488e-c800-734b0542323d",
    "tags": []
   },
   "outputs": [
    {
     "name": "stdout",
     "output_type": "stream",
     "text": [
      "Defaulting to user installation because normal site-packages is not writeable\n",
      "Requirement already satisfied: python-dotenv in /home/sil/.local/lib/python3.10/site-packages (0.21.0)\n"
     ]
    }
   ],
   "source": [
    "!pip install python-dotenv"
   ]
  },
  {
   "cell_type": "code",
   "execution_count": 7,
   "metadata": {},
   "outputs": [],
   "source": [
    "import os\n",
    "os.environ['http_proxy'] = \"http://205.134.235.13:3129\" \n",
    "os.environ['https_proxy'] = \"https://205.134.235.13:3129\" "
   ]
  },
  {
   "cell_type": "code",
   "execution_count": 8,
   "metadata": {
    "colab": {
     "base_uri": "https://localhost:8080/"
    },
    "id": "D3TC0WXqh_LJ",
    "outputId": "dfc97c8f-e617-4b27-b5e2-73e2a5d90cb2"
   },
   "outputs": [],
   "source": [
    "!pip install py2neo -q"
   ]
  },
  {
   "cell_type": "code",
   "execution_count": 1,
   "metadata": {
    "id": "X3QfS7LdcezZ"
   },
   "outputs": [],
   "source": [
    "import pandas as pd\n",
    "import time,csv,sys,pytz,os\n",
    "from pathlib import Path\n",
    "\n",
    "from selenium import webdriver\n",
    "from selenium.webdriver.common.keys import Keys\n",
    "from selenium.webdriver.common.by import By\n",
    "from selenium.webdriver.support import expected_conditions as EC\n",
    "from selenium.webdriver.support.ui import Select,WebDriverWait\n",
    "\n",
    "import numpy as np\n",
    "from datetime import date,datetime,timedelta"
   ]
  },
  {
   "cell_type": "code",
   "execution_count": 207,
   "metadata": {
    "id": "wQuKYrVxjJhv"
   },
   "outputs": [],
   "source": [
    "# refer following discussion\n",
    "# https://stackoverflow.com/questions/56829470/selenium-google-colab-error-chromedriver-executable-needs-to-be-in-path\n",
    "# install chromium, its driver, and selenium\n",
    "# !apt-get update\n",
    "# !apt install chromium-chromedriver\n",
    "# !cp /usr/lib/chromium-browser/chromedriver /usr/bin\n",
    "\n",
    "# !pip install selenium\n",
    "\n",
    "from selenium import webdriver\n",
    "options = webdriver.ChromeOptions()\n",
    "# options.add_argument('--headless')\n",
    "options.add_argument('--no-sandbox')\n",
    "options.add_argument('--disable-dev-shm-usage')"
   ]
  },
  {
   "cell_type": "code",
   "execution_count": 208,
   "metadata": {
    "colab": {
     "base_uri": "https://localhost:8080/"
    },
    "id": "4jxNIUoNcezb",
    "outputId": "99a0d964-ccfd-488e-c800-734b0542323d",
    "tags": []
   },
   "outputs": [
    {
     "name": "stdout",
     "output_type": "stream",
     "text": [
      "The dotenv extension is already loaded. To reload it, use:\n",
      "  %reload_ext dotenv\n"
     ]
    }
   ],
   "source": [
    "%load_ext dotenv\n",
    "%dotenv"
   ]
  },
  {
   "cell_type": "code",
   "execution_count": 91,
   "metadata": {},
   "outputs": [],
   "source": [
    "# %reload_ext dotenv"
   ]
  },
  {
   "cell_type": "code",
   "execution_count": 297,
   "metadata": {
    "id": "8Cs-uJp3oW4C"
   },
   "outputs": [],
   "source": [
    "from py2neo import Graph, Node, Relationship\n",
    "\n",
    "g = Graph(f\"neo4j+s://{os.getenv('AURA_DOMAIN')}.databases.neo4j.io\", auth=(\"neo4j\", os.getenv('AURA_PWD')), routing=True)\n"
   ]
  },
  {
   "cell_type": "code",
   "execution_count": 113,
   "metadata": {},
   "outputs": [
    {
     "name": "stdout",
     "output_type": "stream",
     "text": [
      " n                                                                          \r\n",
      "----------------------------------------------------------------------------\r\n",
      " (_0:Tag {title: 'Array', uri: 'https://leetcode.com/tag/array'})           \r\n",
      " (_1:Tag {title: 'String', uri: 'https://leetcode.com/tag/string'})         \r\n",
      " (_2:Tag {title: 'Hash Table', uri: 'https://leetcode.com/tag/hash-table'}) \r\n",
      "\n"
     ]
    }
   ],
   "source": [
    "print(g.run(\"MATCH (n) RETURN n\"))"
   ]
  },
  {
   "cell_type": "code",
   "execution_count": 40,
   "metadata": {
    "id": "j0z0BE91x1Un"
   },
   "outputs": [],
   "source": [
    "# res = g.run(\"MATCH (n)-[r]-(n2) RETURN r\");\n",
    "# for r in res:\n",
    "#     print(r)"
   ]
  },
  {
   "cell_type": "code",
   "execution_count": 239,
   "metadata": {
    "id": "at8GZVyHl55N"
   },
   "outputs": [],
   "source": [
    "driver = webdriver.Chrome('chromedriver', options=options)"
   ]
  },
  {
   "cell_type": "code",
   "execution_count": 238,
   "metadata": {},
   "outputs": [],
   "source": [
    "driver.quit()"
   ]
  },
  {
   "cell_type": "code",
   "execution_count": 240,
   "metadata": {
    "id": "P1RJsmsFcezc"
   },
   "outputs": [],
   "source": [
    "# def login(driver):\n",
    "\n",
    "url = 'https://leetcode.com/accounts/login'\n",
    "driver.get(url)\n",
    "# WebDriverWait(driver, timeout=15).until(lambda x: x.find_element(By.XPATH, \"//div[@class = 'sign-in-container__3IFW']\").is_displayed())    \n",
    "btn = WebDriverWait(driver, 20).until(EC.element_to_be_clickable((By.ID,'signin_btn')))\n",
    "\n",
    "\n",
    "emailInput = driver.find_element(By.ID, 'id_login')\n",
    "passwordInput = driver.find_element(By.ID,'id_password')\n",
    "# loginButton = driver.find_element(By.ID,'signin_btn')\n",
    "emailInput.send_keys(os.getenv('LC_USERNAME'))\n",
    "passwordInput.send_keys(os.getenv('LC_PWD'))\n",
    "# loginButton.click()\n",
    "driver.execute_script(\"arguments[0].click();\", btn)\n",
    "\n",
    "\n",
    "#     finally:\n",
    "#         WebDriverWait(driver, timeout=5).until(lambda x: x.find_element(By.XPATH, \"//div[@role = 'table']\").is_displayed())"
   ]
  },
  {
   "cell_type": "code",
   "execution_count": null,
   "metadata": {},
   "outputs": [],
   "source": []
  },
  {
   "cell_type": "code",
   "execution_count": null,
   "metadata": {},
   "outputs": [],
   "source": []
  },
  {
   "cell_type": "code",
   "execution_count": null,
   "metadata": {},
   "outputs": [],
   "source": []
  },
  {
   "cell_type": "code",
   "execution_count": 36,
   "metadata": {
    "id": "JE0Pga-xcezd"
   },
   "outputs": [],
   "source": [
    "def problemsOnPage(page=1):\n",
    "    url = 'https://leetcode.com/problemset/all/'\n",
    "    if page!=1:\n",
    "      url = f\"https://leetcode.com/problemset/all/?page={page}\"\n",
    "    driver.get(url)\n",
    "\n",
    "    WebDriverWait(driver, timeout=5).until(lambda x: x.find_element(By.XPATH, \"//div[@role = 'table']\").is_displayed())\n",
    "\n",
    "    script = '''\n",
    "const rows = document.querySelectorAll(\"[role=rowgroup]\")[0].children;\n",
    "const problems = [];\n",
    "for (const row of rows) {\n",
    "  const problem = [], cols = row.children;\n",
    "\n",
    "  const link = cols[1].querySelector('a').href;\n",
    "\n",
    "  problem.push(link);\n",
    "  problem.push(cols[1].innerText.trim());\n",
    "  problem.push(cols[3].innerText.trim());\n",
    "  problem.push(cols[4].innerText.trim());\n",
    "\n",
    "  problems.push(problem);\n",
    "}\n",
    "return problems\n",
    "    '''\n",
    "    problemsData = driver.execute_script(script)\n",
    "    problems = list(problemsData)\n",
    "#     problems = pd.DataFrame(problemsData, columns = ['Link','Title','Acceptance','Difficulty'])\n",
    "    if page==1:\n",
    "        return problems[1:]\n",
    "    return problems"
   ]
  },
  {
   "cell_type": "code",
   "execution_count": 24,
   "metadata": {},
   "outputs": [
    {
     "data": {
      "text/plain": [
       "Node('Problem', acceptance='49.1%', difficulty='Easy', title='1. Two Sum', uri='https://leetcode.com/problems/two-sum/')"
      ]
     },
     "execution_count": 24,
     "metadata": {},
     "output_type": "execute_result"
    }
   ],
   "source": [
    "g.nodes.match(\"Problem\",uri='https://leetcode.com/problems/two-sum/').first()\n"
   ]
  },
  {
   "cell_type": "code",
   "execution_count": 37,
   "metadata": {
    "id": "BjWui68KT0Ky"
   },
   "outputs": [],
   "source": [
    "def create_node_from_row(uri, title, acceptance, difficulty):\n",
    "    if not g.nodes.match(\"Problem\",uri=uri).first():\n",
    "        n = Node(\"Problem\", uri=uri, title=title, acceptance=acceptance, difficulty=difficulty)\n",
    "        create_tx.create(n)"
   ]
  },
  {
   "cell_type": "code",
   "execution_count": 10,
   "metadata": {
    "collapsed": true
   },
   "outputs": [
    {
     "ename": "TimeoutException",
     "evalue": "Message: \nStacktrace:\n#0 0x55a6e1deded3 <unknown>\n#1 0x55a6e1bca698 <unknown>\n#2 0x55a6e1c06ada <unknown>\n#3 0x55a6e1c06cf1 <unknown>\n#4 0x55a6e1c42de4 <unknown>\n#5 0x55a6e1c2850d <unknown>\n#6 0x55a6e1c40940 <unknown>\n#7 0x55a6e1c283d3 <unknown>\n#8 0x55a6e1bf89ce <unknown>\n#9 0x55a6e1bf9d51 <unknown>\n#10 0x55a6e1e347c6 <unknown>\n#11 0x55a6e1e36d9e <unknown>\n#12 0x55a6e1e3759d <unknown>\n#13 0x55a6e1e1ddde <unknown>\n#14 0x55a6e1e37c8c <unknown>\n#15 0x55a6e1e11858 <unknown>\n#16 0x55a6e1e53488 <unknown>\n#17 0x55a6e1e53628 <unknown>\n#18 0x55a6e1e6dbf8 <unknown>\n#19 0x7fb229284609 <unknown>\n",
     "output_type": "error",
     "traceback": [
      "\u001b[0;31m---------------------------------------------------------------------------\u001b[0m",
      "\u001b[0;31mTimeoutException\u001b[0m                          Traceback (most recent call last)",
      "\u001b[0;32m/tmp/ipykernel_10452/978869477.py\u001b[0m in \u001b[0;36m<module>\u001b[0;34m\u001b[0m\n\u001b[1;32m      7\u001b[0m \u001b[0;34m\u001b[0m\u001b[0m\n\u001b[1;32m      8\u001b[0m \u001b[0;34m\u001b[0m\u001b[0m\n\u001b[0;32m----> 9\u001b[0;31m \u001b[0mjd\u001b[0m \u001b[0;34m=\u001b[0m \u001b[0mwait\u001b[0m\u001b[0;34m.\u001b[0m\u001b[0muntil\u001b[0m\u001b[0;34m(\u001b[0m\u001b[0mEC\u001b[0m\u001b[0;34m.\u001b[0m\u001b[0mpresence_of_element_located\u001b[0m\u001b[0;34m(\u001b[0m\u001b[0;34m(\u001b[0m\u001b[0mBy\u001b[0m\u001b[0;34m.\u001b[0m\u001b[0mXPATH\u001b[0m\u001b[0;34m,\u001b[0m \u001b[0;34m\"//div[contains(., 'Similar Questions')]\"\u001b[0m\u001b[0;34m)\u001b[0m\u001b[0;34m)\u001b[0m\u001b[0;34m)\u001b[0m\u001b[0;34m\u001b[0m\u001b[0;34m\u001b[0m\u001b[0m\n\u001b[0m\u001b[1;32m     10\u001b[0m \u001b[0mprint\u001b[0m\u001b[0;34m(\u001b[0m\u001b[0mjd\u001b[0m\u001b[0;34m)\u001b[0m\u001b[0;34m\u001b[0m\u001b[0;34m\u001b[0m\u001b[0m\n",
      "\u001b[0;32m~/.local/lib/python3.10/site-packages/selenium/webdriver/support/wait.py\u001b[0m in \u001b[0;36muntil\u001b[0;34m(self, method, message)\u001b[0m\n\u001b[1;32m     93\u001b[0m             \u001b[0;32mif\u001b[0m \u001b[0mtime\u001b[0m\u001b[0;34m.\u001b[0m\u001b[0mmonotonic\u001b[0m\u001b[0;34m(\u001b[0m\u001b[0;34m)\u001b[0m \u001b[0;34m>\u001b[0m \u001b[0mend_time\u001b[0m\u001b[0;34m:\u001b[0m\u001b[0;34m\u001b[0m\u001b[0;34m\u001b[0m\u001b[0m\n\u001b[1;32m     94\u001b[0m                 \u001b[0;32mbreak\u001b[0m\u001b[0;34m\u001b[0m\u001b[0;34m\u001b[0m\u001b[0m\n\u001b[0;32m---> 95\u001b[0;31m         \u001b[0;32mraise\u001b[0m \u001b[0mTimeoutException\u001b[0m\u001b[0;34m(\u001b[0m\u001b[0mmessage\u001b[0m\u001b[0;34m,\u001b[0m \u001b[0mscreen\u001b[0m\u001b[0;34m,\u001b[0m \u001b[0mstacktrace\u001b[0m\u001b[0;34m)\u001b[0m\u001b[0;34m\u001b[0m\u001b[0;34m\u001b[0m\u001b[0m\n\u001b[0m\u001b[1;32m     96\u001b[0m \u001b[0;34m\u001b[0m\u001b[0m\n\u001b[1;32m     97\u001b[0m     \u001b[0;32mdef\u001b[0m \u001b[0muntil_not\u001b[0m\u001b[0;34m(\u001b[0m\u001b[0mself\u001b[0m\u001b[0;34m,\u001b[0m \u001b[0mmethod\u001b[0m\u001b[0;34m,\u001b[0m \u001b[0mmessage\u001b[0m\u001b[0;34m:\u001b[0m \u001b[0mstr\u001b[0m \u001b[0;34m=\u001b[0m \u001b[0;34m\"\"\u001b[0m\u001b[0;34m)\u001b[0m\u001b[0;34m:\u001b[0m\u001b[0;34m\u001b[0m\u001b[0;34m\u001b[0m\u001b[0m\n",
      "\u001b[0;31mTimeoutException\u001b[0m: Message: \nStacktrace:\n#0 0x55a6e1deded3 <unknown>\n#1 0x55a6e1bca698 <unknown>\n#2 0x55a6e1c06ada <unknown>\n#3 0x55a6e1c06cf1 <unknown>\n#4 0x55a6e1c42de4 <unknown>\n#5 0x55a6e1c2850d <unknown>\n#6 0x55a6e1c40940 <unknown>\n#7 0x55a6e1c283d3 <unknown>\n#8 0x55a6e1bf89ce <unknown>\n#9 0x55a6e1bf9d51 <unknown>\n#10 0x55a6e1e347c6 <unknown>\n#11 0x55a6e1e36d9e <unknown>\n#12 0x55a6e1e3759d <unknown>\n#13 0x55a6e1e1ddde <unknown>\n#14 0x55a6e1e37c8c <unknown>\n#15 0x55a6e1e11858 <unknown>\n#16 0x55a6e1e53488 <unknown>\n#17 0x55a6e1e53628 <unknown>\n#18 0x55a6e1e6dbf8 <unknown>\n#19 0x7fb229284609 <unknown>\n"
     ]
    }
   ],
   "source": [
    "from selenium.webdriver.support import expected_conditions as EC\n",
    "\n",
    "driver.get('https://leetcode.com/problems/length-of-last-word/')\n",
    "# driver.get('https://leetcode.com/problems/two-sum')\n",
    "\n",
    "wait = WebDriverWait(driver, 5)\n",
    "jd = wait.until(EC.presence_of_element_located((By.XPATH, \"//div[contains(., 'Similar Questions')]\")))\n",
    "print(jd)"
   ]
  },
  {
   "cell_type": "code",
   "execution_count": 284,
   "metadata": {},
   "outputs": [],
   "source": [
    "def get_problem_info(url):\n",
    "    \n",
    "    driver.get(url)\n",
    "    WebDriverWait(driver, timeout=20).until(lambda x: x.find_element(By.XPATH, \"//div[@class = 'description__24sA']\").is_displayed())\n",
    "\n",
    "    try:\n",
    "        script = '''\n",
    "    const l = document.querySelector(\"div[class = 'description__24sA']\").children[5].children[1];\n",
    "    const elems = l.querySelectorAll('a');\n",
    "    const tags = [];\n",
    "\n",
    "    for (elem of elems) {\n",
    "        tags.push(elem.href);\n",
    "    }\n",
    "    return tags\n",
    "        '''\n",
    "        tagsData = driver.execute_script(script)\n",
    "            \n",
    "    except:\n",
    "        script = '''\n",
    "    const l = document.querySelector(\"div[class = 'description__24sA']\").children[4].children[1];\n",
    "    const elems = l.querySelectorAll('a');\n",
    "    const tags = [];\n",
    "\n",
    "    for (elem of elems) {\n",
    "        tags.push(elem.href);\n",
    "    }\n",
    "    return tags\n",
    "        '''\n",
    "        tagsData = driver.execute_script(script) \n",
    "        return list(tagsData), []\n",
    "    \n",
    "    \n",
    "    try:\n",
    "        driver.find_element(by=By.XPATH, value=\"//div[contains(., 'Similar Questions')]\")\n",
    " \n",
    "        script = '''\n",
    "    const l = document.querySelector(\"div[class = 'description__24sA']\").children[6].children[1];\n",
    "    const elems = l.querySelectorAll('a');\n",
    "    const tags = [];\n",
    "\n",
    "    for (elem of elems) {\n",
    "        tags.push(elem.href);\n",
    "    }\n",
    "    return tags\n",
    "                 '''\n",
    "        simsData = driver.execute_script(script)\n",
    "    except:\n",
    "        simsData = None\n",
    "    \n",
    "    \n",
    "    tags = list(tagsData)\n",
    "    sims = list(simsData) if simsData else []\n",
    "    \n",
    "\n",
    "    return tags, sims"
   ]
  },
  {
   "cell_type": "code",
   "execution_count": 350,
   "metadata": {},
   "outputs": [
    {
     "data": {
      "text/plain": [
       "Node('Problem', acceptance='48.3%', difficulty='Hard', title='23. Merge k Sorted Lists', uri='https://leetcode.com/problems/merge-k-sorted-lists/')"
      ]
     },
     "execution_count": 350,
     "metadata": {},
     "output_type": "execute_result"
    }
   ],
   "source": [
    "p = g.nodes.match(\"Problem\",uri = 'https://leetcode.com/problems/merge-k-sorted-lists/').first()\n",
    "p"
   ]
  },
  {
   "cell_type": "code",
   "execution_count": 352,
   "metadata": {},
   "outputs": [
    {
     "data": {
      "text/plain": [
       "Node('Problem', acceptance='40.7%', difficulty='Easy', title='20. Valid Parentheses', uri='https://leetcode.com/problems/valid-parentheses/')"
      ]
     },
     "execution_count": 352,
     "metadata": {},
     "output_type": "execute_result"
    }
   ],
   "source": [
    "sp = g.nodes.match(\"Problem\",uri = 'https://leetcode.com/problems/valid-parentheses/').first()\n",
    "sp"
   ]
  },
  {
   "cell_type": "code",
   "execution_count": 355,
   "metadata": {},
   "outputs": [
    {
     "data": {
      "text/plain": [
       "Node('Problem', acceptance='61.8%', difficulty='Easy', title='21. Merge Two Sorted Lists', uri='https://leetcode.com/problems/merge-two-sorted-lists/')"
      ]
     },
     "execution_count": 355,
     "metadata": {},
     "output_type": "execute_result"
    }
   ],
   "source": [
    "sp = g.nodes.match(\"Problem\",uri = 'https://leetcode.com/problems/merge-two-sorted-lists/').first()\n",
    "sp"
   ]
  },
  {
   "cell_type": "code",
   "execution_count": 356,
   "metadata": {},
   "outputs": [
    {
     "data": {
      "text/plain": [
       "[SIMILAR_TO(Node('Problem', acceptance='48.3%', difficulty='Hard', title='23. Merge k Sorted Lists', uri='https://leetcode.com/problems/merge-k-sorted-lists/'), Node('Problem', acceptance='61.8%', difficulty='Easy', title='21. Merge Two Sorted Lists', uri='https://leetcode.com/problems/merge-two-sorted-lists/'))]"
      ]
     },
     "execution_count": 356,
     "metadata": {},
     "output_type": "execute_result"
    }
   ],
   "source": [
    "g.match((p, sp), r_type=\"SIMILAR_TO\").all()"
   ]
  },
  {
   "cell_type": "code",
   "execution_count": 358,
   "metadata": {},
   "outputs": [
    {
     "data": {
      "text/plain": [
       "[SIMILAR_TO(Node('Problem', acceptance='61.8%', difficulty='Easy', title='21. Merge Two Sorted Lists', uri='https://leetcode.com/problems/merge-two-sorted-lists/'), Node('Problem', acceptance='48.3%', difficulty='Hard', title='23. Merge k Sorted Lists', uri='https://leetcode.com/problems/merge-k-sorted-lists/'))]"
      ]
     },
     "execution_count": 358,
     "metadata": {},
     "output_type": "execute_result"
    }
   ],
   "source": [
    "g.match((sp, p), r_type=\"SIMILAR_TO\").all()"
   ]
  },
  {
   "cell_type": "code",
   "execution_count": 357,
   "metadata": {},
   "outputs": [
    {
     "data": {
      "text/plain": [
       "1"
      ]
     },
     "execution_count": 357,
     "metadata": {},
     "output_type": "execute_result"
    }
   ],
   "source": [
    "len(g.match((p, sp), r_type=\"SIMILAR_TO\").all())"
   ]
  },
  {
   "cell_type": "code",
   "execution_count": 334,
   "metadata": {},
   "outputs": [],
   "source": [
    "if len(g.match((p, sp), r_type=\"SIMILAR_TO\").all()) == 0:\n",
    "    pp = Relationship(p, 'SIMILAR_TO', sp)\n",
    "    g.create(pp)"
   ]
  },
  {
   "cell_type": "code",
   "execution_count": 391,
   "metadata": {},
   "outputs": [],
   "source": [
    "def get_problem_info_and_commit(url):\n",
    "    \n",
    "    driver.get(url)\n",
    "    WebDriverWait(driver, timeout=20).until(lambda x: x.find_element(By.XPATH, \"//div[@class = 'description__24sA']\").is_displayed())\n",
    "    tagsData, simsData = None, None\n",
    "    \n",
    "    try:\n",
    "        script = '''\n",
    "    const l = document.querySelector(\"div[class = 'description__24sA']\").children[5].children[1];\n",
    "    const elems = l.querySelectorAll('a');\n",
    "    const tags = [];\n",
    "\n",
    "    for (elem of elems) {\n",
    "        tags.push(elem.href);\n",
    "    }\n",
    "    return tags\n",
    "        '''\n",
    "        tagsData = driver.execute_script(script)\n",
    "        \n",
    "        try:\n",
    "            driver.find_element(by=By.XPATH, value=\"//div[contains(., 'Similar Questions')]\")\n",
    "\n",
    "            script = '''\n",
    "        const l = document.querySelector(\"div[class = 'description__24sA']\").children[6].children[1];\n",
    "        const elems = l.querySelectorAll('a');\n",
    "        const tags = [];\n",
    "\n",
    "        for (elem of elems) {\n",
    "            tags.push(elem.href);\n",
    "        }\n",
    "        return tags\n",
    "                     '''\n",
    "            simsData = driver.execute_script(script)\n",
    "        except:\n",
    "            pass\n",
    "            \n",
    "    except:\n",
    "        print(f'{url} only has tags')\n",
    "        script = '''\n",
    "    const l = document.querySelector(\"div[class = 'description__24sA']\").children[4].children[1];\n",
    "    const elems = l.querySelectorAll('a');\n",
    "    const tags = [];\n",
    "\n",
    "    for (elem of elems) {\n",
    "        tags.push(elem.href);\n",
    "    }\n",
    "    return tags\n",
    "        '''\n",
    "        tagsData = driver.execute_script(script) \n",
    "    \n",
    "    \n",
    "    \n",
    "    tags = list(tagsData) if tagsData else []\n",
    "    sims = list(simsData) if simsData else []\n",
    "    \n",
    "\n",
    "    p = g.nodes.match(\"Problem\",uri = url).first()\n",
    "\n",
    "    try:\n",
    "        for tag_url in tags:\n",
    "    #         print(tag_url)\n",
    "            t = g.nodes.match(\"Tag\",uri=tag_url[:-1]).first()\n",
    "            print(t)\n",
    "            if len(g.match((p, t), r_type=\"BELONGS_TO\").all()) == 0:\n",
    "                print(\"to be added\")\n",
    "                pt = Relationship(p, 'BELONGS_TO', t)\n",
    "                g.create(pt)\n",
    "                print(\"added\")\n",
    "\n",
    "        for sim_url in sims:\n",
    "    #             print(sim_url)\n",
    "            sp = g.nodes.match(\"Problem\",uri=sim_url).first()\n",
    "            print(sp)\n",
    "            if len(g.match((p, sp), r_type=\"SIMILAR_TO\").all()) == 0 and len(g.match((sp, p), r_type=\"SIMILAR_TO\").all()) == 0:\n",
    "                print(\"to be added\")\n",
    "\n",
    "                pp = Relationship(p, 'SIMILAR_TO', sp)\n",
    "                g.create(pp)\n",
    "                print(\"added\")\n",
    "\n",
    "                \n",
    "    except Exception as e: \n",
    "        print(e)\n",
    "        print(f\"Something went wrong with py2neo processing for {url}\")\n",
    "        new_urls.append(url)"
   ]
  },
  {
   "cell_type": "code",
   "execution_count": 339,
   "metadata": {},
   "outputs": [
    {
     "name": "stdout",
     "output_type": "stream",
     "text": [
      "(_77:Tag {title: 'Linked List', uri: 'https://leetcode.com/tag/linked-list'})\n",
      "add\n",
      "(_81:Tag {title: 'Recursion', uri: 'https://leetcode.com/tag/recursion'})\n",
      "add\n"
     ]
    }
   ],
   "source": [
    "for tag_url in tags:\n",
    "    \n",
    "    t = g.nodes.match(\"Tag\",uri=tag_url[:-1]).first()\n",
    "    print(t)\n",
    "    if not g.match((p, t), r_type=\"BELONGS_TO\").first():\n",
    "        print(\"add\")\n",
    "        pt = Relationship(p, 'BELONGS_TO', t)\n",
    "        g.create(pt)"
   ]
  },
  {
   "cell_type": "code",
   "execution_count": null,
   "metadata": {},
   "outputs": [],
   "source": [
    "for sim_url in sims:\n",
    "#             print(sim_url)\n",
    "    sp = g.nodes.match(\"Problem\",uri=sim_url).first()\n",
    "    if not g.match((p, sp), r_type=\"SIMILAR_TO\").first() and not g.match((sp, p), r_type=\"SIMILAR_TO\").first():\n",
    "        g.merge(SIMILAR_TO(p, sp))"
   ]
  },
  {
   "cell_type": "code",
   "execution_count": 348,
   "metadata": {},
   "outputs": [],
   "source": [
    "get_problem_info_and_commit('https://leetcode.com/problems/merge-k-sorted-lists/')"
   ]
  },
  {
   "cell_type": "markdown",
   "metadata": {},
   "source": [
    "### Run"
   ]
  },
  {
   "cell_type": "code",
   "execution_count": 367,
   "metadata": {},
   "outputs": [
    {
     "data": {
      "text/plain": [
       "146"
      ]
     },
     "execution_count": 367,
     "metadata": {},
     "output_type": "execute_result"
    }
   ],
   "source": [
    "len(url_again)"
   ]
  },
  {
   "cell_type": "code",
   "execution_count": 364,
   "metadata": {},
   "outputs": [
    {
     "name": "stdout",
     "output_type": "stream",
     "text": [
      "2\n",
      "Problem https://leetcode.com/problems/largest-rectangle-in-histogram/ encountered problem\n",
      "Problem https://leetcode.com/problems/merge-sorted-array/ encountered problem\n",
      "Problem https://leetcode.com/problems/gray-code/ encountered problem\n",
      "Problems on page 2 linked\n",
      "3\n",
      "Problem https://leetcode.com/problems/palindrome-partitioning/ encountered problem\n",
      "Problem https://leetcode.com/problems/binary-tree-preorder-traversal/ encountered problem\n",
      "Problem https://leetcode.com/problems/binary-tree-postorder-traversal/ encountered problem\n",
      "Problem https://leetcode.com/problems/lru-cache/ encountered problem\n",
      "Problem https://leetcode.com/problems/evaluate-reverse-polish-notation/ encountered problem\n",
      "Problems on page 3 linked\n",
      "4\n",
      "Problems on page 4 linked\n",
      "5\n",
      "Problem https://leetcode.com/problems/different-ways-to-add-parentheses/ encountered problem\n",
      "Problems on page 5 linked\n",
      "6\n",
      "Problem https://leetcode.com/problems/nim-game/ encountered problem\n",
      "Problem https://leetcode.com/problems/best-meeting-point/ encountered problem\n",
      "Problem https://leetcode.com/problems/serialize-and-deserialize-binary-tree/ encountered problem\n",
      "Problem https://leetcode.com/problems/binary-tree-longest-consecutive-sequence/ encountered problem\n",
      "Problems on page 6 linked\n",
      "7\n",
      "Problem https://leetcode.com/problems/reverse-string/ encountered problem\n",
      "Problem https://leetcode.com/problems/top-k-frequent-elements/ encountered problem\n",
      "Problem https://leetcode.com/problems/intersection-of-two-arrays/ encountered problem\n",
      "Problems on page 7 linked\n",
      "8\n",
      "Problems on page 8 linked\n",
      "9\n",
      "Problem https://leetcode.com/problems/encode-n-ary-tree-to-binary-tree/ encountered problem\n",
      "Problem https://leetcode.com/problems/non-overlapping-intervals/ encountered problem\n",
      "Problem https://leetcode.com/problems/k-th-smallest-in-lexicographical-order/ encountered problem\n",
      "Problems on page 9 linked\n",
      "10\n",
      "Problem https://leetcode.com/problems/max-consecutive-ones/ encountered problem\n",
      "Problem https://leetcode.com/problems/reverse-pairs/ encountered problem\n",
      "Problems on page 10 linked\n",
      "11\n",
      "Problem https://leetcode.com/problems/reverse-string-ii/ encountered problem\n",
      "Problem https://leetcode.com/problems/01-matrix/ encountered problem\n",
      "Problem https://leetcode.com/problems/number-of-provinces/ encountered problem\n",
      "Problems on page 11 linked\n",
      "12\n",
      "Problem https://leetcode.com/problems/erect-the-fence/ encountered problem\n",
      "Problem https://leetcode.com/problems/design-in-memory-file-system/ encountered problem\n",
      "Problem https://leetcode.com/problems/fraction-addition-and-subtraction/ encountered problem\n",
      "Problem https://leetcode.com/problems/minimum-index-sum-of-two-lists/ encountered problem\n",
      "Problems on page 12 linked\n",
      "13\n",
      "Problem https://leetcode.com/problems/average-of-levels-in-binary-tree/ encountered problem\n",
      "Problem https://leetcode.com/problems/set-mismatch/ encountered problem\n",
      "Problem https://leetcode.com/problems/replace-words/ encountered problem\n",
      "Problems on page 13 linked\n",
      "14\n",
      "Problem https://leetcode.com/problems/redundant-connection/ encountered problem\n",
      "Problem https://leetcode.com/problems/employee-importance/ encountered problem\n",
      "Problem https://leetcode.com/problems/number-of-distinct-islands/ encountered problem\n",
      "Problems on page 14 linked\n",
      "15\n",
      "Problem https://leetcode.com/problems/my-calendar-ii/ encountered problem\n",
      "Problem https://leetcode.com/problems/flood-fill/ encountered problem\n",
      "Problem https://leetcode.com/problems/sentence-similarity/ encountered problem\n",
      "Problem https://leetcode.com/problems/delete-and-earn/ encountered problem\n",
      "Problem https://leetcode.com/problems/cherry-pickup/ encountered problem\n",
      "Problem https://leetcode.com/problems/find-smallest-letter-greater-than-target/ encountered problem\n",
      "Problem https://leetcode.com/problems/min-cost-climbing-stairs/ encountered problem\n",
      "Problems on page 15 linked\n",
      "16\n",
      "Problem https://leetcode.com/problems/k-th-smallest-prime-fraction/ encountered problem\n",
      "Problem https://leetcode.com/problems/cheapest-flights-within-k-stops/ encountered problem\n",
      "Problem https://leetcode.com/problems/valid-tic-tac-toe-state/ encountered problem\n",
      "Problem https://leetcode.com/problems/champagne-tower/ encountered problem\n",
      "Problems on page 16 linked\n",
      "17\n",
      "Problem https://leetcode.com/problems/split-array-into-fibonacci-sequence/ encountered problem\n",
      "Problems on page 17 linked\n",
      "18\n",
      "Problem https://leetcode.com/problems/spiral-matrix-iii/ encountered problem\n",
      "Problem https://leetcode.com/problems/super-egg-drop/ encountered problem\n",
      "Problem https://leetcode.com/problems/bitwise-ors-of-subarrays/ encountered problem\n",
      "Problems on page 18 linked\n",
      "19\n",
      "Problem https://leetcode.com/problems/minimum-falling-path-sum/ encountered problem\n",
      "Problem https://leetcode.com/problems/beautiful-array/ encountered problem\n",
      "Problem https://leetcode.com/problems/distinct-subsequences-ii/ encountered problem\n",
      "Problem https://leetcode.com/problems/valid-mountain-array/ encountered problem\n",
      "Problem https://leetcode.com/problems/largest-time-for-given-digits/ encountered problem\n",
      "Problems on page 19 linked\n",
      "20\n",
      "Problem https://leetcode.com/problems/broken-calculator/ encountered problem\n",
      "Problem https://leetcode.com/problems/rotting-oranges/ encountered problem\n",
      "Problem https://leetcode.com/problems/available-captures-for-rook/ encountered problem\n",
      "Problems on page 20 linked\n",
      "21\n",
      "Problem https://leetcode.com/problems/remove-all-adjacent-duplicates-in-string/ encountered problem\n",
      "Problem https://leetcode.com/problems/last-stone-weight-ii/ encountered problem\n",
      "Problems on page 21 linked\n",
      "22\n",
      "Problem https://leetcode.com/problems/brace-expansion/ encountered problem\n",
      "Problem https://leetcode.com/problems/two-sum-less-than-k/ encountered problem\n",
      "Problems on page 22 linked\n",
      "23\n",
      "Problems on page 23 linked\n",
      "24\n",
      "Problem https://leetcode.com/problems/distance-between-bus-stops/ encountered problem\n",
      "Problem https://leetcode.com/problems/monthly-transactions-i/ encountered problem\n",
      "Problem https://leetcode.com/problems/minimum-absolute-difference/ encountered problem\n",
      "Problems on page 24 linked\n",
      "25\n",
      "Problems on page 25 linked\n",
      "26\n",
      "Problem https://leetcode.com/problems/maximum-number-of-occurrences-of-a-substring/ encountered problem\n",
      "Problems on page 26 linked\n",
      "27\n",
      "Problem https://leetcode.com/problems/find-the-city-with-the-smallest-number-of-neighbors-at-a-threshold-distance/ encountered problem\n",
      "Problem https://leetcode.com/problems/number-of-transactions-per-visit/ encountered problem\n",
      "Problem https://leetcode.com/problems/jump-game-iv/ encountered problem\n",
      "Problem https://leetcode.com/problems/tweet-counts-per-frequency/ encountered problem\n",
      "Problems on page 27 linked\n",
      "28\n",
      "Problems on page 28 linked\n",
      "29\n",
      "Problem https://leetcode.com/problems/count-triplets-that-can-form-two-arrays-of-equal-xor/ encountered problem\n",
      "Problems on page 29 linked\n",
      "30\n",
      "Problem https://leetcode.com/problems/group-sold-products-by-the-date/ encountered problem\n",
      "Problem https://leetcode.com/problems/clone-binary-tree-with-random-pointer/ encountered problem\n",
      "Problems on page 30 linked\n",
      "31\n",
      "Problem https://leetcode.com/problems/the-most-recent-three-orders/ encountered problem\n",
      "Problem https://leetcode.com/problems/find-the-index-of-the-large-integer/ encountered problem\n",
      "Problem https://leetcode.com/problems/count-good-triplets/ encountered problem\n",
      "Problem https://leetcode.com/problems/get-the-maximum-score/ encountered problem\n",
      "Problem https://leetcode.com/problems/make-the-string-great/ encountered problem\n",
      "Problem https://leetcode.com/problems/the-most-recent-orders-for-each-product/ encountered problem\n",
      "Problems on page 31 linked\n",
      "32\n",
      "Problem https://leetcode.com/problems/customer-who-visited-but-did-not-make-any-transactions/ encountered problem\n",
      "Problem https://leetcode.com/problems/throne-inheritance/ encountered problem\n",
      "Problems on page 32 linked\n",
      "33\n",
      "Problem https://leetcode.com/problems/percentage-of-users-attended-a-contest/ encountered problem\n",
      "Problem https://leetcode.com/problems/create-sorted-array-through-instructions/ encountered problem\n",
      "Problems on page 33 linked\n",
      "34\n",
      "Problem https://leetcode.com/problems/stone-game-vii/ encountered problem\n",
      "Problem https://leetcode.com/problems/daily-leads-and-partners/ encountered problem\n",
      "Problems on page 34 linked\n",
      "35\n",
      "Problems on page 35 linked\n",
      "36\n",
      "Problem https://leetcode.com/problems/number-of-restricted-paths-from-first-to-last-node/ encountered problem\n"
     ]
    },
    {
     "name": "stdout",
     "output_type": "stream",
     "text": [
      "Problems on page 36 linked\n",
      "37\n",
      "Problem https://leetcode.com/problems/frequency-of-the-most-frequent-element/ encountered problem\n",
      "Problem https://leetcode.com/problems/next-palindrome-using-same-digits/ encountered problem\n",
      "Problem https://leetcode.com/problems/replace-all-digits-with-characters/ encountered problem\n",
      "Problem https://leetcode.com/problems/minimum-adjacent-swaps-to-reach-the-kth-smallest-number/ encountered problem\n",
      "Problems on page 37 linked\n",
      "38\n",
      "Problem https://leetcode.com/problems/process-tasks-using-servers/ encountered problem\n",
      "Problem https://leetcode.com/problems/maximum-number-of-removable-characters/ encountered problem\n",
      "Problems on page 38 linked\n",
      "39\n",
      "Problem https://leetcode.com/problems/painting-a-grid-with-three-different-colors/ encountered problem\n",
      "Problem https://leetcode.com/problems/check-if-string-is-decomposable-into-value-equal-substrings/ encountered problem\n",
      "Problem https://leetcode.com/problems/add-minimum-number-of-rungs/ encountered problem\n",
      "Problem https://leetcode.com/problems/maximum-genetic-difference-query/ encountered problem\n",
      "Problem https://leetcode.com/problems/users-that-actively-request-confirmation-messages/ encountered problem\n",
      "Problem https://leetcode.com/problems/number-of-visible-people-in-a-queue/ encountered problem\n",
      "Problems on page 39 linked\n",
      "40\n",
      "Problem https://leetcode.com/problems/number-of-unique-good-subsequences/ encountered problem\n",
      "Problem https://leetcode.com/problems/maximum-number-of-people-that-can-be-caught-in-tag/ encountered problem\n",
      "Problems on page 40 linked\n",
      "41\n",
      "Problem https://leetcode.com/problems/stock-price-fluctuation/ encountered problem\n",
      "Problem https://leetcode.com/problems/the-time-when-the-network-becomes-idle/ encountered problem\n",
      "Problem https://leetcode.com/problems/check-if-numbers-are-ascending-in-a-sentence/ encountered problem\n",
      "Problem https://leetcode.com/problems/count-number-of-maximum-bitwise-or-subsets/ encountered problem\n",
      "Problem https://leetcode.com/problems/second-minimum-time-to-reach-destination/ encountered problem\n",
      "Problem https://leetcode.com/problems/parallel-courses-iii/ encountered problem\n",
      "Problems on page 41 linked\n",
      "42\n",
      "Problem https://leetcode.com/problems/substrings-that-begin-and-end-with-the-same-letter/ encountered problem\n",
      "Problem https://leetcode.com/problems/minimum-cost-to-reach-city-with-discounts/ encountered problem\n",
      "Problem https://leetcode.com/problems/step-by-step-directions-from-a-binary-tree-node-to-another/ encountered problem\n",
      "Problem https://leetcode.com/problems/subsequence-of-size-k-with-the-largest-even-sum/ encountered problem\n",
      "Problems on page 42 linked\n",
      "43\n",
      "Problem https://leetcode.com/problems/longest-palindrome-by-concatenating-two-letter-words/ encountered problem\n",
      "Problem https://leetcode.com/problems/minimum-swaps-to-group-all-1s-together-ii/ encountered problem\n",
      "Problem https://leetcode.com/problems/solving-questions-with-brainpower/ encountered problem\n",
      "Problem https://leetcode.com/problems/maximum-running-time-of-n-computers/ encountered problem\n",
      "Problem https://leetcode.com/problems/minimum-cost-of-buying-candies-with-discount/ encountered problem\n",
      "Problem https://leetcode.com/problems/k-highest-ranked-items-within-a-price-range/ encountered problem\n",
      "Problem https://leetcode.com/problems/count-elements-with-strictly-smaller-and-greater-elements/ encountered problem\n",
      "Problems on page 43 linked\n",
      "44\n",
      "Problem https://leetcode.com/problems/construct-string-with-repeat-limit/ encountered problem\n",
      "Problem https://leetcode.com/problems/minimum-time-to-finish-the-race/ encountered problem\n",
      "Problem https://leetcode.com/problems/number-of-ways-to-build-house-of-cards/ encountered problem\n",
      "Problem https://leetcode.com/problems/most-frequent-number-following-key-in-an-array/ encountered problem\n",
      "Problem https://leetcode.com/problems/append-k-integers-with-minimal-sum/ encountered problem\n",
      "Problem https://leetcode.com/problems/find-all-k-distant-indices-in-an-array/ encountered problem\n",
      "Problems on page 44 linked\n",
      "45\n",
      "Problem https://leetcode.com/problems/count-positions-on-street-with-required-brightness/ encountered problem\n",
      "Problem https://leetcode.com/problems/design-an-atm-machine/ encountered problem\n",
      "Problem https://leetcode.com/problems/maximum-trailing-zeros-in-a-cornered-path/ encountered problem\n",
      "Problem https://leetcode.com/problems/maximum-cost-of-trip-with-k-highways/ encountered problem\n",
      "Problem https://leetcode.com/problems/intersection-of-multiple-arrays/ encountered problem\n",
      "Problems on page 45 linked\n",
      "46\n",
      "Problem https://leetcode.com/problems/check-if-number-has-equal-digit-count-and-digit-value/ encountered problem\n",
      "Problem https://leetcode.com/problems/steps-to-make-array-non-decreasing/ encountered problem\n",
      "Problem https://leetcode.com/problems/minimum-obstacle-removal-to-reach-corner/ encountered problem\n",
      "Problem https://leetcode.com/problems/maximum-profit-from-trading-stocks/ encountered problem\n",
      "Problem https://leetcode.com/problems/min-max-game/ encountered problem\n",
      "Problem https://leetcode.com/problems/strong-password-checker-ii/ encountered problem\n",
      "Problems on page 46 linked\n",
      "47\n",
      "Problem https://leetcode.com/problems/minimum-sum-of-squared-difference/ encountered problem\n",
      "Problem https://leetcode.com/problems/minimum-amount-of-time-to-fill-cups/ encountered problem\n",
      "Problem https://leetcode.com/problems/smallest-number-in-infinite-set/ encountered problem\n",
      "Problems on page 47 linked\n",
      "48\n",
      "Problem https://leetcode.com/problems/shifting-letters-ii/ encountered problem\n",
      "Problem https://leetcode.com/problems/amount-of-time-for-binary-tree-to-be-infected/ encountered problem\n",
      "Problem https://leetcode.com/problems/longest-subsequence-with-limited-sum/ encountered problem\n",
      "Problem https://leetcode.com/problems/check-distances-between-same-letters/ encountered problem\n",
      "Problem https://leetcode.com/problems/number-of-ways-to-reach-a-position-after-exactly-k-steps/ encountered problem\n",
      "Problems on page 48 linked\n",
      "49\n",
      "Problem https://leetcode.com/problems/using-a-robot-to-print-the-lexicographically-smallest-string/ encountered problem\n",
      "Problem https://leetcode.com/problems/minimum-split-into-subarrays-with-gcd-greater-than-one/ encountered problem\n",
      "Problem https://leetcode.com/problems/minimize-maximum-of-array/ encountered problem\n",
      "Problem https://leetcode.com/problems/count-number-of-distinct-integers-after-reverse-operations/ encountered problem\n",
      "Problem https://leetcode.com/problems/number-of-subarrays-with-gcd-equal-to-k/ encountered problem\n",
      "Problems on page 49 linked\n",
      "50\n",
      "Problems on page 50 linked\n"
     ]
    }
   ],
   "source": [
    "# for page_num in range(1,2):\n",
    "for page_num in range(2, PAGE_CNT+1):\n",
    "    print(page_num)\n",
    "\n",
    "    df = pd.read_csv(f'problem_p{page_num}.csv', usecols=[1,2,3,4])\n",
    "    probs = df.values.tolist()\n",
    "    \n",
    "    for prob in probs[30:]:\n",
    "        url = prob[0]\n",
    "        try:\n",
    "#             tags, sims = get_problem_info(url)\n",
    "#             find_and_commit(url, tags, sims)\n",
    "            get_problem_info_and_commit(url)\n",
    "        except:\n",
    "            url_again.append(url)\n",
    "            print(f\"Problem {url} encountered problem\")\n",
    "        \n",
    "    \n",
    "    print(f\"Problems on page {page_num} linked\")"
   ]
  },
  {
   "cell_type": "code",
   "execution_count": 365,
   "metadata": {},
   "outputs": [],
   "source": [
    "import pickle\n",
    "\n",
    "with open('caught.pkl', 'wb') as f:\n",
    "    pickle.dump(url_again, f)"
   ]
  },
  {
   "cell_type": "code",
   "execution_count": 365,
   "metadata": {},
   "outputs": [],
   "source": [
    "with open('new_caught.pkl', 'wb') as f:\n",
    "    pickle.dump(new_urls, f)"
   ]
  },
  {
   "cell_type": "code",
   "execution_count": 379,
   "metadata": {},
   "outputs": [],
   "source": [
    "url_again = new_urls"
   ]
  },
  {
   "cell_type": "code",
   "execution_count": null,
   "metadata": {},
   "outputs": [],
   "source": [
    "new_urls = []"
   ]
  },
  {
   "cell_type": "code",
   "execution_count": 392,
   "metadata": {},
   "outputs": [
    {
     "name": "stdout",
     "output_type": "stream",
     "text": [
      "(_1:Tag {title: 'String', uri: 'https://leetcode.com/tag/string'})\n",
      "to be added\n",
      "added\n",
      "(_3:Tag {title: 'Dynamic Programming', uri: 'https://leetcode.com/tag/dynamic-programming'})\n",
      "to be added\n",
      "added\n",
      "(_73:Tag {title: 'Backtracking', uri: 'https://leetcode.com/tag/backtracking'})\n",
      "to be added\n",
      "added\n",
      "(_203:Problem {acceptance: '33.6%', difficulty: 'Hard', title: '132. Palindrome Partitioning II', uri: 'https://leetcode.com/problems/palindrome-partitioning-ii/'})\n",
      "(_1715:Problem {acceptance: '46.0%', difficulty: 'Hard', title: '1745. Palindrome Partitioning IV', uri: 'https://leetcode.com/problems/palindrome-partitioning-iv/'})\n",
      "(_2442:Problem {acceptance: '36.4%', difficulty: 'Hard', title: '2472. Maximum Number of Non-overlapping Palindrome Substrings', uri: 'https://leetcode.com/problems/maximum-number-of-non-overlapping-palindrome-substrings/'})\n",
      "to be added\n",
      "added\n",
      "None\n",
      "to be added\n",
      "'NoneType' object has no attribute 'labels'\n",
      "Something went wrong with py2neo processing for https://leetcode.com/problems/intersection-of-two-arrays/\n",
      "https://leetcode.com/problems/encode-n-ary-tree-to-binary-tree/ only has tags\n",
      "None\n",
      "to be added\n",
      "'NoneType' object has no attribute 'labels'\n",
      "Something went wrong with py2neo processing for https://leetcode.com/problems/encode-n-ary-tree-to-binary-tree/\n",
      "None\n",
      "to be added\n",
      "'NoneType' object has no attribute 'labels'\n",
      "Something went wrong with py2neo processing for https://leetcode.com/problems/design-in-memory-file-system/\n",
      "(_0:Tag {title: 'Array', uri: 'https://leetcode.com/tag/array'})\n",
      "to be added\n",
      "added\n",
      "(_2:Tag {title: 'Hash Table', uri: 'https://leetcode.com/tag/hash-table'})\n",
      "to be added\n",
      "added\n",
      "(_1:Tag {title: 'String', uri: 'https://leetcode.com/tag/string'})\n",
      "to be added\n",
      "added\n",
      "(_82:Tag {title: 'Trie', uri: 'https://leetcode.com/tag/trie'})\n",
      "to be added\n",
      "added\n",
      "(_279:Problem {acceptance: '61.0%', difficulty: 'Medium', title: '208. Implement Trie (Prefix Tree)', uri: 'https://leetcode.com/problems/implement-trie-prefix-tree/'})\n",
      "to be added\n",
      "added\n"
     ]
    },
    {
     "data": {
      "text/plain": [
       "['https://leetcode.com/problems/intersection-of-two-arrays/',\n",
       " 'https://leetcode.com/problems/encode-n-ary-tree-to-binary-tree/',\n",
       " 'https://leetcode.com/problems/design-in-memory-file-system/']"
      ]
     },
     "execution_count": 392,
     "metadata": {},
     "output_type": "execute_result"
    }
   ],
   "source": [
    "for url in url_again[:5]:\n",
    "    try:\n",
    "        get_problem_info_and_commit(url)\n",
    "    except:\n",
    "        new_urls.append(url)\n",
    "        print(f\"Problem {url} encountered problem\")\n",
    "        \n",
    "new_urls"
   ]
  },
  {
   "cell_type": "code",
   "execution_count": 377,
   "metadata": {},
   "outputs": [
    {
     "data": {
      "text/plain": [
       "43"
      ]
     },
     "execution_count": 377,
     "metadata": {},
     "output_type": "execute_result"
    }
   ],
   "source": [
    "len(new_urls)"
   ]
  },
  {
   "cell_type": "code",
   "execution_count": 389,
   "metadata": {},
   "outputs": [
    {
     "data": {
      "text/plain": [
       "['https://leetcode.com/problems/palindrome-partitioning/',\n",
       " 'https://leetcode.com/problems/intersection-of-two-arrays/',\n",
       " 'https://leetcode.com/problems/encode-n-ary-tree-to-binary-tree/',\n",
       " 'https://leetcode.com/problems/design-in-memory-file-system/',\n",
       " 'https://leetcode.com/problems/replace-words/',\n",
       " 'https://leetcode.com/problems/redundant-connection/',\n",
       " 'https://leetcode.com/problems/find-smallest-letter-greater-than-target/',\n",
       " 'https://leetcode.com/problems/cheapest-flights-within-k-stops/',\n",
       " 'https://leetcode.com/problems/spiral-matrix-iii/',\n",
       " 'https://leetcode.com/problems/rotting-oranges/',\n",
       " 'https://leetcode.com/problems/available-captures-for-rook/',\n",
       " 'https://leetcode.com/problems/distance-between-bus-stops/',\n",
       " 'https://leetcode.com/problems/jump-game-iv/',\n",
       " 'https://leetcode.com/problems/the-most-recent-three-orders/',\n",
       " 'https://leetcode.com/problems/the-most-recent-orders-for-each-product/',\n",
       " 'https://leetcode.com/problems/customer-who-visited-but-did-not-make-any-transactions/',\n",
       " 'https://leetcode.com/problems/throne-inheritance/',\n",
       " 'https://leetcode.com/problems/percentage-of-users-attended-a-contest/',\n",
       " 'https://leetcode.com/problems/daily-leads-and-partners/',\n",
       " 'https://leetcode.com/problems/replace-all-digits-with-characters/',\n",
       " 'https://leetcode.com/problems/minimum-adjacent-swaps-to-reach-the-kth-smallest-number/',\n",
       " 'https://leetcode.com/problems/add-minimum-number-of-rungs/',\n",
       " 'https://leetcode.com/problems/number-of-unique-good-subsequences/',\n",
       " 'https://leetcode.com/problems/the-time-when-the-network-becomes-idle/',\n",
       " 'https://leetcode.com/problems/check-if-numbers-are-ascending-in-a-sentence/',\n",
       " 'https://leetcode.com/problems/count-number-of-maximum-bitwise-or-subsets/',\n",
       " 'https://leetcode.com/problems/second-minimum-time-to-reach-destination/',\n",
       " 'https://leetcode.com/problems/substrings-that-begin-and-end-with-the-same-letter/',\n",
       " 'https://leetcode.com/problems/solving-questions-with-brainpower/',\n",
       " 'https://leetcode.com/problems/minimum-cost-of-buying-candies-with-discount/',\n",
       " 'https://leetcode.com/problems/count-elements-with-strictly-smaller-and-greater-elements/',\n",
       " 'https://leetcode.com/problems/construct-string-with-repeat-limit/',\n",
       " 'https://leetcode.com/problems/maximum-profit-from-trading-stocks/',\n",
       " 'https://leetcode.com/problems/min-max-game/',\n",
       " 'https://leetcode.com/problems/strong-password-checker-ii/',\n",
       " 'https://leetcode.com/problems/minimum-amount-of-time-to-fill-cups/',\n",
       " 'https://leetcode.com/problems/shifting-letters-ii/',\n",
       " 'https://leetcode.com/problems/longest-subsequence-with-limited-sum/',\n",
       " 'https://leetcode.com/problems/check-distances-between-same-letters/',\n",
       " 'https://leetcode.com/problems/number-of-ways-to-reach-a-position-after-exactly-k-steps/',\n",
       " 'https://leetcode.com/problems/minimum-split-into-subarrays-with-gcd-greater-than-one/',\n",
       " 'https://leetcode.com/problems/minimize-maximum-of-array/',\n",
       " 'https://leetcode.com/problems/number-of-subarrays-with-gcd-equal-to-k/']"
      ]
     },
     "execution_count": 389,
     "metadata": {},
     "output_type": "execute_result"
    }
   ],
   "source": [
    "new_urls"
   ]
  },
  {
   "cell_type": "markdown",
   "metadata": {},
   "source": [
    "### Debug"
   ]
  },
  {
   "cell_type": "code",
   "execution_count": 380,
   "metadata": {},
   "outputs": [],
   "source": [
    "url = 'https://leetcode.com/problems/largest-rectangle-in-histogram/'"
   ]
  },
  {
   "cell_type": "code",
   "execution_count": 381,
   "metadata": {},
   "outputs": [
    {
     "data": {
      "text/plain": [
       "True"
      ]
     },
     "execution_count": 381,
     "metadata": {},
     "output_type": "execute_result"
    }
   ],
   "source": [
    "driver.get(url)\n",
    "WebDriverWait(driver, timeout=20).until(lambda x: x.find_element(By.XPATH, \"//div[@class = 'description__24sA']\").is_displayed())"
   ]
  },
  {
   "cell_type": "code",
   "execution_count": 382,
   "metadata": {},
   "outputs": [],
   "source": [
    "tagsData, simsData = None, None\n",
    "\n",
    "try:\n",
    "    script = '''\n",
    "const l = document.querySelector(\"div[class = 'description__24sA']\").children[5].children[1];\n",
    "const elems = l.querySelectorAll('a');\n",
    "const tags = [];\n",
    "\n",
    "for (elem of elems) {\n",
    "    tags.push(elem.href);\n",
    "}\n",
    "return tags\n",
    "    '''\n",
    "    tagsData = driver.execute_script(script)\n",
    "\n",
    "    try:\n",
    "        driver.find_element(by=By.XPATH, value=\"//div[contains(., 'Similar Questions')]\")\n",
    "\n",
    "        script = '''\n",
    "    const l = document.querySelector(\"div[class = 'description__24sA']\").children[6].children[1];\n",
    "    const elems = l.querySelectorAll('a');\n",
    "    const tags = [];\n",
    "\n",
    "    for (elem of elems) {\n",
    "        tags.push(elem.href);\n",
    "    }\n",
    "    return tags\n",
    "                 '''\n",
    "        simsData = driver.execute_script(script)\n",
    "    except:\n",
    "        pass\n",
    "\n",
    "except:\n",
    "    script = '''\n",
    "const l = document.querySelector(\"div[class = 'description__24sA']\").children[4].children[1];\n",
    "const elems = l.querySelectorAll('a');\n",
    "const tags = [];\n",
    "\n",
    "for (elem of elems) {\n",
    "    tags.push(elem.href);\n",
    "}\n",
    "return tags\n",
    "    '''\n",
    "    tagsData = driver.execute_script(script) \n",
    "\n",
    "\n",
    "\n",
    "tags = list(tagsData) if tagsData else []\n",
    "sims = list(simsData) if simsData else []"
   ]
  },
  {
   "cell_type": "code",
   "execution_count": 383,
   "metadata": {},
   "outputs": [
    {
     "data": {
      "text/plain": [
       "(['https://leetcode.com/tag/array/',\n",
       "  'https://leetcode.com/tag/stack/',\n",
       "  'https://leetcode.com/tag/monotonic-stack/'],\n",
       " ['https://leetcode.com/problems/maximal-rectangle/',\n",
       "  'https://leetcode.com/problems/maximum-score-of-a-good-subarray/'])"
      ]
     },
     "execution_count": 383,
     "metadata": {},
     "output_type": "execute_result"
    }
   ],
   "source": [
    "tags, sims"
   ]
  },
  {
   "cell_type": "code",
   "execution_count": 386,
   "metadata": {},
   "outputs": [
    {
     "data": {
      "text/plain": [
       "Node('Problem', acceptance='42.2%', difficulty='Hard', title='84. Largest Rectangle in Histogram', uri='https://leetcode.com/problems/largest-rectangle-in-histogram/')"
      ]
     },
     "execution_count": 386,
     "metadata": {},
     "output_type": "execute_result"
    }
   ],
   "source": [
    "p = g.nodes.match(\"Problem\",uri = url).first()\n",
    "p"
   ]
  },
  {
   "cell_type": "code",
   "execution_count": 387,
   "metadata": {},
   "outputs": [
    {
     "data": {
      "text/plain": [
       "0"
      ]
     },
     "execution_count": 387,
     "metadata": {},
     "output_type": "execute_result"
    }
   ],
   "source": [
    "len(g.match((p, t), r_type=\"BELONGS_TO\").all())"
   ]
  },
  {
   "cell_type": "code",
   "execution_count": 388,
   "metadata": {},
   "outputs": [
    {
     "name": "stdout",
     "output_type": "stream",
     "text": [
      "https://leetcode.com/tag/array/\n",
      "(_0:Tag {title: 'Array', uri: 'https://leetcode.com/tag/array'})\n",
      "add\n",
      "https://leetcode.com/tag/stack/\n",
      "(_67:Tag {title: 'Stack', uri: 'https://leetcode.com/tag/stack'})\n",
      "add\n",
      "https://leetcode.com/tag/monotonic-stack/\n",
      "(_79:Tag {title: 'Monotonic Stack', uri: 'https://leetcode.com/tag/monotonic-stack'})\n",
      "add\n"
     ]
    }
   ],
   "source": [
    "for tag_url in tags:\n",
    "    print(tag_url)\n",
    "    t = g.nodes.match(\"Tag\",uri=tag_url[:-1]).first()\n",
    "    print(t)\n",
    "    if len(g.match((p, t), r_type=\"BELONGS_TO\").all()) == 0:\n",
    "        print(\"add\")\n",
    "        pt = Relationship(p, 'BELONGS_TO', t)\n",
    "        g.create(pt)"
   ]
  },
  {
   "cell_type": "code",
   "execution_count": 313,
   "metadata": {},
   "outputs": [
    {
     "name": "stdout",
     "output_type": "stream",
     "text": [
      "(_77:Tag {title: 'Linked List', uri: 'https://leetcode.com/tag/linked-list'})\n",
      "(_31)-[:BELONGS_TO {}]->(_77)\n",
      "(_81:Tag {title: 'Recursion', uri: 'https://leetcode.com/tag/recursion'})\n",
      "(_31)-[:BELONGS_TO {}]->(_81)\n"
     ]
    }
   ],
   "source": [
    "for tag_url in tags:\n",
    "#         print(tag_url)\n",
    "    t = g.nodes.match(\"Tag\",uri=tag_url[:-1]).first()\n",
    "    print(t)\n",
    "    if not g.match((p, t), r_type=\"BELONGS_TO\").first():\n",
    "        pt = Relationship(p, 'BELONGS_TO', t)\n",
    "        print(pt)\n",
    "        g.create(pt)"
   ]
  },
  {
   "cell_type": "code",
   "execution_count": 347,
   "metadata": {},
   "outputs": [],
   "source": [
    "for sim_url in sims:\n",
    "#             print(sim_url)\n",
    "    sp = g.nodes.match(\"Problem\",uri=sim_url).first()\n",
    "    if len(g.match((p, sp), r_type=\"SIMILAR_TO\").all()) == 0:\n",
    "        pp = Relationship(p, 'SIMILAR_TO', sp)\n",
    "        g.create(pp)"
   ]
  },
  {
   "cell_type": "code",
   "execution_count": 314,
   "metadata": {},
   "outputs": [
    {
     "name": "stdout",
     "output_type": "stream",
     "text": [
      "(_33:Problem {acceptance: '48.3%', difficulty: 'Hard', title: '23. Merge k Sorted Lists', uri: 'https://leetcode.com/problems/merge-k-sorted-lists/'})\n",
      "(_159:Problem {acceptance: '45.8%', difficulty: 'Easy', title: '88. Merge Sorted Array', uri: 'https://leetcode.com/problems/merge-sorted-array/'})\n",
      "(_219:Problem {acceptance: '54.3%', difficulty: 'Medium', title: '148. Sort List', uri: 'https://leetcode.com/problems/sort-list/'})\n",
      "(_315:Problem {acceptance: '60.7%', difficulty: 'Medium', title: '244. Shortest Word Distance II', uri: 'https://leetcode.com/problems/shortest-word-distance-ii/'})\n",
      "(_1604:Problem {acceptance: '53.6%', difficulty: 'Medium', title: '1634. Add Two Polynomials Represented as Linked Lists', uri: 'https://leetcode.com/problems/add-two-polynomials-represented-as-linked-lists/'})\n",
      "(_1910:Problem {acceptance: '79.3%', difficulty: 'Medium', title: '1940. Longest Common Subsequence Between Sorted Arrays', uri: 'https://leetcode.com/problems/longest-common-subsequence-between-sorted-arrays/'})\n"
     ]
    }
   ],
   "source": [
    "for sim_url in sims:\n",
    "#             print(sim_url)\n",
    "    sp = g.nodes.match(\"Problem\",uri=sim_url).first()\n",
    "    print(sp)\n",
    "    if not g.match((p, sp), r_type=\"SIMILAR_TO\").first():\n",
    "        pp = Relationship(p, 'SIMILAR_TO', sp)\n",
    "        g.create(pp)"
   ]
  },
  {
   "cell_type": "code",
   "execution_count": 104,
   "metadata": {
    "collapsed": true
   },
   "outputs": [
    {
     "data": {
      "text/plain": [
       "(['https://leetcode.com/tag/array/', 'https://leetcode.com/tag/hash-table/'],\n",
       " ['https://leetcode.com/problems/3sum/',\n",
       "  'https://leetcode.com/problems/4sum/',\n",
       "  'https://leetcode.com/problems/two-sum-ii-input-array-is-sorted/',\n",
       "  'https://leetcode.com/problems/two-sum-iii-data-structure-design/',\n",
       "  'https://leetcode.com/problems/subarray-sum-equals-k/',\n",
       "  'https://leetcode.com/problems/two-sum-iv-input-is-a-bst/',\n",
       "  'https://leetcode.com/problems/two-sum-less-than-k/',\n",
       "  'https://leetcode.com/problems/max-number-of-k-sum-pairs/',\n",
       "  'https://leetcode.com/problems/count-good-meals/',\n",
       "  'https://leetcode.com/problems/count-number-of-pairs-with-absolute-difference-k/',\n",
       "  'https://leetcode.com/problems/number-of-pairs-of-strings-with-concatenation-equal-to-target/',\n",
       "  'https://leetcode.com/problems/find-all-k-distant-indices-in-an-array/',\n",
       "  'https://leetcode.com/problems/first-letter-to-appear-twice/',\n",
       "  'https://leetcode.com/problems/number-of-excellent-pairs/',\n",
       "  'https://leetcode.com/problems/number-of-arithmetic-triplets/',\n",
       "  'https://leetcode.com/problems/node-with-highest-edge-score/',\n",
       "  'https://leetcode.com/problems/check-distances-between-same-letters/',\n",
       "  'https://leetcode.com/problems/find-subarrays-with-equal-sum/',\n",
       "  'https://leetcode.com/problems/largest-positive-integer-that-exists-with-its-negative/',\n",
       "  'https://leetcode.com/problems/number-of-distinct-averages/'])"
      ]
     },
     "execution_count": 104,
     "metadata": {},
     "output_type": "execute_result"
    }
   ],
   "source": [
    "get_problem_info('https://leetcode.com/problems/two-sum')"
   ]
  },
  {
   "cell_type": "code",
   "execution_count": 56,
   "metadata": {
    "collapsed": true
   },
   "outputs": [
    {
     "data": {
      "text/plain": [
       "(['https://leetcode.com/tag/two-pointers/',\n",
       "  'https://leetcode.com/tag/string/'],\n",
       " [])"
      ]
     },
     "execution_count": 56,
     "metadata": {},
     "output_type": "execute_result"
    }
   ],
   "source": [
    "get_problem_info('https://leetcode.com/problems/compare-version-numbers/')"
   ]
  },
  {
   "cell_type": "code",
   "execution_count": 30,
   "metadata": {},
   "outputs": [
    {
     "data": {
      "text/plain": [
       "Node('Tag', title='Array', uri='https://leetcode.com/tag/array')"
      ]
     },
     "execution_count": 30,
     "metadata": {},
     "output_type": "execute_result"
    }
   ],
   "source": [
    "g.nodes.match(\"Tag\",uri='https://leetcode.com/tag/array').first()"
   ]
  },
  {
   "cell_type": "code",
   "execution_count": 29,
   "metadata": {},
   "outputs": [
    {
     "data": {
      "text/plain": [
       "Node('Problem', acceptance='49.1%', difficulty='Easy', title='1. Two Sum', uri='https://leetcode.com/problems/two-sum/')"
      ]
     },
     "execution_count": 29,
     "metadata": {},
     "output_type": "execute_result"
    }
   ],
   "source": [
    "p = g.nodes.match(\"Problem\",uri='https://leetcode.com/problems/two-sum/').first()\n",
    "p"
   ]
  },
  {
   "cell_type": "markdown",
   "metadata": {},
   "source": [
    "### Run!"
   ]
  },
  {
   "cell_type": "code",
   "execution_count": 228,
   "metadata": {},
   "outputs": [],
   "source": [
    "BELONGS_TO = Relationship.type(\"BELONGS_TO\")\n",
    "SIMILAR_TO = Relationship.type(\"SIMILAR_TO\")"
   ]
  },
  {
   "cell_type": "code",
   "execution_count": 27,
   "metadata": {},
   "outputs": [],
   "source": []
  },
  {
   "cell_type": "code",
   "execution_count": 269,
   "metadata": {},
   "outputs": [],
   "source": [
    "def find_and_commit(p_url, tags, sims):\n",
    "#     print(p_url, tags, sims)\n",
    "    p = g.nodes.match(\"Problem\",uri = p_url).first()\n",
    "\n",
    "    for tag_url in tags:\n",
    "#         print(tag_url)\n",
    "        t = g.nodes.match(\"Tag\",uri=tag_url[:-1]).first()\n",
    "        if not g.match((p, t), r_type=\"BELONGS_TO\").first():\n",
    "            g.merge(BELONGS_TO(p, t))\n",
    "    if sims:\n",
    "        for sim_url in sims:\n",
    "#             print(sim_url)\n",
    "            sp = g.nodes.match(\"Problem\",uri=sim_url).first()\n",
    "            if not g.match((p, sp), r_type=\"SIMILAR_TO\").first() and not g.match((sp, p), r_type=\"SIMILAR_TO\").first():\n",
    "                g.merge(SIMILAR_TO(p, sp))\n"
   ]
  },
  {
   "cell_type": "code",
   "execution_count": 126,
   "metadata": {
    "id": "AmiQnaUtUSOz"
   },
   "outputs": [],
   "source": [
    "PAGE_CNT = 50"
   ]
  },
  {
   "cell_type": "code",
   "execution_count": 88,
   "metadata": {
    "collapsed": true
   },
   "outputs": [
    {
     "name": "stdout",
     "output_type": "stream",
     "text": [
      "Page 3 started..\n",
      "Got problem list...\n"
     ]
    },
    {
     "name": "stderr",
     "output_type": "stream",
     "text": [
      "/tmp/ipykernel_242839/761596935.py:12: DeprecationWarning: The transaction.commit() method is deprecated, use graph.commit(transaction) instead\n",
      "  create_tx.commit()\n"
     ]
    },
    {
     "name": "stdout",
     "output_type": "stream",
     "text": [
      "Page 3 problems committed..\n",
      "Page 4 started..\n",
      "Got problem list...\n"
     ]
    },
    {
     "name": "stderr",
     "output_type": "stream",
     "text": [
      "/tmp/ipykernel_242839/761596935.py:12: DeprecationWarning: The transaction.commit() method is deprecated, use graph.commit(transaction) instead\n",
      "  create_tx.commit()\n"
     ]
    },
    {
     "name": "stdout",
     "output_type": "stream",
     "text": [
      "Page 4 problems committed..\n",
      "Page 5 started..\n",
      "Got problem list...\n"
     ]
    },
    {
     "name": "stderr",
     "output_type": "stream",
     "text": [
      "/tmp/ipykernel_242839/761596935.py:12: DeprecationWarning: The transaction.commit() method is deprecated, use graph.commit(transaction) instead\n",
      "  create_tx.commit()\n"
     ]
    },
    {
     "name": "stdout",
     "output_type": "stream",
     "text": [
      "Page 5 problems committed..\n",
      "Page 6 started..\n",
      "Got problem list...\n"
     ]
    },
    {
     "name": "stderr",
     "output_type": "stream",
     "text": [
      "/tmp/ipykernel_242839/761596935.py:12: DeprecationWarning: The transaction.commit() method is deprecated, use graph.commit(transaction) instead\n",
      "  create_tx.commit()\n"
     ]
    },
    {
     "name": "stdout",
     "output_type": "stream",
     "text": [
      "Page 6 problems committed..\n",
      "Page 7 started..\n",
      "Got problem list...\n"
     ]
    },
    {
     "name": "stderr",
     "output_type": "stream",
     "text": [
      "/tmp/ipykernel_242839/761596935.py:12: DeprecationWarning: The transaction.commit() method is deprecated, use graph.commit(transaction) instead\n",
      "  create_tx.commit()\n"
     ]
    },
    {
     "name": "stdout",
     "output_type": "stream",
     "text": [
      "Page 7 problems committed..\n",
      "Page 8 started..\n",
      "Got problem list...\n"
     ]
    },
    {
     "name": "stderr",
     "output_type": "stream",
     "text": [
      "/tmp/ipykernel_242839/761596935.py:12: DeprecationWarning: The transaction.commit() method is deprecated, use graph.commit(transaction) instead\n",
      "  create_tx.commit()\n"
     ]
    },
    {
     "name": "stdout",
     "output_type": "stream",
     "text": [
      "Page 8 problems committed..\n",
      "Page 9 started..\n",
      "Got problem list...\n"
     ]
    },
    {
     "name": "stderr",
     "output_type": "stream",
     "text": [
      "/tmp/ipykernel_242839/761596935.py:12: DeprecationWarning: The transaction.commit() method is deprecated, use graph.commit(transaction) instead\n",
      "  create_tx.commit()\n"
     ]
    },
    {
     "name": "stdout",
     "output_type": "stream",
     "text": [
      "Page 9 problems committed..\n",
      "Page 10 started..\n",
      "Got problem list...\n"
     ]
    },
    {
     "name": "stderr",
     "output_type": "stream",
     "text": [
      "/tmp/ipykernel_242839/761596935.py:12: DeprecationWarning: The transaction.commit() method is deprecated, use graph.commit(transaction) instead\n",
      "  create_tx.commit()\n"
     ]
    },
    {
     "name": "stdout",
     "output_type": "stream",
     "text": [
      "Page 10 problems committed..\n",
      "Page 11 started..\n",
      "Got problem list...\n"
     ]
    },
    {
     "name": "stderr",
     "output_type": "stream",
     "text": [
      "/tmp/ipykernel_242839/761596935.py:12: DeprecationWarning: The transaction.commit() method is deprecated, use graph.commit(transaction) instead\n",
      "  create_tx.commit()\n"
     ]
    },
    {
     "name": "stdout",
     "output_type": "stream",
     "text": [
      "Page 11 problems committed..\n",
      "Page 12 started..\n",
      "Got problem list...\n"
     ]
    },
    {
     "name": "stderr",
     "output_type": "stream",
     "text": [
      "/tmp/ipykernel_242839/761596935.py:12: DeprecationWarning: The transaction.commit() method is deprecated, use graph.commit(transaction) instead\n",
      "  create_tx.commit()\n"
     ]
    },
    {
     "name": "stdout",
     "output_type": "stream",
     "text": [
      "Page 12 problems committed..\n",
      "Page 13 started..\n",
      "Got problem list...\n"
     ]
    },
    {
     "name": "stderr",
     "output_type": "stream",
     "text": [
      "/tmp/ipykernel_242839/761596935.py:12: DeprecationWarning: The transaction.commit() method is deprecated, use graph.commit(transaction) instead\n",
      "  create_tx.commit()\n"
     ]
    },
    {
     "name": "stdout",
     "output_type": "stream",
     "text": [
      "Page 13 problems committed..\n",
      "Page 14 started..\n",
      "Got problem list...\n"
     ]
    },
    {
     "name": "stderr",
     "output_type": "stream",
     "text": [
      "/tmp/ipykernel_242839/761596935.py:12: DeprecationWarning: The transaction.commit() method is deprecated, use graph.commit(transaction) instead\n",
      "  create_tx.commit()\n"
     ]
    },
    {
     "name": "stdout",
     "output_type": "stream",
     "text": [
      "Page 14 problems committed..\n",
      "Page 15 started..\n",
      "Got problem list...\n"
     ]
    },
    {
     "name": "stderr",
     "output_type": "stream",
     "text": [
      "/tmp/ipykernel_242839/761596935.py:12: DeprecationWarning: The transaction.commit() method is deprecated, use graph.commit(transaction) instead\n",
      "  create_tx.commit()\n"
     ]
    },
    {
     "name": "stdout",
     "output_type": "stream",
     "text": [
      "Page 15 problems committed..\n",
      "Page 16 started..\n",
      "Got problem list...\n"
     ]
    },
    {
     "name": "stderr",
     "output_type": "stream",
     "text": [
      "/tmp/ipykernel_242839/761596935.py:12: DeprecationWarning: The transaction.commit() method is deprecated, use graph.commit(transaction) instead\n",
      "  create_tx.commit()\n"
     ]
    },
    {
     "name": "stdout",
     "output_type": "stream",
     "text": [
      "Page 16 problems committed..\n",
      "Page 17 started..\n",
      "Got problem list...\n"
     ]
    },
    {
     "name": "stderr",
     "output_type": "stream",
     "text": [
      "/tmp/ipykernel_242839/761596935.py:12: DeprecationWarning: The transaction.commit() method is deprecated, use graph.commit(transaction) instead\n",
      "  create_tx.commit()\n"
     ]
    },
    {
     "name": "stdout",
     "output_type": "stream",
     "text": [
      "Page 17 problems committed..\n",
      "Page 18 started..\n",
      "Got problem list...\n"
     ]
    },
    {
     "name": "stderr",
     "output_type": "stream",
     "text": [
      "/tmp/ipykernel_242839/761596935.py:12: DeprecationWarning: The transaction.commit() method is deprecated, use graph.commit(transaction) instead\n",
      "  create_tx.commit()\n"
     ]
    },
    {
     "name": "stdout",
     "output_type": "stream",
     "text": [
      "Page 18 problems committed..\n",
      "Page 19 started..\n",
      "Got problem list...\n"
     ]
    },
    {
     "name": "stderr",
     "output_type": "stream",
     "text": [
      "/tmp/ipykernel_242839/761596935.py:12: DeprecationWarning: The transaction.commit() method is deprecated, use graph.commit(transaction) instead\n",
      "  create_tx.commit()\n"
     ]
    },
    {
     "name": "stdout",
     "output_type": "stream",
     "text": [
      "Page 19 problems committed..\n",
      "Page 20 started..\n",
      "Got problem list...\n"
     ]
    },
    {
     "name": "stderr",
     "output_type": "stream",
     "text": [
      "/tmp/ipykernel_242839/761596935.py:12: DeprecationWarning: The transaction.commit() method is deprecated, use graph.commit(transaction) instead\n",
      "  create_tx.commit()\n"
     ]
    },
    {
     "name": "stdout",
     "output_type": "stream",
     "text": [
      "Page 20 problems committed..\n",
      "Page 21 started..\n",
      "Got problem list...\n"
     ]
    },
    {
     "name": "stderr",
     "output_type": "stream",
     "text": [
      "/tmp/ipykernel_242839/761596935.py:12: DeprecationWarning: The transaction.commit() method is deprecated, use graph.commit(transaction) instead\n",
      "  create_tx.commit()\n"
     ]
    },
    {
     "name": "stdout",
     "output_type": "stream",
     "text": [
      "Page 21 problems committed..\n",
      "Page 22 started..\n",
      "Got problem list...\n"
     ]
    },
    {
     "name": "stderr",
     "output_type": "stream",
     "text": [
      "/tmp/ipykernel_242839/761596935.py:12: DeprecationWarning: The transaction.commit() method is deprecated, use graph.commit(transaction) instead\n",
      "  create_tx.commit()\n"
     ]
    },
    {
     "name": "stdout",
     "output_type": "stream",
     "text": [
      "Page 22 problems committed..\n",
      "Page 23 started..\n",
      "Got problem list...\n"
     ]
    },
    {
     "name": "stderr",
     "output_type": "stream",
     "text": [
      "/tmp/ipykernel_242839/761596935.py:12: DeprecationWarning: The transaction.commit() method is deprecated, use graph.commit(transaction) instead\n",
      "  create_tx.commit()\n"
     ]
    },
    {
     "name": "stdout",
     "output_type": "stream",
     "text": [
      "Page 23 problems committed..\n",
      "Page 24 started..\n",
      "Got problem list...\n"
     ]
    },
    {
     "name": "stderr",
     "output_type": "stream",
     "text": [
      "/tmp/ipykernel_242839/761596935.py:12: DeprecationWarning: The transaction.commit() method is deprecated, use graph.commit(transaction) instead\n",
      "  create_tx.commit()\n"
     ]
    },
    {
     "name": "stdout",
     "output_type": "stream",
     "text": [
      "Page 24 problems committed..\n",
      "Page 25 started..\n",
      "Got problem list...\n"
     ]
    },
    {
     "name": "stderr",
     "output_type": "stream",
     "text": [
      "/tmp/ipykernel_242839/761596935.py:12: DeprecationWarning: The transaction.commit() method is deprecated, use graph.commit(transaction) instead\n",
      "  create_tx.commit()\n"
     ]
    },
    {
     "name": "stdout",
     "output_type": "stream",
     "text": [
      "Page 25 problems committed..\n",
      "Page 26 started..\n",
      "Got problem list...\n"
     ]
    },
    {
     "name": "stderr",
     "output_type": "stream",
     "text": [
      "/tmp/ipykernel_242839/761596935.py:12: DeprecationWarning: The transaction.commit() method is deprecated, use graph.commit(transaction) instead\n",
      "  create_tx.commit()\n"
     ]
    },
    {
     "name": "stdout",
     "output_type": "stream",
     "text": [
      "Page 26 problems committed..\n",
      "Page 27 started..\n",
      "Got problem list...\n"
     ]
    },
    {
     "name": "stderr",
     "output_type": "stream",
     "text": [
      "/tmp/ipykernel_242839/761596935.py:12: DeprecationWarning: The transaction.commit() method is deprecated, use graph.commit(transaction) instead\n",
      "  create_tx.commit()\n"
     ]
    },
    {
     "name": "stdout",
     "output_type": "stream",
     "text": [
      "Page 27 problems committed..\n",
      "Page 28 started..\n",
      "Got problem list...\n"
     ]
    },
    {
     "name": "stderr",
     "output_type": "stream",
     "text": [
      "/tmp/ipykernel_242839/761596935.py:12: DeprecationWarning: The transaction.commit() method is deprecated, use graph.commit(transaction) instead\n",
      "  create_tx.commit()\n"
     ]
    },
    {
     "name": "stdout",
     "output_type": "stream",
     "text": [
      "Page 28 problems committed..\n",
      "Page 29 started..\n",
      "Got problem list...\n"
     ]
    },
    {
     "name": "stderr",
     "output_type": "stream",
     "text": [
      "/tmp/ipykernel_242839/761596935.py:12: DeprecationWarning: The transaction.commit() method is deprecated, use graph.commit(transaction) instead\n",
      "  create_tx.commit()\n"
     ]
    },
    {
     "name": "stdout",
     "output_type": "stream",
     "text": [
      "Page 29 problems committed..\n",
      "Page 30 started..\n",
      "Got problem list...\n"
     ]
    },
    {
     "name": "stderr",
     "output_type": "stream",
     "text": [
      "/tmp/ipykernel_242839/761596935.py:12: DeprecationWarning: The transaction.commit() method is deprecated, use graph.commit(transaction) instead\n",
      "  create_tx.commit()\n"
     ]
    },
    {
     "name": "stdout",
     "output_type": "stream",
     "text": [
      "Page 30 problems committed..\n",
      "Page 31 started..\n",
      "Got problem list...\n"
     ]
    },
    {
     "name": "stderr",
     "output_type": "stream",
     "text": [
      "/tmp/ipykernel_242839/761596935.py:12: DeprecationWarning: The transaction.commit() method is deprecated, use graph.commit(transaction) instead\n",
      "  create_tx.commit()\n"
     ]
    },
    {
     "name": "stdout",
     "output_type": "stream",
     "text": [
      "Page 31 problems committed..\n",
      "Page 32 started..\n",
      "Got problem list...\n"
     ]
    },
    {
     "name": "stderr",
     "output_type": "stream",
     "text": [
      "/tmp/ipykernel_242839/761596935.py:12: DeprecationWarning: The transaction.commit() method is deprecated, use graph.commit(transaction) instead\n",
      "  create_tx.commit()\n"
     ]
    },
    {
     "name": "stdout",
     "output_type": "stream",
     "text": [
      "Page 32 problems committed..\n",
      "Page 33 started..\n",
      "Got problem list...\n"
     ]
    },
    {
     "name": "stderr",
     "output_type": "stream",
     "text": [
      "/tmp/ipykernel_242839/761596935.py:12: DeprecationWarning: The transaction.commit() method is deprecated, use graph.commit(transaction) instead\n",
      "  create_tx.commit()\n"
     ]
    },
    {
     "name": "stdout",
     "output_type": "stream",
     "text": [
      "Page 33 problems committed..\n",
      "Page 34 started..\n",
      "Got problem list...\n"
     ]
    },
    {
     "name": "stderr",
     "output_type": "stream",
     "text": [
      "/tmp/ipykernel_242839/761596935.py:12: DeprecationWarning: The transaction.commit() method is deprecated, use graph.commit(transaction) instead\n",
      "  create_tx.commit()\n"
     ]
    },
    {
     "name": "stdout",
     "output_type": "stream",
     "text": [
      "Page 34 problems committed..\n",
      "Page 35 started..\n",
      "Got problem list...\n"
     ]
    },
    {
     "name": "stderr",
     "output_type": "stream",
     "text": [
      "/tmp/ipykernel_242839/761596935.py:12: DeprecationWarning: The transaction.commit() method is deprecated, use graph.commit(transaction) instead\n",
      "  create_tx.commit()\n"
     ]
    },
    {
     "name": "stdout",
     "output_type": "stream",
     "text": [
      "Page 35 problems committed..\n",
      "Page 36 started..\n",
      "Got problem list...\n"
     ]
    },
    {
     "name": "stderr",
     "output_type": "stream",
     "text": [
      "/tmp/ipykernel_242839/761596935.py:12: DeprecationWarning: The transaction.commit() method is deprecated, use graph.commit(transaction) instead\n",
      "  create_tx.commit()\n"
     ]
    },
    {
     "name": "stdout",
     "output_type": "stream",
     "text": [
      "Page 36 problems committed..\n",
      "Page 37 started..\n",
      "Got problem list...\n"
     ]
    },
    {
     "name": "stderr",
     "output_type": "stream",
     "text": [
      "/tmp/ipykernel_242839/761596935.py:12: DeprecationWarning: The transaction.commit() method is deprecated, use graph.commit(transaction) instead\n",
      "  create_tx.commit()\n"
     ]
    },
    {
     "name": "stdout",
     "output_type": "stream",
     "text": [
      "Page 37 problems committed..\n",
      "Page 38 started..\n",
      "Got problem list...\n"
     ]
    },
    {
     "name": "stderr",
     "output_type": "stream",
     "text": [
      "/tmp/ipykernel_242839/761596935.py:12: DeprecationWarning: The transaction.commit() method is deprecated, use graph.commit(transaction) instead\n",
      "  create_tx.commit()\n"
     ]
    },
    {
     "name": "stdout",
     "output_type": "stream",
     "text": [
      "Page 38 problems committed..\n",
      "Page 39 started..\n",
      "Got problem list...\n"
     ]
    },
    {
     "name": "stderr",
     "output_type": "stream",
     "text": [
      "/tmp/ipykernel_242839/761596935.py:12: DeprecationWarning: The transaction.commit() method is deprecated, use graph.commit(transaction) instead\n",
      "  create_tx.commit()\n"
     ]
    },
    {
     "name": "stdout",
     "output_type": "stream",
     "text": [
      "Page 39 problems committed..\n",
      "Page 40 started..\n",
      "Got problem list...\n"
     ]
    },
    {
     "name": "stderr",
     "output_type": "stream",
     "text": [
      "/tmp/ipykernel_242839/761596935.py:12: DeprecationWarning: The transaction.commit() method is deprecated, use graph.commit(transaction) instead\n",
      "  create_tx.commit()\n"
     ]
    },
    {
     "name": "stdout",
     "output_type": "stream",
     "text": [
      "Page 40 problems committed..\n",
      "Page 41 started..\n",
      "Got problem list...\n"
     ]
    },
    {
     "name": "stderr",
     "output_type": "stream",
     "text": [
      "/tmp/ipykernel_242839/761596935.py:12: DeprecationWarning: The transaction.commit() method is deprecated, use graph.commit(transaction) instead\n",
      "  create_tx.commit()\n"
     ]
    },
    {
     "name": "stdout",
     "output_type": "stream",
     "text": [
      "Page 41 problems committed..\n",
      "Page 42 started..\n",
      "Got problem list...\n"
     ]
    },
    {
     "name": "stderr",
     "output_type": "stream",
     "text": [
      "/tmp/ipykernel_242839/761596935.py:12: DeprecationWarning: The transaction.commit() method is deprecated, use graph.commit(transaction) instead\n",
      "  create_tx.commit()\n"
     ]
    },
    {
     "name": "stdout",
     "output_type": "stream",
     "text": [
      "Page 42 problems committed..\n",
      "Page 43 started..\n",
      "Got problem list...\n"
     ]
    },
    {
     "name": "stderr",
     "output_type": "stream",
     "text": [
      "/tmp/ipykernel_242839/761596935.py:12: DeprecationWarning: The transaction.commit() method is deprecated, use graph.commit(transaction) instead\n",
      "  create_tx.commit()\n"
     ]
    },
    {
     "name": "stdout",
     "output_type": "stream",
     "text": [
      "Page 43 problems committed..\n",
      "Page 44 started..\n",
      "Got problem list...\n"
     ]
    },
    {
     "name": "stderr",
     "output_type": "stream",
     "text": [
      "/tmp/ipykernel_242839/761596935.py:12: DeprecationWarning: The transaction.commit() method is deprecated, use graph.commit(transaction) instead\n",
      "  create_tx.commit()\n"
     ]
    },
    {
     "name": "stdout",
     "output_type": "stream",
     "text": [
      "Page 44 problems committed..\n",
      "Page 45 started..\n",
      "Got problem list...\n"
     ]
    },
    {
     "name": "stderr",
     "output_type": "stream",
     "text": [
      "/tmp/ipykernel_242839/761596935.py:12: DeprecationWarning: The transaction.commit() method is deprecated, use graph.commit(transaction) instead\n",
      "  create_tx.commit()\n"
     ]
    },
    {
     "name": "stdout",
     "output_type": "stream",
     "text": [
      "Page 45 problems committed..\n",
      "Page 46 started..\n",
      "Got problem list...\n"
     ]
    },
    {
     "name": "stderr",
     "output_type": "stream",
     "text": [
      "/tmp/ipykernel_242839/761596935.py:12: DeprecationWarning: The transaction.commit() method is deprecated, use graph.commit(transaction) instead\n",
      "  create_tx.commit()\n"
     ]
    },
    {
     "name": "stdout",
     "output_type": "stream",
     "text": [
      "Page 46 problems committed..\n",
      "Page 47 started..\n",
      "Got problem list...\n"
     ]
    },
    {
     "name": "stderr",
     "output_type": "stream",
     "text": [
      "/tmp/ipykernel_242839/761596935.py:12: DeprecationWarning: The transaction.commit() method is deprecated, use graph.commit(transaction) instead\n",
      "  create_tx.commit()\n"
     ]
    },
    {
     "name": "stdout",
     "output_type": "stream",
     "text": [
      "Page 47 problems committed..\n",
      "Page 48 started..\n",
      "Got problem list...\n"
     ]
    },
    {
     "name": "stderr",
     "output_type": "stream",
     "text": [
      "/tmp/ipykernel_242839/761596935.py:12: DeprecationWarning: The transaction.commit() method is deprecated, use graph.commit(transaction) instead\n",
      "  create_tx.commit()\n"
     ]
    },
    {
     "name": "stdout",
     "output_type": "stream",
     "text": [
      "Page 48 problems committed..\n",
      "Page 49 started..\n",
      "Got problem list...\n",
      "Page 49 problems committed..\n"
     ]
    },
    {
     "name": "stderr",
     "output_type": "stream",
     "text": [
      "/tmp/ipykernel_242839/761596935.py:12: DeprecationWarning: The transaction.commit() method is deprecated, use graph.commit(transaction) instead\n",
      "  create_tx.commit()\n"
     ]
    }
   ],
   "source": [
    "for page_num in range(PAGE_CNT+1):\n",
    "\n",
    "    print(f\"Page {page_num} started..\")\n",
    "    probs = problemsOnPage(page=page_num)\n",
    "    print(\"Got problem list...\")\n",
    "    \n",
    "    create_tx = g.begin()\n",
    "    df = pd.DataFrame(probs)\n",
    "    df.to_csv(f'problem_p{page_num}.csv')\n",
    "    df.apply(lambda r: create_node_from_row(r[0],r[1],r[2], r[3]), axis=1)\n",
    "    create_tx.commit()\n",
    "\n",
    "    print(f\"Page {page_num} problems committed..\")\n",
    "    "
   ]
  },
  {
   "cell_type": "code",
   "execution_count": null,
   "metadata": {},
   "outputs": [],
   "source": []
  },
  {
   "cell_type": "code",
   "execution_count": 157,
   "metadata": {},
   "outputs": [],
   "source": [
    "url_again = []"
   ]
  },
  {
   "cell_type": "code",
   "execution_count": null,
   "metadata": {},
   "outputs": [],
   "source": [
    "data = {}"
   ]
  },
  {
   "cell_type": "code",
   "execution_count": 126,
   "metadata": {
    "id": "AmiQnaUtUSOz"
   },
   "outputs": [],
   "source": [
    "PAGE_CNT = 50"
   ]
  },
  {
   "cell_type": "code",
   "execution_count": 285,
   "metadata": {},
   "outputs": [
    {
     "name": "stdout",
     "output_type": "stream",
     "text": [
      "Problems on page 1 linked\n"
     ]
    }
   ],
   "source": [
    "for prob in probs[12:20]:\n",
    "    url = prob[0]\n",
    "    try:\n",
    "#             tags, sims = get_problem_info(url)\n",
    "#             find_and_commit(url, tags, sims)\n",
    "        get_problem_info_and_commit(url)\n",
    "    except:\n",
    "        url_again.append(url)\n",
    "        print(f\"Problem {url} encountered problem\")\n",
    "\n",
    "\n",
    "print(f\"Problems on page {page_num} linked\")"
   ]
  },
  {
   "cell_type": "code",
   "execution_count": 230,
   "metadata": {},
   "outputs": [],
   "source": [
    "df = pd.read_csv(f'problem_p{page_num}.csv', usecols=[1,2,3,4])\n",
    "probs = df.values.tolist()"
   ]
  },
  {
   "cell_type": "code",
   "execution_count": 232,
   "metadata": {},
   "outputs": [],
   "source": [
    "prob = probs[18]\n",
    "url = prob[0]"
   ]
  },
  {
   "cell_type": "code",
   "execution_count": 237,
   "metadata": {},
   "outputs": [
    {
     "name": "stdout",
     "output_type": "stream",
     "text": [
      "Problem https://leetcode.com/problems/remove-nth-node-from-end-of-list/ encountered problem\n"
     ]
    }
   ],
   "source": [
    "try:\n",
    "    tags, sims = get_problem_info(url)\n",
    "    print(tags, sims)\n",
    "except:\n",
    "    url_again.append(url)\n",
    "    print(f\"Problem {url} encountered problem\")"
   ]
  },
  {
   "cell_type": "code",
   "execution_count": null,
   "metadata": {},
   "outputs": [],
   "source": [
    "p = g.nodes.match(\"Problem\",uri = p_url).first()\n",
    "\n",
    "for tag_url in tags:\n",
    "    print(tag_url)\n",
    "    t = g.nodes.match(\"Tag\",uri=tag_url[:-1]).first()\n",
    "    if not g.match((p, t), r_type=\"BELONGS_TO\"):\n",
    "        g.merge(BELONGS_TO(p, t))\n",
    "if sims:\n",
    "    for sim_url in sims:\n",
    "        print(sim_url)\n",
    "        sp = g.nodes.match(\"Problem\",uri=sim_url).first()\n",
    "        if not g.match((p, sp), r_type=\"SIMILAR_TO\") and not g.match((sp, p), r_type=\"SIMILAR_TO\"):\n",
    "            g.merge(SIMILAR_TO(p, sp))"
   ]
  },
  {
   "cell_type": "code",
   "execution_count": null,
   "metadata": {},
   "outputs": [],
   "source": [
    "find_and_commit(url, tags, sims)\n",
    "tags, sims = [], []"
   ]
  },
  {
   "cell_type": "code",
   "execution_count": null,
   "metadata": {},
   "outputs": [],
   "source": []
  },
  {
   "cell_type": "code",
   "execution_count": null,
   "metadata": {},
   "outputs": [],
   "source": []
  },
  {
   "cell_type": "code",
   "execution_count": null,
   "metadata": {},
   "outputs": [],
   "source": []
  },
  {
   "cell_type": "code",
   "execution_count": null,
   "metadata": {},
   "outputs": [],
   "source": []
  },
  {
   "cell_type": "code",
   "execution_count": null,
   "metadata": {},
   "outputs": [],
   "source": []
  },
  {
   "cell_type": "code",
   "execution_count": null,
   "metadata": {},
   "outputs": [],
   "source": []
  },
  {
   "cell_type": "code",
   "execution_count": 286,
   "metadata": {},
   "outputs": [],
   "source": [
    "url = 'https://leetcode.com/problems/roman-to-integer/'"
   ]
  },
  {
   "cell_type": "code",
   "execution_count": 287,
   "metadata": {},
   "outputs": [
    {
     "data": {
      "text/plain": [
       "True"
      ]
     },
     "execution_count": 287,
     "metadata": {},
     "output_type": "execute_result"
    }
   ],
   "source": [
    "driver.get(url)\n",
    "WebDriverWait(driver, timeout=20).until(lambda x: x.find_element(By.XPATH, \"//div[@class = 'description__24sA']\").is_displayed())"
   ]
  },
  {
   "cell_type": "code",
   "execution_count": 288,
   "metadata": {},
   "outputs": [],
   "source": [
    "tagsData, simsData = None, None\n",
    "    \n",
    "try:\n",
    "    script = '''\n",
    "const l = document.querySelector(\"div[class = 'description__24sA']\").children[5].children[1];\n",
    "const elems = l.querySelectorAll('a');\n",
    "const tags = [];\n",
    "\n",
    "for (elem of elems) {\n",
    "    tags.push(elem.href);\n",
    "}\n",
    "return tags\n",
    "    '''\n",
    "    tagsData = driver.execute_script(script)\n",
    "\n",
    "    try:\n",
    "        driver.find_element(by=By.XPATH, value=\"//div[contains(., 'Similar Questions')]\")\n",
    "\n",
    "        script = '''\n",
    "    const l = document.querySelector(\"div[class = 'description__24sA']\").children[6].children[1];\n",
    "    const elems = l.querySelectorAll('a');\n",
    "    const tags = [];\n",
    "\n",
    "    for (elem of elems) {\n",
    "        tags.push(elem.href);\n",
    "    }\n",
    "    return tags\n",
    "                 '''\n",
    "        simsData = driver.execute_script(script)\n",
    "    except:\n",
    "        pass\n",
    "\n",
    "except:\n",
    "    script = '''\n",
    "const l = document.querySelector(\"div[class = 'description__24sA']\").children[4].children[1];\n",
    "const elems = l.querySelectorAll('a');\n",
    "const tags = [];\n",
    "\n",
    "for (elem of elems) {\n",
    "    tags.push(elem.href);\n",
    "}\n",
    "return tags\n",
    "    '''\n",
    "    tagsData = driver.execute_script(script) \n",
    "\n",
    "\n",
    "\n",
    "tags = list(tagsData) if tagsData else []\n",
    "sims = list(simsData) if simsData else []"
   ]
  },
  {
   "cell_type": "code",
   "execution_count": 279,
   "metadata": {},
   "outputs": [],
   "source": [
    "try:\n",
    "    script = '''\n",
    "const l = document.querySelector(\"div[class = 'description__24sA']\").children[5].children[1];\n",
    "const elems = l.querySelectorAll('a');\n",
    "const tags = [];\n",
    "\n",
    "for (elem of elems) {\n",
    "    tags.push(elem.href);\n",
    "}\n",
    "return tags\n",
    "    '''\n",
    "    tagsData = driver.execute_script(script)\n",
    "\n",
    "except:\n",
    "    print(\"exp\")\n",
    "    script = '''\n",
    "const l = document.querySelector(\"div[class = 'description__24sA']\").children[4].children[1];\n",
    "const elems = l.querySelectorAll('a');\n",
    "const tags = [];\n",
    "\n",
    "for (elem of elems) {\n",
    "    tags.push(elem.href);\n",
    "}\n",
    "return tags\n",
    "    '''\n",
    "    tagsData = driver.execute_script(script) "
   ]
  },
  {
   "cell_type": "code",
   "execution_count": 280,
   "metadata": {},
   "outputs": [
    {
     "data": {
      "text/plain": [
       "['https://leetcode.com/tag/hash-table/',\n",
       " 'https://leetcode.com/tag/math/',\n",
       " 'https://leetcode.com/tag/string/']"
      ]
     },
     "execution_count": 280,
     "metadata": {},
     "output_type": "execute_result"
    }
   ],
   "source": [
    "tagsData"
   ]
  },
  {
   "cell_type": "code",
   "execution_count": 281,
   "metadata": {},
   "outputs": [],
   "source": [
    "try:\n",
    "    driver.find_element(by=By.XPATH, value=\"//div[contains(., 'Similar Questions')]\")\n",
    "\n",
    "    script = '''\n",
    "const l = document.querySelector(\"div[class = 'description__24sA']\").children[6].children[1];\n",
    "const elems = l.querySelectorAll('a');\n",
    "const tags = [];\n",
    "\n",
    "for (elem of elems) {\n",
    "    tags.push(elem.href);\n",
    "}\n",
    "return tags\n",
    "             '''\n",
    "    simsData = driver.execute_script(script)\n",
    "except:\n",
    "    simsData = None"
   ]
  },
  {
   "cell_type": "code",
   "execution_count": 282,
   "metadata": {},
   "outputs": [],
   "source": [
    "tags = list(tagsData)\n",
    "sims = list(simsData) if simsData else []"
   ]
  },
  {
   "cell_type": "code",
   "execution_count": 289,
   "metadata": {},
   "outputs": [
    {
     "data": {
      "text/plain": [
       "['https://leetcode.com/problems/integer-to-roman/']"
      ]
     },
     "execution_count": 289,
     "metadata": {},
     "output_type": "execute_result"
    }
   ],
   "source": [
    "sims"
   ]
  },
  {
   "cell_type": "code",
   "execution_count": 290,
   "metadata": {},
   "outputs": [],
   "source": [
    "tags, sims = get_problem_info(url)"
   ]
  },
  {
   "cell_type": "code",
   "execution_count": 291,
   "metadata": {},
   "outputs": [
    {
     "data": {
      "text/plain": [
       "['https://leetcode.com/tag/hash-table/',\n",
       " 'https://leetcode.com/tag/math/',\n",
       " 'https://leetcode.com/tag/string/']"
      ]
     },
     "execution_count": 291,
     "metadata": {},
     "output_type": "execute_result"
    }
   ],
   "source": [
    "tags"
   ]
  },
  {
   "cell_type": "code",
   "execution_count": 278,
   "metadata": {},
   "outputs": [
    {
     "data": {
      "text/plain": [
       "[]"
      ]
     },
     "execution_count": 278,
     "metadata": {},
     "output_type": "execute_result"
    }
   ],
   "source": [
    "sims"
   ]
  },
  {
   "cell_type": "code",
   "execution_count": 114,
   "metadata": {},
   "outputs": [],
   "source": [
    "find_and_commit(url, tags, sims)"
   ]
  },
  {
   "cell_type": "code",
   "execution_count": 263,
   "metadata": {},
   "outputs": [
    {
     "data": {
      "text/plain": [
       "Node('Problem', acceptance='52.8%', difficulty='Easy', title='9. Palindrome Number', uri='https://leetcode.com/problems/palindrome-number/')"
      ]
     },
     "execution_count": 263,
     "metadata": {},
     "output_type": "execute_result"
    }
   ],
   "source": [
    "p = g.nodes.match(\"Problem\",uri = url).first()\n",
    "p"
   ]
  },
  {
   "cell_type": "code",
   "execution_count": 267,
   "metadata": {},
   "outputs": [
    {
     "name": "stdout",
     "output_type": "stream",
     "text": [
      "https://leetcode.com/tag/math/\n",
      "(_4:Tag {title: 'Math', uri: 'https://leetcode.com/tag/math'})\n"
     ]
    }
   ],
   "source": [
    "for tag_url in tags:\n",
    "    print(tag_url)\n",
    "    t = g.nodes.match(\"Tag\",uri=tag_url[:-1]).first()\n",
    "    print(t)\n",
    "    if not g.match((p, t), r_type=\"BELONGS_TO\").first():\n",
    "        print(\"add\")\n",
    "        g.merge(BELONGS_TO(p, t))\n",
    "        "
   ]
  },
  {
   "cell_type": "code",
   "execution_count": 266,
   "metadata": {},
   "outputs": [
    {
     "data": {
      "text/plain": [
       "BELONGS_TO(Node('Problem', acceptance='52.8%', difficulty='Easy', title='9. Palindrome Number', uri='https://leetcode.com/problems/palindrome-number/'), Node('Tag', title='Math', uri='https://leetcode.com/tag/math'))"
      ]
     },
     "execution_count": 266,
     "metadata": {},
     "output_type": "execute_result"
    }
   ],
   "source": [
    "g.match((p, t), r_type=\"BELONGS_TO\").first()"
   ]
  },
  {
   "cell_type": "code",
   "execution_count": 271,
   "metadata": {},
   "outputs": [
    {
     "name": "stdout",
     "output_type": "stream",
     "text": [
      "https://leetcode.com/problems/palindrome-linked-list/\n",
      "https://leetcode.com/problems/find-palindrome-with-fixed-length/\n",
      "https://leetcode.com/problems/strictly-palindromic-number/\n"
     ]
    }
   ],
   "source": [
    "if sims:\n",
    "    for sim_url in sims:\n",
    "        print(sim_url)\n",
    "        sp = g.nodes.match(\"Problem\",uri=sim_url).first()\n",
    "        if not g.match((p, sp), r_type=\"SIMILAR_TO\").first() and not g.match((sp, p), r_type=\"SIMILAR_TO\").first():\n",
    "            g.merge(SIMILAR_TO(p, sp))"
   ]
  },
  {
   "cell_type": "code",
   "execution_count": null,
   "metadata": {},
   "outputs": [],
   "source": []
  },
  {
   "cell_type": "code",
   "execution_count": null,
   "metadata": {},
   "outputs": [],
   "source": []
  },
  {
   "cell_type": "code",
   "execution_count": null,
   "metadata": {},
   "outputs": [],
   "source": []
  },
  {
   "cell_type": "code",
   "execution_count": null,
   "metadata": {},
   "outputs": [],
   "source": []
  },
  {
   "cell_type": "code",
   "execution_count": null,
   "metadata": {},
   "outputs": [],
   "source": [
    "-----------------------------------------------------"
   ]
  },
  {
   "cell_type": "code",
   "execution_count": null,
   "metadata": {},
   "outputs": [],
   "source": []
  },
  {
   "cell_type": "code",
   "execution_count": null,
   "metadata": {},
   "outputs": [],
   "source": []
  },
  {
   "cell_type": "code",
   "execution_count": null,
   "metadata": {},
   "outputs": [],
   "source": []
  },
  {
   "cell_type": "code",
   "execution_count": null,
   "metadata": {},
   "outputs": [],
   "source": []
  },
  {
   "cell_type": "code",
   "execution_count": null,
   "metadata": {},
   "outputs": [],
   "source": []
  },
  {
   "cell_type": "code",
   "execution_count": null,
   "metadata": {},
   "outputs": [],
   "source": []
  },
  {
   "cell_type": "code",
   "execution_count": 41,
   "metadata": {
    "colab": {
     "base_uri": "https://localhost:8080/"
    },
    "id": "zULLKcaij6Ei",
    "outputId": "9a3a7cb8-bf91-4a63-ec78-8a1c55f20a53"
   },
   "outputs": [],
   "source": [
    "create_tx = g.begin()"
   ]
  },
  {
   "cell_type": "code",
   "execution_count": 16,
   "metadata": {},
   "outputs": [],
   "source": [
    "def get_tags():\n",
    "    url = 'https://leetcode.com/problemset/all/'\n",
    "    driver.get(url)\n",
    "\n",
    "    WebDriverWait(driver, timeout=5).until(lambda x: x.find_element(By.XPATH, \"//div[@class = 'relative flex mb-1']\").is_displayed())\n",
    "\n",
    "    script = '''\n",
    "const data = document.querySelector(\"div[class='relative flex mb-1']\").firstChild.children;\n",
    "const tags = [];\n",
    "for (const item of data) {\n",
    "  const tag = [];\n",
    "\n",
    "  const link = item.querySelector('a').href;\n",
    "\n",
    "  tag.push(link);\n",
    "  tag.push(item.querySelector('span').innerText);\n",
    "\n",
    "  tags.push(tag);\n",
    "}\n",
    "return tags\n",
    "    '''\n",
    "    tagsData = driver.execute_script(script)\n",
    "   \n",
    "    return list(tagsData)"
   ]
  },
  {
   "cell_type": "code",
   "execution_count": 17,
   "metadata": {},
   "outputs": [],
   "source": [
    "tags = get_tags()"
   ]
  },
  {
   "cell_type": "code",
   "execution_count": 22,
   "metadata": {
    "collapsed": true
   },
   "outputs": [
    {
     "data": {
      "text/plain": [
       "[['https://leetcode.com/tag/array', 'Array'],\n",
       " ['https://leetcode.com/tag/string', 'String'],\n",
       " ['https://leetcode.com/tag/hash-table', 'Hash Table'],\n",
       " ['https://leetcode.com/tag/dynamic-programming', 'Dynamic Programming'],\n",
       " ['https://leetcode.com/tag/math', 'Math'],\n",
       " ['https://leetcode.com/tag/sorting', 'Sorting'],\n",
       " ['https://leetcode.com/tag/greedy', 'Greedy'],\n",
       " ['https://leetcode.com/tag/depth-first-search', 'Depth-First Search'],\n",
       " ['https://leetcode.com/tag/database', 'Database'],\n",
       " ['https://leetcode.com/tag/breadth-first-search', 'Breadth-First Search'],\n",
       " ['https://leetcode.com/tag/tree', 'Tree'],\n",
       " ['https://leetcode.com/tag/binary-search', 'Binary Search'],\n",
       " ['https://leetcode.com/tag/matrix', 'Matrix'],\n",
       " ['https://leetcode.com/tag/binary-tree', 'Binary Tree'],\n",
       " ['https://leetcode.com/tag/two-pointers', 'Two Pointers'],\n",
       " ['https://leetcode.com/tag/bit-manipulation', 'Bit Manipulation'],\n",
       " ['https://leetcode.com/tag/stack', 'Stack'],\n",
       " ['https://leetcode.com/tag/heap-priority-queue', 'Heap (Priority Queue)'],\n",
       " ['https://leetcode.com/tag/design', 'Design'],\n",
       " ['https://leetcode.com/tag/graph', 'Graph'],\n",
       " ['https://leetcode.com/tag/prefix-sum', 'Prefix Sum'],\n",
       " ['https://leetcode.com/tag/simulation', 'Simulation'],\n",
       " ['https://leetcode.com/tag/backtracking', 'Backtracking'],\n",
       " ['https://leetcode.com/tag/counting', 'Counting'],\n",
       " ['https://leetcode.com/tag/sliding-window', 'Sliding Window'],\n",
       " ['https://leetcode.com/tag/union-find', 'Union Find'],\n",
       " ['https://leetcode.com/tag/linked-list', 'Linked List'],\n",
       " ['https://leetcode.com/tag/ordered-set', 'Ordered Set'],\n",
       " ['https://leetcode.com/tag/monotonic-stack', 'Monotonic Stack'],\n",
       " ['https://leetcode.com/tag/enumeration', 'Enumeration'],\n",
       " ['https://leetcode.com/tag/recursion', 'Recursion'],\n",
       " ['https://leetcode.com/tag/trie', 'Trie'],\n",
       " ['https://leetcode.com/tag/divide-and-conquer', 'Divide and Conquer'],\n",
       " ['https://leetcode.com/tag/binary-search-tree', 'Binary Search Tree'],\n",
       " ['https://leetcode.com/tag/bitmask', 'Bitmask'],\n",
       " ['https://leetcode.com/tag/queue', 'Queue'],\n",
       " ['https://leetcode.com/tag/memoization', 'Memoization'],\n",
       " ['https://leetcode.com/tag/geometry', 'Geometry'],\n",
       " ['https://leetcode.com/tag/segment-tree', 'Segment Tree'],\n",
       " ['https://leetcode.com/tag/topological-sort', 'Topological Sort'],\n",
       " ['https://leetcode.com/tag/hash-function', 'Hash Function'],\n",
       " ['https://leetcode.com/tag/game-theory', 'Game Theory'],\n",
       " ['https://leetcode.com/tag/binary-indexed-tree', 'Binary Indexed Tree'],\n",
       " ['https://leetcode.com/tag/number-theory', 'Number Theory'],\n",
       " ['https://leetcode.com/tag/interactive', 'Interactive'],\n",
       " ['https://leetcode.com/tag/string-matching', 'String Matching'],\n",
       " ['https://leetcode.com/tag/rolling-hash', 'Rolling Hash'],\n",
       " ['https://leetcode.com/tag/data-stream', 'Data Stream'],\n",
       " ['https://leetcode.com/tag/shortest-path', 'Shortest Path'],\n",
       " ['https://leetcode.com/tag/combinatorics', 'Combinatorics'],\n",
       " ['https://leetcode.com/tag/randomized', 'Randomized'],\n",
       " ['https://leetcode.com/tag/monotonic-queue', 'Monotonic Queue'],\n",
       " ['https://leetcode.com/tag/brainteaser', 'Brainteaser'],\n",
       " ['https://leetcode.com/tag/merge-sort', 'Merge Sort'],\n",
       " ['https://leetcode.com/tag/iterator', 'Iterator'],\n",
       " ['https://leetcode.com/tag/concurrency', 'Concurrency'],\n",
       " ['https://leetcode.com/tag/doubly-linked-list', 'Doubly-Linked List'],\n",
       " ['https://leetcode.com/tag/probability-and-statistics',\n",
       "  'Probability and Statistics'],\n",
       " ['https://leetcode.com/tag/quickselect', 'Quickselect'],\n",
       " ['https://leetcode.com/tag/bucket-sort', 'Bucket Sort'],\n",
       " ['https://leetcode.com/tag/suffix-array', 'Suffix Array'],\n",
       " ['https://leetcode.com/tag/minimum-spanning-tree', 'Minimum Spanning Tree'],\n",
       " ['https://leetcode.com/tag/counting-sort', 'Counting Sort'],\n",
       " ['https://leetcode.com/tag/shell', 'Shell'],\n",
       " ['https://leetcode.com/tag/line-sweep', 'Line Sweep'],\n",
       " ['https://leetcode.com/tag/reservoir-sampling', 'Reservoir Sampling'],\n",
       " ['https://leetcode.com/tag/eulerian-circuit', 'Eulerian Circuit'],\n",
       " ['https://leetcode.com/tag/radix-sort', 'Radix Sort'],\n",
       " ['https://leetcode.com/tag/strongly-connected-component',\n",
       "  'Strongly Connected Component'],\n",
       " ['https://leetcode.com/tag/rejection-sampling', 'Rejection Sampling'],\n",
       " ['https://leetcode.com/tag/biconnected-component', 'Biconnected Component']]"
      ]
     },
     "execution_count": 22,
     "metadata": {},
     "output_type": "execute_result"
    }
   ],
   "source": [
    "tgs = tags\n",
    "tgs"
   ]
  },
  {
   "cell_type": "code",
   "execution_count": 24,
   "metadata": {
    "collapsed": true
   },
   "outputs": [
    {
     "data": {
      "text/html": [
       "<div>\n",
       "<style scoped>\n",
       "    .dataframe tbody tr th:only-of-type {\n",
       "        vertical-align: middle;\n",
       "    }\n",
       "\n",
       "    .dataframe tbody tr th {\n",
       "        vertical-align: top;\n",
       "    }\n",
       "\n",
       "    .dataframe thead th {\n",
       "        text-align: right;\n",
       "    }\n",
       "</style>\n",
       "<table border=\"1\" class=\"dataframe\">\n",
       "  <thead>\n",
       "    <tr style=\"text-align: right;\">\n",
       "      <th></th>\n",
       "      <th>0</th>\n",
       "      <th>1</th>\n",
       "    </tr>\n",
       "  </thead>\n",
       "  <tbody>\n",
       "    <tr>\n",
       "      <th>0</th>\n",
       "      <td>https://leetcode.com/tag/array</td>\n",
       "      <td>Array</td>\n",
       "    </tr>\n",
       "    <tr>\n",
       "      <th>1</th>\n",
       "      <td>https://leetcode.com/tag/string</td>\n",
       "      <td>String</td>\n",
       "    </tr>\n",
       "    <tr>\n",
       "      <th>2</th>\n",
       "      <td>https://leetcode.com/tag/hash-table</td>\n",
       "      <td>Hash Table</td>\n",
       "    </tr>\n",
       "    <tr>\n",
       "      <th>3</th>\n",
       "      <td>https://leetcode.com/tag/dynamic-programming</td>\n",
       "      <td>Dynamic Programming</td>\n",
       "    </tr>\n",
       "    <tr>\n",
       "      <th>4</th>\n",
       "      <td>https://leetcode.com/tag/math</td>\n",
       "      <td>Math</td>\n",
       "    </tr>\n",
       "    <tr>\n",
       "      <th>...</th>\n",
       "      <td>...</td>\n",
       "      <td>...</td>\n",
       "    </tr>\n",
       "    <tr>\n",
       "      <th>66</th>\n",
       "      <td>https://leetcode.com/tag/eulerian-circuit</td>\n",
       "      <td>Eulerian Circuit</td>\n",
       "    </tr>\n",
       "    <tr>\n",
       "      <th>67</th>\n",
       "      <td>https://leetcode.com/tag/radix-sort</td>\n",
       "      <td>Radix Sort</td>\n",
       "    </tr>\n",
       "    <tr>\n",
       "      <th>68</th>\n",
       "      <td>https://leetcode.com/tag/strongly-connected-co...</td>\n",
       "      <td>Strongly Connected Component</td>\n",
       "    </tr>\n",
       "    <tr>\n",
       "      <th>69</th>\n",
       "      <td>https://leetcode.com/tag/rejection-sampling</td>\n",
       "      <td>Rejection Sampling</td>\n",
       "    </tr>\n",
       "    <tr>\n",
       "      <th>70</th>\n",
       "      <td>https://leetcode.com/tag/biconnected-component</td>\n",
       "      <td>Biconnected Component</td>\n",
       "    </tr>\n",
       "  </tbody>\n",
       "</table>\n",
       "<p>71 rows × 2 columns</p>\n",
       "</div>"
      ],
      "text/plain": [
       "                                                    0  \\\n",
       "0                      https://leetcode.com/tag/array   \n",
       "1                     https://leetcode.com/tag/string   \n",
       "2                 https://leetcode.com/tag/hash-table   \n",
       "3        https://leetcode.com/tag/dynamic-programming   \n",
       "4                       https://leetcode.com/tag/math   \n",
       "..                                                ...   \n",
       "66          https://leetcode.com/tag/eulerian-circuit   \n",
       "67                https://leetcode.com/tag/radix-sort   \n",
       "68  https://leetcode.com/tag/strongly-connected-co...   \n",
       "69        https://leetcode.com/tag/rejection-sampling   \n",
       "70     https://leetcode.com/tag/biconnected-component   \n",
       "\n",
       "                               1  \n",
       "0                          Array  \n",
       "1                         String  \n",
       "2                     Hash Table  \n",
       "3            Dynamic Programming  \n",
       "4                           Math  \n",
       "..                           ...  \n",
       "66              Eulerian Circuit  \n",
       "67                    Radix Sort  \n",
       "68  Strongly Connected Component  \n",
       "69            Rejection Sampling  \n",
       "70         Biconnected Component  \n",
       "\n",
       "[71 rows x 2 columns]"
      ]
     },
     "execution_count": 24,
     "metadata": {},
     "output_type": "execute_result"
    }
   ],
   "source": [
    "tags = pd.DataFrame(tgs)\n",
    "tags"
   ]
  },
  {
   "cell_type": "code",
   "execution_count": 51,
   "metadata": {},
   "outputs": [],
   "source": [
    "tags.to_csv('tags.csv')"
   ]
  },
  {
   "cell_type": "code",
   "execution_count": 50,
   "metadata": {},
   "outputs": [
    {
     "data": {
      "text/plain": [
       "71"
      ]
     },
     "execution_count": 50,
     "metadata": {},
     "output_type": "execute_result"
    }
   ],
   "source": [
    "len(tgs)"
   ]
  },
  {
   "cell_type": "code",
   "execution_count": 27,
   "metadata": {},
   "outputs": [
    {
     "data": {
      "text/plain": [
       "0    https://leetcode.com/tag/array\n",
       "1                             Array\n",
       "Name: 0, dtype: object"
      ]
     },
     "execution_count": 27,
     "metadata": {},
     "output_type": "execute_result"
    }
   ],
   "source": [
    "tags.iloc[0,:]"
   ]
  },
  {
   "cell_type": "code",
   "execution_count": 31,
   "metadata": {},
   "outputs": [
    {
     "data": {
      "text/plain": [
       "['https://leetcode.com/tag/array', 'Array']"
      ]
     },
     "execution_count": 31,
     "metadata": {},
     "output_type": "execute_result"
    }
   ],
   "source": [
    "tgs[0]"
   ]
  },
  {
   "cell_type": "code",
   "execution_count": 41,
   "metadata": {
    "colab": {
     "base_uri": "https://localhost:8080/"
    },
    "id": "zULLKcaij6Ei",
    "outputId": "9a3a7cb8-bf91-4a63-ec78-8a1c55f20a53"
   },
   "outputs": [],
   "source": [
    "create_tx = g.begin()"
   ]
  },
  {
   "cell_type": "code",
   "execution_count": null,
   "metadata": {},
   "outputs": [],
   "source": [
    "n = Node(\"Tag\", uri='https://leetcode.com/tag/array', title='Array')\n",
    "create_tx.create(n)"
   ]
  },
  {
   "cell_type": "code",
   "execution_count": 43,
   "metadata": {},
   "outputs": [
    {
     "name": "stderr",
     "output_type": "stream",
     "text": [
      "/tmp/ipykernel_109057/2607430192.py:1: DeprecationWarning: The transaction.commit() method is deprecated, use graph.commit(transaction) instead\n",
      "  create_tx.commit()\n"
     ]
    }
   ],
   "source": [
    "g.commit()"
   ]
  },
  {
   "cell_type": "code",
   "execution_count": 46,
   "metadata": {
    "collapsed": true,
    "id": "BjWui68KT0Ky"
   },
   "outputs": [
    {
     "ename": "TypeError",
     "evalue": "Cannot run query in closed transaction",
     "output_type": "error",
     "traceback": [
      "\u001b[0;31m---------------------------------------------------------------------------\u001b[0m",
      "\u001b[0;31mTypeError\u001b[0m                                 Traceback (most recent call last)",
      "\u001b[0;32m/tmp/ipykernel_109057/3467653021.py\u001b[0m in \u001b[0;36m<module>\u001b[0;34m\u001b[0m\n\u001b[1;32m      3\u001b[0m   \u001b[0mcreate_tx\u001b[0m\u001b[0;34m.\u001b[0m\u001b[0mcreate\u001b[0m\u001b[0;34m(\u001b[0m\u001b[0mn\u001b[0m\u001b[0;34m)\u001b[0m\u001b[0;34m\u001b[0m\u001b[0;34m\u001b[0m\u001b[0m\n\u001b[1;32m      4\u001b[0m \u001b[0;34m\u001b[0m\u001b[0m\n\u001b[0;32m----> 5\u001b[0;31m \u001b[0mtags\u001b[0m\u001b[0;34m.\u001b[0m\u001b[0miloc\u001b[0m\u001b[0;34m[\u001b[0m\u001b[0;36m1\u001b[0m\u001b[0;34m:\u001b[0m\u001b[0;34m,\u001b[0m\u001b[0;34m:\u001b[0m\u001b[0;34m]\u001b[0m\u001b[0;34m.\u001b[0m\u001b[0mapply\u001b[0m\u001b[0;34m(\u001b[0m\u001b[0;32mlambda\u001b[0m \u001b[0mr\u001b[0m\u001b[0;34m:\u001b[0m \u001b[0mcreate_tag_from_row\u001b[0m\u001b[0;34m(\u001b[0m\u001b[0mr\u001b[0m\u001b[0;34m[\u001b[0m\u001b[0;36m0\u001b[0m\u001b[0;34m]\u001b[0m\u001b[0;34m,\u001b[0m\u001b[0mr\u001b[0m\u001b[0;34m[\u001b[0m\u001b[0;36m1\u001b[0m\u001b[0;34m]\u001b[0m\u001b[0;34m)\u001b[0m\u001b[0;34m,\u001b[0m \u001b[0maxis\u001b[0m\u001b[0;34m=\u001b[0m\u001b[0;36m1\u001b[0m\u001b[0;34m)\u001b[0m\u001b[0;34m\u001b[0m\u001b[0;34m\u001b[0m\u001b[0m\n\u001b[0m\u001b[1;32m      6\u001b[0m \u001b[0;34m\u001b[0m\u001b[0m\n\u001b[1;32m      7\u001b[0m \u001b[0mg\u001b[0m\u001b[0;34m.\u001b[0m\u001b[0mcommit\u001b[0m\u001b[0;34m(\u001b[0m\u001b[0;34m)\u001b[0m\u001b[0;34m\u001b[0m\u001b[0;34m\u001b[0m\u001b[0m\n",
      "\u001b[0;32m~/.local/lib/python3.10/site-packages/pandas/core/frame.py\u001b[0m in \u001b[0;36mapply\u001b[0;34m(self, func, axis, raw, result_type, args, **kwargs)\u001b[0m\n\u001b[1;32m   9553\u001b[0m             \u001b[0mkwargs\u001b[0m\u001b[0;34m=\u001b[0m\u001b[0mkwargs\u001b[0m\u001b[0;34m,\u001b[0m\u001b[0;34m\u001b[0m\u001b[0;34m\u001b[0m\u001b[0m\n\u001b[1;32m   9554\u001b[0m         )\n\u001b[0;32m-> 9555\u001b[0;31m         \u001b[0;32mreturn\u001b[0m \u001b[0mop\u001b[0m\u001b[0;34m.\u001b[0m\u001b[0mapply\u001b[0m\u001b[0;34m(\u001b[0m\u001b[0;34m)\u001b[0m\u001b[0;34m.\u001b[0m\u001b[0m__finalize__\u001b[0m\u001b[0;34m(\u001b[0m\u001b[0mself\u001b[0m\u001b[0;34m,\u001b[0m \u001b[0mmethod\u001b[0m\u001b[0;34m=\u001b[0m\u001b[0;34m\"apply\"\u001b[0m\u001b[0;34m)\u001b[0m\u001b[0;34m\u001b[0m\u001b[0;34m\u001b[0m\u001b[0m\n\u001b[0m\u001b[1;32m   9556\u001b[0m \u001b[0;34m\u001b[0m\u001b[0m\n\u001b[1;32m   9557\u001b[0m     def applymap(\n",
      "\u001b[0;32m~/.local/lib/python3.10/site-packages/pandas/core/apply.py\u001b[0m in \u001b[0;36mapply\u001b[0;34m(self)\u001b[0m\n\u001b[1;32m    744\u001b[0m             \u001b[0;32mreturn\u001b[0m \u001b[0mself\u001b[0m\u001b[0;34m.\u001b[0m\u001b[0mapply_raw\u001b[0m\u001b[0;34m(\u001b[0m\u001b[0;34m)\u001b[0m\u001b[0;34m\u001b[0m\u001b[0;34m\u001b[0m\u001b[0m\n\u001b[1;32m    745\u001b[0m \u001b[0;34m\u001b[0m\u001b[0m\n\u001b[0;32m--> 746\u001b[0;31m         \u001b[0;32mreturn\u001b[0m \u001b[0mself\u001b[0m\u001b[0;34m.\u001b[0m\u001b[0mapply_standard\u001b[0m\u001b[0;34m(\u001b[0m\u001b[0;34m)\u001b[0m\u001b[0;34m\u001b[0m\u001b[0;34m\u001b[0m\u001b[0m\n\u001b[0m\u001b[1;32m    747\u001b[0m \u001b[0;34m\u001b[0m\u001b[0m\n\u001b[1;32m    748\u001b[0m     \u001b[0;32mdef\u001b[0m \u001b[0magg\u001b[0m\u001b[0;34m(\u001b[0m\u001b[0mself\u001b[0m\u001b[0;34m)\u001b[0m\u001b[0;34m:\u001b[0m\u001b[0;34m\u001b[0m\u001b[0;34m\u001b[0m\u001b[0m\n",
      "\u001b[0;32m~/.local/lib/python3.10/site-packages/pandas/core/apply.py\u001b[0m in \u001b[0;36mapply_standard\u001b[0;34m(self)\u001b[0m\n\u001b[1;32m    871\u001b[0m \u001b[0;34m\u001b[0m\u001b[0m\n\u001b[1;32m    872\u001b[0m     \u001b[0;32mdef\u001b[0m \u001b[0mapply_standard\u001b[0m\u001b[0;34m(\u001b[0m\u001b[0mself\u001b[0m\u001b[0;34m)\u001b[0m\u001b[0;34m:\u001b[0m\u001b[0;34m\u001b[0m\u001b[0;34m\u001b[0m\u001b[0m\n\u001b[0;32m--> 873\u001b[0;31m         \u001b[0mresults\u001b[0m\u001b[0;34m,\u001b[0m \u001b[0mres_index\u001b[0m \u001b[0;34m=\u001b[0m \u001b[0mself\u001b[0m\u001b[0;34m.\u001b[0m\u001b[0mapply_series_generator\u001b[0m\u001b[0;34m(\u001b[0m\u001b[0;34m)\u001b[0m\u001b[0;34m\u001b[0m\u001b[0;34m\u001b[0m\u001b[0m\n\u001b[0m\u001b[1;32m    874\u001b[0m \u001b[0;34m\u001b[0m\u001b[0m\n\u001b[1;32m    875\u001b[0m         \u001b[0;31m# wrap results\u001b[0m\u001b[0;34m\u001b[0m\u001b[0;34m\u001b[0m\u001b[0m\n",
      "\u001b[0;32m~/.local/lib/python3.10/site-packages/pandas/core/apply.py\u001b[0m in \u001b[0;36mapply_series_generator\u001b[0;34m(self)\u001b[0m\n\u001b[1;32m    887\u001b[0m             \u001b[0;32mfor\u001b[0m \u001b[0mi\u001b[0m\u001b[0;34m,\u001b[0m \u001b[0mv\u001b[0m \u001b[0;32min\u001b[0m \u001b[0menumerate\u001b[0m\u001b[0;34m(\u001b[0m\u001b[0mseries_gen\u001b[0m\u001b[0;34m)\u001b[0m\u001b[0;34m:\u001b[0m\u001b[0;34m\u001b[0m\u001b[0;34m\u001b[0m\u001b[0m\n\u001b[1;32m    888\u001b[0m                 \u001b[0;31m# ignore SettingWithCopy here in case the user mutates\u001b[0m\u001b[0;34m\u001b[0m\u001b[0;34m\u001b[0m\u001b[0m\n\u001b[0;32m--> 889\u001b[0;31m                 \u001b[0mresults\u001b[0m\u001b[0;34m[\u001b[0m\u001b[0mi\u001b[0m\u001b[0;34m]\u001b[0m \u001b[0;34m=\u001b[0m \u001b[0mself\u001b[0m\u001b[0;34m.\u001b[0m\u001b[0mf\u001b[0m\u001b[0;34m(\u001b[0m\u001b[0mv\u001b[0m\u001b[0;34m)\u001b[0m\u001b[0;34m\u001b[0m\u001b[0;34m\u001b[0m\u001b[0m\n\u001b[0m\u001b[1;32m    890\u001b[0m                 \u001b[0;32mif\u001b[0m \u001b[0misinstance\u001b[0m\u001b[0;34m(\u001b[0m\u001b[0mresults\u001b[0m\u001b[0;34m[\u001b[0m\u001b[0mi\u001b[0m\u001b[0;34m]\u001b[0m\u001b[0;34m,\u001b[0m \u001b[0mABCSeries\u001b[0m\u001b[0;34m)\u001b[0m\u001b[0;34m:\u001b[0m\u001b[0;34m\u001b[0m\u001b[0;34m\u001b[0m\u001b[0m\n\u001b[1;32m    891\u001b[0m                     \u001b[0;31m# If we have a view on v, we need to make a copy because\u001b[0m\u001b[0;34m\u001b[0m\u001b[0;34m\u001b[0m\u001b[0m\n",
      "\u001b[0;32m/tmp/ipykernel_109057/3467653021.py\u001b[0m in \u001b[0;36m<lambda>\u001b[0;34m(r)\u001b[0m\n\u001b[1;32m      3\u001b[0m   \u001b[0mcreate_tx\u001b[0m\u001b[0;34m.\u001b[0m\u001b[0mcreate\u001b[0m\u001b[0;34m(\u001b[0m\u001b[0mn\u001b[0m\u001b[0;34m)\u001b[0m\u001b[0;34m\u001b[0m\u001b[0;34m\u001b[0m\u001b[0m\n\u001b[1;32m      4\u001b[0m \u001b[0;34m\u001b[0m\u001b[0m\n\u001b[0;32m----> 5\u001b[0;31m \u001b[0mtags\u001b[0m\u001b[0;34m.\u001b[0m\u001b[0miloc\u001b[0m\u001b[0;34m[\u001b[0m\u001b[0;36m1\u001b[0m\u001b[0;34m:\u001b[0m\u001b[0;34m,\u001b[0m\u001b[0;34m:\u001b[0m\u001b[0;34m]\u001b[0m\u001b[0;34m.\u001b[0m\u001b[0mapply\u001b[0m\u001b[0;34m(\u001b[0m\u001b[0;32mlambda\u001b[0m \u001b[0mr\u001b[0m\u001b[0;34m:\u001b[0m \u001b[0mcreate_tag_from_row\u001b[0m\u001b[0;34m(\u001b[0m\u001b[0mr\u001b[0m\u001b[0;34m[\u001b[0m\u001b[0;36m0\u001b[0m\u001b[0;34m]\u001b[0m\u001b[0;34m,\u001b[0m\u001b[0mr\u001b[0m\u001b[0;34m[\u001b[0m\u001b[0;36m1\u001b[0m\u001b[0;34m]\u001b[0m\u001b[0;34m)\u001b[0m\u001b[0;34m,\u001b[0m \u001b[0maxis\u001b[0m\u001b[0;34m=\u001b[0m\u001b[0;36m1\u001b[0m\u001b[0;34m)\u001b[0m\u001b[0;34m\u001b[0m\u001b[0;34m\u001b[0m\u001b[0m\n\u001b[0m\u001b[1;32m      6\u001b[0m \u001b[0;34m\u001b[0m\u001b[0m\n\u001b[1;32m      7\u001b[0m \u001b[0mg\u001b[0m\u001b[0;34m.\u001b[0m\u001b[0mcommit\u001b[0m\u001b[0;34m(\u001b[0m\u001b[0;34m)\u001b[0m\u001b[0;34m\u001b[0m\u001b[0;34m\u001b[0m\u001b[0m\n",
      "\u001b[0;32m/tmp/ipykernel_109057/3467653021.py\u001b[0m in \u001b[0;36mcreate_tag_from_row\u001b[0;34m(uri, title)\u001b[0m\n\u001b[1;32m      1\u001b[0m \u001b[0;32mdef\u001b[0m \u001b[0mcreate_tag_from_row\u001b[0m\u001b[0;34m(\u001b[0m\u001b[0muri\u001b[0m\u001b[0;34m,\u001b[0m \u001b[0mtitle\u001b[0m\u001b[0;34m)\u001b[0m\u001b[0;34m:\u001b[0m\u001b[0;34m\u001b[0m\u001b[0;34m\u001b[0m\u001b[0m\n\u001b[1;32m      2\u001b[0m   \u001b[0mn\u001b[0m \u001b[0;34m=\u001b[0m \u001b[0mNode\u001b[0m\u001b[0;34m(\u001b[0m\u001b[0;34m\"Tag\"\u001b[0m\u001b[0;34m,\u001b[0m \u001b[0muri\u001b[0m\u001b[0;34m=\u001b[0m\u001b[0muri\u001b[0m\u001b[0;34m,\u001b[0m \u001b[0mtitle\u001b[0m\u001b[0;34m=\u001b[0m\u001b[0mtitle\u001b[0m\u001b[0;34m)\u001b[0m\u001b[0;34m\u001b[0m\u001b[0;34m\u001b[0m\u001b[0m\n\u001b[0;32m----> 3\u001b[0;31m   \u001b[0mcreate_tx\u001b[0m\u001b[0;34m.\u001b[0m\u001b[0mcreate\u001b[0m\u001b[0;34m(\u001b[0m\u001b[0mn\u001b[0m\u001b[0;34m)\u001b[0m\u001b[0;34m\u001b[0m\u001b[0;34m\u001b[0m\u001b[0m\n\u001b[0m\u001b[1;32m      4\u001b[0m \u001b[0;34m\u001b[0m\u001b[0m\n\u001b[1;32m      5\u001b[0m \u001b[0mtags\u001b[0m\u001b[0;34m.\u001b[0m\u001b[0miloc\u001b[0m\u001b[0;34m[\u001b[0m\u001b[0;36m1\u001b[0m\u001b[0;34m:\u001b[0m\u001b[0;34m,\u001b[0m\u001b[0;34m:\u001b[0m\u001b[0;34m]\u001b[0m\u001b[0;34m.\u001b[0m\u001b[0mapply\u001b[0m\u001b[0;34m(\u001b[0m\u001b[0;32mlambda\u001b[0m \u001b[0mr\u001b[0m\u001b[0;34m:\u001b[0m \u001b[0mcreate_tag_from_row\u001b[0m\u001b[0;34m(\u001b[0m\u001b[0mr\u001b[0m\u001b[0;34m[\u001b[0m\u001b[0;36m0\u001b[0m\u001b[0;34m]\u001b[0m\u001b[0;34m,\u001b[0m\u001b[0mr\u001b[0m\u001b[0;34m[\u001b[0m\u001b[0;36m1\u001b[0m\u001b[0;34m]\u001b[0m\u001b[0;34m)\u001b[0m\u001b[0;34m,\u001b[0m \u001b[0maxis\u001b[0m\u001b[0;34m=\u001b[0m\u001b[0;36m1\u001b[0m\u001b[0;34m)\u001b[0m\u001b[0;34m\u001b[0m\u001b[0;34m\u001b[0m\u001b[0m\n",
      "\u001b[0;32m~/.local/lib/python3.10/site-packages/py2neo/database.py\u001b[0m in \u001b[0;36mcreate\u001b[0;34m(self, subgraph)\u001b[0m\n\u001b[1;32m   1061\u001b[0m             \u001b[0;32mraise\u001b[0m \u001b[0mTypeError\u001b[0m\u001b[0;34m(\u001b[0m\u001b[0;34m\"No method defined to create object %r\"\u001b[0m \u001b[0;34m%\u001b[0m \u001b[0msubgraph\u001b[0m\u001b[0;34m)\u001b[0m\u001b[0;34m\u001b[0m\u001b[0;34m\u001b[0m\u001b[0m\n\u001b[1;32m   1062\u001b[0m         \u001b[0;32melse\u001b[0m\u001b[0;34m:\u001b[0m\u001b[0;34m\u001b[0m\u001b[0;34m\u001b[0m\u001b[0m\n\u001b[0;32m-> 1063\u001b[0;31m             \u001b[0mcreate\u001b[0m\u001b[0;34m(\u001b[0m\u001b[0mself\u001b[0m\u001b[0;34m)\u001b[0m\u001b[0;34m\u001b[0m\u001b[0;34m\u001b[0m\u001b[0m\n\u001b[0m\u001b[1;32m   1064\u001b[0m \u001b[0;34m\u001b[0m\u001b[0m\n\u001b[1;32m   1065\u001b[0m     \u001b[0;32mdef\u001b[0m \u001b[0mdelete\u001b[0m\u001b[0;34m(\u001b[0m\u001b[0mself\u001b[0m\u001b[0;34m,\u001b[0m \u001b[0msubgraph\u001b[0m\u001b[0;34m)\u001b[0m\u001b[0;34m:\u001b[0m\u001b[0;34m\u001b[0m\u001b[0;34m\u001b[0m\u001b[0m\n",
      "\u001b[0;32m~/.local/lib/python3.10/site-packages/py2neo/data.py\u001b[0m in \u001b[0;36m__db_create__\u001b[0;34m(self, tx)\u001b[0m\n\u001b[1;32m    198\u001b[0m             \u001b[0mpq\u001b[0m \u001b[0;34m=\u001b[0m \u001b[0munwind_create_nodes_query\u001b[0m\u001b[0;34m(\u001b[0m\u001b[0mlist\u001b[0m\u001b[0;34m(\u001b[0m\u001b[0mmap\u001b[0m\u001b[0;34m(\u001b[0m\u001b[0mdict\u001b[0m\u001b[0;34m,\u001b[0m \u001b[0mnodes\u001b[0m\u001b[0;34m)\u001b[0m\u001b[0;34m)\u001b[0m\u001b[0;34m,\u001b[0m \u001b[0mlabels\u001b[0m\u001b[0;34m=\u001b[0m\u001b[0mlabels\u001b[0m\u001b[0;34m)\u001b[0m\u001b[0;34m\u001b[0m\u001b[0;34m\u001b[0m\u001b[0m\n\u001b[1;32m    199\u001b[0m             \u001b[0mpq\u001b[0m \u001b[0;34m=\u001b[0m \u001b[0mcypher_join\u001b[0m\u001b[0;34m(\u001b[0m\u001b[0mpq\u001b[0m\u001b[0;34m,\u001b[0m \u001b[0;34m\"RETURN id(_)\"\u001b[0m\u001b[0;34m)\u001b[0m\u001b[0;34m\u001b[0m\u001b[0;34m\u001b[0m\u001b[0m\n\u001b[0;32m--> 200\u001b[0;31m             \u001b[0mrecords\u001b[0m \u001b[0;34m=\u001b[0m \u001b[0mtx\u001b[0m\u001b[0;34m.\u001b[0m\u001b[0mrun\u001b[0m\u001b[0;34m(\u001b[0m\u001b[0;34m*\u001b[0m\u001b[0mpq\u001b[0m\u001b[0;34m)\u001b[0m\u001b[0;34m\u001b[0m\u001b[0;34m\u001b[0m\u001b[0m\n\u001b[0m\u001b[1;32m    201\u001b[0m             \u001b[0;32mfor\u001b[0m \u001b[0mi\u001b[0m\u001b[0;34m,\u001b[0m \u001b[0mrecord\u001b[0m \u001b[0;32min\u001b[0m \u001b[0menumerate\u001b[0m\u001b[0;34m(\u001b[0m\u001b[0mrecords\u001b[0m\u001b[0;34m)\u001b[0m\u001b[0;34m:\u001b[0m\u001b[0;34m\u001b[0m\u001b[0;34m\u001b[0m\u001b[0m\n\u001b[1;32m    202\u001b[0m                 \u001b[0mnode\u001b[0m \u001b[0;34m=\u001b[0m \u001b[0mnodes\u001b[0m\u001b[0;34m[\u001b[0m\u001b[0mi\u001b[0m\u001b[0;34m]\u001b[0m\u001b[0;34m\u001b[0m\u001b[0;34m\u001b[0m\u001b[0m\n",
      "\u001b[0;32m~/.local/lib/python3.10/site-packages/py2neo/database.py\u001b[0m in \u001b[0;36mrun\u001b[0;34m(self, cypher, parameters, **kwparameters)\u001b[0m\n\u001b[1;32m    979\u001b[0m \u001b[0;34m\u001b[0m\u001b[0m\n\u001b[1;32m    980\u001b[0m         \u001b[0;32mif\u001b[0m \u001b[0mself\u001b[0m\u001b[0;34m.\u001b[0m\u001b[0mclosed\u001b[0m\u001b[0;34m:\u001b[0m\u001b[0;34m\u001b[0m\u001b[0;34m\u001b[0m\u001b[0m\n\u001b[0;32m--> 981\u001b[0;31m             \u001b[0;32mraise\u001b[0m \u001b[0mTypeError\u001b[0m\u001b[0;34m(\u001b[0m\u001b[0;34m\"Cannot run query in closed transaction\"\u001b[0m\u001b[0;34m)\u001b[0m\u001b[0;34m\u001b[0m\u001b[0;34m\u001b[0m\u001b[0m\n\u001b[0m\u001b[1;32m    982\u001b[0m \u001b[0;34m\u001b[0m\u001b[0m\n\u001b[1;32m    983\u001b[0m         \u001b[0;32mtry\u001b[0m\u001b[0;34m:\u001b[0m\u001b[0;34m\u001b[0m\u001b[0;34m\u001b[0m\u001b[0m\n",
      "\u001b[0;31mTypeError\u001b[0m: Cannot run query in closed transaction"
     ]
    }
   ],
   "source": [
    "def create_tag_from_row(uri, title):\n",
    "  n = Node(\"Tag\", uri=uri, title=title)\n",
    "  create_tx.create(n)\n",
    "\n",
    "tags.iloc[1:,:].apply(lambda r: create_tag_from_row(r[0],r[1]), axis=1)\n",
    "\n",
    "g.commit()"
   ]
  },
  {
   "cell_type": "code",
   "execution_count": 48,
   "metadata": {
    "colab": {
     "base_uri": "https://localhost:8080/"
    },
    "id": "zULLKcaij6Ei",
    "outputId": "9a3a7cb8-bf91-4a63-ec78-8a1c55f20a53"
   },
   "outputs": [],
   "source": [
    "create_tx = g.begin()"
   ]
  },
  {
   "cell_type": "code",
   "execution_count": 49,
   "metadata": {
    "id": "BjWui68KT0Ky"
   },
   "outputs": [
    {
     "name": "stderr",
     "output_type": "stream",
     "text": [
      "/tmp/ipykernel_109057/2121119833.py:5: DeprecationWarning: The transaction.commit() method is deprecated, use graph.commit(transaction) instead\n",
      "  create_tx.commit()\n"
     ]
    }
   ],
   "source": [
    "for uri, title in tgs[1:]:\n",
    "    n = Node(\"Tag\", uri=uri, title=title)\n",
    "    create_tx.create(n)\n",
    "\n",
    "create_tx.commit()"
   ]
  },
  {
   "cell_type": "code",
   "execution_count": 25,
   "metadata": {
    "id": "ATpej7nBcezj"
   },
   "outputs": [],
   "source": [
    "driver.quit()"
   ]
  },
  {
   "cell_type": "markdown",
   "metadata": {
    "id": "lbdpI5r8nhTk"
   },
   "source": [
    "\n",
    "\n",
    "---\n",
    "\n"
   ]
  },
  {
   "cell_type": "code",
   "execution_count": null,
   "metadata": {},
   "outputs": [],
   "source": []
  },
  {
   "cell_type": "code",
   "execution_count": null,
   "metadata": {},
   "outputs": [],
   "source": []
  },
  {
   "cell_type": "code",
   "execution_count": null,
   "metadata": {},
   "outputs": [],
   "source": []
  },
  {
   "cell_type": "code",
   "execution_count": null,
   "metadata": {},
   "outputs": [],
   "source": []
  },
  {
   "cell_type": "code",
   "execution_count": null,
   "metadata": {},
   "outputs": [],
   "source": []
  },
  {
   "cell_type": "code",
   "execution_count": null,
   "metadata": {},
   "outputs": [],
   "source": []
  },
  {
   "cell_type": "code",
   "execution_count": null,
   "metadata": {},
   "outputs": [],
   "source": []
  },
  {
   "cell_type": "code",
   "execution_count": null,
   "metadata": {},
   "outputs": [],
   "source": []
  },
  {
   "cell_type": "code",
   "execution_count": null,
   "metadata": {},
   "outputs": [],
   "source": []
  },
  {
   "cell_type": "code",
   "execution_count": null,
   "metadata": {},
   "outputs": [],
   "source": []
  },
  {
   "cell_type": "code",
   "execution_count": null,
   "metadata": {},
   "outputs": [],
   "source": []
  },
  {
   "cell_type": "code",
   "execution_count": null,
   "metadata": {
    "id": "HHYJ1zhWcezc"
   },
   "outputs": [],
   "source": [
    "def logTime(startTime, currentTime):\n",
    "    endTime = time.time()\n",
    "    currentTime = currentTime or endTime\n",
    "    hours, rem = divmod(endTime-currentTime, 3600)\n",
    "    minutes, seconds = divmod(rem, 60)\n",
    "    print(\"[Duration:{:0>2}:{:0>2}:{:05.2f}, \".format(int(hours),int(minutes),int(seconds)), end='')\n",
    "    hours, rem = divmod(endTime-startTime, 3600)\n",
    "    minutes, seconds = divmod(rem, 60)\n",
    "    print(\"Total:{:0>2}:{:0>2}:{:05.2f}] \".format(int(hours),int(minutes),seconds), end='')\n",
    "    return endTime"
   ]
  },
  {
   "cell_type": "code",
   "execution_count": null,
   "metadata": {
    "id": "T8CVPbEmcezc"
   },
   "outputs": [],
   "source": [
    "# def export(df, name, path = ''):\n",
    "#     now = lambda: datetime.now().astimezone().isoformat(timespec='seconds').replace('-','').replace(':','')\n",
    "#     fullPath = 'Scraped-Data/' + path\n",
    "#     Path(fullPath).mkdir(parents=True, exist_ok=True)\n",
    "#     df.to_csv(fullPath + '/' + name + '-' + now() + '.csv')"
   ]
  },
  {
   "cell_type": "code",
   "execution_count": null,
   "metadata": {
    "id": "E7UFoLXtceze"
   },
   "outputs": [],
   "source": [
    "def getProblemsByTitle():\n",
    "    return allProblems.reset_index().set_index('Title')"
   ]
  },
  {
   "cell_type": "code",
   "execution_count": null,
   "metadata": {
    "id": "CqaO9LFNceze"
   },
   "outputs": [],
   "source": [
    "def openAndExportAllCompanies():\n",
    "    url = 'https://leetcode.com/problemset/all/'\n",
    "    driver.get(url)\n",
    "    WebDriverWait(driver, timeout=5).until(lambda x: x.find_element_by_tag_name(\"select\").is_displayed())\n",
    "    driver.find_element_by_css_selector('#expand-company .btn').click()\n",
    "    script = '''\n",
    "const buttons = document.getElementById('current-company-tags').children;\n",
    "const companies = [];\n",
    "for (const button of buttons) {\n",
    "  const company = [];\n",
    "  company.push(button.firstElementChild.innerText.trim());\n",
    "  company.push(button.firstElementChild.nextElementSibling.innerText.trim());\n",
    "  company.push(button.href);\n",
    "  companies.push(company);\n",
    "}\n",
    "return companies\n",
    "    '''\n",
    "    companiesData = driver.execute_script(script)\n",
    "    companies = pd.DataFrame(companiesData, columns = ['Name','Count','Link'])\n",
    "    companies.index = companies.index + 1\n",
    "    companies.index.name = 'Serial'\n",
    "    export(companies, 'Companies')\n",
    "    print(\"Exported %d Companies (100%%)\" % len(companies))\n",
    "    return companies"
   ]
  },
  {
   "cell_type": "code",
   "execution_count": null,
   "metadata": {
    "id": "G38Un5Wvcezf"
   },
   "outputs": [],
   "source": [
    "def getFirstOption():\n",
    "    driver.find_element_by_id('react-select-2--value-item').click()\n",
    "    firstOption = driver.execute_script(\"return (4-document.querySelectorAll('#react-select-2--list div[role=option]').length);\")\n",
    "    driver.find_element_by_id('react-select-2--value-item').click()\n",
    "    return firstOption"
   ]
  },
  {
   "cell_type": "code",
   "execution_count": null,
   "metadata": {
    "id": "gSb0Zsipcezf"
   },
   "outputs": [],
   "source": [
    "def selectOption(n):\n",
    "    driver.find_element_by_id('react-select-2--value-item').click()\n",
    "    driver.find_element_by_id('react-select-2--option-' + str(n)).click()"
   ]
  },
  {
   "cell_type": "code",
   "execution_count": null,
   "metadata": {
    "id": "7qyIui1ecezf"
   },
   "outputs": [],
   "source": [
    "def getCompanyProblems():\n",
    "    script = '''\n",
    "const rows = document.getElementsByClassName('reactable-data')[0].children;\n",
    "const problems = [];\n",
    "for (const row of rows) {\n",
    "    const problem = [], cols = row.children;\n",
    "    const tags = Array.from(cols[3].querySelectorAll('a')).map(t => t.innerText.trim()).join(', ');\n",
    "    const frequency = parseFloat(row.getElementsByClassName('progress-bar')[0].style.width);\n",
    "    const link = cols[2].querySelector('a').href;\n",
    "    problem.push(cols[1].innerText.trim());\n",
    "    problem.push(cols[2].innerText.trim());\n",
    "    problem.push(tags);\n",
    "    problem.push(cols[4].innerText.trim());\n",
    "    problem.push(cols[5].innerText.trim());\n",
    "    problem.push(frequency);\n",
    "    problem.push(link);\n",
    "    problems.push(problem);\n",
    "}\n",
    "return problems\n",
    "    '''\n",
    "    companyProblemsData = driver.execute_script(script)\n",
    "    companyProblems = pd.DataFrame(companyProblemsData, columns = ['Id','Title','Tags','Acceptance','Difficulty','Frequency','Link'])\n",
    "    companyProblems = companyProblems.set_index('Id')\n",
    "    return companyProblems"
   ]
  },
  {
   "cell_type": "code",
   "execution_count": null,
   "metadata": {
    "id": "GerOhtBQcezg"
   },
   "outputs": [],
   "source": [
    "def openAndExportAllCompanyProblems():\n",
    "    startTime = time.time()\n",
    "    currentTime = startTime\n",
    "    optionNames = ['6_months', '1_year', '2_years', 'All_time']\n",
    "    optionTotalCount = len(optionNames)\n",
    "    companiesCount = len(allCompanies)\n",
    "    currentTime = logTime(startTime, currentTime); print(\"Total Companies: %d\" % companiesCount)\n",
    "    for i in range(companiesCount):\n",
    "        company = allCompanies.iloc[i]\n",
    "        companyName = company['Name'].replace(' ','_')\n",
    "        currentTime = logTime(startTime, currentTime); print(\"Processing %s (%d/%d) (%d%%)\" % (companyName, i+1,companiesCount,((i+1)*100/companiesCount)))\n",
    "        driver.get(company['Link'])\n",
    "        WebDriverWait(driver, timeout=30).until(lambda x: x.find_element_by_id('react-select-2--value-item').is_displayed())\n",
    "        driver.find_element_by_css_selector('input[type=checkbox]').click()\n",
    "        driver.find_element_by_css_selector('.reactable-column-header th:nth-child(2)').click()\n",
    "        firstOption = getFirstOption()\n",
    "        currentTime = logTime(startTime, currentTime); print(\"Periods available: %d\" % (optionTotalCount- firstOption))\n",
    "        currentTime = logTime(startTime, currentTime); \n",
    "        for currentOption in range(firstOption, optionTotalCount):\n",
    "            optionName = optionNames[currentOption]\n",
    "            selectOption(currentOption)\n",
    "            companyProblems = getCompanyProblems()\n",
    "            print(\"%s: %d | \" % (optionName, len(companyProblems)), end='')\n",
    "            export(companyProblems, companyName + '-' + optionName, 'Company_Problems/Period-wise/' + optionName)\n",
    "            export(companyProblems, companyName + '-' + optionName, 'Company_Problems/Name-wise/' + companyName)\n",
    "        print()\n",
    "    currentTime = logTime(startTime, currentTime); print(\"Exported Problems of %d Companies (100%%)\" % companiesCount)"
   ]
  },
  {
   "cell_type": "code",
   "execution_count": null,
   "metadata": {
    "id": "L2buS_PUcezg"
   },
   "outputs": [],
   "source": [
    "def openAndExportAllInterviews():\n",
    "    url = 'https://leetcode.com/explore/interview/'\n",
    "    driver.get(url)\n",
    "    WebDriverWait(driver, timeout=5).until(lambda x: x.find_element_by_class_name('explore-card').is_displayed())\n",
    "    script = '''\n",
    "const cards = Array.from(document.querySelectorAll('.explore-card .premium')).map(e => e.closest('.explore-card'))\n",
    "const interviews = [];\n",
    "for (const card of cards) {\n",
    "  const interview = [];\n",
    "  interview.push(card.querySelector('.title').innerText.trim());\n",
    "  interview.push(card.querySelector('.chapter').innerText.trim());\n",
    "  interview.push(card.querySelector('.item').innerText.trim());\n",
    "  interview.push(card.querySelector('a').href);\n",
    "  interviews.push(interview);\n",
    "}\n",
    "return interviews;\n",
    "    '''\n",
    "    interviewsData = driver.execute_script(script)\n",
    "    interviews = pd.DataFrame(interviewsData, columns = ['Title','Chapters','Problems','Link'])\n",
    "    interviews.index = interviews.index + 1\n",
    "    interviews.index.name = 'Serial'\n",
    "    export(interviews, 'Interviews')\n",
    "    print(\"Exported %d Interviews (100%%)\" % len(interviews))\n",
    "    return interviews"
   ]
  },
  {
   "cell_type": "code",
   "execution_count": null,
   "metadata": {
    "id": "sXTxics1cezg"
   },
   "outputs": [],
   "source": [
    "def joinProblemDetails(problem):\n",
    "    problem['Id'] = None\n",
    "    cols = ['Acceptance','Difficulty','Frequency','Link']\n",
    "    for col in cols:\n",
    "        problem[col] = None\n",
    "    try:\n",
    "        problem['Id'] = allProblemsByTitle.loc[problem['Problem']]['Id']\n",
    "        for col in cols:\n",
    "            problem[col] = allProblems.loc[problem['Id']][col]\n",
    "    except:\n",
    "        pass\n",
    "    return problem"
   ]
  },
  {
   "cell_type": "code",
   "execution_count": null,
   "metadata": {
    "id": "HHIboELAcezg"
   },
   "outputs": [],
   "source": [
    "def getInterviewProblems():\n",
    "    script = '''\n",
    "const tables = document.getElementsByClassName('table-base');\n",
    "const problems = [];\n",
    "for (let i = 1; i <= tables.length; i++) {\n",
    "  const table = tables[i-1];\n",
    "  const chapterTitle = table.querySelector('.chapter-title').innerText.trim();\n",
    "  const items = table.querySelectorAll('*[title=\"Coding Question\"] ~ span');\n",
    "  for (let j = 1; j <= items.length; j++) {\n",
    "  const item = items[j-1];\n",
    "    const itemTitle = item.innerText.trim();\n",
    "    problems.push([i, chapterTitle, j, itemTitle]);\n",
    "  }\n",
    "}\n",
    "return problems\n",
    "    '''\n",
    "    interviewProblemsData = driver.execute_script(script)\n",
    "    interviewProblems = pd.DataFrame(interviewProblemsData, columns = ['ChapterSerial','Chapter','ProblemSerial','Problem'])\n",
    "    interviewProblems = interviewProblems.apply(joinProblemDetails, axis=1)\n",
    "    interviewProblems = interviewProblems.set_index('ChapterSerial')\n",
    "    return interviewProblems"
   ]
  },
  {
   "cell_type": "code",
   "execution_count": null,
   "metadata": {
    "id": "C3MMf7YHcezh"
   },
   "outputs": [],
   "source": [
    "def openAndExportAllInterviewProblems():\n",
    "    startTime = time.time()\n",
    "    currentTime = startTime\n",
    "    interviewsCount = len(allInterviews)\n",
    "    currentTime = logTime(startTime, currentTime); print(\"Total interviews: %d\" % interviewsCount)\n",
    "    for i in range(interviewsCount):\n",
    "        interview = allInterviews.iloc[i]\n",
    "        interviewTitle = interview['Title'].replace(' ','_')\n",
    "        currentTime = logTime(startTime, currentTime); print(\"Processing %s (%d/%d) (%d%%)\" % (interviewTitle, i+1,interviewsCount,((i+1)*100/interviewsCount)))\n",
    "        driver.get(interview['Link'])\n",
    "        WebDriverWait(driver, timeout=10).until(lambda x: str(len(x.find_elements_by_css_selector('.table-base .table-item'))) == interview['Problems'])\n",
    "        interviewProblems = getInterviewProblems()\n",
    "        currentTime = logTime(startTime, currentTime); print(\"Chapters: %s | Problems: %d\" % (interview['Chapters'], len(interviewProblems)))\n",
    "        export(interviewProblems, interviewTitle, 'Interview_Problems')\n",
    "        currentTime = logTime(startTime, currentTime); print(\"Exported Problems of %d Interviews (100%%)\" % interviewsCount)"
   ]
  },
  {
   "cell_type": "code",
   "execution_count": null,
   "metadata": {
    "id": "qoiqQ8q_cezh"
   },
   "outputs": [],
   "source": []
  },
  {
   "cell_type": "code",
   "execution_count": null,
   "metadata": {
    "id": "lktCkbdxcezh"
   },
   "outputs": [],
   "source": []
  },
  {
   "cell_type": "code",
   "execution_count": null,
   "metadata": {
    "id": "p-Nv0r0pcezh",
    "outputId": "bd606e6f-e9ee-4674-85e9-bed8e9fdad57",
    "tags": []
   },
   "outputs": [
    {
     "name": "stdout",
     "output_type": "stream",
     "text": [
      "Exported 1579 Problems (100%)\n"
     ]
    }
   ],
   "source": [
    "allProblems = openAndExportAllProblems()"
   ]
  },
  {
   "cell_type": "code",
   "execution_count": null,
   "metadata": {
    "id": "PX6zEotmcezi"
   },
   "outputs": [],
   "source": [
    "allProblemsByTitle = getProblemsByTitle()"
   ]
  },
  {
   "cell_type": "code",
   "execution_count": null,
   "metadata": {
    "id": "ANWQENwecezi",
    "outputId": "6ec84168-6c92-424d-9844-069dfaae556f",
    "tags": []
   },
   "outputs": [
    {
     "name": "stdout",
     "output_type": "stream",
     "text": [
      "Exported 236 Companies (100%)\n"
     ]
    }
   ],
   "source": [
    "allCompanies = openAndExportAllCompanies()"
   ]
  },
  {
   "cell_type": "code",
   "execution_count": null,
   "metadata": {
    "collapsed": true,
    "id": "xazkxfGKcezi",
    "jupyter": {
     "outputs_hidden": true
    },
    "outputId": "bec38651-f629-4b9d-e7ab-5eb2e0aeb9e7",
    "tags": [
     "outputPrepend"
    ]
   },
   "outputs": [
    {
     "name": "stdout",
     "output_type": "stream",
     "text": [
      "Duration:00:00:01.00, Total:00:06:14.67] Periods available: 2\n",
      "[Duration:00:00:00.00, Total:00:06:14.67] 2_years: 1 | All_time: 2 | \n",
      "[Duration:00:00:00.00, Total:00:06:14.81] Processing GE_Digital (138/236) (58%)\n",
      "[Duration:00:00:02.00, Total:00:06:17.02] Periods available: 2\n",
      "[Duration:00:00:00.00, Total:00:06:17.02] 2_years: 1 | All_time: 2 | \n",
      "[Duration:00:00:00.00, Total:00:06:17.13] Processing infosys (139/236) (58%)\n",
      "[Duration:00:00:01.00, Total:00:06:19.08] Periods available: 1\n",
      "[Duration:00:00:00.00, Total:00:06:19.08] All_time: 2 | \n",
      "[Duration:00:00:00.00, Total:00:06:19.14] Processing Jane_Street (140/236) (59%)\n",
      "[Duration:00:00:03.00, Total:00:06:22.23] Periods available: 2\n",
      "[Duration:00:00:00.00, Total:00:06:22.23] 2_years: 1 | All_time: 2 | \n",
      "[Duration:00:00:00.00, Total:00:06:22.36] Processing Machine_Zone (141/236) (59%)\n",
      "[Duration:00:00:01.00, Total:00:06:24.31] Periods available: 1\n",
      "[Duration:00:00:00.00, Total:00:06:24.31] All_time: 2 | \n",
      "[Duration:00:00:00.00, Total:00:06:24.37] Processing Media.net (142/236) (60%)\n",
      "[Duration:00:00:01.00, Total:00:06:25.63] Periods available: 1\n",
      "[Duration:00:00:00.00, Total:00:06:25.63] All_time: 2 | \n",
      "[Duration:00:00:00.00, Total:00:06:25.69] Processing MindTickle (143/236) (60%)\n",
      "[Duration:00:00:02.00, Total:00:06:27.90] Periods available: 1\n",
      "[Duration:00:00:00.00, Total:00:06:27.90] All_time: 2 | \n",
      "[Duration:00:00:00.00, Total:00:06:27.97] Processing Netsuite (144/236) (61%)\n",
      "[Duration:00:00:01.00, Total:00:06:29.84] Periods available: 1\n",
      "[Duration:00:00:00.00, Total:00:06:29.84] All_time: 2 | \n",
      "[Duration:00:00:00.00, Total:00:06:29.90] Processing Opendoor (145/236) (61%)\n",
      "[Duration:00:00:02.00, Total:00:06:32.46] Periods available: 3\n",
      "[Duration:00:00:00.00, Total:00:06:32.46] 1_year: 1 | 2_years: 2 | All_time: 2 | \n",
      "[Duration:00:00:00.00, Total:00:06:32.66] Processing Poshmark (146/236) (61%)\n",
      "[Duration:00:00:02.00, Total:00:06:34.70] Periods available: 1\n",
      "[Duration:00:00:00.00, Total:00:06:34.70] All_time: 2 | \n",
      "[Duration:00:00:00.00, Total:00:06:34.76] Processing Radius (147/236) (62%)\n",
      "[Duration:00:00:02.00, Total:00:06:37.49] Periods available: 2\n",
      "[Duration:00:00:00.00, Total:00:06:37.49] 2_years: 1 | All_time: 2 | \n",
      "[Duration:00:00:00.00, Total:00:06:37.63] Processing Startup (148/236) (62%)\n",
      "[Duration:00:00:02.00, Total:00:06:39.85] Periods available: 1\n",
      "[Duration:00:00:00.00, Total:00:06:39.85] All_time: 2 | \n",
      "[Duration:00:00:00.00, Total:00:06:39.91] Processing Turvo (149/236) (63%)\n",
      "[Duration:00:00:02.00, Total:00:06:42.57] Periods available: 1\n",
      "[Duration:00:00:00.00, Total:00:06:42.57] All_time: 2 | \n",
      "[Duration:00:00:00.00, Total:00:06:42.62] Processing Uipath (150/236) (63%)\n",
      "[Duration:00:00:01.00, Total:00:06:44.22] Periods available: 1\n",
      "[Duration:00:00:00.00, Total:00:06:44.22] All_time: 2 | \n",
      "[Duration:00:00:00.00, Total:00:06:44.27] Processing United_Health_Group (151/236) (63%)\n",
      "[Duration:00:00:01.00, Total:00:06:46.10] Periods available: 1\n",
      "[Duration:00:00:00.00, Total:00:06:46.10] All_time: 2 | \n",
      "[Duration:00:00:00.00, Total:00:06:46.15] Processing Valve (152/236) (64%)\n",
      "[Duration:00:00:01.00, Total:00:06:47.97] Periods available: 2\n",
      "[Duration:00:00:00.00, Total:00:06:47.97] 2_years: 1 | All_time: 2 | \n",
      "[Duration:00:00:00.00, Total:00:06:48.11] Processing Zappos (153/236) (64%)\n",
      "[Duration:00:00:01.00, Total:00:06:49.48] Periods available: 3\n",
      "[Duration:00:00:00.00, Total:00:06:49.48] 1_year: 1 | 2_years: 1 | All_time: 2 | \n",
      "[Duration:00:00:00.00, Total:00:06:49.67] Processing Zynga (154/236) (65%)\n",
      "[Duration:00:00:01.00, Total:00:06:51.43] Periods available: 2\n",
      "[Duration:00:00:00.00, Total:00:06:51.43] 2_years: 2 | All_time: 2 | \n",
      "[Duration:00:00:00.00, Total:00:06:51.55] Processing 23&me (155/236) (65%)\n",
      "[Duration:00:00:01.00, Total:00:06:53.45] Periods available: 1\n",
      "[Duration:00:00:00.00, Total:00:06:53.45] All_time: 1 | \n",
      "[Duration:00:00:00.00, Total:00:06:53.52] Processing Accolite (156/236) (66%)\n",
      "[Duration:00:00:01.00, Total:00:06:54.74] Periods available: 1\n",
      "[Duration:00:00:00.00, Total:00:06:54.74] All_time: 1 | \n",
      "[Duration:00:00:00.00, Total:00:06:54.79] Processing Activevideo (157/236) (66%)\n",
      "[Duration:00:00:02.00, Total:00:06:57.06] Periods available: 1\n",
      "[Duration:00:00:00.00, Total:00:06:57.06] All_time: 1 | \n",
      "[Duration:00:00:00.00, Total:00:06:57.13] Processing Affinity (158/236) (66%)\n",
      "[Duration:00:00:01.00, Total:00:06:58.50] Periods available: 1\n",
      "[Duration:00:00:00.00, Total:00:06:58.50] All_time: 1 | \n",
      "[Duration:00:00:00.00, Total:00:06:58.56] Processing Airtel (159/236) (67%)\n",
      "[Duration:00:00:01.00, Total:00:07:00.33] Periods available: 1\n",
      "[Duration:00:00:00.00, Total:00:07:00.33] All_time: 1 | \n",
      "[Duration:00:00:00.00, Total:00:07:00.39] Processing Ajira (160/236) (67%)\n",
      "[Duration:00:00:01.00, Total:00:07:01.68] Periods available: 1\n",
      "[Duration:00:00:00.00, Total:00:07:01.68] All_time: 1 | \n",
      "[Duration:00:00:00.00, Total:00:07:01.74] Processing akamai (161/236) (68%)\n",
      "[Duration:00:00:01.00, Total:00:07:03.21] Periods available: 1\n",
      "[Duration:00:00:00.00, Total:00:07:03.21] All_time: 1 | \n",
      "[Duration:00:00:00.00, Total:00:07:03.28] Processing Akuna (162/236) (68%)\n",
      "[Duration:00:00:01.00, Total:00:07:04.54] Periods available: 1\n",
      "[Duration:00:00:00.00, Total:00:07:04.54] All_time: 1 | \n",
      "[Duration:00:00:00.00, Total:00:07:04.60] Processing Arcesium (163/236) (69%)\n",
      "[Duration:00:00:01.00, Total:00:07:05.87] Periods available: 1\n",
      "[Duration:00:00:00.00, Total:00:07:05.87] All_time: 1 | \n",
      "[Duration:00:00:00.00, Total:00:07:05.93] Processing Arista (164/236) (69%)\n",
      "[Duration:00:00:01.00, Total:00:07:07.31] Periods available: 1\n",
      "[Duration:00:00:00.00, Total:00:07:07.31] All_time: 1 | \n",
      "[Duration:00:00:00.00, Total:00:07:07.37] Processing Blizzard (165/236) (69%)\n",
      "[Duration:00:00:01.00, Total:00:07:08.73] Periods available: 2\n",
      "[Duration:00:00:00.00, Total:00:07:08.73] 2_years: 1 | All_time: 1 | \n",
      "[Duration:00:00:00.00, Total:00:07:08.87] Processing Bloomreach (166/236) (70%)\n",
      "[Duration:00:00:01.00, Total:00:07:10.66] Periods available: 1\n",
      "[Duration:00:00:00.00, Total:00:07:10.66] All_time: 1 | \n",
      "[Duration:00:00:00.00, Total:00:07:10.73] Processing BNY_Mellon (167/236) (70%)\n",
      "[Duration:00:00:01.00, Total:00:07:12.45] Periods available: 1\n",
      "[Duration:00:00:00.00, Total:00:07:12.45] All_time: 1 | \n",
      "[Duration:00:00:00.00, Total:00:07:12.50] Processing Booking (168/236) (71%)\n",
      "[Duration:00:00:01.00, Total:00:07:14.33] Periods available: 1\n",
      "[Duration:00:00:00.00, Total:00:07:14.33] All_time: 1 | \n",
      "[Duration:00:00:00.00, Total:00:07:14.39] Processing Brillio (169/236) (71%)\n",
      "[Duration:00:00:01.00, Total:00:07:15.81] Periods available: 1\n",
      "[Duration:00:00:00.00, Total:00:07:15.82] All_time: 1 | \n",
      "[Duration:00:00:00.00, Total:00:07:15.89] Processing ByteDance(Toutiao) (170/236) (72%)\n",
      "[Duration:00:00:01.00, Total:00:07:17.16] Periods available: 1\n",
      "[Duration:00:00:00.00, Total:00:07:17.16] All_time: 1 | \n",
      "[Duration:00:00:00.00, Total:00:07:17.22] Processing CasaOne (171/236) (72%)\n",
      "[Duration:00:00:01.00, Total:00:07:18.67] Periods available: 1\n",
      "[Duration:00:00:00.00, Total:00:07:18.67] All_time: 1 | \n",
      "[Duration:00:00:00.00, Total:00:07:18.74] Processing clutter (172/236) (72%)\n",
      "[Duration:00:00:01.00, Total:00:07:20.06] Periods available: 1\n",
      "[Duration:00:00:00.00, Total:00:07:20.06] All_time: 1 | \n",
      "[Duration:00:00:00.00, Total:00:07:20.12] Processing Codenation (173/236) (73%)\n",
      "[Duration:00:00:01.00, Total:00:07:21.77] Periods available: 1\n",
      "[Duration:00:00:00.00, Total:00:07:21.77] All_time: 1 | \n",
      "[Duration:00:00:00.00, Total:00:07:21.84] Processing DeliveryHero (174/236) (73%)\n",
      "[Duration:00:00:01.00, Total:00:07:23.35] Periods available: 1\n",
      "[Duration:00:00:00.00, Total:00:07:23.35] All_time: 1 | \n",
      "[Duration:00:00:00.00, Total:00:07:23.42] Processing DJI (175/236) (74%)\n",
      "[Duration:00:00:01.00, Total:00:07:24.70] Periods available: 1\n",
      "[Duration:00:00:00.00, Total:00:07:24.70] All_time: 1 | \n",
      "[Duration:00:00:00.00, Total:00:07:24.77] Processing Dosh (176/236) (74%)\n",
      "[Duration:00:00:01.00, Total:00:07:26.10] Periods available: 1\n",
      "[Duration:00:00:00.00, Total:00:07:26.10] All_time: 1 | \n",
      "[Duration:00:00:00.00, Total:00:07:26.16] Processing Dream11 (177/236) (75%)\n",
      "[Duration:00:00:01.00, Total:00:07:27.55] Periods available: 1\n",
      "[Duration:00:00:00.00, Total:00:07:27.55] All_time: 1 | \n",
      "[Duration:00:00:00.00, Total:00:07:27.62] Processing druva (178/236) (75%)\n",
      "[Duration:00:00:01.00, Total:00:07:28.87] Periods available: 1\n",
      "[Duration:00:00:00.00, Total:00:07:28.87] All_time: 1 | \n",
      "[Duration:00:00:00.00, Total:00:07:28.94] Processing DRW (179/236) (75%)\n",
      "[Duration:00:00:01.00, Total:00:07:30.29] Periods available: 1\n",
      "[Duration:00:00:00.00, Total:00:07:30.29] All_time: 1 | \n",
      "[Duration:00:00:00.00, Total:00:07:30.36] Processing EMC (180/236) (76%)\n",
      "[Duration:00:00:01.00, Total:00:07:32.29] Periods available: 2\n",
      "[Duration:00:00:00.00, Total:00:07:32.29] 2_years: 1 | All_time: 1 | \n",
      "[Duration:00:00:00.00, Total:00:07:32.43] Processing F5_Networks (181/236) (76%)\n",
      "[Duration:00:00:02.00, Total:00:07:34.91] Periods available: 1\n",
      "[Duration:00:00:00.00, Total:00:07:34.91] All_time: 1 | \n",
      "[Duration:00:00:00.00, Total:00:07:34.97] Processing Fallible (182/236) (77%)\n",
      "[Duration:00:00:01.00, Total:00:07:36.29] Periods available: 1\n",
      "[Duration:00:00:00.00, Total:00:07:36.29] All_time: 1 | \n",
      "[Duration:00:00:00.00, Total:00:07:36.35] Processing Fidessa (183/236) (77%)\n",
      "[Duration:00:00:01.00, Total:00:07:37.77] Periods available: 1\n",
      "[Duration:00:00:00.00, Total:00:07:37.77] All_time: 1 | \n",
      "[Duration:00:00:00.00, Total:00:07:37.83] Processing Flexport (184/236) (77%)\n",
      "[Duration:00:00:01.00, Total:00:07:39.13] Periods available: 1\n",
      "[Duration:00:00:00.00, Total:00:07:39.13] All_time: 1 | \n",
      "[Duration:00:00:00.00, Total:00:07:39.19] Processing Gilt_Groupe (185/236) (78%)\n",
      "[Duration:00:00:01.00, Total:00:07:40.99] Periods available: 1\n",
      "[Duration:00:00:00.00, Total:00:07:40.99] All_time: 1 | \n",
      "[Duration:00:00:00.00, Total:00:07:41.06] Processing Hackerrank (186/236) (78%)\n",
      "[Duration:00:00:01.00, Total:00:07:42.43] Periods available: 1\n",
      "[Duration:00:00:00.00, Total:00:07:42.43] All_time: 1 | \n",
      "[Duration:00:00:00.00, Total:00:07:42.49] Processing Helix (187/236) (79%)\n",
      "[Duration:00:00:01.00, Total:00:07:43.74] Periods available: 1\n",
      "[Duration:00:00:00.00, Total:00:07:43.74] All_time: 1 | \n",
      "[Duration:00:00:00.00, Total:00:07:43.81] Processing honey (188/236) (79%)\n",
      "[Duration:00:00:01.00, Total:00:07:45.14] Periods available: 1\n",
      "[Duration:00:00:00.00, Total:00:07:45.14] All_time: 1 | \n",
      "[Duration:00:00:00.00, Total:00:07:45.21] Processing Hotstar (189/236) (80%)\n",
      "[Duration:00:00:01.00, Total:00:07:47.15] Periods available: 1\n",
      "[Duration:00:00:00.00, Total:00:07:47.15] All_time: 1 | \n",
      "[Duration:00:00:00.00, Total:00:07:47.22] Processing HTC (190/236) (80%)\n",
      "[Duration:00:00:01.00, Total:00:07:49.03] Periods available: 2\n",
      "[Duration:00:00:00.00, Total:00:07:49.03] 2_years: 1 | All_time: 1 | \n",
      "[Duration:00:00:00.00, Total:00:07:49.17] Processing IIT_Bombay (191/236) (80%)\n",
      "[Duration:00:00:01.00, Total:00:07:50.93] Periods available: 1\n",
      "[Duration:00:00:00.00, Total:00:07:50.93] All_time: 1 | \n",
      "[Duration:00:00:00.00, Total:00:07:51.00] Processing InMobi (192/236) (81%)\n",
      "[Duration:00:00:01.00, Total:00:07:52.48] Periods available: 1\n",
      "[Duration:00:00:00.00, Total:00:07:52.48] All_time: 1 | \n",
      "[Duration:00:00:00.00, Total:00:07:52.54] Processing Jingchi (193/236) (81%)\n",
      "[Duration:00:00:02.00, Total:00:07:54.58] Periods available: 1\n",
      "[Duration:00:00:00.00, Total:00:07:54.58] All_time: 1 | \n",
      "[Duration:00:00:00.00, Total:00:07:54.65] Processing JP_Morgan (194/236) (82%)\n",
      "[Duration:00:00:01.00, Total:00:07:56.40] Periods available: 1\n",
      "[Duration:00:00:00.00, Total:00:07:56.40] All_time: 1 | \n",
      "[Duration:00:00:00.00, Total:00:07:56.46] Processing JP_Morgan_Chase (195/236) (82%)\n",
      "[Duration:00:00:02.00, Total:00:07:58.56] Periods available: 1\n",
      "[Duration:00:00:00.00, Total:00:07:58.56] All_time: 1 | \n",
      "[Duration:00:00:00.00, Total:00:07:58.62] Processing Jump_Trading (196/236) (83%)\n",
      "[Duration:00:00:02.00, Total:00:08:01.13] Periods available: 2\n",
      "[Duration:00:00:00.00, Total:00:08:01.13] 2_years: 1 | All_time: 1 | \n",
      "[Duration:00:00:00.00, Total:00:08:01.27] Processing Kakao (197/236) (83%)\n",
      "[Duration:00:00:01.00, Total:00:08:02.75] Periods available: 1\n",
      "[Duration:00:00:00.00, Total:00:08:02.75] All_time: 1 | \n",
      "[Duration:00:00:00.00, Total:00:08:02.81] Processing Leap_Motion (198/236) (83%)\n",
      "[Duration:00:00:01.00, Total:00:08:04.80] Periods available: 1\n",
      "[Duration:00:00:00.00, Total:00:08:04.80] All_time: 1 | \n",
      "[Duration:00:00:00.00, Total:00:08:04.87] Processing LimeBike (199/236) (84%)\n",
      "[Duration:00:00:01.00, Total:00:08:06.34] Periods available: 1\n",
      "[Duration:00:00:00.00, Total:00:08:06.34] All_time: 1 | \n",
      "[Duration:00:00:00.00, Total:00:08:06.41] Processing MachineZone (200/236) (84%)\n",
      "[Duration:00:00:01.00, Total:00:08:07.77] Periods available: 1\n",
      "[Duration:00:00:00.00, Total:00:08:07.77] All_time: 1 | \n",
      "[Duration:00:00:00.00, Total:00:08:07.84] Processing Mapbox (201/236) (85%)\n",
      "[Duration:00:00:01.00, Total:00:08:09.09] Periods available: 1\n",
      "[Duration:00:00:00.00, Total:00:08:09.09] All_time: 1 | \n",
      "[Duration:00:00:00.00, Total:00:08:09.16] Processing MAQ_Software (202/236) (85%)\n",
      "[Duration:00:00:02.00, Total:00:08:11.22] Periods available: 1\n",
      "[Duration:00:00:00.00, Total:00:08:11.22] All_time: 1 | \n",
      "[Duration:00:00:00.00, Total:00:08:11.29] Processing McKinsey (203/236) (86%)\n",
      "[Duration:00:00:01.00, Total:00:08:12.88] Periods available: 1\n",
      "[Duration:00:00:00.00, Total:00:08:12.88] All_time: 1 | \n",
      "[Duration:00:00:00.00, Total:00:08:12.95] Processing Microstrategy (204/236) (86%)\n",
      "[Duration:00:00:01.00, Total:00:08:14.77] Periods available: 1\n",
      "[Duration:00:00:00.00, Total:00:08:14.77] All_time: 1 | \n",
      "[Duration:00:00:00.00, Total:00:08:14.83] Processing National_Instruments (205/236) (86%)\n",
      "[Duration:00:00:01.00, Total:00:08:16.37] Periods available: 1\n",
      "[Duration:00:00:00.00, Total:00:08:16.37] All_time: 1 | \n",
      "[Duration:00:00:00.00, Total:00:08:16.44] Processing Nuro (206/236) (87%)\n",
      "[Duration:00:00:01.00, Total:00:08:18.26] Periods available: 1\n",
      "[Duration:00:00:00.00, Total:00:08:18.26] All_time: 1 | \n",
      "[Duration:00:00:00.00, Total:00:08:18.33] Processing Oasis_Labs (207/236) (87%)\n",
      "[Duration:00:00:01.00, Total:00:08:19.75] Periods available: 1\n",
      "[Duration:00:00:00.00, Total:00:08:19.75] All_time: 1 | \n",
      "[Duration:00:00:00.00, Total:00:08:19.82] Processing Optum (208/236) (88%)\n",
      "[Duration:00:00:01.00, Total:00:08:21.08] Periods available: 1\n",
      "[Duration:00:00:00.00, Total:00:08:21.08] All_time: 1 | \n",
      "[Duration:00:00:00.00, Total:00:08:21.15] Processing OT (209/236) (88%)\n",
      "[Duration:00:00:02.00, Total:00:08:23.21] Periods available: 1\n",
      "[Duration:00:00:00.00, Total:00:08:23.21] All_time: 1 | \n",
      "[Duration:00:00:00.00, Total:00:08:23.27] Processing Palantir (210/236) (88%)\n",
      "[Duration:00:00:02.00, Total:00:08:25.72] Periods available: 1\n",
      "[Duration:00:00:00.00, Total:00:08:25.72] All_time: 1 | \n",
      "[Duration:00:00:00.00, Total:00:08:25.78] Processing PayTM (211/236) (89%)\n",
      "[Duration:00:00:01.00, Total:00:08:27.23] Periods available: 1\n",
      "[Duration:00:00:00.00, Total:00:08:27.23] All_time: 1 | \n",
      "[Duration:00:00:00.00, Total:00:08:27.29] Processing PHONEPE (212/236) (89%)\n",
      "[Duration:00:00:01.00, Total:00:08:29.17] Periods available: 1\n",
      "[Duration:00:00:00.00, Total:00:08:29.17] All_time: 1 | \n",
      "[Duration:00:00:00.00, Total:00:08:29.24] Processing Postman (213/236) (90%)\n",
      "[Duration:00:00:02.00, Total:00:08:31.24] Periods available: 1\n",
      "[Duration:00:00:00.00, Total:00:08:31.24] All_time: 1 | \n",
      "[Duration:00:00:00.00, Total:00:08:31.30] Processing Poynt (214/236) (90%)\n",
      "[Duration:00:00:01.00, Total:00:08:32.68] Periods available: 1\n",
      "[Duration:00:00:00.00, Total:00:08:32.68] All_time: 1 | \n",
      "[Duration:00:00:00.00, Total:00:08:32.74] Processing pramp (215/236) (91%)\n",
      "[Duration:00:00:01.00, Total:00:08:34.07] Periods available: 1\n",
      "[Duration:00:00:00.00, Total:00:08:34.07] All_time: 1 | \n",
      "[Duration:00:00:00.00, Total:00:08:34.13] Processing Quantcast (216/236) (91%)\n",
      "[Duration:00:00:01.00, Total:00:08:35.42] Periods available: 2\n",
      "[Duration:00:00:00.00, Total:00:08:35.42] 2_years: 1 | All_time: 1 | \n",
      "[Duration:00:00:00.00, Total:00:08:35.56] Processing Quble (217/236) (91%)\n",
      "[Duration:00:00:01.00, Total:00:08:36.95] Periods available: 1\n",
      "[Duration:00:00:00.00, Total:00:08:36.95] All_time: 1 | \n",
      "[Duration:00:00:00.00, Total:00:08:37.02] Processing Rackspace (218/236) (92%)\n",
      "[Duration:00:00:01.00, Total:00:08:38.39] Periods available: 1\n",
      "[Duration:00:00:00.00, Total:00:08:38.39] All_time: 1 | \n",
      "[Duration:00:00:00.00, Total:00:08:38.46] Processing Rupeek (219/236) (92%)\n",
      "[Duration:00:00:02.00, Total:00:08:40.92] Periods available: 1\n",
      "[Duration:00:00:00.00, Total:00:08:40.92] All_time: 1 | \n",
      "[Duration:00:00:00.00, Total:00:08:40.98] Processing Sapient (220/236) (93%)\n",
      "[Duration:00:00:02.00, Total:00:08:43.61] Periods available: 1\n",
      "[Duration:00:00:00.00, Total:00:08:43.61] All_time: 1 | \n",
      "[Duration:00:00:00.00, Total:00:08:43.68] Processing snapdeal (221/236) (93%)\n",
      "[Duration:00:00:01.00, Total:00:08:45.05] Periods available: 1\n",
      "[Duration:00:00:00.00, Total:00:08:45.05] All_time: 1 | \n",
      "[Duration:00:00:00.00, Total:00:08:45.12] Processing SoundHound (222/236) (94%)\n",
      "[Duration:00:00:01.00, Total:00:08:46.58] Periods available: 1\n",
      "[Duration:00:00:00.00, Total:00:08:46.58] All_time: 1 | \n",
      "[Duration:00:00:00.00, Total:00:08:46.65] Processing Sumerge (223/236) (94%)\n",
      "[Duration:00:00:01.00, Total:00:08:48.01] Periods available: 1\n",
      "[Duration:00:00:00.00, Total:00:08:48.01] All_time: 1 | \n",
      "[Duration:00:00:00.00, Total:00:08:48.08] Processing Swiggy (224/236) (94%)\n",
      "[Duration:00:00:01.00, Total:00:08:49.45] Periods available: 1\n",
      "[Duration:00:00:00.00, Total:00:08:49.45] All_time: 1 | \n",
      "[Duration:00:00:00.00, Total:00:08:49.51] Processing Symantec (225/236) (95%)\n",
      "[Duration:00:00:01.00, Total:00:08:51.47] Periods available: 2\n",
      "[Duration:00:00:00.00, Total:00:08:51.47] 2_years: 1 | All_time: 1 | \n",
      "[Duration:00:00:00.00, Total:00:08:51.61] Processing TandemG (226/236) (95%)\n",
      "[Duration:00:00:01.00, Total:00:08:53.15] Periods available: 1\n",
      "[Duration:00:00:00.00, Total:00:08:53.15] All_time: 1 | \n",
      "[Duration:00:00:00.00, Total:00:08:53.21] Processing Thumbtack (227/236) (96%)\n",
      "[Duration:00:00:01.00, Total:00:08:54.57] Periods available: 1\n",
      "[Duration:00:00:00.00, Total:00:08:54.57] All_time: 1 | \n",
      "[Duration:00:00:00.00, Total:00:08:54.64] Processing Toptal (228/236) (96%)\n",
      "[Duration:00:00:01.00, Total:00:08:56.45] Periods available: 1\n",
      "[Duration:00:00:00.00, Total:00:08:56.45] All_time: 1 | \n",
      "[Duration:00:00:00.00, Total:00:08:56.52] Processing Traveloka (229/236) (97%)\n",
      "[Duration:00:00:01.00, Total:00:08:57.95] Periods available: 1\n",
      "[Duration:00:00:00.00, Total:00:08:57.95] All_time: 1 | \n",
      "[Duration:00:00:00.00, Total:00:08:58.01] Processing tsys (230/236) (97%)\n",
      "[Duration:00:00:01.00, Total:00:08:59.31] Periods available: 1\n",
      "[Duration:00:00:00.00, Total:00:08:59.31] All_time: 1 | \n",
      "[Duration:00:00:00.00, Total:00:08:59.37] Processing Unacademy (231/236) (97%)\n",
      "[Duration:00:00:01.00, Total:00:09:00.66] Periods available: 1\n",
      "[Duration:00:00:00.00, Total:00:09:00.66] All_time: 1 | \n",
      "[Duration:00:00:00.00, Total:00:09:00.72] Processing Walmart (232/236) (98%)\n",
      "[Duration:00:00:01.00, Total:00:09:02.66] Periods available: 1\n",
      "[Duration:00:00:00.00, Total:00:09:02.66] All_time: 1 | \n",
      "[Duration:00:00:00.00, Total:00:09:02.73] Processing Whole_Foods_Market (233/236) (98%)\n",
      "[Duration:00:00:01.00, Total:00:09:04.00] Periods available: 1\n",
      "[Duration:00:00:00.00, Total:00:09:04.00] All_time: 1 | \n",
      "[Duration:00:00:00.00, Total:00:09:04.07] Processing Yatra (234/236) (99%)\n",
      "[Duration:00:00:01.00, Total:00:09:05.38] Periods available: 1\n",
      "[Duration:00:00:00.00, Total:00:09:05.38] All_time: 1 | \n",
      "[Duration:00:00:00.00, Total:00:09:05.45] Processing zalando (235/236) (99%)\n",
      "[Duration:00:00:01.00, Total:00:09:06.86] Periods available: 1\n",
      "[Duration:00:00:00.00, Total:00:09:06.86] All_time: 1 | \n",
      "[Duration:00:00:00.00, Total:00:09:06.93] Processing zscaler (236/236) (100%)\n",
      "[Duration:00:00:01.00, Total:00:09:08.80] Periods available: 1\n",
      "[Duration:00:00:00.00, Total:00:09:08.80] All_time: 1 | \n",
      "[Duration:00:00:00.00, Total:00:09:08.87] Exported Problems of 236 Companies (100%)\n"
     ]
    }
   ],
   "source": [
    "openAndExportAllCompanyProblems()"
   ]
  },
  {
   "cell_type": "code",
   "execution_count": null,
   "metadata": {
    "id": "LOiTt3f3cezi",
    "outputId": "e981c369-ed97-4e9b-86c2-0000550b0d56",
    "tags": []
   },
   "outputs": [
    {
     "name": "stdout",
     "output_type": "stream",
     "text": [
      "Exported 10 Interviews (100%)\n"
     ]
    }
   ],
   "source": [
    "allInterviews = openAndExportAllInterviews()"
   ]
  },
  {
   "cell_type": "code",
   "execution_count": null,
   "metadata": {
    "id": "WlVSMfAvcezj",
    "outputId": "a1976c4b-a11e-4b3f-d2fb-526101c949a1",
    "tags": []
   },
   "outputs": [
    {
     "name": "stdout",
     "output_type": "stream",
     "text": [
      "[Duration:00:00:00.00, Total:00:00:00.00] Total interviews: 10\n",
      "[Duration:00:00:00.00, Total:00:00:00.00] Processing Google_Interview (1/10) (10%)\n",
      "[Duration:00:00:03.00, Total:00:00:03.89] Chapters: 9 | Problems: 81\n",
      "[Duration:00:00:00.00, Total:00:00:03.89] Exported Problems of 10 Interviews (100%)\n",
      "[Duration:00:00:00.00, Total:00:00:03.89] Processing Facebook (2/10) (20%)\n",
      "[Duration:00:00:03.00, Total:00:00:07.58] Chapters: 9 | Problems: 79\n",
      "[Duration:00:00:00.00, Total:00:00:07.58] Exported Problems of 10 Interviews (100%)\n",
      "[Duration:00:00:00.00, Total:00:00:07.58] Processing Microsoft (3/10) (30%)\n",
      "[Duration:00:00:03.00, Total:00:00:10.62] Chapters: 8 | Problems: 58\n",
      "[Duration:00:00:00.00, Total:00:00:10.62] Exported Problems of 10 Interviews (100%)\n",
      "[Duration:00:00:00.00, Total:00:00:10.62] Processing Amazon (4/10) (40%)\n",
      "[Duration:00:00:03.00, Total:00:00:13.72] Chapters: 8 | Problems: 68\n",
      "[Duration:00:00:00.00, Total:00:00:13.72] Exported Problems of 10 Interviews (100%)\n",
      "[Duration:00:00:00.00, Total:00:00:13.72] Processing Apple_Interview (5/10) (50%)\n",
      "[Duration:00:00:03.00, Total:00:00:17.60] Chapters: 8 | Problems: 62\n",
      "[Duration:00:00:00.00, Total:00:00:17.60] Exported Problems of 10 Interviews (100%)\n",
      "[Duration:00:00:00.00, Total:00:00:17.60] Processing Adobe_Interview (6/10) (60%)\n",
      "[Duration:00:00:04.00, Total:00:00:21.96] Chapters: 9 | Problems: 55\n",
      "[Duration:00:00:00.00, Total:00:00:21.96] Exported Problems of 10 Interviews (100%)\n",
      "[Duration:00:00:00.00, Total:00:00:21.96] Processing Bloomberg (7/10) (70%)\n",
      "[Duration:00:00:03.00, Total:00:00:24.97] Chapters: 8 | Problems: 46\n",
      "[Duration:00:00:00.00, Total:00:00:24.97] Exported Problems of 10 Interviews (100%)\n",
      "[Duration:00:00:00.00, Total:00:00:24.97] Processing Uber_Interview (8/10) (80%)\n",
      "[Duration:00:00:02.00, Total:00:00:27.95] Chapters: 9 | Problems: 52\n",
      "[Duration:00:00:00.00, Total:00:00:27.95] Exported Problems of 10 Interviews (100%)\n",
      "[Duration:00:00:00.00, Total:00:00:27.96] Processing Yelp (9/10) (90%)\n",
      "[Duration:00:00:03.00, Total:00:00:31.05] Chapters: 8 | Problems: 42\n",
      "[Duration:00:00:00.00, Total:00:00:31.05] Exported Problems of 10 Interviews (100%)\n",
      "[Duration:00:00:00.00, Total:00:00:31.05] Processing LinkedIn (10/10) (100%)\n",
      "[Duration:00:00:02.00, Total:00:00:33.49] Chapters: 7 | Problems: 49\n",
      "[Duration:00:00:00.00, Total:00:00:33.49] Exported Problems of 10 Interviews (100%)\n"
     ]
    }
   ],
   "source": [
    "openAndExportAllInterviewProblems()"
   ]
  },
  {
   "cell_type": "code",
   "execution_count": null,
   "metadata": {
    "id": "ATpej7nBcezj"
   },
   "outputs": [],
   "source": [
    "driver.quit()"
   ]
  }
 ],
 "metadata": {
  "colab": {
   "collapsed_sections": [],
   "include_colab_link": true,
   "provenance": [],
   "toc_visible": true
  },
  "kernelspec": {
   "display_name": "Python 3 (ipykernel)",
   "language": "python",
   "name": "python3"
  },
  "language_info": {
   "codemirror_mode": {
    "name": "ipython",
    "version": 3
   },
   "file_extension": ".py",
   "mimetype": "text/x-python",
   "name": "python",
   "nbconvert_exporter": "python",
   "pygments_lexer": "ipython3",
   "version": "3.10.6"
  }
 },
 "nbformat": 4,
 "nbformat_minor": 1
}
