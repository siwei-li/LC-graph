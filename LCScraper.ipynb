{
 "cells": [
  {
   "cell_type": "markdown",
   "metadata": {
    "colab_type": "text",
    "id": "view-in-github"
   },
   "source": [
    "<a href=\"https://colab.research.google.com/github/siwei-li/LC-graph/blob/master/LCScraper.ipynb\" target=\"_parent\"><img src=\"https://colab.research.google.com/assets/colab-badge.svg\" alt=\"Open In Colab\"/></a>"
   ]
  },
  {
   "cell_type": "code",
   "execution_count": 1,
   "metadata": {
    "id": "X3QfS7LdcezZ"
   },
   "outputs": [],
   "source": [
    "import pandas as pd\n",
    "import time,csv,sys,pytz,os\n",
    "from pathlib import Path\n",
    "\n",
    "from selenium import webdriver\n",
    "from selenium.webdriver.common.keys import Keys\n",
    "from selenium.webdriver.common.by import By\n",
    "from selenium.webdriver.support import expected_conditions as EC\n",
    "from selenium.webdriver.support.ui import Select,WebDriverWait\n",
    "\n",
    "import numpy as np\n",
    "from datetime import date,datetime,timedelta"
   ]
  },
  {
   "cell_type": "code",
   "execution_count": 2,
   "metadata": {
    "id": "wQuKYrVxjJhv"
   },
   "outputs": [],
   "source": [
    "# refer following discussion\n",
    "# https://stackoverflow.com/questions/56829470/selenium-google-colab-error-chromedriver-executable-needs-to-be-in-path\n",
    "# install chromium, its driver, and selenium\n",
    "# !apt-get update\n",
    "# !apt install chromium-chromedriver\n",
    "# !cp /usr/lib/chromium-browser/chromedriver /usr/bin\n",
    "\n",
    "# !pip install selenium\n",
    "\n",
    "from selenium import webdriver\n",
    "options = webdriver.ChromeOptions()\n",
    "options.add_argument('--headless')\n",
    "options.add_argument('--no-sandbox')\n",
    "options.add_argument('--disable-dev-shm-usage')\n",
    "# # open it, go to a website, and get results\n",
    "# wd = webdriver.Chrome('chromedriver',options=options)\n",
    "# wd.get(\"https://www.website.com\")\n",
    "# print(wd.page_source)  # results"
   ]
  },
  {
   "cell_type": "code",
   "execution_count": 6,
   "metadata": {
    "colab": {
     "base_uri": "https://localhost:8080/"
    },
    "id": "4jxNIUoNcezb",
    "outputId": "99a0d964-ccfd-488e-c800-734b0542323d",
    "tags": []
   },
   "outputs": [
    {
     "name": "stdout",
     "output_type": "stream",
     "text": [
      "Defaulting to user installation because normal site-packages is not writeable\n",
      "Requirement already satisfied: python-dotenv in /home/sil/.local/lib/python3.10/site-packages (0.21.0)\n"
     ]
    }
   ],
   "source": [
    "!pip install python-dotenv"
   ]
  },
  {
   "cell_type": "code",
   "execution_count": 3,
   "metadata": {
    "colab": {
     "base_uri": "https://localhost:8080/"
    },
    "id": "4jxNIUoNcezb",
    "outputId": "99a0d964-ccfd-488e-c800-734b0542323d",
    "tags": []
   },
   "outputs": [],
   "source": [
    "%load_ext dotenv\n",
    "%dotenv"
   ]
  },
  {
   "cell_type": "code",
   "execution_count": 8,
   "metadata": {
    "colab": {
     "base_uri": "https://localhost:8080/"
    },
    "id": "D3TC0WXqh_LJ",
    "outputId": "dfc97c8f-e617-4b27-b5e2-73e2a5d90cb2"
   },
   "outputs": [],
   "source": [
    "!pip install py2neo -q"
   ]
  },
  {
   "cell_type": "code",
   "execution_count": 4,
   "metadata": {
    "id": "8Cs-uJp3oW4C"
   },
   "outputs": [],
   "source": [
    "from py2neo import Graph, Node, Relationship\n",
    "\n",
    "g = Graph(f\"neo4j+s://{os.getenv('AURA_DOMAIN')}.databases.neo4j.io\", auth=(\"neo4j\", os.getenv('AURA_PWD')), routing=True)\n"
   ]
  },
  {
   "cell_type": "code",
   "execution_count": 5,
   "metadata": {},
   "outputs": [
    {
     "name": "stdout",
     "output_type": "stream",
     "text": [
      " n                                                                          \r\n",
      "----------------------------------------------------------------------------\r\n",
      " (_0:Tag {title: 'Array', uri: 'https://leetcode.com/tag/array'})           \r\n",
      " (_1:Tag {title: 'String', uri: 'https://leetcode.com/tag/string'})         \r\n",
      " (_2:Tag {title: 'Hash Table', uri: 'https://leetcode.com/tag/hash-table'}) \r\n",
      "\n"
     ]
    }
   ],
   "source": [
    "print(g.run(\"MATCH (n) RETURN n\"))"
   ]
  },
  {
   "cell_type": "code",
   "execution_count": 40,
   "metadata": {
    "id": "j0z0BE91x1Un"
   },
   "outputs": [],
   "source": [
    "# res = g.run(\"MATCH (n)-[r]-(n2) RETURN r\");\n",
    "# for r in res:\n",
    "#     print(r)"
   ]
  },
  {
   "cell_type": "code",
   "execution_count": 59,
   "metadata": {
    "id": "P1RJsmsFcezc"
   },
   "outputs": [],
   "source": [
    "def login():\n",
    "    url = 'https://leetcode.com/accounts/login'\n",
    "    driver.get(url)\n",
    "    WebDriverWait(driver, timeout=15).until_not(lambda x: x.find_element(By.CLASS_NAME, \"spinner\").is_displayed())\n",
    "    try:\n",
    "        emailInput = driver.find_element(By.ID, 'id_login')\n",
    "        passwordInput = driver.find_element(By.ID,'id_password')\n",
    "        loginButton = driver.find_element(By.ID,'signin_btn')\n",
    "        emailInput.send_keys(os.getenv('LC_USERNAME'))\n",
    "        passwordInput.send_keys(os.getenv('LC_PWD'))\n",
    "        loginButton.click()\n",
    "    except:\n",
    "        pass\n",
    "    finally:\n",
    "        WebDriverWait(driver, timeout=5).until(lambda x: x.find_element(By.CLASS_NAME,\"trending-topic-container\").is_displayed())"
   ]
  },
  {
   "cell_type": "code",
   "execution_count": 6,
   "metadata": {
    "id": "at8GZVyHl55N"
   },
   "outputs": [
    {
     "ename": "WebDriverException",
     "evalue": "Message: Service chromedriver unexpectedly exited. Status code was: 127\n",
     "output_type": "error",
     "traceback": [
      "\u001b[0;31m---------------------------------------------------------------------------\u001b[0m",
      "\u001b[0;31mWebDriverException\u001b[0m                        Traceback (most recent call last)",
      "\u001b[0;32m/tmp/ipykernel_121088/2839450057.py\u001b[0m in \u001b[0;36m<module>\u001b[0;34m\u001b[0m\n\u001b[0;32m----> 1\u001b[0;31m \u001b[0mdriver\u001b[0m \u001b[0;34m=\u001b[0m \u001b[0mwebdriver\u001b[0m\u001b[0;34m.\u001b[0m\u001b[0mChrome\u001b[0m\u001b[0;34m(\u001b[0m\u001b[0;34m'chromedriver'\u001b[0m\u001b[0;34m,\u001b[0m \u001b[0moptions\u001b[0m\u001b[0;34m=\u001b[0m\u001b[0moptions\u001b[0m\u001b[0;34m)\u001b[0m\u001b[0;34m\u001b[0m\u001b[0;34m\u001b[0m\u001b[0m\n\u001b[0m\u001b[1;32m      2\u001b[0m \u001b[0;31m# login()\u001b[0m\u001b[0;34m\u001b[0m\u001b[0;34m\u001b[0m\u001b[0m\n",
      "\u001b[0;32m~/.local/lib/python3.10/site-packages/selenium/webdriver/chrome/webdriver.py\u001b[0m in \u001b[0;36m__init__\u001b[0;34m(self, executable_path, port, options, service_args, desired_capabilities, service_log_path, chrome_options, service, keep_alive)\u001b[0m\n\u001b[1;32m     79\u001b[0m             \u001b[0mservice\u001b[0m \u001b[0;34m=\u001b[0m \u001b[0mService\u001b[0m\u001b[0;34m(\u001b[0m\u001b[0mexecutable_path\u001b[0m\u001b[0;34m,\u001b[0m \u001b[0mport\u001b[0m\u001b[0;34m,\u001b[0m \u001b[0mservice_args\u001b[0m\u001b[0;34m,\u001b[0m \u001b[0mservice_log_path\u001b[0m\u001b[0;34m)\u001b[0m\u001b[0;34m\u001b[0m\u001b[0;34m\u001b[0m\u001b[0m\n\u001b[1;32m     80\u001b[0m \u001b[0;34m\u001b[0m\u001b[0m\n\u001b[0;32m---> 81\u001b[0;31m         super().__init__(\n\u001b[0m\u001b[1;32m     82\u001b[0m             \u001b[0mDesiredCapabilities\u001b[0m\u001b[0;34m.\u001b[0m\u001b[0mCHROME\u001b[0m\u001b[0;34m[\u001b[0m\u001b[0;34m\"browserName\"\u001b[0m\u001b[0;34m]\u001b[0m\u001b[0;34m,\u001b[0m\u001b[0;34m\u001b[0m\u001b[0;34m\u001b[0m\u001b[0m\n\u001b[1;32m     83\u001b[0m             \u001b[0;34m\"goog\"\u001b[0m\u001b[0;34m,\u001b[0m\u001b[0;34m\u001b[0m\u001b[0;34m\u001b[0m\u001b[0m\n",
      "\u001b[0;32m~/.local/lib/python3.10/site-packages/selenium/webdriver/chromium/webdriver.py\u001b[0m in \u001b[0;36m__init__\u001b[0;34m(self, browser_name, vendor_prefix, port, options, service_args, desired_capabilities, service_log_path, service, keep_alive)\u001b[0m\n\u001b[1;32m    101\u001b[0m \u001b[0;34m\u001b[0m\u001b[0m\n\u001b[1;32m    102\u001b[0m         \u001b[0mself\u001b[0m\u001b[0;34m.\u001b[0m\u001b[0mservice\u001b[0m \u001b[0;34m=\u001b[0m \u001b[0mservice\u001b[0m\u001b[0;34m\u001b[0m\u001b[0;34m\u001b[0m\u001b[0m\n\u001b[0;32m--> 103\u001b[0;31m         \u001b[0mself\u001b[0m\u001b[0;34m.\u001b[0m\u001b[0mservice\u001b[0m\u001b[0;34m.\u001b[0m\u001b[0mstart\u001b[0m\u001b[0;34m(\u001b[0m\u001b[0;34m)\u001b[0m\u001b[0;34m\u001b[0m\u001b[0;34m\u001b[0m\u001b[0m\n\u001b[0m\u001b[1;32m    104\u001b[0m \u001b[0;34m\u001b[0m\u001b[0m\n\u001b[1;32m    105\u001b[0m         \u001b[0;32mtry\u001b[0m\u001b[0;34m:\u001b[0m\u001b[0;34m\u001b[0m\u001b[0;34m\u001b[0m\u001b[0m\n",
      "\u001b[0;32m~/.local/lib/python3.10/site-packages/selenium/webdriver/common/service.py\u001b[0m in \u001b[0;36mstart\u001b[0;34m(self)\u001b[0m\n\u001b[1;32m    104\u001b[0m         \u001b[0mcount\u001b[0m \u001b[0;34m=\u001b[0m \u001b[0;36m0\u001b[0m\u001b[0;34m\u001b[0m\u001b[0;34m\u001b[0m\u001b[0m\n\u001b[1;32m    105\u001b[0m         \u001b[0;32mwhile\u001b[0m \u001b[0;32mTrue\u001b[0m\u001b[0;34m:\u001b[0m\u001b[0;34m\u001b[0m\u001b[0;34m\u001b[0m\u001b[0m\n\u001b[0;32m--> 106\u001b[0;31m             \u001b[0mself\u001b[0m\u001b[0;34m.\u001b[0m\u001b[0massert_process_still_running\u001b[0m\u001b[0;34m(\u001b[0m\u001b[0;34m)\u001b[0m\u001b[0;34m\u001b[0m\u001b[0;34m\u001b[0m\u001b[0m\n\u001b[0m\u001b[1;32m    107\u001b[0m             \u001b[0;32mif\u001b[0m \u001b[0mself\u001b[0m\u001b[0;34m.\u001b[0m\u001b[0mis_connectable\u001b[0m\u001b[0;34m(\u001b[0m\u001b[0;34m)\u001b[0m\u001b[0;34m:\u001b[0m\u001b[0;34m\u001b[0m\u001b[0;34m\u001b[0m\u001b[0m\n\u001b[1;32m    108\u001b[0m                 \u001b[0;32mbreak\u001b[0m\u001b[0;34m\u001b[0m\u001b[0;34m\u001b[0m\u001b[0m\n",
      "\u001b[0;32m~/.local/lib/python3.10/site-packages/selenium/webdriver/common/service.py\u001b[0m in \u001b[0;36massert_process_still_running\u001b[0;34m(self)\u001b[0m\n\u001b[1;32m    117\u001b[0m         \u001b[0mreturn_code\u001b[0m \u001b[0;34m=\u001b[0m \u001b[0mself\u001b[0m\u001b[0;34m.\u001b[0m\u001b[0mprocess\u001b[0m\u001b[0;34m.\u001b[0m\u001b[0mpoll\u001b[0m\u001b[0;34m(\u001b[0m\u001b[0;34m)\u001b[0m\u001b[0;34m\u001b[0m\u001b[0;34m\u001b[0m\u001b[0m\n\u001b[1;32m    118\u001b[0m         \u001b[0;32mif\u001b[0m \u001b[0mreturn_code\u001b[0m\u001b[0;34m:\u001b[0m\u001b[0;34m\u001b[0m\u001b[0;34m\u001b[0m\u001b[0m\n\u001b[0;32m--> 119\u001b[0;31m             \u001b[0;32mraise\u001b[0m \u001b[0mWebDriverException\u001b[0m\u001b[0;34m(\u001b[0m\u001b[0;34mf\"Service {self.path} unexpectedly exited. Status code was: {return_code}\"\u001b[0m\u001b[0;34m)\u001b[0m\u001b[0;34m\u001b[0m\u001b[0;34m\u001b[0m\u001b[0m\n\u001b[0m\u001b[1;32m    120\u001b[0m \u001b[0;34m\u001b[0m\u001b[0m\n\u001b[1;32m    121\u001b[0m     \u001b[0;32mdef\u001b[0m \u001b[0mis_connectable\u001b[0m\u001b[0;34m(\u001b[0m\u001b[0mself\u001b[0m\u001b[0;34m)\u001b[0m \u001b[0;34m->\u001b[0m \u001b[0mbool\u001b[0m\u001b[0;34m:\u001b[0m\u001b[0;34m\u001b[0m\u001b[0;34m\u001b[0m\u001b[0m\n",
      "\u001b[0;31mWebDriverException\u001b[0m: Message: Service chromedriver unexpectedly exited. Status code was: 127\n"
     ]
    }
   ],
   "source": [
    "driver = webdriver.Chrome('chromedriver', options=options)\n",
    "# login()"
   ]
  },
  {
   "cell_type": "code",
   "execution_count": 58,
   "metadata": {
    "id": "JE0Pga-xcezd"
   },
   "outputs": [],
   "source": [
    "def problemsOnPage(page=1):\n",
    "    url = 'https://leetcode.com/problemset/all/'\n",
    "    if page!=1:\n",
    "      url = f\"https://leetcode.com/problemset/all/?page={page}\"\n",
    "    driver.get(url)\n",
    "\n",
    "    WebDriverWait(driver, timeout=5).until(lambda x: x.find_element(By.XPATH, \"//div[@role = 'table']\").is_displayed())\n",
    "\n",
    "    script = '''\n",
    "const rows = document.querySelectorAll(\"[role=rowgroup]\")[0].children;\n",
    "const problems = [];\n",
    "for (const row of rows) {\n",
    "  const problem = [], cols = row.children;\n",
    "\n",
    "  const link = cols[1].querySelector('a').href;\n",
    "\n",
    "  problem.push(link);\n",
    "  problem.push(cols[1].innerText.trim());\n",
    "  problem.push(cols[3].innerText.trim());\n",
    "  problem.push(cols[4].innerText.trim());\n",
    "\n",
    "  problems.push(problem);\n",
    "}\n",
    "return problems\n",
    "    '''\n",
    "    problemsData = driver.execute_script(script)\n",
    "#     problems = pd.DataFrame(problemsData, columns = ['Link','Title','Acceptance','Difficulty'])\n",
    "    if page==1:\n",
    "        return problems[1:]\n",
    "    return problems"
   ]
  },
  {
   "cell_type": "code",
   "execution_count": 47,
   "metadata": {
    "id": "BjWui68KT0Ky"
   },
   "outputs": [],
   "source": [
    "def create_node_from_row(uri, title, acceptance, difficulty):\n",
    "  n = Node(\"Problem\", uri=uri, title=title, acceptance=acceptance, difficulty=difficulty)\n",
    "  create_tx.create(n)\n",
    "\n",
    "p1.apply(lambda r: create_node_from_row(r[0],r[1],r[2], r[3]), axis=1)\n",
    "\n",
    "g.commit()"
   ]
  },
  {
   "cell_type": "code",
   "execution_count": 55,
   "metadata": {},
   "outputs": [],
   "source": [
    "def get_problem_info(url):\n",
    "\n",
    "    driver.get(url)\n",
    "    WebDriverWait(driver, timeout=5).until(lambda x: x.find_element(By.XPATH, \"//div[@class = 'description__24sA']\").is_displayed())\n",
    "\n",
    "    script = '''\n",
    "const l = document.querySelector(\"div[class = 'description__24sA']\").children[5].children[1];\n",
    "const elems = l.querySelectorAll('a');\n",
    "const tags = [];\n",
    "\n",
    "for (elem of elems) {\n",
    "    tags.push(elem.href);\n",
    "}\n",
    "return tags\n",
    "    '''\n",
    "    tagsData = driver.execute_script(script)\n",
    "    \n",
    "    simsData = []\n",
    "    \n",
    "\n",
    "    return list(tagsData), list(simsData)"
   ]
  },
  {
   "cell_type": "code",
   "execution_count": 56,
   "metadata": {},
   "outputs": [
    {
     "ename": "MaxRetryError",
     "evalue": "HTTPConnectionPool(host='localhost', port=57967): Max retries exceeded with url: /session/3b0e5fb521a0c8e6bc9ba4e4746384e1/url (Caused by NewConnectionError('<urllib3.connection.HTTPConnection object at 0x7fabe9948370>: Failed to establish a new connection: [Errno 111] Connection refused'))",
     "output_type": "error",
     "traceback": [
      "\u001b[0;31m---------------------------------------------------------------------------\u001b[0m",
      "\u001b[0;31mConnectionRefusedError\u001b[0m                    Traceback (most recent call last)",
      "\u001b[0;32m/usr/lib/python3/dist-packages/urllib3/connection.py\u001b[0m in \u001b[0;36m_new_conn\u001b[0;34m(self)\u001b[0m\n\u001b[1;32m    168\u001b[0m         \u001b[0;32mtry\u001b[0m\u001b[0;34m:\u001b[0m\u001b[0;34m\u001b[0m\u001b[0;34m\u001b[0m\u001b[0m\n\u001b[0;32m--> 169\u001b[0;31m             conn = connection.create_connection(\n\u001b[0m\u001b[1;32m    170\u001b[0m                 \u001b[0;34m(\u001b[0m\u001b[0mself\u001b[0m\u001b[0;34m.\u001b[0m\u001b[0m_dns_host\u001b[0m\u001b[0;34m,\u001b[0m \u001b[0mself\u001b[0m\u001b[0;34m.\u001b[0m\u001b[0mport\u001b[0m\u001b[0;34m)\u001b[0m\u001b[0;34m,\u001b[0m \u001b[0mself\u001b[0m\u001b[0;34m.\u001b[0m\u001b[0mtimeout\u001b[0m\u001b[0;34m,\u001b[0m \u001b[0;34m**\u001b[0m\u001b[0mextra_kw\u001b[0m\u001b[0;34m\u001b[0m\u001b[0;34m\u001b[0m\u001b[0m\n",
      "\u001b[0;32m/usr/lib/python3/dist-packages/urllib3/util/connection.py\u001b[0m in \u001b[0;36mcreate_connection\u001b[0;34m(address, timeout, source_address, socket_options)\u001b[0m\n\u001b[1;32m     95\u001b[0m     \u001b[0;32mif\u001b[0m \u001b[0merr\u001b[0m \u001b[0;32mis\u001b[0m \u001b[0;32mnot\u001b[0m \u001b[0;32mNone\u001b[0m\u001b[0;34m:\u001b[0m\u001b[0;34m\u001b[0m\u001b[0;34m\u001b[0m\u001b[0m\n\u001b[0;32m---> 96\u001b[0;31m         \u001b[0;32mraise\u001b[0m \u001b[0merr\u001b[0m\u001b[0;34m\u001b[0m\u001b[0;34m\u001b[0m\u001b[0m\n\u001b[0m\u001b[1;32m     97\u001b[0m \u001b[0;34m\u001b[0m\u001b[0m\n",
      "\u001b[0;32m/usr/lib/python3/dist-packages/urllib3/util/connection.py\u001b[0m in \u001b[0;36mcreate_connection\u001b[0;34m(address, timeout, source_address, socket_options)\u001b[0m\n\u001b[1;32m     85\u001b[0m                 \u001b[0msock\u001b[0m\u001b[0;34m.\u001b[0m\u001b[0mbind\u001b[0m\u001b[0;34m(\u001b[0m\u001b[0msource_address\u001b[0m\u001b[0;34m)\u001b[0m\u001b[0;34m\u001b[0m\u001b[0;34m\u001b[0m\u001b[0m\n\u001b[0;32m---> 86\u001b[0;31m             \u001b[0msock\u001b[0m\u001b[0;34m.\u001b[0m\u001b[0mconnect\u001b[0m\u001b[0;34m(\u001b[0m\u001b[0msa\u001b[0m\u001b[0;34m)\u001b[0m\u001b[0;34m\u001b[0m\u001b[0;34m\u001b[0m\u001b[0m\n\u001b[0m\u001b[1;32m     87\u001b[0m             \u001b[0;32mreturn\u001b[0m \u001b[0msock\u001b[0m\u001b[0;34m\u001b[0m\u001b[0;34m\u001b[0m\u001b[0m\n",
      "\u001b[0;31mConnectionRefusedError\u001b[0m: [Errno 111] Connection refused",
      "\nDuring handling of the above exception, another exception occurred:\n",
      "\u001b[0;31mNewConnectionError\u001b[0m                        Traceback (most recent call last)",
      "\u001b[0;32m/usr/lib/python3/dist-packages/urllib3/connectionpool.py\u001b[0m in \u001b[0;36murlopen\u001b[0;34m(self, method, url, body, headers, retries, redirect, assert_same_host, timeout, pool_timeout, release_conn, chunked, body_pos, **response_kw)\u001b[0m\n\u001b[1;32m    698\u001b[0m             \u001b[0;31m# Make the request on the httplib connection object.\u001b[0m\u001b[0;34m\u001b[0m\u001b[0;34m\u001b[0m\u001b[0m\n\u001b[0;32m--> 699\u001b[0;31m             httplib_response = self._make_request(\n\u001b[0m\u001b[1;32m    700\u001b[0m                 \u001b[0mconn\u001b[0m\u001b[0;34m,\u001b[0m\u001b[0;34m\u001b[0m\u001b[0;34m\u001b[0m\u001b[0m\n",
      "\u001b[0;32m/usr/lib/python3/dist-packages/urllib3/connectionpool.py\u001b[0m in \u001b[0;36m_make_request\u001b[0;34m(self, conn, method, url, timeout, chunked, **httplib_request_kw)\u001b[0m\n\u001b[1;32m    393\u001b[0m             \u001b[0;32melse\u001b[0m\u001b[0;34m:\u001b[0m\u001b[0;34m\u001b[0m\u001b[0;34m\u001b[0m\u001b[0m\n\u001b[0;32m--> 394\u001b[0;31m                 \u001b[0mconn\u001b[0m\u001b[0;34m.\u001b[0m\u001b[0mrequest\u001b[0m\u001b[0;34m(\u001b[0m\u001b[0mmethod\u001b[0m\u001b[0;34m,\u001b[0m \u001b[0murl\u001b[0m\u001b[0;34m,\u001b[0m \u001b[0;34m**\u001b[0m\u001b[0mhttplib_request_kw\u001b[0m\u001b[0;34m)\u001b[0m\u001b[0;34m\u001b[0m\u001b[0;34m\u001b[0m\u001b[0m\n\u001b[0m\u001b[1;32m    395\u001b[0m \u001b[0;34m\u001b[0m\u001b[0m\n",
      "\u001b[0;32m/usr/lib/python3/dist-packages/urllib3/connection.py\u001b[0m in \u001b[0;36mrequest\u001b[0;34m(self, method, url, body, headers)\u001b[0m\n\u001b[1;32m    233\u001b[0m             \u001b[0mheaders\u001b[0m\u001b[0;34m[\u001b[0m\u001b[0;34m\"User-Agent\"\u001b[0m\u001b[0;34m]\u001b[0m \u001b[0;34m=\u001b[0m \u001b[0m_get_default_user_agent\u001b[0m\u001b[0;34m(\u001b[0m\u001b[0;34m)\u001b[0m\u001b[0;34m\u001b[0m\u001b[0;34m\u001b[0m\u001b[0m\n\u001b[0;32m--> 234\u001b[0;31m         \u001b[0msuper\u001b[0m\u001b[0;34m(\u001b[0m\u001b[0mHTTPConnection\u001b[0m\u001b[0;34m,\u001b[0m \u001b[0mself\u001b[0m\u001b[0;34m)\u001b[0m\u001b[0;34m.\u001b[0m\u001b[0mrequest\u001b[0m\u001b[0;34m(\u001b[0m\u001b[0mmethod\u001b[0m\u001b[0;34m,\u001b[0m \u001b[0murl\u001b[0m\u001b[0;34m,\u001b[0m \u001b[0mbody\u001b[0m\u001b[0;34m=\u001b[0m\u001b[0mbody\u001b[0m\u001b[0;34m,\u001b[0m \u001b[0mheaders\u001b[0m\u001b[0;34m=\u001b[0m\u001b[0mheaders\u001b[0m\u001b[0;34m)\u001b[0m\u001b[0;34m\u001b[0m\u001b[0;34m\u001b[0m\u001b[0m\n\u001b[0m\u001b[1;32m    235\u001b[0m \u001b[0;34m\u001b[0m\u001b[0m\n",
      "\u001b[0;32m/usr/lib/python3.10/http/client.py\u001b[0m in \u001b[0;36mrequest\u001b[0;34m(self, method, url, body, headers, encode_chunked)\u001b[0m\n\u001b[1;32m   1281\u001b[0m         \u001b[0;34m\"\"\"Send a complete request to the server.\"\"\"\u001b[0m\u001b[0;34m\u001b[0m\u001b[0;34m\u001b[0m\u001b[0m\n\u001b[0;32m-> 1282\u001b[0;31m         \u001b[0mself\u001b[0m\u001b[0;34m.\u001b[0m\u001b[0m_send_request\u001b[0m\u001b[0;34m(\u001b[0m\u001b[0mmethod\u001b[0m\u001b[0;34m,\u001b[0m \u001b[0murl\u001b[0m\u001b[0;34m,\u001b[0m \u001b[0mbody\u001b[0m\u001b[0;34m,\u001b[0m \u001b[0mheaders\u001b[0m\u001b[0;34m,\u001b[0m \u001b[0mencode_chunked\u001b[0m\u001b[0;34m)\u001b[0m\u001b[0;34m\u001b[0m\u001b[0;34m\u001b[0m\u001b[0m\n\u001b[0m\u001b[1;32m   1283\u001b[0m \u001b[0;34m\u001b[0m\u001b[0m\n",
      "\u001b[0;32m/usr/lib/python3.10/http/client.py\u001b[0m in \u001b[0;36m_send_request\u001b[0;34m(self, method, url, body, headers, encode_chunked)\u001b[0m\n\u001b[1;32m   1327\u001b[0m             \u001b[0mbody\u001b[0m \u001b[0;34m=\u001b[0m \u001b[0m_encode\u001b[0m\u001b[0;34m(\u001b[0m\u001b[0mbody\u001b[0m\u001b[0;34m,\u001b[0m \u001b[0;34m'body'\u001b[0m\u001b[0;34m)\u001b[0m\u001b[0;34m\u001b[0m\u001b[0;34m\u001b[0m\u001b[0m\n\u001b[0;32m-> 1328\u001b[0;31m         \u001b[0mself\u001b[0m\u001b[0;34m.\u001b[0m\u001b[0mendheaders\u001b[0m\u001b[0;34m(\u001b[0m\u001b[0mbody\u001b[0m\u001b[0;34m,\u001b[0m \u001b[0mencode_chunked\u001b[0m\u001b[0;34m=\u001b[0m\u001b[0mencode_chunked\u001b[0m\u001b[0;34m)\u001b[0m\u001b[0;34m\u001b[0m\u001b[0;34m\u001b[0m\u001b[0m\n\u001b[0m\u001b[1;32m   1329\u001b[0m \u001b[0;34m\u001b[0m\u001b[0m\n",
      "\u001b[0;32m/usr/lib/python3.10/http/client.py\u001b[0m in \u001b[0;36mendheaders\u001b[0;34m(self, message_body, encode_chunked)\u001b[0m\n\u001b[1;32m   1276\u001b[0m             \u001b[0;32mraise\u001b[0m \u001b[0mCannotSendHeader\u001b[0m\u001b[0;34m(\u001b[0m\u001b[0;34m)\u001b[0m\u001b[0;34m\u001b[0m\u001b[0;34m\u001b[0m\u001b[0m\n\u001b[0;32m-> 1277\u001b[0;31m         \u001b[0mself\u001b[0m\u001b[0;34m.\u001b[0m\u001b[0m_send_output\u001b[0m\u001b[0;34m(\u001b[0m\u001b[0mmessage_body\u001b[0m\u001b[0;34m,\u001b[0m \u001b[0mencode_chunked\u001b[0m\u001b[0;34m=\u001b[0m\u001b[0mencode_chunked\u001b[0m\u001b[0;34m)\u001b[0m\u001b[0;34m\u001b[0m\u001b[0;34m\u001b[0m\u001b[0m\n\u001b[0m\u001b[1;32m   1278\u001b[0m \u001b[0;34m\u001b[0m\u001b[0m\n",
      "\u001b[0;32m/usr/lib/python3.10/http/client.py\u001b[0m in \u001b[0;36m_send_output\u001b[0;34m(self, message_body, encode_chunked)\u001b[0m\n\u001b[1;32m   1036\u001b[0m         \u001b[0;32mdel\u001b[0m \u001b[0mself\u001b[0m\u001b[0;34m.\u001b[0m\u001b[0m_buffer\u001b[0m\u001b[0;34m[\u001b[0m\u001b[0;34m:\u001b[0m\u001b[0;34m]\u001b[0m\u001b[0;34m\u001b[0m\u001b[0;34m\u001b[0m\u001b[0m\n\u001b[0;32m-> 1037\u001b[0;31m         \u001b[0mself\u001b[0m\u001b[0;34m.\u001b[0m\u001b[0msend\u001b[0m\u001b[0;34m(\u001b[0m\u001b[0mmsg\u001b[0m\u001b[0;34m)\u001b[0m\u001b[0;34m\u001b[0m\u001b[0;34m\u001b[0m\u001b[0m\n\u001b[0m\u001b[1;32m   1038\u001b[0m \u001b[0;34m\u001b[0m\u001b[0m\n",
      "\u001b[0;32m/usr/lib/python3.10/http/client.py\u001b[0m in \u001b[0;36msend\u001b[0;34m(self, data)\u001b[0m\n\u001b[1;32m    974\u001b[0m             \u001b[0;32mif\u001b[0m \u001b[0mself\u001b[0m\u001b[0;34m.\u001b[0m\u001b[0mauto_open\u001b[0m\u001b[0;34m:\u001b[0m\u001b[0;34m\u001b[0m\u001b[0;34m\u001b[0m\u001b[0m\n\u001b[0;32m--> 975\u001b[0;31m                 \u001b[0mself\u001b[0m\u001b[0;34m.\u001b[0m\u001b[0mconnect\u001b[0m\u001b[0;34m(\u001b[0m\u001b[0;34m)\u001b[0m\u001b[0;34m\u001b[0m\u001b[0;34m\u001b[0m\u001b[0m\n\u001b[0m\u001b[1;32m    976\u001b[0m             \u001b[0;32melse\u001b[0m\u001b[0;34m:\u001b[0m\u001b[0;34m\u001b[0m\u001b[0;34m\u001b[0m\u001b[0m\n",
      "\u001b[0;32m/usr/lib/python3/dist-packages/urllib3/connection.py\u001b[0m in \u001b[0;36mconnect\u001b[0;34m(self)\u001b[0m\n\u001b[1;32m    199\u001b[0m     \u001b[0;32mdef\u001b[0m \u001b[0mconnect\u001b[0m\u001b[0;34m(\u001b[0m\u001b[0mself\u001b[0m\u001b[0;34m)\u001b[0m\u001b[0;34m:\u001b[0m\u001b[0;34m\u001b[0m\u001b[0;34m\u001b[0m\u001b[0m\n\u001b[0;32m--> 200\u001b[0;31m         \u001b[0mconn\u001b[0m \u001b[0;34m=\u001b[0m \u001b[0mself\u001b[0m\u001b[0;34m.\u001b[0m\u001b[0m_new_conn\u001b[0m\u001b[0;34m(\u001b[0m\u001b[0;34m)\u001b[0m\u001b[0;34m\u001b[0m\u001b[0;34m\u001b[0m\u001b[0m\n\u001b[0m\u001b[1;32m    201\u001b[0m         \u001b[0mself\u001b[0m\u001b[0;34m.\u001b[0m\u001b[0m_prepare_conn\u001b[0m\u001b[0;34m(\u001b[0m\u001b[0mconn\u001b[0m\u001b[0;34m)\u001b[0m\u001b[0;34m\u001b[0m\u001b[0;34m\u001b[0m\u001b[0m\n",
      "\u001b[0;32m/usr/lib/python3/dist-packages/urllib3/connection.py\u001b[0m in \u001b[0;36m_new_conn\u001b[0;34m(self)\u001b[0m\n\u001b[1;32m    180\u001b[0m         \u001b[0;32mexcept\u001b[0m \u001b[0mSocketError\u001b[0m \u001b[0;32mas\u001b[0m \u001b[0me\u001b[0m\u001b[0;34m:\u001b[0m\u001b[0;34m\u001b[0m\u001b[0;34m\u001b[0m\u001b[0m\n\u001b[0;32m--> 181\u001b[0;31m             raise NewConnectionError(\n\u001b[0m\u001b[1;32m    182\u001b[0m                 \u001b[0mself\u001b[0m\u001b[0;34m,\u001b[0m \u001b[0;34m\"Failed to establish a new connection: %s\"\u001b[0m \u001b[0;34m%\u001b[0m \u001b[0me\u001b[0m\u001b[0;34m\u001b[0m\u001b[0;34m\u001b[0m\u001b[0m\n",
      "\u001b[0;31mNewConnectionError\u001b[0m: <urllib3.connection.HTTPConnection object at 0x7fabe9948370>: Failed to establish a new connection: [Errno 111] Connection refused",
      "\nDuring handling of the above exception, another exception occurred:\n",
      "\u001b[0;31mMaxRetryError\u001b[0m                             Traceback (most recent call last)",
      "\u001b[0;32m/tmp/ipykernel_109057/686736254.py\u001b[0m in \u001b[0;36m<module>\u001b[0;34m\u001b[0m\n\u001b[0;32m----> 1\u001b[0;31m \u001b[0mget_problem_info\u001b[0m\u001b[0;34m(\u001b[0m\u001b[0;34m'https://leetcode.com/problems/two-sum/'\u001b[0m\u001b[0;34m)\u001b[0m\u001b[0;34m\u001b[0m\u001b[0;34m\u001b[0m\u001b[0m\n\u001b[0m",
      "\u001b[0;32m/tmp/ipykernel_109057/86208140.py\u001b[0m in \u001b[0;36mget_problem_info\u001b[0;34m(url)\u001b[0m\n\u001b[1;32m      1\u001b[0m \u001b[0;32mdef\u001b[0m \u001b[0mget_problem_info\u001b[0m\u001b[0;34m(\u001b[0m\u001b[0murl\u001b[0m\u001b[0;34m)\u001b[0m\u001b[0;34m:\u001b[0m\u001b[0;34m\u001b[0m\u001b[0;34m\u001b[0m\u001b[0m\n\u001b[1;32m      2\u001b[0m \u001b[0;34m\u001b[0m\u001b[0m\n\u001b[0;32m----> 3\u001b[0;31m     \u001b[0mdriver\u001b[0m\u001b[0;34m.\u001b[0m\u001b[0mget\u001b[0m\u001b[0;34m(\u001b[0m\u001b[0murl\u001b[0m\u001b[0;34m)\u001b[0m\u001b[0;34m\u001b[0m\u001b[0;34m\u001b[0m\u001b[0m\n\u001b[0m\u001b[1;32m      4\u001b[0m     \u001b[0mWebDriverWait\u001b[0m\u001b[0;34m(\u001b[0m\u001b[0mdriver\u001b[0m\u001b[0;34m,\u001b[0m \u001b[0mtimeout\u001b[0m\u001b[0;34m=\u001b[0m\u001b[0;36m5\u001b[0m\u001b[0;34m)\u001b[0m\u001b[0;34m.\u001b[0m\u001b[0muntil\u001b[0m\u001b[0;34m(\u001b[0m\u001b[0;32mlambda\u001b[0m \u001b[0mx\u001b[0m\u001b[0;34m:\u001b[0m \u001b[0mx\u001b[0m\u001b[0;34m.\u001b[0m\u001b[0mfind_element\u001b[0m\u001b[0;34m(\u001b[0m\u001b[0mBy\u001b[0m\u001b[0;34m.\u001b[0m\u001b[0mXPATH\u001b[0m\u001b[0;34m,\u001b[0m \u001b[0;34m\"//div[@class = 'description__24sA']\"\u001b[0m\u001b[0;34m)\u001b[0m\u001b[0;34m.\u001b[0m\u001b[0mis_displayed\u001b[0m\u001b[0;34m(\u001b[0m\u001b[0;34m)\u001b[0m\u001b[0;34m)\u001b[0m\u001b[0;34m\u001b[0m\u001b[0;34m\u001b[0m\u001b[0m\n\u001b[1;32m      5\u001b[0m \u001b[0;34m\u001b[0m\u001b[0m\n",
      "\u001b[0;32m~/.local/lib/python3.10/site-packages/selenium/webdriver/remote/webdriver.py\u001b[0m in \u001b[0;36mget\u001b[0;34m(self, url)\u001b[0m\n\u001b[1;32m    453\u001b[0m         \u001b[0mLoads\u001b[0m \u001b[0ma\u001b[0m \u001b[0mweb\u001b[0m \u001b[0mpage\u001b[0m \u001b[0;32min\u001b[0m \u001b[0mthe\u001b[0m \u001b[0mcurrent\u001b[0m \u001b[0mbrowser\u001b[0m \u001b[0msession\u001b[0m\u001b[0;34m.\u001b[0m\u001b[0;34m\u001b[0m\u001b[0;34m\u001b[0m\u001b[0m\n\u001b[1;32m    454\u001b[0m         \"\"\"\n\u001b[0;32m--> 455\u001b[0;31m         \u001b[0mself\u001b[0m\u001b[0;34m.\u001b[0m\u001b[0mexecute\u001b[0m\u001b[0;34m(\u001b[0m\u001b[0mCommand\u001b[0m\u001b[0;34m.\u001b[0m\u001b[0mGET\u001b[0m\u001b[0;34m,\u001b[0m \u001b[0;34m{\u001b[0m\u001b[0;34m\"url\"\u001b[0m\u001b[0;34m:\u001b[0m \u001b[0murl\u001b[0m\u001b[0;34m}\u001b[0m\u001b[0;34m)\u001b[0m\u001b[0;34m\u001b[0m\u001b[0;34m\u001b[0m\u001b[0m\n\u001b[0m\u001b[1;32m    456\u001b[0m \u001b[0;34m\u001b[0m\u001b[0m\n\u001b[1;32m    457\u001b[0m     \u001b[0;34m@\u001b[0m\u001b[0mproperty\u001b[0m\u001b[0;34m\u001b[0m\u001b[0;34m\u001b[0m\u001b[0m\n",
      "\u001b[0;32m~/.local/lib/python3.10/site-packages/selenium/webdriver/remote/webdriver.py\u001b[0m in \u001b[0;36mexecute\u001b[0;34m(self, driver_command, params)\u001b[0m\n\u001b[1;32m    440\u001b[0m                 \u001b[0mparams\u001b[0m\u001b[0;34m[\u001b[0m\u001b[0;34m\"sessionId\"\u001b[0m\u001b[0;34m]\u001b[0m \u001b[0;34m=\u001b[0m \u001b[0mself\u001b[0m\u001b[0;34m.\u001b[0m\u001b[0msession_id\u001b[0m\u001b[0;34m\u001b[0m\u001b[0;34m\u001b[0m\u001b[0m\n\u001b[1;32m    441\u001b[0m \u001b[0;34m\u001b[0m\u001b[0m\n\u001b[0;32m--> 442\u001b[0;31m         \u001b[0mresponse\u001b[0m \u001b[0;34m=\u001b[0m \u001b[0mself\u001b[0m\u001b[0;34m.\u001b[0m\u001b[0mcommand_executor\u001b[0m\u001b[0;34m.\u001b[0m\u001b[0mexecute\u001b[0m\u001b[0;34m(\u001b[0m\u001b[0mdriver_command\u001b[0m\u001b[0;34m,\u001b[0m \u001b[0mparams\u001b[0m\u001b[0;34m)\u001b[0m\u001b[0;34m\u001b[0m\u001b[0;34m\u001b[0m\u001b[0m\n\u001b[0m\u001b[1;32m    443\u001b[0m         \u001b[0;32mif\u001b[0m \u001b[0mresponse\u001b[0m\u001b[0;34m:\u001b[0m\u001b[0;34m\u001b[0m\u001b[0;34m\u001b[0m\u001b[0m\n\u001b[1;32m    444\u001b[0m             \u001b[0mself\u001b[0m\u001b[0;34m.\u001b[0m\u001b[0merror_handler\u001b[0m\u001b[0;34m.\u001b[0m\u001b[0mcheck_response\u001b[0m\u001b[0;34m(\u001b[0m\u001b[0mresponse\u001b[0m\u001b[0;34m)\u001b[0m\u001b[0;34m\u001b[0m\u001b[0;34m\u001b[0m\u001b[0m\n",
      "\u001b[0;32m~/.local/lib/python3.10/site-packages/selenium/webdriver/remote/remote_connection.py\u001b[0m in \u001b[0;36mexecute\u001b[0;34m(self, command, params)\u001b[0m\n\u001b[1;32m    292\u001b[0m         \u001b[0mdata\u001b[0m \u001b[0;34m=\u001b[0m \u001b[0mutils\u001b[0m\u001b[0;34m.\u001b[0m\u001b[0mdump_json\u001b[0m\u001b[0;34m(\u001b[0m\u001b[0mparams\u001b[0m\u001b[0;34m)\u001b[0m\u001b[0;34m\u001b[0m\u001b[0;34m\u001b[0m\u001b[0m\n\u001b[1;32m    293\u001b[0m         \u001b[0murl\u001b[0m \u001b[0;34m=\u001b[0m \u001b[0;34mf\"{self._url}{path}\"\u001b[0m\u001b[0;34m\u001b[0m\u001b[0;34m\u001b[0m\u001b[0m\n\u001b[0;32m--> 294\u001b[0;31m         \u001b[0;32mreturn\u001b[0m \u001b[0mself\u001b[0m\u001b[0;34m.\u001b[0m\u001b[0m_request\u001b[0m\u001b[0;34m(\u001b[0m\u001b[0mcommand_info\u001b[0m\u001b[0;34m[\u001b[0m\u001b[0;36m0\u001b[0m\u001b[0;34m]\u001b[0m\u001b[0;34m,\u001b[0m \u001b[0murl\u001b[0m\u001b[0;34m,\u001b[0m \u001b[0mbody\u001b[0m\u001b[0;34m=\u001b[0m\u001b[0mdata\u001b[0m\u001b[0;34m)\u001b[0m\u001b[0;34m\u001b[0m\u001b[0;34m\u001b[0m\u001b[0m\n\u001b[0m\u001b[1;32m    295\u001b[0m \u001b[0;34m\u001b[0m\u001b[0m\n\u001b[1;32m    296\u001b[0m     \u001b[0;32mdef\u001b[0m \u001b[0m_request\u001b[0m\u001b[0;34m(\u001b[0m\u001b[0mself\u001b[0m\u001b[0;34m,\u001b[0m \u001b[0mmethod\u001b[0m\u001b[0;34m,\u001b[0m \u001b[0murl\u001b[0m\u001b[0;34m,\u001b[0m \u001b[0mbody\u001b[0m\u001b[0;34m=\u001b[0m\u001b[0;32mNone\u001b[0m\u001b[0;34m)\u001b[0m\u001b[0;34m:\u001b[0m\u001b[0;34m\u001b[0m\u001b[0;34m\u001b[0m\u001b[0m\n",
      "\u001b[0;32m~/.local/lib/python3.10/site-packages/selenium/webdriver/remote/remote_connection.py\u001b[0m in \u001b[0;36m_request\u001b[0;34m(self, method, url, body)\u001b[0m\n\u001b[1;32m    314\u001b[0m \u001b[0;34m\u001b[0m\u001b[0m\n\u001b[1;32m    315\u001b[0m         \u001b[0;32mif\u001b[0m \u001b[0mself\u001b[0m\u001b[0;34m.\u001b[0m\u001b[0mkeep_alive\u001b[0m\u001b[0;34m:\u001b[0m\u001b[0;34m\u001b[0m\u001b[0;34m\u001b[0m\u001b[0m\n\u001b[0;32m--> 316\u001b[0;31m             \u001b[0mresponse\u001b[0m \u001b[0;34m=\u001b[0m \u001b[0mself\u001b[0m\u001b[0;34m.\u001b[0m\u001b[0m_conn\u001b[0m\u001b[0;34m.\u001b[0m\u001b[0mrequest\u001b[0m\u001b[0;34m(\u001b[0m\u001b[0mmethod\u001b[0m\u001b[0;34m,\u001b[0m \u001b[0murl\u001b[0m\u001b[0;34m,\u001b[0m \u001b[0mbody\u001b[0m\u001b[0;34m=\u001b[0m\u001b[0mbody\u001b[0m\u001b[0;34m,\u001b[0m \u001b[0mheaders\u001b[0m\u001b[0;34m=\u001b[0m\u001b[0mheaders\u001b[0m\u001b[0;34m)\u001b[0m\u001b[0;34m\u001b[0m\u001b[0;34m\u001b[0m\u001b[0m\n\u001b[0m\u001b[1;32m    317\u001b[0m             \u001b[0mstatuscode\u001b[0m \u001b[0;34m=\u001b[0m \u001b[0mresponse\u001b[0m\u001b[0;34m.\u001b[0m\u001b[0mstatus\u001b[0m\u001b[0;34m\u001b[0m\u001b[0;34m\u001b[0m\u001b[0m\n\u001b[1;32m    318\u001b[0m         \u001b[0;32melse\u001b[0m\u001b[0;34m:\u001b[0m\u001b[0;34m\u001b[0m\u001b[0;34m\u001b[0m\u001b[0m\n",
      "\u001b[0;32m/usr/lib/python3/dist-packages/urllib3/request.py\u001b[0m in \u001b[0;36mrequest\u001b[0;34m(self, method, url, fields, headers, **urlopen_kw)\u001b[0m\n\u001b[1;32m     76\u001b[0m             )\n\u001b[1;32m     77\u001b[0m         \u001b[0;32melse\u001b[0m\u001b[0;34m:\u001b[0m\u001b[0;34m\u001b[0m\u001b[0;34m\u001b[0m\u001b[0m\n\u001b[0;32m---> 78\u001b[0;31m             return self.request_encode_body(\n\u001b[0m\u001b[1;32m     79\u001b[0m                 \u001b[0mmethod\u001b[0m\u001b[0;34m,\u001b[0m \u001b[0murl\u001b[0m\u001b[0;34m,\u001b[0m \u001b[0mfields\u001b[0m\u001b[0;34m=\u001b[0m\u001b[0mfields\u001b[0m\u001b[0;34m,\u001b[0m \u001b[0mheaders\u001b[0m\u001b[0;34m=\u001b[0m\u001b[0mheaders\u001b[0m\u001b[0;34m,\u001b[0m \u001b[0;34m**\u001b[0m\u001b[0murlopen_kw\u001b[0m\u001b[0;34m\u001b[0m\u001b[0;34m\u001b[0m\u001b[0m\n\u001b[1;32m     80\u001b[0m             )\n",
      "\u001b[0;32m/usr/lib/python3/dist-packages/urllib3/request.py\u001b[0m in \u001b[0;36mrequest_encode_body\u001b[0;34m(self, method, url, fields, headers, encode_multipart, multipart_boundary, **urlopen_kw)\u001b[0m\n\u001b[1;32m    168\u001b[0m         \u001b[0mextra_kw\u001b[0m\u001b[0;34m.\u001b[0m\u001b[0mupdate\u001b[0m\u001b[0;34m(\u001b[0m\u001b[0murlopen_kw\u001b[0m\u001b[0;34m)\u001b[0m\u001b[0;34m\u001b[0m\u001b[0;34m\u001b[0m\u001b[0m\n\u001b[1;32m    169\u001b[0m \u001b[0;34m\u001b[0m\u001b[0m\n\u001b[0;32m--> 170\u001b[0;31m         \u001b[0;32mreturn\u001b[0m \u001b[0mself\u001b[0m\u001b[0;34m.\u001b[0m\u001b[0murlopen\u001b[0m\u001b[0;34m(\u001b[0m\u001b[0mmethod\u001b[0m\u001b[0;34m,\u001b[0m \u001b[0murl\u001b[0m\u001b[0;34m,\u001b[0m \u001b[0;34m**\u001b[0m\u001b[0mextra_kw\u001b[0m\u001b[0;34m)\u001b[0m\u001b[0;34m\u001b[0m\u001b[0;34m\u001b[0m\u001b[0m\n\u001b[0m",
      "\u001b[0;32m/usr/lib/python3/dist-packages/urllib3/poolmanager.py\u001b[0m in \u001b[0;36murlopen\u001b[0;34m(self, method, url, redirect, **kw)\u001b[0m\n\u001b[1;32m    373\u001b[0m             \u001b[0mresponse\u001b[0m \u001b[0;34m=\u001b[0m \u001b[0mconn\u001b[0m\u001b[0;34m.\u001b[0m\u001b[0murlopen\u001b[0m\u001b[0;34m(\u001b[0m\u001b[0mmethod\u001b[0m\u001b[0;34m,\u001b[0m \u001b[0murl\u001b[0m\u001b[0;34m,\u001b[0m \u001b[0;34m**\u001b[0m\u001b[0mkw\u001b[0m\u001b[0;34m)\u001b[0m\u001b[0;34m\u001b[0m\u001b[0;34m\u001b[0m\u001b[0m\n\u001b[1;32m    374\u001b[0m         \u001b[0;32melse\u001b[0m\u001b[0;34m:\u001b[0m\u001b[0;34m\u001b[0m\u001b[0;34m\u001b[0m\u001b[0m\n\u001b[0;32m--> 375\u001b[0;31m             \u001b[0mresponse\u001b[0m \u001b[0;34m=\u001b[0m \u001b[0mconn\u001b[0m\u001b[0;34m.\u001b[0m\u001b[0murlopen\u001b[0m\u001b[0;34m(\u001b[0m\u001b[0mmethod\u001b[0m\u001b[0;34m,\u001b[0m \u001b[0mu\u001b[0m\u001b[0;34m.\u001b[0m\u001b[0mrequest_uri\u001b[0m\u001b[0;34m,\u001b[0m \u001b[0;34m**\u001b[0m\u001b[0mkw\u001b[0m\u001b[0;34m)\u001b[0m\u001b[0;34m\u001b[0m\u001b[0;34m\u001b[0m\u001b[0m\n\u001b[0m\u001b[1;32m    376\u001b[0m \u001b[0;34m\u001b[0m\u001b[0m\n\u001b[1;32m    377\u001b[0m         \u001b[0mredirect_location\u001b[0m \u001b[0;34m=\u001b[0m \u001b[0mredirect\u001b[0m \u001b[0;32mand\u001b[0m \u001b[0mresponse\u001b[0m\u001b[0;34m.\u001b[0m\u001b[0mget_redirect_location\u001b[0m\u001b[0;34m(\u001b[0m\u001b[0;34m)\u001b[0m\u001b[0;34m\u001b[0m\u001b[0;34m\u001b[0m\u001b[0m\n",
      "\u001b[0;32m/usr/lib/python3/dist-packages/urllib3/connectionpool.py\u001b[0m in \u001b[0;36murlopen\u001b[0;34m(self, method, url, body, headers, retries, redirect, assert_same_host, timeout, pool_timeout, release_conn, chunked, body_pos, **response_kw)\u001b[0m\n\u001b[1;32m    781\u001b[0m                 \u001b[0;34m\"Retrying (%r) after connection broken by '%r': %s\"\u001b[0m\u001b[0;34m,\u001b[0m \u001b[0mretries\u001b[0m\u001b[0;34m,\u001b[0m \u001b[0merr\u001b[0m\u001b[0;34m,\u001b[0m \u001b[0murl\u001b[0m\u001b[0;34m\u001b[0m\u001b[0;34m\u001b[0m\u001b[0m\n\u001b[1;32m    782\u001b[0m             )\n\u001b[0;32m--> 783\u001b[0;31m             return self.urlopen(\n\u001b[0m\u001b[1;32m    784\u001b[0m                 \u001b[0mmethod\u001b[0m\u001b[0;34m,\u001b[0m\u001b[0;34m\u001b[0m\u001b[0;34m\u001b[0m\u001b[0m\n\u001b[1;32m    785\u001b[0m                 \u001b[0murl\u001b[0m\u001b[0;34m,\u001b[0m\u001b[0;34m\u001b[0m\u001b[0;34m\u001b[0m\u001b[0m\n",
      "\u001b[0;32m/usr/lib/python3/dist-packages/urllib3/connectionpool.py\u001b[0m in \u001b[0;36murlopen\u001b[0;34m(self, method, url, body, headers, retries, redirect, assert_same_host, timeout, pool_timeout, release_conn, chunked, body_pos, **response_kw)\u001b[0m\n\u001b[1;32m    781\u001b[0m                 \u001b[0;34m\"Retrying (%r) after connection broken by '%r': %s\"\u001b[0m\u001b[0;34m,\u001b[0m \u001b[0mretries\u001b[0m\u001b[0;34m,\u001b[0m \u001b[0merr\u001b[0m\u001b[0;34m,\u001b[0m \u001b[0murl\u001b[0m\u001b[0;34m\u001b[0m\u001b[0;34m\u001b[0m\u001b[0m\n\u001b[1;32m    782\u001b[0m             )\n\u001b[0;32m--> 783\u001b[0;31m             return self.urlopen(\n\u001b[0m\u001b[1;32m    784\u001b[0m                 \u001b[0mmethod\u001b[0m\u001b[0;34m,\u001b[0m\u001b[0;34m\u001b[0m\u001b[0;34m\u001b[0m\u001b[0m\n\u001b[1;32m    785\u001b[0m                 \u001b[0murl\u001b[0m\u001b[0;34m,\u001b[0m\u001b[0;34m\u001b[0m\u001b[0;34m\u001b[0m\u001b[0m\n",
      "\u001b[0;32m/usr/lib/python3/dist-packages/urllib3/connectionpool.py\u001b[0m in \u001b[0;36murlopen\u001b[0;34m(self, method, url, body, headers, retries, redirect, assert_same_host, timeout, pool_timeout, release_conn, chunked, body_pos, **response_kw)\u001b[0m\n\u001b[1;32m    781\u001b[0m                 \u001b[0;34m\"Retrying (%r) after connection broken by '%r': %s\"\u001b[0m\u001b[0;34m,\u001b[0m \u001b[0mretries\u001b[0m\u001b[0;34m,\u001b[0m \u001b[0merr\u001b[0m\u001b[0;34m,\u001b[0m \u001b[0murl\u001b[0m\u001b[0;34m\u001b[0m\u001b[0;34m\u001b[0m\u001b[0m\n\u001b[1;32m    782\u001b[0m             )\n\u001b[0;32m--> 783\u001b[0;31m             return self.urlopen(\n\u001b[0m\u001b[1;32m    784\u001b[0m                 \u001b[0mmethod\u001b[0m\u001b[0;34m,\u001b[0m\u001b[0;34m\u001b[0m\u001b[0;34m\u001b[0m\u001b[0m\n\u001b[1;32m    785\u001b[0m                 \u001b[0murl\u001b[0m\u001b[0;34m,\u001b[0m\u001b[0;34m\u001b[0m\u001b[0;34m\u001b[0m\u001b[0m\n",
      "\u001b[0;32m/usr/lib/python3/dist-packages/urllib3/connectionpool.py\u001b[0m in \u001b[0;36murlopen\u001b[0;34m(self, method, url, body, headers, retries, redirect, assert_same_host, timeout, pool_timeout, release_conn, chunked, body_pos, **response_kw)\u001b[0m\n\u001b[1;32m    753\u001b[0m                 \u001b[0me\u001b[0m \u001b[0;34m=\u001b[0m \u001b[0mProtocolError\u001b[0m\u001b[0;34m(\u001b[0m\u001b[0;34m\"Connection aborted.\"\u001b[0m\u001b[0;34m,\u001b[0m \u001b[0me\u001b[0m\u001b[0;34m)\u001b[0m\u001b[0;34m\u001b[0m\u001b[0;34m\u001b[0m\u001b[0m\n\u001b[1;32m    754\u001b[0m \u001b[0;34m\u001b[0m\u001b[0m\n\u001b[0;32m--> 755\u001b[0;31m             retries = retries.increment(\n\u001b[0m\u001b[1;32m    756\u001b[0m                 \u001b[0mmethod\u001b[0m\u001b[0;34m,\u001b[0m \u001b[0murl\u001b[0m\u001b[0;34m,\u001b[0m \u001b[0merror\u001b[0m\u001b[0;34m=\u001b[0m\u001b[0me\u001b[0m\u001b[0;34m,\u001b[0m \u001b[0m_pool\u001b[0m\u001b[0;34m=\u001b[0m\u001b[0mself\u001b[0m\u001b[0;34m,\u001b[0m \u001b[0m_stacktrace\u001b[0m\u001b[0;34m=\u001b[0m\u001b[0msys\u001b[0m\u001b[0;34m.\u001b[0m\u001b[0mexc_info\u001b[0m\u001b[0;34m(\u001b[0m\u001b[0;34m)\u001b[0m\u001b[0;34m[\u001b[0m\u001b[0;36m2\u001b[0m\u001b[0;34m]\u001b[0m\u001b[0;34m\u001b[0m\u001b[0;34m\u001b[0m\u001b[0m\n\u001b[1;32m    757\u001b[0m             )\n",
      "\u001b[0;32m/usr/lib/python3/dist-packages/urllib3/util/retry.py\u001b[0m in \u001b[0;36mincrement\u001b[0;34m(self, method, url, response, error, _pool, _stacktrace)\u001b[0m\n\u001b[1;32m    572\u001b[0m \u001b[0;34m\u001b[0m\u001b[0m\n\u001b[1;32m    573\u001b[0m         \u001b[0;32mif\u001b[0m \u001b[0mnew_retry\u001b[0m\u001b[0;34m.\u001b[0m\u001b[0mis_exhausted\u001b[0m\u001b[0;34m(\u001b[0m\u001b[0;34m)\u001b[0m\u001b[0;34m:\u001b[0m\u001b[0;34m\u001b[0m\u001b[0;34m\u001b[0m\u001b[0m\n\u001b[0;32m--> 574\u001b[0;31m             \u001b[0;32mraise\u001b[0m \u001b[0mMaxRetryError\u001b[0m\u001b[0;34m(\u001b[0m\u001b[0m_pool\u001b[0m\u001b[0;34m,\u001b[0m \u001b[0murl\u001b[0m\u001b[0;34m,\u001b[0m \u001b[0merror\u001b[0m \u001b[0;32mor\u001b[0m \u001b[0mResponseError\u001b[0m\u001b[0;34m(\u001b[0m\u001b[0mcause\u001b[0m\u001b[0;34m)\u001b[0m\u001b[0;34m)\u001b[0m\u001b[0;34m\u001b[0m\u001b[0;34m\u001b[0m\u001b[0m\n\u001b[0m\u001b[1;32m    575\u001b[0m \u001b[0;34m\u001b[0m\u001b[0m\n\u001b[1;32m    576\u001b[0m         \u001b[0mlog\u001b[0m\u001b[0;34m.\u001b[0m\u001b[0mdebug\u001b[0m\u001b[0;34m(\u001b[0m\u001b[0;34m\"Incremented Retry for (url='%s'): %r\"\u001b[0m\u001b[0;34m,\u001b[0m \u001b[0murl\u001b[0m\u001b[0;34m,\u001b[0m \u001b[0mnew_retry\u001b[0m\u001b[0;34m)\u001b[0m\u001b[0;34m\u001b[0m\u001b[0;34m\u001b[0m\u001b[0m\n",
      "\u001b[0;31mMaxRetryError\u001b[0m: HTTPConnectionPool(host='localhost', port=57967): Max retries exceeded with url: /session/3b0e5fb521a0c8e6bc9ba4e4746384e1/url (Caused by NewConnectionError('<urllib3.connection.HTTPConnection object at 0x7fabe9948370>: Failed to establish a new connection: [Errno 111] Connection refused'))"
     ]
    }
   ],
   "source": [
    "get_problem_info('https://leetcode.com/problems/two-sum/')"
   ]
  },
  {
   "cell_type": "code",
   "execution_count": null,
   "metadata": {},
   "outputs": [],
   "source": [
    "def find_and_commit(tags, sims):\n",
    "    "
   ]
  },
  {
   "cell_type": "code",
   "execution_count": 52,
   "metadata": {
    "id": "AmiQnaUtUSOz"
   },
   "outputs": [],
   "source": [
    "PAGE_CNT = 49"
   ]
  },
  {
   "cell_type": "code",
   "execution_count": null,
   "metadata": {},
   "outputs": [],
   "source": [
    "for page_num in range(PAGE_CNT):\n",
    "    print(f\"Page {page_num} started..\")\n",
    "    probs = problemsOnPage(page=1)\n",
    "    print(\"Got problem list...\")\n",
    "    df = pd.DataFrame(probs)\n",
    "    df.to_csv(f'problem_p{page_num}.csv')\n",
    "    \n",
    "    for prob in probs:\n",
    "        url = prob[0]\n",
    "        tags, sims = get_problem_info(url)\n",
    "        find_and_commit(tags, sims)\n",
    "    "
   ]
  },
  {
   "cell_type": "code",
   "execution_count": 46,
   "metadata": {
    "colab": {
     "base_uri": "https://localhost:8080/",
     "height": 1000
    },
    "collapsed": true,
    "id": "gpTqCanFTTfF",
    "outputId": "5e0fd7cb-14a1-47e7-b71c-477000459d22"
   },
   "outputs": [
    {
     "data": {
      "text/html": [
       "\n",
       "  <div id=\"df-411495e9-c481-4dce-9e20-5eb945d04643\">\n",
       "    <div class=\"colab-df-container\">\n",
       "      <div>\n",
       "<style scoped>\n",
       "    .dataframe tbody tr th:only-of-type {\n",
       "        vertical-align: middle;\n",
       "    }\n",
       "\n",
       "    .dataframe tbody tr th {\n",
       "        vertical-align: top;\n",
       "    }\n",
       "\n",
       "    .dataframe thead th {\n",
       "        text-align: right;\n",
       "    }\n",
       "</style>\n",
       "<table border=\"1\" class=\"dataframe\">\n",
       "  <thead>\n",
       "    <tr style=\"text-align: right;\">\n",
       "      <th></th>\n",
       "      <th>Link</th>\n",
       "      <th>Title</th>\n",
       "      <th>Acceptance</th>\n",
       "      <th>Difficulty</th>\n",
       "    </tr>\n",
       "  </thead>\n",
       "  <tbody>\n",
       "    <tr>\n",
       "      <th>0</th>\n",
       "      <td>https://leetcode.com/problems/continuous-subar...</td>\n",
       "      <td>523. Continuous Subarray Sum</td>\n",
       "      <td>27.8%</td>\n",
       "      <td>Medium</td>\n",
       "    </tr>\n",
       "    <tr>\n",
       "      <th>1</th>\n",
       "      <td>https://leetcode.com/problems/two-sum/</td>\n",
       "      <td>1. Two Sum</td>\n",
       "      <td>49.1%</td>\n",
       "      <td>Easy</td>\n",
       "    </tr>\n",
       "    <tr>\n",
       "      <th>2</th>\n",
       "      <td>https://leetcode.com/problems/add-two-numbers/</td>\n",
       "      <td>2. Add Two Numbers</td>\n",
       "      <td>39.7%</td>\n",
       "      <td>Medium</td>\n",
       "    </tr>\n",
       "    <tr>\n",
       "      <th>3</th>\n",
       "      <td>https://leetcode.com/problems/longest-substrin...</td>\n",
       "      <td>3. Longest Substring Without Repeating Characters</td>\n",
       "      <td>33.8%</td>\n",
       "      <td>Medium</td>\n",
       "    </tr>\n",
       "    <tr>\n",
       "      <th>4</th>\n",
       "      <td>https://leetcode.com/problems/median-of-two-so...</td>\n",
       "      <td>4. Median of Two Sorted Arrays</td>\n",
       "      <td>35.2%</td>\n",
       "      <td>Hard</td>\n",
       "    </tr>\n",
       "    <tr>\n",
       "      <th>5</th>\n",
       "      <td>https://leetcode.com/problems/longest-palindro...</td>\n",
       "      <td>5. Longest Palindromic Substring</td>\n",
       "      <td>32.4%</td>\n",
       "      <td>Medium</td>\n",
       "    </tr>\n",
       "    <tr>\n",
       "      <th>6</th>\n",
       "      <td>https://leetcode.com/problems/zigzag-conversion/</td>\n",
       "      <td>6. Zigzag Conversion</td>\n",
       "      <td>43.0%</td>\n",
       "      <td>Medium</td>\n",
       "    </tr>\n",
       "    <tr>\n",
       "      <th>7</th>\n",
       "      <td>https://leetcode.com/problems/reverse-integer/</td>\n",
       "      <td>7. Reverse Integer</td>\n",
       "      <td>27.2%</td>\n",
       "      <td>Medium</td>\n",
       "    </tr>\n",
       "    <tr>\n",
       "      <th>8</th>\n",
       "      <td>https://leetcode.com/problems/string-to-intege...</td>\n",
       "      <td>8. String to Integer (atoi)</td>\n",
       "      <td>16.6%</td>\n",
       "      <td>Medium</td>\n",
       "    </tr>\n",
       "    <tr>\n",
       "      <th>9</th>\n",
       "      <td>https://leetcode.com/problems/palindrome-number/</td>\n",
       "      <td>9. Palindrome Number</td>\n",
       "      <td>52.8%</td>\n",
       "      <td>Easy</td>\n",
       "    </tr>\n",
       "    <tr>\n",
       "      <th>10</th>\n",
       "      <td>https://leetcode.com/problems/regular-expressi...</td>\n",
       "      <td>10. Regular Expression Matching</td>\n",
       "      <td>28.2%</td>\n",
       "      <td>Hard</td>\n",
       "    </tr>\n",
       "    <tr>\n",
       "      <th>11</th>\n",
       "      <td>https://leetcode.com/problems/container-with-m...</td>\n",
       "      <td>11. Container With Most Water</td>\n",
       "      <td>54.3%</td>\n",
       "      <td>Medium</td>\n",
       "    </tr>\n",
       "    <tr>\n",
       "      <th>12</th>\n",
       "      <td>https://leetcode.com/problems/integer-to-roman/</td>\n",
       "      <td>12. Integer to Roman</td>\n",
       "      <td>61.4%</td>\n",
       "      <td>Medium</td>\n",
       "    </tr>\n",
       "    <tr>\n",
       "      <th>13</th>\n",
       "      <td>https://leetcode.com/problems/roman-to-integer/</td>\n",
       "      <td>13. Roman to Integer</td>\n",
       "      <td>58.3%</td>\n",
       "      <td>Easy</td>\n",
       "    </tr>\n",
       "    <tr>\n",
       "      <th>14</th>\n",
       "      <td>https://leetcode.com/problems/longest-common-p...</td>\n",
       "      <td>14. Longest Common Prefix</td>\n",
       "      <td>40.7%</td>\n",
       "      <td>Easy</td>\n",
       "    </tr>\n",
       "    <tr>\n",
       "      <th>15</th>\n",
       "      <td>https://leetcode.com/problems/3sum/</td>\n",
       "      <td>15. 3Sum</td>\n",
       "      <td>32.2%</td>\n",
       "      <td>Medium</td>\n",
       "    </tr>\n",
       "    <tr>\n",
       "      <th>16</th>\n",
       "      <td>https://leetcode.com/problems/3sum-closest/</td>\n",
       "      <td>16. 3Sum Closest</td>\n",
       "      <td>46.2%</td>\n",
       "      <td>Medium</td>\n",
       "    </tr>\n",
       "    <tr>\n",
       "      <th>17</th>\n",
       "      <td>https://leetcode.com/problems/letter-combinati...</td>\n",
       "      <td>17. Letter Combinations of a Phone Number</td>\n",
       "      <td>55.5%</td>\n",
       "      <td>Medium</td>\n",
       "    </tr>\n",
       "    <tr>\n",
       "      <th>18</th>\n",
       "      <td>https://leetcode.com/problems/4sum/</td>\n",
       "      <td>18. 4Sum</td>\n",
       "      <td>36.5%</td>\n",
       "      <td>Medium</td>\n",
       "    </tr>\n",
       "    <tr>\n",
       "      <th>19</th>\n",
       "      <td>https://leetcode.com/problems/remove-nth-node-...</td>\n",
       "      <td>19. Remove Nth Node From End of List</td>\n",
       "      <td>39.9%</td>\n",
       "      <td>Medium</td>\n",
       "    </tr>\n",
       "    <tr>\n",
       "      <th>20</th>\n",
       "      <td>https://leetcode.com/problems/valid-parentheses/</td>\n",
       "      <td>20. Valid Parentheses</td>\n",
       "      <td>40.7%</td>\n",
       "      <td>Easy</td>\n",
       "    </tr>\n",
       "    <tr>\n",
       "      <th>21</th>\n",
       "      <td>https://leetcode.com/problems/merge-two-sorted...</td>\n",
       "      <td>21. Merge Two Sorted Lists</td>\n",
       "      <td>61.8%</td>\n",
       "      <td>Easy</td>\n",
       "    </tr>\n",
       "    <tr>\n",
       "      <th>22</th>\n",
       "      <td>https://leetcode.com/problems/generate-parenth...</td>\n",
       "      <td>22. Generate Parentheses</td>\n",
       "      <td>71.8%</td>\n",
       "      <td>Medium</td>\n",
       "    </tr>\n",
       "    <tr>\n",
       "      <th>23</th>\n",
       "      <td>https://leetcode.com/problems/merge-k-sorted-l...</td>\n",
       "      <td>23. Merge k Sorted Lists</td>\n",
       "      <td>48.3%</td>\n",
       "      <td>Hard</td>\n",
       "    </tr>\n",
       "    <tr>\n",
       "      <th>24</th>\n",
       "      <td>https://leetcode.com/problems/swap-nodes-in-pa...</td>\n",
       "      <td>24. Swap Nodes in Pairs</td>\n",
       "      <td>60.3%</td>\n",
       "      <td>Medium</td>\n",
       "    </tr>\n",
       "    <tr>\n",
       "      <th>25</th>\n",
       "      <td>https://leetcode.com/problems/reverse-nodes-in...</td>\n",
       "      <td>25. Reverse Nodes in k-Group</td>\n",
       "      <td>53.4%</td>\n",
       "      <td>Hard</td>\n",
       "    </tr>\n",
       "    <tr>\n",
       "      <th>26</th>\n",
       "      <td>https://leetcode.com/problems/remove-duplicate...</td>\n",
       "      <td>26. Remove Duplicates from Sorted Array</td>\n",
       "      <td>50.3%</td>\n",
       "      <td>Easy</td>\n",
       "    </tr>\n",
       "    <tr>\n",
       "      <th>27</th>\n",
       "      <td>https://leetcode.com/problems/remove-element/</td>\n",
       "      <td>27. Remove Element</td>\n",
       "      <td>52.1%</td>\n",
       "      <td>Easy</td>\n",
       "    </tr>\n",
       "    <tr>\n",
       "      <th>28</th>\n",
       "      <td>https://leetcode.com/problems/find-the-index-o...</td>\n",
       "      <td>28. Find the Index of the First Occurrence in ...</td>\n",
       "      <td>37.5%</td>\n",
       "      <td>Medium</td>\n",
       "    </tr>\n",
       "    <tr>\n",
       "      <th>29</th>\n",
       "      <td>https://leetcode.com/problems/divide-two-integ...</td>\n",
       "      <td>29. Divide Two Integers</td>\n",
       "      <td>17.3%</td>\n",
       "      <td>Medium</td>\n",
       "    </tr>\n",
       "    <tr>\n",
       "      <th>30</th>\n",
       "      <td>https://leetcode.com/problems/substring-with-c...</td>\n",
       "      <td>30. Substring with Concatenation of All Words</td>\n",
       "      <td>30.9%</td>\n",
       "      <td>Hard</td>\n",
       "    </tr>\n",
       "    <tr>\n",
       "      <th>31</th>\n",
       "      <td>https://leetcode.com/problems/next-permutation/</td>\n",
       "      <td>31. Next Permutation</td>\n",
       "      <td>37.1%</td>\n",
       "      <td>Medium</td>\n",
       "    </tr>\n",
       "    <tr>\n",
       "      <th>32</th>\n",
       "      <td>https://leetcode.com/problems/longest-valid-pa...</td>\n",
       "      <td>32. Longest Valid Parentheses</td>\n",
       "      <td>32.7%</td>\n",
       "      <td>Hard</td>\n",
       "    </tr>\n",
       "    <tr>\n",
       "      <th>33</th>\n",
       "      <td>https://leetcode.com/problems/search-in-rotate...</td>\n",
       "      <td>33. Search in Rotated Sorted Array</td>\n",
       "      <td>38.6%</td>\n",
       "      <td>Medium</td>\n",
       "    </tr>\n",
       "    <tr>\n",
       "      <th>34</th>\n",
       "      <td>https://leetcode.com/problems/find-first-and-l...</td>\n",
       "      <td>34. Find First and Last Position of Element in...</td>\n",
       "      <td>41.5%</td>\n",
       "      <td>Medium</td>\n",
       "    </tr>\n",
       "    <tr>\n",
       "      <th>35</th>\n",
       "      <td>https://leetcode.com/problems/search-insert-po...</td>\n",
       "      <td>35. Search Insert Position</td>\n",
       "      <td>42.0%</td>\n",
       "      <td>Easy</td>\n",
       "    </tr>\n",
       "    <tr>\n",
       "      <th>36</th>\n",
       "      <td>https://leetcode.com/problems/valid-sudoku/</td>\n",
       "      <td>36. Valid Sudoku</td>\n",
       "      <td>56.8%</td>\n",
       "      <td>Medium</td>\n",
       "    </tr>\n",
       "    <tr>\n",
       "      <th>37</th>\n",
       "      <td>https://leetcode.com/problems/sudoku-solver/</td>\n",
       "      <td>37. Sudoku Solver</td>\n",
       "      <td>56.6%</td>\n",
       "      <td>Hard</td>\n",
       "    </tr>\n",
       "    <tr>\n",
       "      <th>38</th>\n",
       "      <td>https://leetcode.com/problems/count-and-say/</td>\n",
       "      <td>38. Count and Say</td>\n",
       "      <td>51.2%</td>\n",
       "      <td>Medium</td>\n",
       "    </tr>\n",
       "    <tr>\n",
       "      <th>39</th>\n",
       "      <td>https://leetcode.com/problems/combination-sum/</td>\n",
       "      <td>39. Combination Sum</td>\n",
       "      <td>67.6%</td>\n",
       "      <td>Medium</td>\n",
       "    </tr>\n",
       "    <tr>\n",
       "      <th>40</th>\n",
       "      <td>https://leetcode.com/problems/combination-sum-ii/</td>\n",
       "      <td>40. Combination Sum II</td>\n",
       "      <td>53.3%</td>\n",
       "      <td>Medium</td>\n",
       "    </tr>\n",
       "    <tr>\n",
       "      <th>41</th>\n",
       "      <td>https://leetcode.com/problems/first-missing-po...</td>\n",
       "      <td>41. First Missing Positive</td>\n",
       "      <td>36.5%</td>\n",
       "      <td>Hard</td>\n",
       "    </tr>\n",
       "    <tr>\n",
       "      <th>42</th>\n",
       "      <td>https://leetcode.com/problems/trapping-rain-wa...</td>\n",
       "      <td>42. Trapping Rain Water</td>\n",
       "      <td>58.8%</td>\n",
       "      <td>Hard</td>\n",
       "    </tr>\n",
       "    <tr>\n",
       "      <th>43</th>\n",
       "      <td>https://leetcode.com/problems/multiply-strings/</td>\n",
       "      <td>43. Multiply Strings</td>\n",
       "      <td>38.7%</td>\n",
       "      <td>Medium</td>\n",
       "    </tr>\n",
       "    <tr>\n",
       "      <th>44</th>\n",
       "      <td>https://leetcode.com/problems/wildcard-matching/</td>\n",
       "      <td>44. Wildcard Matching</td>\n",
       "      <td>26.8%</td>\n",
       "      <td>Hard</td>\n",
       "    </tr>\n",
       "    <tr>\n",
       "      <th>45</th>\n",
       "      <td>https://leetcode.com/problems/jump-game-ii/</td>\n",
       "      <td>45. Jump Game II</td>\n",
       "      <td>38.5%</td>\n",
       "      <td>Medium</td>\n",
       "    </tr>\n",
       "    <tr>\n",
       "      <th>46</th>\n",
       "      <td>https://leetcode.com/problems/permutations/</td>\n",
       "      <td>46. Permutations</td>\n",
       "      <td>74.7%</td>\n",
       "      <td>Medium</td>\n",
       "    </tr>\n",
       "    <tr>\n",
       "      <th>47</th>\n",
       "      <td>https://leetcode.com/problems/permutations-ii/</td>\n",
       "      <td>47. Permutations II</td>\n",
       "      <td>56.7%</td>\n",
       "      <td>Medium</td>\n",
       "    </tr>\n",
       "    <tr>\n",
       "      <th>48</th>\n",
       "      <td>https://leetcode.com/problems/rotate-image/</td>\n",
       "      <td>48. Rotate Image</td>\n",
       "      <td>69.9%</td>\n",
       "      <td>Medium</td>\n",
       "    </tr>\n",
       "    <tr>\n",
       "      <th>49</th>\n",
       "      <td>https://leetcode.com/problems/group-anagrams/</td>\n",
       "      <td>49. Group Anagrams</td>\n",
       "      <td>65.9%</td>\n",
       "      <td>Medium</td>\n",
       "    </tr>\n",
       "    <tr>\n",
       "      <th>50</th>\n",
       "      <td>https://leetcode.com/problems/powx-n/</td>\n",
       "      <td>50. Pow(x, n)</td>\n",
       "      <td>32.8%</td>\n",
       "      <td>Medium</td>\n",
       "    </tr>\n",
       "  </tbody>\n",
       "</table>\n",
       "</div>\n",
       "      <button class=\"colab-df-convert\" onclick=\"convertToInteractive('df-411495e9-c481-4dce-9e20-5eb945d04643')\"\n",
       "              title=\"Convert this dataframe to an interactive table.\"\n",
       "              style=\"display:none;\">\n",
       "        \n",
       "  <svg xmlns=\"http://www.w3.org/2000/svg\" height=\"24px\"viewBox=\"0 0 24 24\"\n",
       "       width=\"24px\">\n",
       "    <path d=\"M0 0h24v24H0V0z\" fill=\"none\"/>\n",
       "    <path d=\"M18.56 5.44l.94 2.06.94-2.06 2.06-.94-2.06-.94-.94-2.06-.94 2.06-2.06.94zm-11 1L8.5 8.5l.94-2.06 2.06-.94-2.06-.94L8.5 2.5l-.94 2.06-2.06.94zm10 10l.94 2.06.94-2.06 2.06-.94-2.06-.94-.94-2.06-.94 2.06-2.06.94z\"/><path d=\"M17.41 7.96l-1.37-1.37c-.4-.4-.92-.59-1.43-.59-.52 0-1.04.2-1.43.59L10.3 9.45l-7.72 7.72c-.78.78-.78 2.05 0 2.83L4 21.41c.39.39.9.59 1.41.59.51 0 1.02-.2 1.41-.59l7.78-7.78 2.81-2.81c.8-.78.8-2.07 0-2.86zM5.41 20L4 18.59l7.72-7.72 1.47 1.35L5.41 20z\"/>\n",
       "  </svg>\n",
       "      </button>\n",
       "      \n",
       "  <style>\n",
       "    .colab-df-container {\n",
       "      display:flex;\n",
       "      flex-wrap:wrap;\n",
       "      gap: 12px;\n",
       "    }\n",
       "\n",
       "    .colab-df-convert {\n",
       "      background-color: #E8F0FE;\n",
       "      border: none;\n",
       "      border-radius: 50%;\n",
       "      cursor: pointer;\n",
       "      display: none;\n",
       "      fill: #1967D2;\n",
       "      height: 32px;\n",
       "      padding: 0 0 0 0;\n",
       "      width: 32px;\n",
       "    }\n",
       "\n",
       "    .colab-df-convert:hover {\n",
       "      background-color: #E2EBFA;\n",
       "      box-shadow: 0px 1px 2px rgba(60, 64, 67, 0.3), 0px 1px 3px 1px rgba(60, 64, 67, 0.15);\n",
       "      fill: #174EA6;\n",
       "    }\n",
       "\n",
       "    [theme=dark] .colab-df-convert {\n",
       "      background-color: #3B4455;\n",
       "      fill: #D2E3FC;\n",
       "    }\n",
       "\n",
       "    [theme=dark] .colab-df-convert:hover {\n",
       "      background-color: #434B5C;\n",
       "      box-shadow: 0px 1px 3px 1px rgba(0, 0, 0, 0.15);\n",
       "      filter: drop-shadow(0px 1px 2px rgba(0, 0, 0, 0.3));\n",
       "      fill: #FFFFFF;\n",
       "    }\n",
       "  </style>\n",
       "\n",
       "      <script>\n",
       "        const buttonEl =\n",
       "          document.querySelector('#df-411495e9-c481-4dce-9e20-5eb945d04643 button.colab-df-convert');\n",
       "        buttonEl.style.display =\n",
       "          google.colab.kernel.accessAllowed ? 'block' : 'none';\n",
       "\n",
       "        async function convertToInteractive(key) {\n",
       "          const element = document.querySelector('#df-411495e9-c481-4dce-9e20-5eb945d04643');\n",
       "          const dataTable =\n",
       "            await google.colab.kernel.invokeFunction('convertToInteractive',\n",
       "                                                     [key], {});\n",
       "          if (!dataTable) return;\n",
       "\n",
       "          const docLinkHtml = 'Like what you see? Visit the ' +\n",
       "            '<a target=\"_blank\" href=https://colab.research.google.com/notebooks/data_table.ipynb>data table notebook</a>'\n",
       "            + ' to learn more about interactive tables.';\n",
       "          element.innerHTML = '';\n",
       "          dataTable['output_type'] = 'display_data';\n",
       "          await google.colab.output.renderOutput(dataTable, element);\n",
       "          const docLink = document.createElement('div');\n",
       "          docLink.innerHTML = docLinkHtml;\n",
       "          element.appendChild(docLink);\n",
       "        }\n",
       "      </script>\n",
       "    </div>\n",
       "  </div>\n",
       "  "
      ],
      "text/plain": [
       "                                                 Link  \\\n",
       "0   https://leetcode.com/problems/continuous-subar...   \n",
       "1              https://leetcode.com/problems/two-sum/   \n",
       "2      https://leetcode.com/problems/add-two-numbers/   \n",
       "3   https://leetcode.com/problems/longest-substrin...   \n",
       "4   https://leetcode.com/problems/median-of-two-so...   \n",
       "5   https://leetcode.com/problems/longest-palindro...   \n",
       "6    https://leetcode.com/problems/zigzag-conversion/   \n",
       "7      https://leetcode.com/problems/reverse-integer/   \n",
       "8   https://leetcode.com/problems/string-to-intege...   \n",
       "9    https://leetcode.com/problems/palindrome-number/   \n",
       "10  https://leetcode.com/problems/regular-expressi...   \n",
       "11  https://leetcode.com/problems/container-with-m...   \n",
       "12    https://leetcode.com/problems/integer-to-roman/   \n",
       "13    https://leetcode.com/problems/roman-to-integer/   \n",
       "14  https://leetcode.com/problems/longest-common-p...   \n",
       "15                https://leetcode.com/problems/3sum/   \n",
       "16        https://leetcode.com/problems/3sum-closest/   \n",
       "17  https://leetcode.com/problems/letter-combinati...   \n",
       "18                https://leetcode.com/problems/4sum/   \n",
       "19  https://leetcode.com/problems/remove-nth-node-...   \n",
       "20   https://leetcode.com/problems/valid-parentheses/   \n",
       "21  https://leetcode.com/problems/merge-two-sorted...   \n",
       "22  https://leetcode.com/problems/generate-parenth...   \n",
       "23  https://leetcode.com/problems/merge-k-sorted-l...   \n",
       "24  https://leetcode.com/problems/swap-nodes-in-pa...   \n",
       "25  https://leetcode.com/problems/reverse-nodes-in...   \n",
       "26  https://leetcode.com/problems/remove-duplicate...   \n",
       "27      https://leetcode.com/problems/remove-element/   \n",
       "28  https://leetcode.com/problems/find-the-index-o...   \n",
       "29  https://leetcode.com/problems/divide-two-integ...   \n",
       "30  https://leetcode.com/problems/substring-with-c...   \n",
       "31    https://leetcode.com/problems/next-permutation/   \n",
       "32  https://leetcode.com/problems/longest-valid-pa...   \n",
       "33  https://leetcode.com/problems/search-in-rotate...   \n",
       "34  https://leetcode.com/problems/find-first-and-l...   \n",
       "35  https://leetcode.com/problems/search-insert-po...   \n",
       "36        https://leetcode.com/problems/valid-sudoku/   \n",
       "37       https://leetcode.com/problems/sudoku-solver/   \n",
       "38       https://leetcode.com/problems/count-and-say/   \n",
       "39     https://leetcode.com/problems/combination-sum/   \n",
       "40  https://leetcode.com/problems/combination-sum-ii/   \n",
       "41  https://leetcode.com/problems/first-missing-po...   \n",
       "42  https://leetcode.com/problems/trapping-rain-wa...   \n",
       "43    https://leetcode.com/problems/multiply-strings/   \n",
       "44   https://leetcode.com/problems/wildcard-matching/   \n",
       "45        https://leetcode.com/problems/jump-game-ii/   \n",
       "46        https://leetcode.com/problems/permutations/   \n",
       "47     https://leetcode.com/problems/permutations-ii/   \n",
       "48        https://leetcode.com/problems/rotate-image/   \n",
       "49      https://leetcode.com/problems/group-anagrams/   \n",
       "50              https://leetcode.com/problems/powx-n/   \n",
       "\n",
       "                                                Title Acceptance Difficulty  \n",
       "0                        523. Continuous Subarray Sum      27.8%     Medium  \n",
       "1                                          1. Two Sum      49.1%       Easy  \n",
       "2                                  2. Add Two Numbers      39.7%     Medium  \n",
       "3   3. Longest Substring Without Repeating Characters      33.8%     Medium  \n",
       "4                      4. Median of Two Sorted Arrays      35.2%       Hard  \n",
       "5                    5. Longest Palindromic Substring      32.4%     Medium  \n",
       "6                                6. Zigzag Conversion      43.0%     Medium  \n",
       "7                                  7. Reverse Integer      27.2%     Medium  \n",
       "8                         8. String to Integer (atoi)      16.6%     Medium  \n",
       "9                                9. Palindrome Number      52.8%       Easy  \n",
       "10                    10. Regular Expression Matching      28.2%       Hard  \n",
       "11                      11. Container With Most Water      54.3%     Medium  \n",
       "12                               12. Integer to Roman      61.4%     Medium  \n",
       "13                               13. Roman to Integer      58.3%       Easy  \n",
       "14                          14. Longest Common Prefix      40.7%       Easy  \n",
       "15                                           15. 3Sum      32.2%     Medium  \n",
       "16                                   16. 3Sum Closest      46.2%     Medium  \n",
       "17          17. Letter Combinations of a Phone Number      55.5%     Medium  \n",
       "18                                           18. 4Sum      36.5%     Medium  \n",
       "19               19. Remove Nth Node From End of List      39.9%     Medium  \n",
       "20                              20. Valid Parentheses      40.7%       Easy  \n",
       "21                         21. Merge Two Sorted Lists      61.8%       Easy  \n",
       "22                           22. Generate Parentheses      71.8%     Medium  \n",
       "23                           23. Merge k Sorted Lists      48.3%       Hard  \n",
       "24                            24. Swap Nodes in Pairs      60.3%     Medium  \n",
       "25                       25. Reverse Nodes in k-Group      53.4%       Hard  \n",
       "26            26. Remove Duplicates from Sorted Array      50.3%       Easy  \n",
       "27                                 27. Remove Element      52.1%       Easy  \n",
       "28  28. Find the Index of the First Occurrence in ...      37.5%     Medium  \n",
       "29                            29. Divide Two Integers      17.3%     Medium  \n",
       "30      30. Substring with Concatenation of All Words      30.9%       Hard  \n",
       "31                               31. Next Permutation      37.1%     Medium  \n",
       "32                      32. Longest Valid Parentheses      32.7%       Hard  \n",
       "33                 33. Search in Rotated Sorted Array      38.6%     Medium  \n",
       "34  34. Find First and Last Position of Element in...      41.5%     Medium  \n",
       "35                         35. Search Insert Position      42.0%       Easy  \n",
       "36                                   36. Valid Sudoku      56.8%     Medium  \n",
       "37                                  37. Sudoku Solver      56.6%       Hard  \n",
       "38                                  38. Count and Say      51.2%     Medium  \n",
       "39                                39. Combination Sum      67.6%     Medium  \n",
       "40                             40. Combination Sum II      53.3%     Medium  \n",
       "41                         41. First Missing Positive      36.5%       Hard  \n",
       "42                            42. Trapping Rain Water      58.8%       Hard  \n",
       "43                               43. Multiply Strings      38.7%     Medium  \n",
       "44                              44. Wildcard Matching      26.8%       Hard  \n",
       "45                                   45. Jump Game II      38.5%     Medium  \n",
       "46                                   46. Permutations      74.7%     Medium  \n",
       "47                                47. Permutations II      56.7%     Medium  \n",
       "48                                   48. Rotate Image      69.9%     Medium  \n",
       "49                                 49. Group Anagrams      65.9%     Medium  \n",
       "50                                      50. Pow(x, n)      32.8%     Medium  "
      ]
     },
     "execution_count": 46,
     "metadata": {},
     "output_type": "execute_result"
    }
   ],
   "source": [
    "p1"
   ]
  },
  {
   "cell_type": "code",
   "execution_count": 41,
   "metadata": {
    "colab": {
     "base_uri": "https://localhost:8080/"
    },
    "id": "zULLKcaij6Ei",
    "outputId": "9a3a7cb8-bf91-4a63-ec78-8a1c55f20a53"
   },
   "outputs": [],
   "source": [
    "create_tx = g.begin()"
   ]
  },
  {
   "cell_type": "code",
   "execution_count": 16,
   "metadata": {},
   "outputs": [],
   "source": [
    "def get_tags():\n",
    "    url = 'https://leetcode.com/problemset/all/'\n",
    "    driver.get(url)\n",
    "\n",
    "    WebDriverWait(driver, timeout=5).until(lambda x: x.find_element(By.XPATH, \"//div[@class = 'relative flex mb-1']\").is_displayed())\n",
    "\n",
    "    script = '''\n",
    "const data = document.querySelector(\"div[class='relative flex mb-1']\").firstChild.children;\n",
    "const tags = [];\n",
    "for (const item of data) {\n",
    "  const tag = [];\n",
    "\n",
    "  const link = item.querySelector('a').href;\n",
    "\n",
    "  tag.push(link);\n",
    "  tag.push(item.querySelector('span').innerText);\n",
    "\n",
    "  tags.push(tag);\n",
    "}\n",
    "return tags\n",
    "    '''\n",
    "    tagsData = driver.execute_script(script)\n",
    "   \n",
    "    return list(tagsData)"
   ]
  },
  {
   "cell_type": "code",
   "execution_count": 17,
   "metadata": {},
   "outputs": [],
   "source": [
    "tags = get_tags()"
   ]
  },
  {
   "cell_type": "code",
   "execution_count": 22,
   "metadata": {
    "scrolled": true
   },
   "outputs": [
    {
     "data": {
      "text/plain": [
       "[['https://leetcode.com/tag/array', 'Array'],\n",
       " ['https://leetcode.com/tag/string', 'String'],\n",
       " ['https://leetcode.com/tag/hash-table', 'Hash Table'],\n",
       " ['https://leetcode.com/tag/dynamic-programming', 'Dynamic Programming'],\n",
       " ['https://leetcode.com/tag/math', 'Math'],\n",
       " ['https://leetcode.com/tag/sorting', 'Sorting'],\n",
       " ['https://leetcode.com/tag/greedy', 'Greedy'],\n",
       " ['https://leetcode.com/tag/depth-first-search', 'Depth-First Search'],\n",
       " ['https://leetcode.com/tag/database', 'Database'],\n",
       " ['https://leetcode.com/tag/breadth-first-search', 'Breadth-First Search'],\n",
       " ['https://leetcode.com/tag/tree', 'Tree'],\n",
       " ['https://leetcode.com/tag/binary-search', 'Binary Search'],\n",
       " ['https://leetcode.com/tag/matrix', 'Matrix'],\n",
       " ['https://leetcode.com/tag/binary-tree', 'Binary Tree'],\n",
       " ['https://leetcode.com/tag/two-pointers', 'Two Pointers'],\n",
       " ['https://leetcode.com/tag/bit-manipulation', 'Bit Manipulation'],\n",
       " ['https://leetcode.com/tag/stack', 'Stack'],\n",
       " ['https://leetcode.com/tag/heap-priority-queue', 'Heap (Priority Queue)'],\n",
       " ['https://leetcode.com/tag/design', 'Design'],\n",
       " ['https://leetcode.com/tag/graph', 'Graph'],\n",
       " ['https://leetcode.com/tag/prefix-sum', 'Prefix Sum'],\n",
       " ['https://leetcode.com/tag/simulation', 'Simulation'],\n",
       " ['https://leetcode.com/tag/backtracking', 'Backtracking'],\n",
       " ['https://leetcode.com/tag/counting', 'Counting'],\n",
       " ['https://leetcode.com/tag/sliding-window', 'Sliding Window'],\n",
       " ['https://leetcode.com/tag/union-find', 'Union Find'],\n",
       " ['https://leetcode.com/tag/linked-list', 'Linked List'],\n",
       " ['https://leetcode.com/tag/ordered-set', 'Ordered Set'],\n",
       " ['https://leetcode.com/tag/monotonic-stack', 'Monotonic Stack'],\n",
       " ['https://leetcode.com/tag/enumeration', 'Enumeration'],\n",
       " ['https://leetcode.com/tag/recursion', 'Recursion'],\n",
       " ['https://leetcode.com/tag/trie', 'Trie'],\n",
       " ['https://leetcode.com/tag/divide-and-conquer', 'Divide and Conquer'],\n",
       " ['https://leetcode.com/tag/binary-search-tree', 'Binary Search Tree'],\n",
       " ['https://leetcode.com/tag/bitmask', 'Bitmask'],\n",
       " ['https://leetcode.com/tag/queue', 'Queue'],\n",
       " ['https://leetcode.com/tag/memoization', 'Memoization'],\n",
       " ['https://leetcode.com/tag/geometry', 'Geometry'],\n",
       " ['https://leetcode.com/tag/segment-tree', 'Segment Tree'],\n",
       " ['https://leetcode.com/tag/topological-sort', 'Topological Sort'],\n",
       " ['https://leetcode.com/tag/hash-function', 'Hash Function'],\n",
       " ['https://leetcode.com/tag/game-theory', 'Game Theory'],\n",
       " ['https://leetcode.com/tag/binary-indexed-tree', 'Binary Indexed Tree'],\n",
       " ['https://leetcode.com/tag/number-theory', 'Number Theory'],\n",
       " ['https://leetcode.com/tag/interactive', 'Interactive'],\n",
       " ['https://leetcode.com/tag/string-matching', 'String Matching'],\n",
       " ['https://leetcode.com/tag/rolling-hash', 'Rolling Hash'],\n",
       " ['https://leetcode.com/tag/data-stream', 'Data Stream'],\n",
       " ['https://leetcode.com/tag/shortest-path', 'Shortest Path'],\n",
       " ['https://leetcode.com/tag/combinatorics', 'Combinatorics'],\n",
       " ['https://leetcode.com/tag/randomized', 'Randomized'],\n",
       " ['https://leetcode.com/tag/monotonic-queue', 'Monotonic Queue'],\n",
       " ['https://leetcode.com/tag/brainteaser', 'Brainteaser'],\n",
       " ['https://leetcode.com/tag/merge-sort', 'Merge Sort'],\n",
       " ['https://leetcode.com/tag/iterator', 'Iterator'],\n",
       " ['https://leetcode.com/tag/concurrency', 'Concurrency'],\n",
       " ['https://leetcode.com/tag/doubly-linked-list', 'Doubly-Linked List'],\n",
       " ['https://leetcode.com/tag/probability-and-statistics',\n",
       "  'Probability and Statistics'],\n",
       " ['https://leetcode.com/tag/quickselect', 'Quickselect'],\n",
       " ['https://leetcode.com/tag/bucket-sort', 'Bucket Sort'],\n",
       " ['https://leetcode.com/tag/suffix-array', 'Suffix Array'],\n",
       " ['https://leetcode.com/tag/minimum-spanning-tree', 'Minimum Spanning Tree'],\n",
       " ['https://leetcode.com/tag/counting-sort', 'Counting Sort'],\n",
       " ['https://leetcode.com/tag/shell', 'Shell'],\n",
       " ['https://leetcode.com/tag/line-sweep', 'Line Sweep'],\n",
       " ['https://leetcode.com/tag/reservoir-sampling', 'Reservoir Sampling'],\n",
       " ['https://leetcode.com/tag/eulerian-circuit', 'Eulerian Circuit'],\n",
       " ['https://leetcode.com/tag/radix-sort', 'Radix Sort'],\n",
       " ['https://leetcode.com/tag/strongly-connected-component',\n",
       "  'Strongly Connected Component'],\n",
       " ['https://leetcode.com/tag/rejection-sampling', 'Rejection Sampling'],\n",
       " ['https://leetcode.com/tag/biconnected-component', 'Biconnected Component']]"
      ]
     },
     "execution_count": 22,
     "metadata": {},
     "output_type": "execute_result"
    }
   ],
   "source": [
    "tgs = tags\n",
    "tgs"
   ]
  },
  {
   "cell_type": "code",
   "execution_count": 24,
   "metadata": {
    "collapsed": true
   },
   "outputs": [
    {
     "data": {
      "text/html": [
       "<div>\n",
       "<style scoped>\n",
       "    .dataframe tbody tr th:only-of-type {\n",
       "        vertical-align: middle;\n",
       "    }\n",
       "\n",
       "    .dataframe tbody tr th {\n",
       "        vertical-align: top;\n",
       "    }\n",
       "\n",
       "    .dataframe thead th {\n",
       "        text-align: right;\n",
       "    }\n",
       "</style>\n",
       "<table border=\"1\" class=\"dataframe\">\n",
       "  <thead>\n",
       "    <tr style=\"text-align: right;\">\n",
       "      <th></th>\n",
       "      <th>0</th>\n",
       "      <th>1</th>\n",
       "    </tr>\n",
       "  </thead>\n",
       "  <tbody>\n",
       "    <tr>\n",
       "      <th>0</th>\n",
       "      <td>https://leetcode.com/tag/array</td>\n",
       "      <td>Array</td>\n",
       "    </tr>\n",
       "    <tr>\n",
       "      <th>1</th>\n",
       "      <td>https://leetcode.com/tag/string</td>\n",
       "      <td>String</td>\n",
       "    </tr>\n",
       "    <tr>\n",
       "      <th>2</th>\n",
       "      <td>https://leetcode.com/tag/hash-table</td>\n",
       "      <td>Hash Table</td>\n",
       "    </tr>\n",
       "    <tr>\n",
       "      <th>3</th>\n",
       "      <td>https://leetcode.com/tag/dynamic-programming</td>\n",
       "      <td>Dynamic Programming</td>\n",
       "    </tr>\n",
       "    <tr>\n",
       "      <th>4</th>\n",
       "      <td>https://leetcode.com/tag/math</td>\n",
       "      <td>Math</td>\n",
       "    </tr>\n",
       "    <tr>\n",
       "      <th>...</th>\n",
       "      <td>...</td>\n",
       "      <td>...</td>\n",
       "    </tr>\n",
       "    <tr>\n",
       "      <th>66</th>\n",
       "      <td>https://leetcode.com/tag/eulerian-circuit</td>\n",
       "      <td>Eulerian Circuit</td>\n",
       "    </tr>\n",
       "    <tr>\n",
       "      <th>67</th>\n",
       "      <td>https://leetcode.com/tag/radix-sort</td>\n",
       "      <td>Radix Sort</td>\n",
       "    </tr>\n",
       "    <tr>\n",
       "      <th>68</th>\n",
       "      <td>https://leetcode.com/tag/strongly-connected-co...</td>\n",
       "      <td>Strongly Connected Component</td>\n",
       "    </tr>\n",
       "    <tr>\n",
       "      <th>69</th>\n",
       "      <td>https://leetcode.com/tag/rejection-sampling</td>\n",
       "      <td>Rejection Sampling</td>\n",
       "    </tr>\n",
       "    <tr>\n",
       "      <th>70</th>\n",
       "      <td>https://leetcode.com/tag/biconnected-component</td>\n",
       "      <td>Biconnected Component</td>\n",
       "    </tr>\n",
       "  </tbody>\n",
       "</table>\n",
       "<p>71 rows × 2 columns</p>\n",
       "</div>"
      ],
      "text/plain": [
       "                                                    0  \\\n",
       "0                      https://leetcode.com/tag/array   \n",
       "1                     https://leetcode.com/tag/string   \n",
       "2                 https://leetcode.com/tag/hash-table   \n",
       "3        https://leetcode.com/tag/dynamic-programming   \n",
       "4                       https://leetcode.com/tag/math   \n",
       "..                                                ...   \n",
       "66          https://leetcode.com/tag/eulerian-circuit   \n",
       "67                https://leetcode.com/tag/radix-sort   \n",
       "68  https://leetcode.com/tag/strongly-connected-co...   \n",
       "69        https://leetcode.com/tag/rejection-sampling   \n",
       "70     https://leetcode.com/tag/biconnected-component   \n",
       "\n",
       "                               1  \n",
       "0                          Array  \n",
       "1                         String  \n",
       "2                     Hash Table  \n",
       "3            Dynamic Programming  \n",
       "4                           Math  \n",
       "..                           ...  \n",
       "66              Eulerian Circuit  \n",
       "67                    Radix Sort  \n",
       "68  Strongly Connected Component  \n",
       "69            Rejection Sampling  \n",
       "70         Biconnected Component  \n",
       "\n",
       "[71 rows x 2 columns]"
      ]
     },
     "execution_count": 24,
     "metadata": {},
     "output_type": "execute_result"
    }
   ],
   "source": [
    "tags = pd.DataFrame(tgs)\n",
    "tags"
   ]
  },
  {
   "cell_type": "code",
   "execution_count": 51,
   "metadata": {},
   "outputs": [],
   "source": [
    "tags.to_csv('tags.csv')"
   ]
  },
  {
   "cell_type": "code",
   "execution_count": 50,
   "metadata": {},
   "outputs": [
    {
     "data": {
      "text/plain": [
       "71"
      ]
     },
     "execution_count": 50,
     "metadata": {},
     "output_type": "execute_result"
    }
   ],
   "source": [
    "len(tgs)"
   ]
  },
  {
   "cell_type": "code",
   "execution_count": 27,
   "metadata": {},
   "outputs": [
    {
     "data": {
      "text/plain": [
       "0    https://leetcode.com/tag/array\n",
       "1                             Array\n",
       "Name: 0, dtype: object"
      ]
     },
     "execution_count": 27,
     "metadata": {},
     "output_type": "execute_result"
    }
   ],
   "source": [
    "tags.iloc[0,:]"
   ]
  },
  {
   "cell_type": "code",
   "execution_count": 31,
   "metadata": {},
   "outputs": [
    {
     "data": {
      "text/plain": [
       "['https://leetcode.com/tag/array', 'Array']"
      ]
     },
     "execution_count": 31,
     "metadata": {},
     "output_type": "execute_result"
    }
   ],
   "source": [
    "tgs[0]"
   ]
  },
  {
   "cell_type": "code",
   "execution_count": 41,
   "metadata": {
    "colab": {
     "base_uri": "https://localhost:8080/"
    },
    "id": "zULLKcaij6Ei",
    "outputId": "9a3a7cb8-bf91-4a63-ec78-8a1c55f20a53"
   },
   "outputs": [],
   "source": [
    "create_tx = g.begin()"
   ]
  },
  {
   "cell_type": "code",
   "execution_count": null,
   "metadata": {},
   "outputs": [],
   "source": [
    "n = Node(\"Tag\", uri='https://leetcode.com/tag/array', title='Array')\n",
    "create_tx.create(n)"
   ]
  },
  {
   "cell_type": "code",
   "execution_count": 43,
   "metadata": {},
   "outputs": [
    {
     "name": "stderr",
     "output_type": "stream",
     "text": [
      "/tmp/ipykernel_109057/2607430192.py:1: DeprecationWarning: The transaction.commit() method is deprecated, use graph.commit(transaction) instead\n",
      "  create_tx.commit()\n"
     ]
    }
   ],
   "source": [
    "g.commit()"
   ]
  },
  {
   "cell_type": "code",
   "execution_count": 46,
   "metadata": {
    "collapsed": true,
    "id": "BjWui68KT0Ky"
   },
   "outputs": [
    {
     "ename": "TypeError",
     "evalue": "Cannot run query in closed transaction",
     "output_type": "error",
     "traceback": [
      "\u001b[0;31m---------------------------------------------------------------------------\u001b[0m",
      "\u001b[0;31mTypeError\u001b[0m                                 Traceback (most recent call last)",
      "\u001b[0;32m/tmp/ipykernel_109057/3467653021.py\u001b[0m in \u001b[0;36m<module>\u001b[0;34m\u001b[0m\n\u001b[1;32m      3\u001b[0m   \u001b[0mcreate_tx\u001b[0m\u001b[0;34m.\u001b[0m\u001b[0mcreate\u001b[0m\u001b[0;34m(\u001b[0m\u001b[0mn\u001b[0m\u001b[0;34m)\u001b[0m\u001b[0;34m\u001b[0m\u001b[0;34m\u001b[0m\u001b[0m\n\u001b[1;32m      4\u001b[0m \u001b[0;34m\u001b[0m\u001b[0m\n\u001b[0;32m----> 5\u001b[0;31m \u001b[0mtags\u001b[0m\u001b[0;34m.\u001b[0m\u001b[0miloc\u001b[0m\u001b[0;34m[\u001b[0m\u001b[0;36m1\u001b[0m\u001b[0;34m:\u001b[0m\u001b[0;34m,\u001b[0m\u001b[0;34m:\u001b[0m\u001b[0;34m]\u001b[0m\u001b[0;34m.\u001b[0m\u001b[0mapply\u001b[0m\u001b[0;34m(\u001b[0m\u001b[0;32mlambda\u001b[0m \u001b[0mr\u001b[0m\u001b[0;34m:\u001b[0m \u001b[0mcreate_tag_from_row\u001b[0m\u001b[0;34m(\u001b[0m\u001b[0mr\u001b[0m\u001b[0;34m[\u001b[0m\u001b[0;36m0\u001b[0m\u001b[0;34m]\u001b[0m\u001b[0;34m,\u001b[0m\u001b[0mr\u001b[0m\u001b[0;34m[\u001b[0m\u001b[0;36m1\u001b[0m\u001b[0;34m]\u001b[0m\u001b[0;34m)\u001b[0m\u001b[0;34m,\u001b[0m \u001b[0maxis\u001b[0m\u001b[0;34m=\u001b[0m\u001b[0;36m1\u001b[0m\u001b[0;34m)\u001b[0m\u001b[0;34m\u001b[0m\u001b[0;34m\u001b[0m\u001b[0m\n\u001b[0m\u001b[1;32m      6\u001b[0m \u001b[0;34m\u001b[0m\u001b[0m\n\u001b[1;32m      7\u001b[0m \u001b[0mg\u001b[0m\u001b[0;34m.\u001b[0m\u001b[0mcommit\u001b[0m\u001b[0;34m(\u001b[0m\u001b[0;34m)\u001b[0m\u001b[0;34m\u001b[0m\u001b[0;34m\u001b[0m\u001b[0m\n",
      "\u001b[0;32m~/.local/lib/python3.10/site-packages/pandas/core/frame.py\u001b[0m in \u001b[0;36mapply\u001b[0;34m(self, func, axis, raw, result_type, args, **kwargs)\u001b[0m\n\u001b[1;32m   9553\u001b[0m             \u001b[0mkwargs\u001b[0m\u001b[0;34m=\u001b[0m\u001b[0mkwargs\u001b[0m\u001b[0;34m,\u001b[0m\u001b[0;34m\u001b[0m\u001b[0;34m\u001b[0m\u001b[0m\n\u001b[1;32m   9554\u001b[0m         )\n\u001b[0;32m-> 9555\u001b[0;31m         \u001b[0;32mreturn\u001b[0m \u001b[0mop\u001b[0m\u001b[0;34m.\u001b[0m\u001b[0mapply\u001b[0m\u001b[0;34m(\u001b[0m\u001b[0;34m)\u001b[0m\u001b[0;34m.\u001b[0m\u001b[0m__finalize__\u001b[0m\u001b[0;34m(\u001b[0m\u001b[0mself\u001b[0m\u001b[0;34m,\u001b[0m \u001b[0mmethod\u001b[0m\u001b[0;34m=\u001b[0m\u001b[0;34m\"apply\"\u001b[0m\u001b[0;34m)\u001b[0m\u001b[0;34m\u001b[0m\u001b[0;34m\u001b[0m\u001b[0m\n\u001b[0m\u001b[1;32m   9556\u001b[0m \u001b[0;34m\u001b[0m\u001b[0m\n\u001b[1;32m   9557\u001b[0m     def applymap(\n",
      "\u001b[0;32m~/.local/lib/python3.10/site-packages/pandas/core/apply.py\u001b[0m in \u001b[0;36mapply\u001b[0;34m(self)\u001b[0m\n\u001b[1;32m    744\u001b[0m             \u001b[0;32mreturn\u001b[0m \u001b[0mself\u001b[0m\u001b[0;34m.\u001b[0m\u001b[0mapply_raw\u001b[0m\u001b[0;34m(\u001b[0m\u001b[0;34m)\u001b[0m\u001b[0;34m\u001b[0m\u001b[0;34m\u001b[0m\u001b[0m\n\u001b[1;32m    745\u001b[0m \u001b[0;34m\u001b[0m\u001b[0m\n\u001b[0;32m--> 746\u001b[0;31m         \u001b[0;32mreturn\u001b[0m \u001b[0mself\u001b[0m\u001b[0;34m.\u001b[0m\u001b[0mapply_standard\u001b[0m\u001b[0;34m(\u001b[0m\u001b[0;34m)\u001b[0m\u001b[0;34m\u001b[0m\u001b[0;34m\u001b[0m\u001b[0m\n\u001b[0m\u001b[1;32m    747\u001b[0m \u001b[0;34m\u001b[0m\u001b[0m\n\u001b[1;32m    748\u001b[0m     \u001b[0;32mdef\u001b[0m \u001b[0magg\u001b[0m\u001b[0;34m(\u001b[0m\u001b[0mself\u001b[0m\u001b[0;34m)\u001b[0m\u001b[0;34m:\u001b[0m\u001b[0;34m\u001b[0m\u001b[0;34m\u001b[0m\u001b[0m\n",
      "\u001b[0;32m~/.local/lib/python3.10/site-packages/pandas/core/apply.py\u001b[0m in \u001b[0;36mapply_standard\u001b[0;34m(self)\u001b[0m\n\u001b[1;32m    871\u001b[0m \u001b[0;34m\u001b[0m\u001b[0m\n\u001b[1;32m    872\u001b[0m     \u001b[0;32mdef\u001b[0m \u001b[0mapply_standard\u001b[0m\u001b[0;34m(\u001b[0m\u001b[0mself\u001b[0m\u001b[0;34m)\u001b[0m\u001b[0;34m:\u001b[0m\u001b[0;34m\u001b[0m\u001b[0;34m\u001b[0m\u001b[0m\n\u001b[0;32m--> 873\u001b[0;31m         \u001b[0mresults\u001b[0m\u001b[0;34m,\u001b[0m \u001b[0mres_index\u001b[0m \u001b[0;34m=\u001b[0m \u001b[0mself\u001b[0m\u001b[0;34m.\u001b[0m\u001b[0mapply_series_generator\u001b[0m\u001b[0;34m(\u001b[0m\u001b[0;34m)\u001b[0m\u001b[0;34m\u001b[0m\u001b[0;34m\u001b[0m\u001b[0m\n\u001b[0m\u001b[1;32m    874\u001b[0m \u001b[0;34m\u001b[0m\u001b[0m\n\u001b[1;32m    875\u001b[0m         \u001b[0;31m# wrap results\u001b[0m\u001b[0;34m\u001b[0m\u001b[0;34m\u001b[0m\u001b[0m\n",
      "\u001b[0;32m~/.local/lib/python3.10/site-packages/pandas/core/apply.py\u001b[0m in \u001b[0;36mapply_series_generator\u001b[0;34m(self)\u001b[0m\n\u001b[1;32m    887\u001b[0m             \u001b[0;32mfor\u001b[0m \u001b[0mi\u001b[0m\u001b[0;34m,\u001b[0m \u001b[0mv\u001b[0m \u001b[0;32min\u001b[0m \u001b[0menumerate\u001b[0m\u001b[0;34m(\u001b[0m\u001b[0mseries_gen\u001b[0m\u001b[0;34m)\u001b[0m\u001b[0;34m:\u001b[0m\u001b[0;34m\u001b[0m\u001b[0;34m\u001b[0m\u001b[0m\n\u001b[1;32m    888\u001b[0m                 \u001b[0;31m# ignore SettingWithCopy here in case the user mutates\u001b[0m\u001b[0;34m\u001b[0m\u001b[0;34m\u001b[0m\u001b[0m\n\u001b[0;32m--> 889\u001b[0;31m                 \u001b[0mresults\u001b[0m\u001b[0;34m[\u001b[0m\u001b[0mi\u001b[0m\u001b[0;34m]\u001b[0m \u001b[0;34m=\u001b[0m \u001b[0mself\u001b[0m\u001b[0;34m.\u001b[0m\u001b[0mf\u001b[0m\u001b[0;34m(\u001b[0m\u001b[0mv\u001b[0m\u001b[0;34m)\u001b[0m\u001b[0;34m\u001b[0m\u001b[0;34m\u001b[0m\u001b[0m\n\u001b[0m\u001b[1;32m    890\u001b[0m                 \u001b[0;32mif\u001b[0m \u001b[0misinstance\u001b[0m\u001b[0;34m(\u001b[0m\u001b[0mresults\u001b[0m\u001b[0;34m[\u001b[0m\u001b[0mi\u001b[0m\u001b[0;34m]\u001b[0m\u001b[0;34m,\u001b[0m \u001b[0mABCSeries\u001b[0m\u001b[0;34m)\u001b[0m\u001b[0;34m:\u001b[0m\u001b[0;34m\u001b[0m\u001b[0;34m\u001b[0m\u001b[0m\n\u001b[1;32m    891\u001b[0m                     \u001b[0;31m# If we have a view on v, we need to make a copy because\u001b[0m\u001b[0;34m\u001b[0m\u001b[0;34m\u001b[0m\u001b[0m\n",
      "\u001b[0;32m/tmp/ipykernel_109057/3467653021.py\u001b[0m in \u001b[0;36m<lambda>\u001b[0;34m(r)\u001b[0m\n\u001b[1;32m      3\u001b[0m   \u001b[0mcreate_tx\u001b[0m\u001b[0;34m.\u001b[0m\u001b[0mcreate\u001b[0m\u001b[0;34m(\u001b[0m\u001b[0mn\u001b[0m\u001b[0;34m)\u001b[0m\u001b[0;34m\u001b[0m\u001b[0;34m\u001b[0m\u001b[0m\n\u001b[1;32m      4\u001b[0m \u001b[0;34m\u001b[0m\u001b[0m\n\u001b[0;32m----> 5\u001b[0;31m \u001b[0mtags\u001b[0m\u001b[0;34m.\u001b[0m\u001b[0miloc\u001b[0m\u001b[0;34m[\u001b[0m\u001b[0;36m1\u001b[0m\u001b[0;34m:\u001b[0m\u001b[0;34m,\u001b[0m\u001b[0;34m:\u001b[0m\u001b[0;34m]\u001b[0m\u001b[0;34m.\u001b[0m\u001b[0mapply\u001b[0m\u001b[0;34m(\u001b[0m\u001b[0;32mlambda\u001b[0m \u001b[0mr\u001b[0m\u001b[0;34m:\u001b[0m \u001b[0mcreate_tag_from_row\u001b[0m\u001b[0;34m(\u001b[0m\u001b[0mr\u001b[0m\u001b[0;34m[\u001b[0m\u001b[0;36m0\u001b[0m\u001b[0;34m]\u001b[0m\u001b[0;34m,\u001b[0m\u001b[0mr\u001b[0m\u001b[0;34m[\u001b[0m\u001b[0;36m1\u001b[0m\u001b[0;34m]\u001b[0m\u001b[0;34m)\u001b[0m\u001b[0;34m,\u001b[0m \u001b[0maxis\u001b[0m\u001b[0;34m=\u001b[0m\u001b[0;36m1\u001b[0m\u001b[0;34m)\u001b[0m\u001b[0;34m\u001b[0m\u001b[0;34m\u001b[0m\u001b[0m\n\u001b[0m\u001b[1;32m      6\u001b[0m \u001b[0;34m\u001b[0m\u001b[0m\n\u001b[1;32m      7\u001b[0m \u001b[0mg\u001b[0m\u001b[0;34m.\u001b[0m\u001b[0mcommit\u001b[0m\u001b[0;34m(\u001b[0m\u001b[0;34m)\u001b[0m\u001b[0;34m\u001b[0m\u001b[0;34m\u001b[0m\u001b[0m\n",
      "\u001b[0;32m/tmp/ipykernel_109057/3467653021.py\u001b[0m in \u001b[0;36mcreate_tag_from_row\u001b[0;34m(uri, title)\u001b[0m\n\u001b[1;32m      1\u001b[0m \u001b[0;32mdef\u001b[0m \u001b[0mcreate_tag_from_row\u001b[0m\u001b[0;34m(\u001b[0m\u001b[0muri\u001b[0m\u001b[0;34m,\u001b[0m \u001b[0mtitle\u001b[0m\u001b[0;34m)\u001b[0m\u001b[0;34m:\u001b[0m\u001b[0;34m\u001b[0m\u001b[0;34m\u001b[0m\u001b[0m\n\u001b[1;32m      2\u001b[0m   \u001b[0mn\u001b[0m \u001b[0;34m=\u001b[0m \u001b[0mNode\u001b[0m\u001b[0;34m(\u001b[0m\u001b[0;34m\"Tag\"\u001b[0m\u001b[0;34m,\u001b[0m \u001b[0muri\u001b[0m\u001b[0;34m=\u001b[0m\u001b[0muri\u001b[0m\u001b[0;34m,\u001b[0m \u001b[0mtitle\u001b[0m\u001b[0;34m=\u001b[0m\u001b[0mtitle\u001b[0m\u001b[0;34m)\u001b[0m\u001b[0;34m\u001b[0m\u001b[0;34m\u001b[0m\u001b[0m\n\u001b[0;32m----> 3\u001b[0;31m   \u001b[0mcreate_tx\u001b[0m\u001b[0;34m.\u001b[0m\u001b[0mcreate\u001b[0m\u001b[0;34m(\u001b[0m\u001b[0mn\u001b[0m\u001b[0;34m)\u001b[0m\u001b[0;34m\u001b[0m\u001b[0;34m\u001b[0m\u001b[0m\n\u001b[0m\u001b[1;32m      4\u001b[0m \u001b[0;34m\u001b[0m\u001b[0m\n\u001b[1;32m      5\u001b[0m \u001b[0mtags\u001b[0m\u001b[0;34m.\u001b[0m\u001b[0miloc\u001b[0m\u001b[0;34m[\u001b[0m\u001b[0;36m1\u001b[0m\u001b[0;34m:\u001b[0m\u001b[0;34m,\u001b[0m\u001b[0;34m:\u001b[0m\u001b[0;34m]\u001b[0m\u001b[0;34m.\u001b[0m\u001b[0mapply\u001b[0m\u001b[0;34m(\u001b[0m\u001b[0;32mlambda\u001b[0m \u001b[0mr\u001b[0m\u001b[0;34m:\u001b[0m \u001b[0mcreate_tag_from_row\u001b[0m\u001b[0;34m(\u001b[0m\u001b[0mr\u001b[0m\u001b[0;34m[\u001b[0m\u001b[0;36m0\u001b[0m\u001b[0;34m]\u001b[0m\u001b[0;34m,\u001b[0m\u001b[0mr\u001b[0m\u001b[0;34m[\u001b[0m\u001b[0;36m1\u001b[0m\u001b[0;34m]\u001b[0m\u001b[0;34m)\u001b[0m\u001b[0;34m,\u001b[0m \u001b[0maxis\u001b[0m\u001b[0;34m=\u001b[0m\u001b[0;36m1\u001b[0m\u001b[0;34m)\u001b[0m\u001b[0;34m\u001b[0m\u001b[0;34m\u001b[0m\u001b[0m\n",
      "\u001b[0;32m~/.local/lib/python3.10/site-packages/py2neo/database.py\u001b[0m in \u001b[0;36mcreate\u001b[0;34m(self, subgraph)\u001b[0m\n\u001b[1;32m   1061\u001b[0m             \u001b[0;32mraise\u001b[0m \u001b[0mTypeError\u001b[0m\u001b[0;34m(\u001b[0m\u001b[0;34m\"No method defined to create object %r\"\u001b[0m \u001b[0;34m%\u001b[0m \u001b[0msubgraph\u001b[0m\u001b[0;34m)\u001b[0m\u001b[0;34m\u001b[0m\u001b[0;34m\u001b[0m\u001b[0m\n\u001b[1;32m   1062\u001b[0m         \u001b[0;32melse\u001b[0m\u001b[0;34m:\u001b[0m\u001b[0;34m\u001b[0m\u001b[0;34m\u001b[0m\u001b[0m\n\u001b[0;32m-> 1063\u001b[0;31m             \u001b[0mcreate\u001b[0m\u001b[0;34m(\u001b[0m\u001b[0mself\u001b[0m\u001b[0;34m)\u001b[0m\u001b[0;34m\u001b[0m\u001b[0;34m\u001b[0m\u001b[0m\n\u001b[0m\u001b[1;32m   1064\u001b[0m \u001b[0;34m\u001b[0m\u001b[0m\n\u001b[1;32m   1065\u001b[0m     \u001b[0;32mdef\u001b[0m \u001b[0mdelete\u001b[0m\u001b[0;34m(\u001b[0m\u001b[0mself\u001b[0m\u001b[0;34m,\u001b[0m \u001b[0msubgraph\u001b[0m\u001b[0;34m)\u001b[0m\u001b[0;34m:\u001b[0m\u001b[0;34m\u001b[0m\u001b[0;34m\u001b[0m\u001b[0m\n",
      "\u001b[0;32m~/.local/lib/python3.10/site-packages/py2neo/data.py\u001b[0m in \u001b[0;36m__db_create__\u001b[0;34m(self, tx)\u001b[0m\n\u001b[1;32m    198\u001b[0m             \u001b[0mpq\u001b[0m \u001b[0;34m=\u001b[0m \u001b[0munwind_create_nodes_query\u001b[0m\u001b[0;34m(\u001b[0m\u001b[0mlist\u001b[0m\u001b[0;34m(\u001b[0m\u001b[0mmap\u001b[0m\u001b[0;34m(\u001b[0m\u001b[0mdict\u001b[0m\u001b[0;34m,\u001b[0m \u001b[0mnodes\u001b[0m\u001b[0;34m)\u001b[0m\u001b[0;34m)\u001b[0m\u001b[0;34m,\u001b[0m \u001b[0mlabels\u001b[0m\u001b[0;34m=\u001b[0m\u001b[0mlabels\u001b[0m\u001b[0;34m)\u001b[0m\u001b[0;34m\u001b[0m\u001b[0;34m\u001b[0m\u001b[0m\n\u001b[1;32m    199\u001b[0m             \u001b[0mpq\u001b[0m \u001b[0;34m=\u001b[0m \u001b[0mcypher_join\u001b[0m\u001b[0;34m(\u001b[0m\u001b[0mpq\u001b[0m\u001b[0;34m,\u001b[0m \u001b[0;34m\"RETURN id(_)\"\u001b[0m\u001b[0;34m)\u001b[0m\u001b[0;34m\u001b[0m\u001b[0;34m\u001b[0m\u001b[0m\n\u001b[0;32m--> 200\u001b[0;31m             \u001b[0mrecords\u001b[0m \u001b[0;34m=\u001b[0m \u001b[0mtx\u001b[0m\u001b[0;34m.\u001b[0m\u001b[0mrun\u001b[0m\u001b[0;34m(\u001b[0m\u001b[0;34m*\u001b[0m\u001b[0mpq\u001b[0m\u001b[0;34m)\u001b[0m\u001b[0;34m\u001b[0m\u001b[0;34m\u001b[0m\u001b[0m\n\u001b[0m\u001b[1;32m    201\u001b[0m             \u001b[0;32mfor\u001b[0m \u001b[0mi\u001b[0m\u001b[0;34m,\u001b[0m \u001b[0mrecord\u001b[0m \u001b[0;32min\u001b[0m \u001b[0menumerate\u001b[0m\u001b[0;34m(\u001b[0m\u001b[0mrecords\u001b[0m\u001b[0;34m)\u001b[0m\u001b[0;34m:\u001b[0m\u001b[0;34m\u001b[0m\u001b[0;34m\u001b[0m\u001b[0m\n\u001b[1;32m    202\u001b[0m                 \u001b[0mnode\u001b[0m \u001b[0;34m=\u001b[0m \u001b[0mnodes\u001b[0m\u001b[0;34m[\u001b[0m\u001b[0mi\u001b[0m\u001b[0;34m]\u001b[0m\u001b[0;34m\u001b[0m\u001b[0;34m\u001b[0m\u001b[0m\n",
      "\u001b[0;32m~/.local/lib/python3.10/site-packages/py2neo/database.py\u001b[0m in \u001b[0;36mrun\u001b[0;34m(self, cypher, parameters, **kwparameters)\u001b[0m\n\u001b[1;32m    979\u001b[0m \u001b[0;34m\u001b[0m\u001b[0m\n\u001b[1;32m    980\u001b[0m         \u001b[0;32mif\u001b[0m \u001b[0mself\u001b[0m\u001b[0;34m.\u001b[0m\u001b[0mclosed\u001b[0m\u001b[0;34m:\u001b[0m\u001b[0;34m\u001b[0m\u001b[0;34m\u001b[0m\u001b[0m\n\u001b[0;32m--> 981\u001b[0;31m             \u001b[0;32mraise\u001b[0m \u001b[0mTypeError\u001b[0m\u001b[0;34m(\u001b[0m\u001b[0;34m\"Cannot run query in closed transaction\"\u001b[0m\u001b[0;34m)\u001b[0m\u001b[0;34m\u001b[0m\u001b[0;34m\u001b[0m\u001b[0m\n\u001b[0m\u001b[1;32m    982\u001b[0m \u001b[0;34m\u001b[0m\u001b[0m\n\u001b[1;32m    983\u001b[0m         \u001b[0;32mtry\u001b[0m\u001b[0;34m:\u001b[0m\u001b[0;34m\u001b[0m\u001b[0;34m\u001b[0m\u001b[0m\n",
      "\u001b[0;31mTypeError\u001b[0m: Cannot run query in closed transaction"
     ]
    }
   ],
   "source": [
    "def create_tag_from_row(uri, title):\n",
    "  n = Node(\"Tag\", uri=uri, title=title)\n",
    "  create_tx.create(n)\n",
    "\n",
    "tags.iloc[1:,:].apply(lambda r: create_tag_from_row(r[0],r[1]), axis=1)\n",
    "\n",
    "g.commit()"
   ]
  },
  {
   "cell_type": "code",
   "execution_count": 48,
   "metadata": {
    "colab": {
     "base_uri": "https://localhost:8080/"
    },
    "id": "zULLKcaij6Ei",
    "outputId": "9a3a7cb8-bf91-4a63-ec78-8a1c55f20a53"
   },
   "outputs": [],
   "source": [
    "create_tx = g.begin()"
   ]
  },
  {
   "cell_type": "code",
   "execution_count": 49,
   "metadata": {
    "id": "BjWui68KT0Ky"
   },
   "outputs": [
    {
     "name": "stderr",
     "output_type": "stream",
     "text": [
      "/tmp/ipykernel_109057/2121119833.py:5: DeprecationWarning: The transaction.commit() method is deprecated, use graph.commit(transaction) instead\n",
      "  create_tx.commit()\n"
     ]
    }
   ],
   "source": [
    "for uri, title in tgs[1:]:\n",
    "    n = Node(\"Tag\", uri=uri, title=title)\n",
    "    create_tx.create(n)\n",
    "\n",
    "create_tx.commit()"
   ]
  },
  {
   "cell_type": "code",
   "execution_count": null,
   "metadata": {
    "id": "ATpej7nBcezj"
   },
   "outputs": [],
   "source": [
    "driver.quit()"
   ]
  },
  {
   "cell_type": "markdown",
   "metadata": {
    "id": "lbdpI5r8nhTk"
   },
   "source": [
    "\n",
    "\n",
    "---\n",
    "\n"
   ]
  },
  {
   "cell_type": "code",
   "execution_count": null,
   "metadata": {
    "id": "HHYJ1zhWcezc"
   },
   "outputs": [],
   "source": [
    "def logTime(startTime, currentTime):\n",
    "    endTime = time.time()\n",
    "    currentTime = currentTime or endTime\n",
    "    hours, rem = divmod(endTime-currentTime, 3600)\n",
    "    minutes, seconds = divmod(rem, 60)\n",
    "    print(\"[Duration:{:0>2}:{:0>2}:{:05.2f}, \".format(int(hours),int(minutes),int(seconds)), end='')\n",
    "    hours, rem = divmod(endTime-startTime, 3600)\n",
    "    minutes, seconds = divmod(rem, 60)\n",
    "    print(\"Total:{:0>2}:{:0>2}:{:05.2f}] \".format(int(hours),int(minutes),seconds), end='')\n",
    "    return endTime"
   ]
  },
  {
   "cell_type": "code",
   "execution_count": null,
   "metadata": {
    "id": "T8CVPbEmcezc"
   },
   "outputs": [],
   "source": [
    "# def export(df, name, path = ''):\n",
    "#     now = lambda: datetime.now().astimezone().isoformat(timespec='seconds').replace('-','').replace(':','')\n",
    "#     fullPath = 'Scraped-Data/' + path\n",
    "#     Path(fullPath).mkdir(parents=True, exist_ok=True)\n",
    "#     df.to_csv(fullPath + '/' + name + '-' + now() + '.csv')"
   ]
  },
  {
   "cell_type": "code",
   "execution_count": null,
   "metadata": {
    "id": "E7UFoLXtceze"
   },
   "outputs": [],
   "source": [
    "def getProblemsByTitle():\n",
    "    return allProblems.reset_index().set_index('Title')"
   ]
  },
  {
   "cell_type": "code",
   "execution_count": null,
   "metadata": {
    "id": "CqaO9LFNceze"
   },
   "outputs": [],
   "source": [
    "def openAndExportAllCompanies():\n",
    "    url = 'https://leetcode.com/problemset/all/'\n",
    "    driver.get(url)\n",
    "    WebDriverWait(driver, timeout=5).until(lambda x: x.find_element_by_tag_name(\"select\").is_displayed())\n",
    "    driver.find_element_by_css_selector('#expand-company .btn').click()\n",
    "    script = '''\n",
    "const buttons = document.getElementById('current-company-tags').children;\n",
    "const companies = [];\n",
    "for (const button of buttons) {\n",
    "  const company = [];\n",
    "  company.push(button.firstElementChild.innerText.trim());\n",
    "  company.push(button.firstElementChild.nextElementSibling.innerText.trim());\n",
    "  company.push(button.href);\n",
    "  companies.push(company);\n",
    "}\n",
    "return companies\n",
    "    '''\n",
    "    companiesData = driver.execute_script(script)\n",
    "    companies = pd.DataFrame(companiesData, columns = ['Name','Count','Link'])\n",
    "    companies.index = companies.index + 1\n",
    "    companies.index.name = 'Serial'\n",
    "    export(companies, 'Companies')\n",
    "    print(\"Exported %d Companies (100%%)\" % len(companies))\n",
    "    return companies"
   ]
  },
  {
   "cell_type": "code",
   "execution_count": null,
   "metadata": {
    "id": "G38Un5Wvcezf"
   },
   "outputs": [],
   "source": [
    "def getFirstOption():\n",
    "    driver.find_element_by_id('react-select-2--value-item').click()\n",
    "    firstOption = driver.execute_script(\"return (4-document.querySelectorAll('#react-select-2--list div[role=option]').length);\")\n",
    "    driver.find_element_by_id('react-select-2--value-item').click()\n",
    "    return firstOption"
   ]
  },
  {
   "cell_type": "code",
   "execution_count": null,
   "metadata": {
    "id": "gSb0Zsipcezf"
   },
   "outputs": [],
   "source": [
    "def selectOption(n):\n",
    "    driver.find_element_by_id('react-select-2--value-item').click()\n",
    "    driver.find_element_by_id('react-select-2--option-' + str(n)).click()"
   ]
  },
  {
   "cell_type": "code",
   "execution_count": null,
   "metadata": {
    "id": "7qyIui1ecezf"
   },
   "outputs": [],
   "source": [
    "def getCompanyProblems():\n",
    "    script = '''\n",
    "const rows = document.getElementsByClassName('reactable-data')[0].children;\n",
    "const problems = [];\n",
    "for (const row of rows) {\n",
    "    const problem = [], cols = row.children;\n",
    "    const tags = Array.from(cols[3].querySelectorAll('a')).map(t => t.innerText.trim()).join(', ');\n",
    "    const frequency = parseFloat(row.getElementsByClassName('progress-bar')[0].style.width);\n",
    "    const link = cols[2].querySelector('a').href;\n",
    "    problem.push(cols[1].innerText.trim());\n",
    "    problem.push(cols[2].innerText.trim());\n",
    "    problem.push(tags);\n",
    "    problem.push(cols[4].innerText.trim());\n",
    "    problem.push(cols[5].innerText.trim());\n",
    "    problem.push(frequency);\n",
    "    problem.push(link);\n",
    "    problems.push(problem);\n",
    "}\n",
    "return problems\n",
    "    '''\n",
    "    companyProblemsData = driver.execute_script(script)\n",
    "    companyProblems = pd.DataFrame(companyProblemsData, columns = ['Id','Title','Tags','Acceptance','Difficulty','Frequency','Link'])\n",
    "    companyProblems = companyProblems.set_index('Id')\n",
    "    return companyProblems"
   ]
  },
  {
   "cell_type": "code",
   "execution_count": null,
   "metadata": {
    "id": "GerOhtBQcezg"
   },
   "outputs": [],
   "source": [
    "def openAndExportAllCompanyProblems():\n",
    "    startTime = time.time()\n",
    "    currentTime = startTime\n",
    "    optionNames = ['6_months', '1_year', '2_years', 'All_time']\n",
    "    optionTotalCount = len(optionNames)\n",
    "    companiesCount = len(allCompanies)\n",
    "    currentTime = logTime(startTime, currentTime); print(\"Total Companies: %d\" % companiesCount)\n",
    "    for i in range(companiesCount):\n",
    "        company = allCompanies.iloc[i]\n",
    "        companyName = company['Name'].replace(' ','_')\n",
    "        currentTime = logTime(startTime, currentTime); print(\"Processing %s (%d/%d) (%d%%)\" % (companyName, i+1,companiesCount,((i+1)*100/companiesCount)))\n",
    "        driver.get(company['Link'])\n",
    "        WebDriverWait(driver, timeout=30).until(lambda x: x.find_element_by_id('react-select-2--value-item').is_displayed())\n",
    "        driver.find_element_by_css_selector('input[type=checkbox]').click()\n",
    "        driver.find_element_by_css_selector('.reactable-column-header th:nth-child(2)').click()\n",
    "        firstOption = getFirstOption()\n",
    "        currentTime = logTime(startTime, currentTime); print(\"Periods available: %d\" % (optionTotalCount- firstOption))\n",
    "        currentTime = logTime(startTime, currentTime); \n",
    "        for currentOption in range(firstOption, optionTotalCount):\n",
    "            optionName = optionNames[currentOption]\n",
    "            selectOption(currentOption)\n",
    "            companyProblems = getCompanyProblems()\n",
    "            print(\"%s: %d | \" % (optionName, len(companyProblems)), end='')\n",
    "            export(companyProblems, companyName + '-' + optionName, 'Company_Problems/Period-wise/' + optionName)\n",
    "            export(companyProblems, companyName + '-' + optionName, 'Company_Problems/Name-wise/' + companyName)\n",
    "        print()\n",
    "    currentTime = logTime(startTime, currentTime); print(\"Exported Problems of %d Companies (100%%)\" % companiesCount)"
   ]
  },
  {
   "cell_type": "code",
   "execution_count": null,
   "metadata": {
    "id": "L2buS_PUcezg"
   },
   "outputs": [],
   "source": [
    "def openAndExportAllInterviews():\n",
    "    url = 'https://leetcode.com/explore/interview/'\n",
    "    driver.get(url)\n",
    "    WebDriverWait(driver, timeout=5).until(lambda x: x.find_element_by_class_name('explore-card').is_displayed())\n",
    "    script = '''\n",
    "const cards = Array.from(document.querySelectorAll('.explore-card .premium')).map(e => e.closest('.explore-card'))\n",
    "const interviews = [];\n",
    "for (const card of cards) {\n",
    "  const interview = [];\n",
    "  interview.push(card.querySelector('.title').innerText.trim());\n",
    "  interview.push(card.querySelector('.chapter').innerText.trim());\n",
    "  interview.push(card.querySelector('.item').innerText.trim());\n",
    "  interview.push(card.querySelector('a').href);\n",
    "  interviews.push(interview);\n",
    "}\n",
    "return interviews;\n",
    "    '''\n",
    "    interviewsData = driver.execute_script(script)\n",
    "    interviews = pd.DataFrame(interviewsData, columns = ['Title','Chapters','Problems','Link'])\n",
    "    interviews.index = interviews.index + 1\n",
    "    interviews.index.name = 'Serial'\n",
    "    export(interviews, 'Interviews')\n",
    "    print(\"Exported %d Interviews (100%%)\" % len(interviews))\n",
    "    return interviews"
   ]
  },
  {
   "cell_type": "code",
   "execution_count": null,
   "metadata": {
    "id": "sXTxics1cezg"
   },
   "outputs": [],
   "source": [
    "def joinProblemDetails(problem):\n",
    "    problem['Id'] = None\n",
    "    cols = ['Acceptance','Difficulty','Frequency','Link']\n",
    "    for col in cols:\n",
    "        problem[col] = None\n",
    "    try:\n",
    "        problem['Id'] = allProblemsByTitle.loc[problem['Problem']]['Id']\n",
    "        for col in cols:\n",
    "            problem[col] = allProblems.loc[problem['Id']][col]\n",
    "    except:\n",
    "        pass\n",
    "    return problem"
   ]
  },
  {
   "cell_type": "code",
   "execution_count": null,
   "metadata": {
    "id": "HHIboELAcezg"
   },
   "outputs": [],
   "source": [
    "def getInterviewProblems():\n",
    "    script = '''\n",
    "const tables = document.getElementsByClassName('table-base');\n",
    "const problems = [];\n",
    "for (let i = 1; i <= tables.length; i++) {\n",
    "  const table = tables[i-1];\n",
    "  const chapterTitle = table.querySelector('.chapter-title').innerText.trim();\n",
    "  const items = table.querySelectorAll('*[title=\"Coding Question\"] ~ span');\n",
    "  for (let j = 1; j <= items.length; j++) {\n",
    "  const item = items[j-1];\n",
    "    const itemTitle = item.innerText.trim();\n",
    "    problems.push([i, chapterTitle, j, itemTitle]);\n",
    "  }\n",
    "}\n",
    "return problems\n",
    "    '''\n",
    "    interviewProblemsData = driver.execute_script(script)\n",
    "    interviewProblems = pd.DataFrame(interviewProblemsData, columns = ['ChapterSerial','Chapter','ProblemSerial','Problem'])\n",
    "    interviewProblems = interviewProblems.apply(joinProblemDetails, axis=1)\n",
    "    interviewProblems = interviewProblems.set_index('ChapterSerial')\n",
    "    return interviewProblems"
   ]
  },
  {
   "cell_type": "code",
   "execution_count": null,
   "metadata": {
    "id": "C3MMf7YHcezh"
   },
   "outputs": [],
   "source": [
    "def openAndExportAllInterviewProblems():\n",
    "    startTime = time.time()\n",
    "    currentTime = startTime\n",
    "    interviewsCount = len(allInterviews)\n",
    "    currentTime = logTime(startTime, currentTime); print(\"Total interviews: %d\" % interviewsCount)\n",
    "    for i in range(interviewsCount):\n",
    "        interview = allInterviews.iloc[i]\n",
    "        interviewTitle = interview['Title'].replace(' ','_')\n",
    "        currentTime = logTime(startTime, currentTime); print(\"Processing %s (%d/%d) (%d%%)\" % (interviewTitle, i+1,interviewsCount,((i+1)*100/interviewsCount)))\n",
    "        driver.get(interview['Link'])\n",
    "        WebDriverWait(driver, timeout=10).until(lambda x: str(len(x.find_elements_by_css_selector('.table-base .table-item'))) == interview['Problems'])\n",
    "        interviewProblems = getInterviewProblems()\n",
    "        currentTime = logTime(startTime, currentTime); print(\"Chapters: %s | Problems: %d\" % (interview['Chapters'], len(interviewProblems)))\n",
    "        export(interviewProblems, interviewTitle, 'Interview_Problems')\n",
    "        currentTime = logTime(startTime, currentTime); print(\"Exported Problems of %d Interviews (100%%)\" % interviewsCount)"
   ]
  },
  {
   "cell_type": "code",
   "execution_count": null,
   "metadata": {
    "id": "qoiqQ8q_cezh"
   },
   "outputs": [],
   "source": []
  },
  {
   "cell_type": "code",
   "execution_count": null,
   "metadata": {
    "id": "lktCkbdxcezh"
   },
   "outputs": [],
   "source": []
  },
  {
   "cell_type": "code",
   "execution_count": null,
   "metadata": {
    "id": "p-Nv0r0pcezh",
    "outputId": "bd606e6f-e9ee-4674-85e9-bed8e9fdad57",
    "tags": []
   },
   "outputs": [
    {
     "name": "stdout",
     "output_type": "stream",
     "text": [
      "Exported 1579 Problems (100%)\n"
     ]
    }
   ],
   "source": [
    "allProblems = openAndExportAllProblems()"
   ]
  },
  {
   "cell_type": "code",
   "execution_count": null,
   "metadata": {
    "id": "PX6zEotmcezi"
   },
   "outputs": [],
   "source": [
    "allProblemsByTitle = getProblemsByTitle()"
   ]
  },
  {
   "cell_type": "code",
   "execution_count": null,
   "metadata": {
    "id": "ANWQENwecezi",
    "outputId": "6ec84168-6c92-424d-9844-069dfaae556f",
    "tags": []
   },
   "outputs": [
    {
     "name": "stdout",
     "output_type": "stream",
     "text": [
      "Exported 236 Companies (100%)\n"
     ]
    }
   ],
   "source": [
    "allCompanies = openAndExportAllCompanies()"
   ]
  },
  {
   "cell_type": "code",
   "execution_count": null,
   "metadata": {
    "collapsed": true,
    "id": "xazkxfGKcezi",
    "jupyter": {
     "outputs_hidden": true
    },
    "outputId": "bec38651-f629-4b9d-e7ab-5eb2e0aeb9e7",
    "tags": [
     "outputPrepend"
    ]
   },
   "outputs": [
    {
     "name": "stdout",
     "output_type": "stream",
     "text": [
      "Duration:00:00:01.00, Total:00:06:14.67] Periods available: 2\n",
      "[Duration:00:00:00.00, Total:00:06:14.67] 2_years: 1 | All_time: 2 | \n",
      "[Duration:00:00:00.00, Total:00:06:14.81] Processing GE_Digital (138/236) (58%)\n",
      "[Duration:00:00:02.00, Total:00:06:17.02] Periods available: 2\n",
      "[Duration:00:00:00.00, Total:00:06:17.02] 2_years: 1 | All_time: 2 | \n",
      "[Duration:00:00:00.00, Total:00:06:17.13] Processing infosys (139/236) (58%)\n",
      "[Duration:00:00:01.00, Total:00:06:19.08] Periods available: 1\n",
      "[Duration:00:00:00.00, Total:00:06:19.08] All_time: 2 | \n",
      "[Duration:00:00:00.00, Total:00:06:19.14] Processing Jane_Street (140/236) (59%)\n",
      "[Duration:00:00:03.00, Total:00:06:22.23] Periods available: 2\n",
      "[Duration:00:00:00.00, Total:00:06:22.23] 2_years: 1 | All_time: 2 | \n",
      "[Duration:00:00:00.00, Total:00:06:22.36] Processing Machine_Zone (141/236) (59%)\n",
      "[Duration:00:00:01.00, Total:00:06:24.31] Periods available: 1\n",
      "[Duration:00:00:00.00, Total:00:06:24.31] All_time: 2 | \n",
      "[Duration:00:00:00.00, Total:00:06:24.37] Processing Media.net (142/236) (60%)\n",
      "[Duration:00:00:01.00, Total:00:06:25.63] Periods available: 1\n",
      "[Duration:00:00:00.00, Total:00:06:25.63] All_time: 2 | \n",
      "[Duration:00:00:00.00, Total:00:06:25.69] Processing MindTickle (143/236) (60%)\n",
      "[Duration:00:00:02.00, Total:00:06:27.90] Periods available: 1\n",
      "[Duration:00:00:00.00, Total:00:06:27.90] All_time: 2 | \n",
      "[Duration:00:00:00.00, Total:00:06:27.97] Processing Netsuite (144/236) (61%)\n",
      "[Duration:00:00:01.00, Total:00:06:29.84] Periods available: 1\n",
      "[Duration:00:00:00.00, Total:00:06:29.84] All_time: 2 | \n",
      "[Duration:00:00:00.00, Total:00:06:29.90] Processing Opendoor (145/236) (61%)\n",
      "[Duration:00:00:02.00, Total:00:06:32.46] Periods available: 3\n",
      "[Duration:00:00:00.00, Total:00:06:32.46] 1_year: 1 | 2_years: 2 | All_time: 2 | \n",
      "[Duration:00:00:00.00, Total:00:06:32.66] Processing Poshmark (146/236) (61%)\n",
      "[Duration:00:00:02.00, Total:00:06:34.70] Periods available: 1\n",
      "[Duration:00:00:00.00, Total:00:06:34.70] All_time: 2 | \n",
      "[Duration:00:00:00.00, Total:00:06:34.76] Processing Radius (147/236) (62%)\n",
      "[Duration:00:00:02.00, Total:00:06:37.49] Periods available: 2\n",
      "[Duration:00:00:00.00, Total:00:06:37.49] 2_years: 1 | All_time: 2 | \n",
      "[Duration:00:00:00.00, Total:00:06:37.63] Processing Startup (148/236) (62%)\n",
      "[Duration:00:00:02.00, Total:00:06:39.85] Periods available: 1\n",
      "[Duration:00:00:00.00, Total:00:06:39.85] All_time: 2 | \n",
      "[Duration:00:00:00.00, Total:00:06:39.91] Processing Turvo (149/236) (63%)\n",
      "[Duration:00:00:02.00, Total:00:06:42.57] Periods available: 1\n",
      "[Duration:00:00:00.00, Total:00:06:42.57] All_time: 2 | \n",
      "[Duration:00:00:00.00, Total:00:06:42.62] Processing Uipath (150/236) (63%)\n",
      "[Duration:00:00:01.00, Total:00:06:44.22] Periods available: 1\n",
      "[Duration:00:00:00.00, Total:00:06:44.22] All_time: 2 | \n",
      "[Duration:00:00:00.00, Total:00:06:44.27] Processing United_Health_Group (151/236) (63%)\n",
      "[Duration:00:00:01.00, Total:00:06:46.10] Periods available: 1\n",
      "[Duration:00:00:00.00, Total:00:06:46.10] All_time: 2 | \n",
      "[Duration:00:00:00.00, Total:00:06:46.15] Processing Valve (152/236) (64%)\n",
      "[Duration:00:00:01.00, Total:00:06:47.97] Periods available: 2\n",
      "[Duration:00:00:00.00, Total:00:06:47.97] 2_years: 1 | All_time: 2 | \n",
      "[Duration:00:00:00.00, Total:00:06:48.11] Processing Zappos (153/236) (64%)\n",
      "[Duration:00:00:01.00, Total:00:06:49.48] Periods available: 3\n",
      "[Duration:00:00:00.00, Total:00:06:49.48] 1_year: 1 | 2_years: 1 | All_time: 2 | \n",
      "[Duration:00:00:00.00, Total:00:06:49.67] Processing Zynga (154/236) (65%)\n",
      "[Duration:00:00:01.00, Total:00:06:51.43] Periods available: 2\n",
      "[Duration:00:00:00.00, Total:00:06:51.43] 2_years: 2 | All_time: 2 | \n",
      "[Duration:00:00:00.00, Total:00:06:51.55] Processing 23&me (155/236) (65%)\n",
      "[Duration:00:00:01.00, Total:00:06:53.45] Periods available: 1\n",
      "[Duration:00:00:00.00, Total:00:06:53.45] All_time: 1 | \n",
      "[Duration:00:00:00.00, Total:00:06:53.52] Processing Accolite (156/236) (66%)\n",
      "[Duration:00:00:01.00, Total:00:06:54.74] Periods available: 1\n",
      "[Duration:00:00:00.00, Total:00:06:54.74] All_time: 1 | \n",
      "[Duration:00:00:00.00, Total:00:06:54.79] Processing Activevideo (157/236) (66%)\n",
      "[Duration:00:00:02.00, Total:00:06:57.06] Periods available: 1\n",
      "[Duration:00:00:00.00, Total:00:06:57.06] All_time: 1 | \n",
      "[Duration:00:00:00.00, Total:00:06:57.13] Processing Affinity (158/236) (66%)\n",
      "[Duration:00:00:01.00, Total:00:06:58.50] Periods available: 1\n",
      "[Duration:00:00:00.00, Total:00:06:58.50] All_time: 1 | \n",
      "[Duration:00:00:00.00, Total:00:06:58.56] Processing Airtel (159/236) (67%)\n",
      "[Duration:00:00:01.00, Total:00:07:00.33] Periods available: 1\n",
      "[Duration:00:00:00.00, Total:00:07:00.33] All_time: 1 | \n",
      "[Duration:00:00:00.00, Total:00:07:00.39] Processing Ajira (160/236) (67%)\n",
      "[Duration:00:00:01.00, Total:00:07:01.68] Periods available: 1\n",
      "[Duration:00:00:00.00, Total:00:07:01.68] All_time: 1 | \n",
      "[Duration:00:00:00.00, Total:00:07:01.74] Processing akamai (161/236) (68%)\n",
      "[Duration:00:00:01.00, Total:00:07:03.21] Periods available: 1\n",
      "[Duration:00:00:00.00, Total:00:07:03.21] All_time: 1 | \n",
      "[Duration:00:00:00.00, Total:00:07:03.28] Processing Akuna (162/236) (68%)\n",
      "[Duration:00:00:01.00, Total:00:07:04.54] Periods available: 1\n",
      "[Duration:00:00:00.00, Total:00:07:04.54] All_time: 1 | \n",
      "[Duration:00:00:00.00, Total:00:07:04.60] Processing Arcesium (163/236) (69%)\n",
      "[Duration:00:00:01.00, Total:00:07:05.87] Periods available: 1\n",
      "[Duration:00:00:00.00, Total:00:07:05.87] All_time: 1 | \n",
      "[Duration:00:00:00.00, Total:00:07:05.93] Processing Arista (164/236) (69%)\n",
      "[Duration:00:00:01.00, Total:00:07:07.31] Periods available: 1\n",
      "[Duration:00:00:00.00, Total:00:07:07.31] All_time: 1 | \n",
      "[Duration:00:00:00.00, Total:00:07:07.37] Processing Blizzard (165/236) (69%)\n",
      "[Duration:00:00:01.00, Total:00:07:08.73] Periods available: 2\n",
      "[Duration:00:00:00.00, Total:00:07:08.73] 2_years: 1 | All_time: 1 | \n",
      "[Duration:00:00:00.00, Total:00:07:08.87] Processing Bloomreach (166/236) (70%)\n",
      "[Duration:00:00:01.00, Total:00:07:10.66] Periods available: 1\n",
      "[Duration:00:00:00.00, Total:00:07:10.66] All_time: 1 | \n",
      "[Duration:00:00:00.00, Total:00:07:10.73] Processing BNY_Mellon (167/236) (70%)\n",
      "[Duration:00:00:01.00, Total:00:07:12.45] Periods available: 1\n",
      "[Duration:00:00:00.00, Total:00:07:12.45] All_time: 1 | \n",
      "[Duration:00:00:00.00, Total:00:07:12.50] Processing Booking (168/236) (71%)\n",
      "[Duration:00:00:01.00, Total:00:07:14.33] Periods available: 1\n",
      "[Duration:00:00:00.00, Total:00:07:14.33] All_time: 1 | \n",
      "[Duration:00:00:00.00, Total:00:07:14.39] Processing Brillio (169/236) (71%)\n",
      "[Duration:00:00:01.00, Total:00:07:15.81] Periods available: 1\n",
      "[Duration:00:00:00.00, Total:00:07:15.82] All_time: 1 | \n",
      "[Duration:00:00:00.00, Total:00:07:15.89] Processing ByteDance(Toutiao) (170/236) (72%)\n",
      "[Duration:00:00:01.00, Total:00:07:17.16] Periods available: 1\n",
      "[Duration:00:00:00.00, Total:00:07:17.16] All_time: 1 | \n",
      "[Duration:00:00:00.00, Total:00:07:17.22] Processing CasaOne (171/236) (72%)\n",
      "[Duration:00:00:01.00, Total:00:07:18.67] Periods available: 1\n",
      "[Duration:00:00:00.00, Total:00:07:18.67] All_time: 1 | \n",
      "[Duration:00:00:00.00, Total:00:07:18.74] Processing clutter (172/236) (72%)\n",
      "[Duration:00:00:01.00, Total:00:07:20.06] Periods available: 1\n",
      "[Duration:00:00:00.00, Total:00:07:20.06] All_time: 1 | \n",
      "[Duration:00:00:00.00, Total:00:07:20.12] Processing Codenation (173/236) (73%)\n",
      "[Duration:00:00:01.00, Total:00:07:21.77] Periods available: 1\n",
      "[Duration:00:00:00.00, Total:00:07:21.77] All_time: 1 | \n",
      "[Duration:00:00:00.00, Total:00:07:21.84] Processing DeliveryHero (174/236) (73%)\n",
      "[Duration:00:00:01.00, Total:00:07:23.35] Periods available: 1\n",
      "[Duration:00:00:00.00, Total:00:07:23.35] All_time: 1 | \n",
      "[Duration:00:00:00.00, Total:00:07:23.42] Processing DJI (175/236) (74%)\n",
      "[Duration:00:00:01.00, Total:00:07:24.70] Periods available: 1\n",
      "[Duration:00:00:00.00, Total:00:07:24.70] All_time: 1 | \n",
      "[Duration:00:00:00.00, Total:00:07:24.77] Processing Dosh (176/236) (74%)\n",
      "[Duration:00:00:01.00, Total:00:07:26.10] Periods available: 1\n",
      "[Duration:00:00:00.00, Total:00:07:26.10] All_time: 1 | \n",
      "[Duration:00:00:00.00, Total:00:07:26.16] Processing Dream11 (177/236) (75%)\n",
      "[Duration:00:00:01.00, Total:00:07:27.55] Periods available: 1\n",
      "[Duration:00:00:00.00, Total:00:07:27.55] All_time: 1 | \n",
      "[Duration:00:00:00.00, Total:00:07:27.62] Processing druva (178/236) (75%)\n",
      "[Duration:00:00:01.00, Total:00:07:28.87] Periods available: 1\n",
      "[Duration:00:00:00.00, Total:00:07:28.87] All_time: 1 | \n",
      "[Duration:00:00:00.00, Total:00:07:28.94] Processing DRW (179/236) (75%)\n",
      "[Duration:00:00:01.00, Total:00:07:30.29] Periods available: 1\n",
      "[Duration:00:00:00.00, Total:00:07:30.29] All_time: 1 | \n",
      "[Duration:00:00:00.00, Total:00:07:30.36] Processing EMC (180/236) (76%)\n",
      "[Duration:00:00:01.00, Total:00:07:32.29] Periods available: 2\n",
      "[Duration:00:00:00.00, Total:00:07:32.29] 2_years: 1 | All_time: 1 | \n",
      "[Duration:00:00:00.00, Total:00:07:32.43] Processing F5_Networks (181/236) (76%)\n",
      "[Duration:00:00:02.00, Total:00:07:34.91] Periods available: 1\n",
      "[Duration:00:00:00.00, Total:00:07:34.91] All_time: 1 | \n",
      "[Duration:00:00:00.00, Total:00:07:34.97] Processing Fallible (182/236) (77%)\n",
      "[Duration:00:00:01.00, Total:00:07:36.29] Periods available: 1\n",
      "[Duration:00:00:00.00, Total:00:07:36.29] All_time: 1 | \n",
      "[Duration:00:00:00.00, Total:00:07:36.35] Processing Fidessa (183/236) (77%)\n",
      "[Duration:00:00:01.00, Total:00:07:37.77] Periods available: 1\n",
      "[Duration:00:00:00.00, Total:00:07:37.77] All_time: 1 | \n",
      "[Duration:00:00:00.00, Total:00:07:37.83] Processing Flexport (184/236) (77%)\n",
      "[Duration:00:00:01.00, Total:00:07:39.13] Periods available: 1\n",
      "[Duration:00:00:00.00, Total:00:07:39.13] All_time: 1 | \n",
      "[Duration:00:00:00.00, Total:00:07:39.19] Processing Gilt_Groupe (185/236) (78%)\n",
      "[Duration:00:00:01.00, Total:00:07:40.99] Periods available: 1\n",
      "[Duration:00:00:00.00, Total:00:07:40.99] All_time: 1 | \n",
      "[Duration:00:00:00.00, Total:00:07:41.06] Processing Hackerrank (186/236) (78%)\n",
      "[Duration:00:00:01.00, Total:00:07:42.43] Periods available: 1\n",
      "[Duration:00:00:00.00, Total:00:07:42.43] All_time: 1 | \n",
      "[Duration:00:00:00.00, Total:00:07:42.49] Processing Helix (187/236) (79%)\n",
      "[Duration:00:00:01.00, Total:00:07:43.74] Periods available: 1\n",
      "[Duration:00:00:00.00, Total:00:07:43.74] All_time: 1 | \n",
      "[Duration:00:00:00.00, Total:00:07:43.81] Processing honey (188/236) (79%)\n",
      "[Duration:00:00:01.00, Total:00:07:45.14] Periods available: 1\n",
      "[Duration:00:00:00.00, Total:00:07:45.14] All_time: 1 | \n",
      "[Duration:00:00:00.00, Total:00:07:45.21] Processing Hotstar (189/236) (80%)\n",
      "[Duration:00:00:01.00, Total:00:07:47.15] Periods available: 1\n",
      "[Duration:00:00:00.00, Total:00:07:47.15] All_time: 1 | \n",
      "[Duration:00:00:00.00, Total:00:07:47.22] Processing HTC (190/236) (80%)\n",
      "[Duration:00:00:01.00, Total:00:07:49.03] Periods available: 2\n",
      "[Duration:00:00:00.00, Total:00:07:49.03] 2_years: 1 | All_time: 1 | \n",
      "[Duration:00:00:00.00, Total:00:07:49.17] Processing IIT_Bombay (191/236) (80%)\n",
      "[Duration:00:00:01.00, Total:00:07:50.93] Periods available: 1\n",
      "[Duration:00:00:00.00, Total:00:07:50.93] All_time: 1 | \n",
      "[Duration:00:00:00.00, Total:00:07:51.00] Processing InMobi (192/236) (81%)\n",
      "[Duration:00:00:01.00, Total:00:07:52.48] Periods available: 1\n",
      "[Duration:00:00:00.00, Total:00:07:52.48] All_time: 1 | \n",
      "[Duration:00:00:00.00, Total:00:07:52.54] Processing Jingchi (193/236) (81%)\n",
      "[Duration:00:00:02.00, Total:00:07:54.58] Periods available: 1\n",
      "[Duration:00:00:00.00, Total:00:07:54.58] All_time: 1 | \n",
      "[Duration:00:00:00.00, Total:00:07:54.65] Processing JP_Morgan (194/236) (82%)\n",
      "[Duration:00:00:01.00, Total:00:07:56.40] Periods available: 1\n",
      "[Duration:00:00:00.00, Total:00:07:56.40] All_time: 1 | \n",
      "[Duration:00:00:00.00, Total:00:07:56.46] Processing JP_Morgan_Chase (195/236) (82%)\n",
      "[Duration:00:00:02.00, Total:00:07:58.56] Periods available: 1\n",
      "[Duration:00:00:00.00, Total:00:07:58.56] All_time: 1 | \n",
      "[Duration:00:00:00.00, Total:00:07:58.62] Processing Jump_Trading (196/236) (83%)\n",
      "[Duration:00:00:02.00, Total:00:08:01.13] Periods available: 2\n",
      "[Duration:00:00:00.00, Total:00:08:01.13] 2_years: 1 | All_time: 1 | \n",
      "[Duration:00:00:00.00, Total:00:08:01.27] Processing Kakao (197/236) (83%)\n",
      "[Duration:00:00:01.00, Total:00:08:02.75] Periods available: 1\n",
      "[Duration:00:00:00.00, Total:00:08:02.75] All_time: 1 | \n",
      "[Duration:00:00:00.00, Total:00:08:02.81] Processing Leap_Motion (198/236) (83%)\n",
      "[Duration:00:00:01.00, Total:00:08:04.80] Periods available: 1\n",
      "[Duration:00:00:00.00, Total:00:08:04.80] All_time: 1 | \n",
      "[Duration:00:00:00.00, Total:00:08:04.87] Processing LimeBike (199/236) (84%)\n",
      "[Duration:00:00:01.00, Total:00:08:06.34] Periods available: 1\n",
      "[Duration:00:00:00.00, Total:00:08:06.34] All_time: 1 | \n",
      "[Duration:00:00:00.00, Total:00:08:06.41] Processing MachineZone (200/236) (84%)\n",
      "[Duration:00:00:01.00, Total:00:08:07.77] Periods available: 1\n",
      "[Duration:00:00:00.00, Total:00:08:07.77] All_time: 1 | \n",
      "[Duration:00:00:00.00, Total:00:08:07.84] Processing Mapbox (201/236) (85%)\n",
      "[Duration:00:00:01.00, Total:00:08:09.09] Periods available: 1\n",
      "[Duration:00:00:00.00, Total:00:08:09.09] All_time: 1 | \n",
      "[Duration:00:00:00.00, Total:00:08:09.16] Processing MAQ_Software (202/236) (85%)\n",
      "[Duration:00:00:02.00, Total:00:08:11.22] Periods available: 1\n",
      "[Duration:00:00:00.00, Total:00:08:11.22] All_time: 1 | \n",
      "[Duration:00:00:00.00, Total:00:08:11.29] Processing McKinsey (203/236) (86%)\n",
      "[Duration:00:00:01.00, Total:00:08:12.88] Periods available: 1\n",
      "[Duration:00:00:00.00, Total:00:08:12.88] All_time: 1 | \n",
      "[Duration:00:00:00.00, Total:00:08:12.95] Processing Microstrategy (204/236) (86%)\n",
      "[Duration:00:00:01.00, Total:00:08:14.77] Periods available: 1\n",
      "[Duration:00:00:00.00, Total:00:08:14.77] All_time: 1 | \n",
      "[Duration:00:00:00.00, Total:00:08:14.83] Processing National_Instruments (205/236) (86%)\n",
      "[Duration:00:00:01.00, Total:00:08:16.37] Periods available: 1\n",
      "[Duration:00:00:00.00, Total:00:08:16.37] All_time: 1 | \n",
      "[Duration:00:00:00.00, Total:00:08:16.44] Processing Nuro (206/236) (87%)\n",
      "[Duration:00:00:01.00, Total:00:08:18.26] Periods available: 1\n",
      "[Duration:00:00:00.00, Total:00:08:18.26] All_time: 1 | \n",
      "[Duration:00:00:00.00, Total:00:08:18.33] Processing Oasis_Labs (207/236) (87%)\n",
      "[Duration:00:00:01.00, Total:00:08:19.75] Periods available: 1\n",
      "[Duration:00:00:00.00, Total:00:08:19.75] All_time: 1 | \n",
      "[Duration:00:00:00.00, Total:00:08:19.82] Processing Optum (208/236) (88%)\n",
      "[Duration:00:00:01.00, Total:00:08:21.08] Periods available: 1\n",
      "[Duration:00:00:00.00, Total:00:08:21.08] All_time: 1 | \n",
      "[Duration:00:00:00.00, Total:00:08:21.15] Processing OT (209/236) (88%)\n",
      "[Duration:00:00:02.00, Total:00:08:23.21] Periods available: 1\n",
      "[Duration:00:00:00.00, Total:00:08:23.21] All_time: 1 | \n",
      "[Duration:00:00:00.00, Total:00:08:23.27] Processing Palantir (210/236) (88%)\n",
      "[Duration:00:00:02.00, Total:00:08:25.72] Periods available: 1\n",
      "[Duration:00:00:00.00, Total:00:08:25.72] All_time: 1 | \n",
      "[Duration:00:00:00.00, Total:00:08:25.78] Processing PayTM (211/236) (89%)\n",
      "[Duration:00:00:01.00, Total:00:08:27.23] Periods available: 1\n",
      "[Duration:00:00:00.00, Total:00:08:27.23] All_time: 1 | \n",
      "[Duration:00:00:00.00, Total:00:08:27.29] Processing PHONEPE (212/236) (89%)\n",
      "[Duration:00:00:01.00, Total:00:08:29.17] Periods available: 1\n",
      "[Duration:00:00:00.00, Total:00:08:29.17] All_time: 1 | \n",
      "[Duration:00:00:00.00, Total:00:08:29.24] Processing Postman (213/236) (90%)\n",
      "[Duration:00:00:02.00, Total:00:08:31.24] Periods available: 1\n",
      "[Duration:00:00:00.00, Total:00:08:31.24] All_time: 1 | \n",
      "[Duration:00:00:00.00, Total:00:08:31.30] Processing Poynt (214/236) (90%)\n",
      "[Duration:00:00:01.00, Total:00:08:32.68] Periods available: 1\n",
      "[Duration:00:00:00.00, Total:00:08:32.68] All_time: 1 | \n",
      "[Duration:00:00:00.00, Total:00:08:32.74] Processing pramp (215/236) (91%)\n",
      "[Duration:00:00:01.00, Total:00:08:34.07] Periods available: 1\n",
      "[Duration:00:00:00.00, Total:00:08:34.07] All_time: 1 | \n",
      "[Duration:00:00:00.00, Total:00:08:34.13] Processing Quantcast (216/236) (91%)\n",
      "[Duration:00:00:01.00, Total:00:08:35.42] Periods available: 2\n",
      "[Duration:00:00:00.00, Total:00:08:35.42] 2_years: 1 | All_time: 1 | \n",
      "[Duration:00:00:00.00, Total:00:08:35.56] Processing Quble (217/236) (91%)\n",
      "[Duration:00:00:01.00, Total:00:08:36.95] Periods available: 1\n",
      "[Duration:00:00:00.00, Total:00:08:36.95] All_time: 1 | \n",
      "[Duration:00:00:00.00, Total:00:08:37.02] Processing Rackspace (218/236) (92%)\n",
      "[Duration:00:00:01.00, Total:00:08:38.39] Periods available: 1\n",
      "[Duration:00:00:00.00, Total:00:08:38.39] All_time: 1 | \n",
      "[Duration:00:00:00.00, Total:00:08:38.46] Processing Rupeek (219/236) (92%)\n",
      "[Duration:00:00:02.00, Total:00:08:40.92] Periods available: 1\n",
      "[Duration:00:00:00.00, Total:00:08:40.92] All_time: 1 | \n",
      "[Duration:00:00:00.00, Total:00:08:40.98] Processing Sapient (220/236) (93%)\n",
      "[Duration:00:00:02.00, Total:00:08:43.61] Periods available: 1\n",
      "[Duration:00:00:00.00, Total:00:08:43.61] All_time: 1 | \n",
      "[Duration:00:00:00.00, Total:00:08:43.68] Processing snapdeal (221/236) (93%)\n",
      "[Duration:00:00:01.00, Total:00:08:45.05] Periods available: 1\n",
      "[Duration:00:00:00.00, Total:00:08:45.05] All_time: 1 | \n",
      "[Duration:00:00:00.00, Total:00:08:45.12] Processing SoundHound (222/236) (94%)\n",
      "[Duration:00:00:01.00, Total:00:08:46.58] Periods available: 1\n",
      "[Duration:00:00:00.00, Total:00:08:46.58] All_time: 1 | \n",
      "[Duration:00:00:00.00, Total:00:08:46.65] Processing Sumerge (223/236) (94%)\n",
      "[Duration:00:00:01.00, Total:00:08:48.01] Periods available: 1\n",
      "[Duration:00:00:00.00, Total:00:08:48.01] All_time: 1 | \n",
      "[Duration:00:00:00.00, Total:00:08:48.08] Processing Swiggy (224/236) (94%)\n",
      "[Duration:00:00:01.00, Total:00:08:49.45] Periods available: 1\n",
      "[Duration:00:00:00.00, Total:00:08:49.45] All_time: 1 | \n",
      "[Duration:00:00:00.00, Total:00:08:49.51] Processing Symantec (225/236) (95%)\n",
      "[Duration:00:00:01.00, Total:00:08:51.47] Periods available: 2\n",
      "[Duration:00:00:00.00, Total:00:08:51.47] 2_years: 1 | All_time: 1 | \n",
      "[Duration:00:00:00.00, Total:00:08:51.61] Processing TandemG (226/236) (95%)\n",
      "[Duration:00:00:01.00, Total:00:08:53.15] Periods available: 1\n",
      "[Duration:00:00:00.00, Total:00:08:53.15] All_time: 1 | \n",
      "[Duration:00:00:00.00, Total:00:08:53.21] Processing Thumbtack (227/236) (96%)\n",
      "[Duration:00:00:01.00, Total:00:08:54.57] Periods available: 1\n",
      "[Duration:00:00:00.00, Total:00:08:54.57] All_time: 1 | \n",
      "[Duration:00:00:00.00, Total:00:08:54.64] Processing Toptal (228/236) (96%)\n",
      "[Duration:00:00:01.00, Total:00:08:56.45] Periods available: 1\n",
      "[Duration:00:00:00.00, Total:00:08:56.45] All_time: 1 | \n",
      "[Duration:00:00:00.00, Total:00:08:56.52] Processing Traveloka (229/236) (97%)\n",
      "[Duration:00:00:01.00, Total:00:08:57.95] Periods available: 1\n",
      "[Duration:00:00:00.00, Total:00:08:57.95] All_time: 1 | \n",
      "[Duration:00:00:00.00, Total:00:08:58.01] Processing tsys (230/236) (97%)\n",
      "[Duration:00:00:01.00, Total:00:08:59.31] Periods available: 1\n",
      "[Duration:00:00:00.00, Total:00:08:59.31] All_time: 1 | \n",
      "[Duration:00:00:00.00, Total:00:08:59.37] Processing Unacademy (231/236) (97%)\n",
      "[Duration:00:00:01.00, Total:00:09:00.66] Periods available: 1\n",
      "[Duration:00:00:00.00, Total:00:09:00.66] All_time: 1 | \n",
      "[Duration:00:00:00.00, Total:00:09:00.72] Processing Walmart (232/236) (98%)\n",
      "[Duration:00:00:01.00, Total:00:09:02.66] Periods available: 1\n",
      "[Duration:00:00:00.00, Total:00:09:02.66] All_time: 1 | \n",
      "[Duration:00:00:00.00, Total:00:09:02.73] Processing Whole_Foods_Market (233/236) (98%)\n",
      "[Duration:00:00:01.00, Total:00:09:04.00] Periods available: 1\n",
      "[Duration:00:00:00.00, Total:00:09:04.00] All_time: 1 | \n",
      "[Duration:00:00:00.00, Total:00:09:04.07] Processing Yatra (234/236) (99%)\n",
      "[Duration:00:00:01.00, Total:00:09:05.38] Periods available: 1\n",
      "[Duration:00:00:00.00, Total:00:09:05.38] All_time: 1 | \n",
      "[Duration:00:00:00.00, Total:00:09:05.45] Processing zalando (235/236) (99%)\n",
      "[Duration:00:00:01.00, Total:00:09:06.86] Periods available: 1\n",
      "[Duration:00:00:00.00, Total:00:09:06.86] All_time: 1 | \n",
      "[Duration:00:00:00.00, Total:00:09:06.93] Processing zscaler (236/236) (100%)\n",
      "[Duration:00:00:01.00, Total:00:09:08.80] Periods available: 1\n",
      "[Duration:00:00:00.00, Total:00:09:08.80] All_time: 1 | \n",
      "[Duration:00:00:00.00, Total:00:09:08.87] Exported Problems of 236 Companies (100%)\n"
     ]
    }
   ],
   "source": [
    "openAndExportAllCompanyProblems()"
   ]
  },
  {
   "cell_type": "code",
   "execution_count": null,
   "metadata": {
    "id": "LOiTt3f3cezi",
    "outputId": "e981c369-ed97-4e9b-86c2-0000550b0d56",
    "tags": []
   },
   "outputs": [
    {
     "name": "stdout",
     "output_type": "stream",
     "text": [
      "Exported 10 Interviews (100%)\n"
     ]
    }
   ],
   "source": [
    "allInterviews = openAndExportAllInterviews()"
   ]
  },
  {
   "cell_type": "code",
   "execution_count": null,
   "metadata": {
    "id": "WlVSMfAvcezj",
    "outputId": "a1976c4b-a11e-4b3f-d2fb-526101c949a1",
    "tags": []
   },
   "outputs": [
    {
     "name": "stdout",
     "output_type": "stream",
     "text": [
      "[Duration:00:00:00.00, Total:00:00:00.00] Total interviews: 10\n",
      "[Duration:00:00:00.00, Total:00:00:00.00] Processing Google_Interview (1/10) (10%)\n",
      "[Duration:00:00:03.00, Total:00:00:03.89] Chapters: 9 | Problems: 81\n",
      "[Duration:00:00:00.00, Total:00:00:03.89] Exported Problems of 10 Interviews (100%)\n",
      "[Duration:00:00:00.00, Total:00:00:03.89] Processing Facebook (2/10) (20%)\n",
      "[Duration:00:00:03.00, Total:00:00:07.58] Chapters: 9 | Problems: 79\n",
      "[Duration:00:00:00.00, Total:00:00:07.58] Exported Problems of 10 Interviews (100%)\n",
      "[Duration:00:00:00.00, Total:00:00:07.58] Processing Microsoft (3/10) (30%)\n",
      "[Duration:00:00:03.00, Total:00:00:10.62] Chapters: 8 | Problems: 58\n",
      "[Duration:00:00:00.00, Total:00:00:10.62] Exported Problems of 10 Interviews (100%)\n",
      "[Duration:00:00:00.00, Total:00:00:10.62] Processing Amazon (4/10) (40%)\n",
      "[Duration:00:00:03.00, Total:00:00:13.72] Chapters: 8 | Problems: 68\n",
      "[Duration:00:00:00.00, Total:00:00:13.72] Exported Problems of 10 Interviews (100%)\n",
      "[Duration:00:00:00.00, Total:00:00:13.72] Processing Apple_Interview (5/10) (50%)\n",
      "[Duration:00:00:03.00, Total:00:00:17.60] Chapters: 8 | Problems: 62\n",
      "[Duration:00:00:00.00, Total:00:00:17.60] Exported Problems of 10 Interviews (100%)\n",
      "[Duration:00:00:00.00, Total:00:00:17.60] Processing Adobe_Interview (6/10) (60%)\n",
      "[Duration:00:00:04.00, Total:00:00:21.96] Chapters: 9 | Problems: 55\n",
      "[Duration:00:00:00.00, Total:00:00:21.96] Exported Problems of 10 Interviews (100%)\n",
      "[Duration:00:00:00.00, Total:00:00:21.96] Processing Bloomberg (7/10) (70%)\n",
      "[Duration:00:00:03.00, Total:00:00:24.97] Chapters: 8 | Problems: 46\n",
      "[Duration:00:00:00.00, Total:00:00:24.97] Exported Problems of 10 Interviews (100%)\n",
      "[Duration:00:00:00.00, Total:00:00:24.97] Processing Uber_Interview (8/10) (80%)\n",
      "[Duration:00:00:02.00, Total:00:00:27.95] Chapters: 9 | Problems: 52\n",
      "[Duration:00:00:00.00, Total:00:00:27.95] Exported Problems of 10 Interviews (100%)\n",
      "[Duration:00:00:00.00, Total:00:00:27.96] Processing Yelp (9/10) (90%)\n",
      "[Duration:00:00:03.00, Total:00:00:31.05] Chapters: 8 | Problems: 42\n",
      "[Duration:00:00:00.00, Total:00:00:31.05] Exported Problems of 10 Interviews (100%)\n",
      "[Duration:00:00:00.00, Total:00:00:31.05] Processing LinkedIn (10/10) (100%)\n",
      "[Duration:00:00:02.00, Total:00:00:33.49] Chapters: 7 | Problems: 49\n",
      "[Duration:00:00:00.00, Total:00:00:33.49] Exported Problems of 10 Interviews (100%)\n"
     ]
    }
   ],
   "source": [
    "openAndExportAllInterviewProblems()"
   ]
  },
  {
   "cell_type": "code",
   "execution_count": null,
   "metadata": {
    "id": "ATpej7nBcezj"
   },
   "outputs": [],
   "source": [
    "driver.quit()"
   ]
  }
 ],
 "metadata": {
  "colab": {
   "collapsed_sections": [],
   "include_colab_link": true,
   "provenance": [],
   "toc_visible": true
  },
  "kernelspec": {
   "display_name": "Python 3 (ipykernel)",
   "language": "python",
   "name": "python3"
  },
  "language_info": {
   "codemirror_mode": {
    "name": "ipython",
    "version": 3
   },
   "file_extension": ".py",
   "mimetype": "text/x-python",
   "name": "python",
   "nbconvert_exporter": "python",
   "pygments_lexer": "ipython3",
   "version": "3.10.6"
  }
 },
 "nbformat": 4,
 "nbformat_minor": 1
}
